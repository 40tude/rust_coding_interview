{
 "cells": [
  {
   "cell_type": "markdown",
   "id": "94586613-ae90-49c6-939f-0bf144eee5ca",
   "metadata": {},
   "source": [
    "# Jump to the End"
   ]
  },
  {
   "cell_type": "markdown",
   "id": "65cd6265-18c0-45ca-9f3b-024885b652ee",
   "metadata": {},
   "source": [
    "* Given an array of u32\n",
    "* Originally at index0\n",
    "* Numbers represent the **maximum** jump distance from the current index \n",
    "* Determine if it is possible to reach the end of the array\n",
    "\n",
    "\n",
    "<span style=\"color:orange\"><b>The point:</b></span>\n",
    "\n",
    "* From index i, furthest index is i + index[i]\n",
    "* 0 is a dead end\n",
    "* If we can reach the last index from any earlier index, the later becomes the new destination => start from the end\n",
    "\n",
    "\n",
    "**Complexity :**\n",
    "\n",
    "| Time        | Space |\n",
    "|-------------|-------|\n",
    "| O(n)        | O(1)  |\n",
    "\n",
    "* O(n) in time because we iterate over each cell\n",
    "* O(1) in space because in place\n",
    "\n",
    "\n",
    "\n",
    "\n",
    "\n",
    "\n",
    "\n",
    "\n",
    "\n",
    "<!-- <span style=\"color:red\"><b>TODO : </b></span> \n",
    "* Add comments in code -->\n",
    "\n",
    "\n",
    "<!-- * <span style=\"color:lime\"><b>Preferred solution?</b></span>      -->\n",
    "\n"
   ]
  },
  {
   "cell_type": "markdown",
   "id": "dbcd051a",
   "metadata": {
    "vscode": {
     "languageId": "rust"
    }
   },
   "source": [
    "## V1\n",
    "\n",
    "* First implementation\n",
    "\n",
    "**About Rust :**\n",
    "* ``for i in (0..nums.len()).rev() {``\n",
    "* **YES** : tested on the [Rust Playground](https://play.rust-lang.org/)\n"
   ]
  },
  {
   "cell_type": "code",
   "execution_count": null,
   "id": "cd43545b",
   "metadata": {
    "vscode": {
     "languageId": "rust"
    }
   },
   "outputs": [],
   "source": [
    "fn jump_to_the_end(nums: &[usize]) -> bool {\n",
    "    if nums.is_empty() {\n",
    "        return false; \n",
    "    }\n",
    "    // Set initial destination to the last index\n",
    "    let mut destination = nums.len() - 1;\n",
    "\n",
    "    // Traverse the array in reverse to see if the destination can be reach by earlier indexes\n",
    "    for i in (0..nums.len()-1).rev() {\n",
    "        // if we can reach the destination from current index, the current index becomes the new destination\n",
    "        if i + nums[i] >= destination {\n",
    "            destination = i;\n",
    "        }\n",
    "    }\n",
    "    //  If the destination is index 0 we can jump to the end from idx 0\n",
    "    destination == 0\n",
    "}\n",
    "\n",
    "// no main() if this code runs in a Jupyter cell\n",
    "fn main() {\n",
    "    let nums = vec![];\n",
    "    println!(\"{:?}\", jump_to_the_end(&nums)); // false\n",
    "\n",
    "    let nums = vec![3, 2, 0, 2, 5];\n",
    "    println!(\"{:?}\", jump_to_the_end(&nums)); // true\n",
    "\n",
    "    let nums = vec![2, 1, 0, 3];\n",
    "    println!(\"{:?}\", jump_to_the_end(&nums)); // false\n",
    "} // end of local scope OR end of main()\n"
   ]
  },
  {
   "cell_type": "markdown",
   "id": "71c487e1",
   "metadata": {},
   "source": [
    "## V2\n",
    "\n",
    "* A more functional way?\n",
    "\n",
    "**About Rust :**\n",
    "* Use ``fold`` to carry the \"destination\" \n",
    "* <span style=\"color:lime\"><b>Preferred solution?</b></span> \n",
    "* **YES** : tested on the [Rust Playground](https://play.rust-lang.org/)\n",
    "\n",
    "\n",
    "### Note about `.fold()`\n",
    "* This is an iterator method for **reducing a collection to a single value** by applying an accumulation function.\n",
    "    * Cycle through each element,\n",
    "    * At each step, combine the current accumulator with the element,\n",
    "    * Generate a new accumulator value\n",
    "    * At the end, we have a single value.\n",
    "* More functional because there is no ``mut``, no ``for`` loop, no `while` loop\n",
    "\n",
    "#### Syntax \n",
    "\n",
    "```rust\n",
    "iterator.fold(init, |accumulator, item| {\n",
    "    // return new accumulator\n",
    "})\n",
    "\n",
    "```\n",
    "\n",
    "#### Simple example \n",
    "\n",
    "Find a max\n",
    "\n",
    "```rust\n",
    "\n",
    "let nums = vec![3, 7, 2, 9, 5];\n",
    "let max = nums.iter().fold(usize::MIN, |acc, &x| acc.max(x));\n",
    "println!(\"{}\", max); // 9\n",
    "\n",
    "```"
   ]
  },
  {
   "cell_type": "code",
   "execution_count": null,
   "id": "ca0a0c8c",
   "metadata": {
    "vscode": {
     "languageId": "rust"
    }
   },
   "outputs": [],
   "source": [
    "fn jump_to_the_end(nums: &[usize]) -> bool {\n",
    "    if nums.is_empty() {\n",
    "        return false;\n",
    "    }\n",
    "    \n",
    "    (0..nums.len()) // a range\n",
    "        .rev() // transforms the range into an iterator reading values in reverse order\n",
    "        .fold(nums.len() - 1, |destination, i| { // destination is the accumulator, i is the current item\n",
    "            if i + nums[i] >= destination {\n",
    "                i           // destination becomes i\n",
    "            } else {\n",
    "                destination // otherwise destination stays the same\n",
    "            }\n",
    "        }) == 0\n",
    "}\n",
    "\n",
    "fn main() { // no main() if this code runs in a Jupyter cell\n",
    "    let nums = vec![];\n",
    "    println!(\"{:?}\", jump_to_the_end(&nums)); // false\n",
    "\n",
    "    let nums = vec![3, 2, 0, 2, 5];\n",
    "    println!(\"{:?}\", jump_to_the_end(&nums)); // true\n",
    "\n",
    "    let nums = vec![2, 1, 0, 3];\n",
    "    println!(\"{:?}\", jump_to_the_end(&nums)); // false\n",
    "} // end of local scope OR end of main()\n"
   ]
  },
  {
   "cell_type": "markdown",
   "id": "35569967",
   "metadata": {
    "vscode": {
     "languageId": "rust"
    }
   },
   "source": [
    "## V3\n",
    "\n",
    "* Another functional way?\n",
    "\n",
    "**About Rust :**\n",
    "* Use ``.enumerate()``\n",
    "* Use ``fold`` to carry the \"destination\" \n",
    "* **YES** : tested on the [Rust Playground](https://play.rust-lang.org/)\n"
   ]
  },
  {
   "cell_type": "code",
   "execution_count": null,
   "id": "95f75ea1",
   "metadata": {
    "vscode": {
     "languageId": "rust"
    }
   },
   "outputs": [],
   "source": [
    "fn jump_to_the_end(nums: &[usize]) -> bool {\n",
    "    assert!(!nums.is_empty(), \"Input cannot be empty\");\n",
    "\n",
    "    nums.iter()\n",
    "        .enumerate()\n",
    "        .rev()\n",
    "        .fold(nums.len() - 1, |destination, (i, &num)| {\n",
    "            if i + num >= destination {\n",
    "                i\n",
    "            } else {\n",
    "                destination\n",
    "            }\n",
    "        }) == 0\n",
    "}\n",
    "\n",
    "fn main() { // no main() if this code runs in a Jupyter cell\n",
    "    // let nums = vec![];\n",
    "    // println!(\"{:?}\", jump_to_the_end(&nums)); // false\n",
    "\n",
    "    let nums = vec![3, 2, 0, 2, 5];\n",
    "    println!(\"{:?}\", jump_to_the_end(&nums)); // true\n",
    "\n",
    "    let nums = vec![2, 1, 0, 3];\n",
    "    println!(\"{:?}\", jump_to_the_end(&nums)); // false\n",
    "} // end of local scope OR end of main()"
   ]
  },
  {
   "cell_type": "markdown",
   "id": "ce14f3a1",
   "metadata": {},
   "source": [
    "## What about performances ?\n",
    "* I did a bench with Cargo bench\n",
    "    * Check `16_greedy\\assets\\bench_jump` and read the `README.md` file\n",
    "* The third version is the looser. The first two are similar\n",
    "\n",
    "```\n",
    "for loop                time:   [2.0784 µs 2.0833 µs 2.0892 µs]\n",
    "Found 11 outliers among 100 measurements (11.00%)\n",
    "  5 (5.00%) high mild\n",
    "  6 (6.00%) high severe\n",
    "\n",
    "fold with range         time:   [2.0918 µs 2.1007 µs 2.1113 µs]\n",
    "Found 11 outliers among 100 measurements (11.00%)\n",
    "  5 (5.00%) high mild\n",
    "  6 (6.00%) high severe\n",
    "\n",
    "fold with iter enumerate\n",
    "                        time:   [4.5125 µs 4.5231 µs 4.5351 µs]\n",
    "Found 11 outliers among 100 measurements (11.00%)\n",
    "  6 (6.00%) high mild\n",
    "  5 (5.00%) high severe\n",
    "\n",
    "```"
   ]
  }
 ],
 "metadata": {
  "kernelspec": {
   "display_name": "Rust",
   "language": "rust",
   "name": "rust"
  },
  "language_info": {
   "codemirror_mode": "rust",
   "file_extension": ".rs",
   "mimetype": "text/rust",
   "name": "Rust",
   "pygment_lexer": "rust",
   "version": ""
  }
 },
 "nbformat": 4,
 "nbformat_minor": 5
}
