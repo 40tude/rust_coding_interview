{
 "cells": [
  {
   "cell_type": "markdown",
   "id": "94586613-ae90-49c6-939f-0bf144eee5ca",
   "metadata": {},
   "source": [
    "# Candies"
   ]
  },
  {
   "cell_type": "markdown",
   "id": "65cd6265-18c0-45ca-9f3b-024885b652ee",
   "metadata": {},
   "source": [
    "<div align=\"center\">\n",
    "<img src=\"../assets/chap_16.webp\" alt=\"\" width=\"300\" loading=\"lazy\"/>\n",
    "</div>\n",
    "\n",
    "* Children sitting in a row\n",
    "* Distribute candies while abiding the rules\n",
    "    * at least one candie per kid\n",
    "    * if 2 children sit next to each other, the child with higher rating must receive more candies\n",
    "* Determine the minimum number of candies needed\n",
    "\n",
    "\n",
    "<span style=\"color:orange\"><b>The point:</b></span>\n",
    "* There's no rule that says: “If ratings are equal, then candies must be equal.”\n",
    "* pass 1 : ensure that any kid with a higher rating than the one on their left receives more candies\n",
    "* pass 2 : ensure that any kid with a higher rating than the one on their right receives more candies\n",
    "\n",
    "**Complexity :**\n",
    "\n",
    "| Time        | Space |\n",
    "|-------------|-------|\n",
    "| O(n)        | O(n)  |\n",
    "\n",
    "* O(n) in time because we iterate twice over the children\n",
    "* O(n) in space because the place needed for the candies\n",
    "\n",
    "\n",
    "\n",
    "\n",
    "\n",
    "\n",
    "\n",
    "\n",
    "\n",
    "<!-- <span style=\"color:red\"><b>TODO : </b></span> \n",
    "* Add comments in code -->\n",
    "\n",
    "\n",
    "<!-- * <span style=\"color:lime\"><b>Preferred solution?</b></span>      -->\n",
    "\n"
   ]
  },
  {
   "cell_type": "markdown",
   "id": "dbcd051a",
   "metadata": {
    "vscode": {
     "languageId": "rust"
    }
   },
   "source": [
    "## V1\n",
    "\n",
    "* First implementation\n",
    "\n",
    "**About Rust :**\n",
    "* `for i in range(n-2, -1, -1)` -> `for i in (0..=n-2).rev() {`\n",
    "* **YES** : tested on the [Rust Playground](https://play.rust-lang.org/)\n"
   ]
  },
  {
   "cell_type": "code",
   "execution_count": null,
   "id": "cd43545b",
   "metadata": {
    "vscode": {
     "languageId": "rust"
    }
   },
   "outputs": [],
   "source": [
    "fn candies(ratings: &[i32]) -> i32 {\n",
    "    if ratings.is_empty() {\n",
    "        return -1;\n",
    "    }\n",
    "    let n = ratings.len();\n",
    "    // Ensure each child has 1 candy\n",
    "    let mut candies = vec![1; n];\n",
    "    // Pass 1 : ensure that any kid with a higher rating than the one on their left receives more candies\n",
    "    for i in 1..n {\n",
    "        if ratings[i] > ratings[i - 1] {\n",
    "            candies[i] = candies[i - 1] + 1;\n",
    "        }\n",
    "    }\n",
    "    //  Pass 2 : ensure that any kid with a higher rating than the one on their right receives more candies\n",
    "    for i in (0..=n-2).rev() {              // ! n-2 included \n",
    "        if ratings[i] > ratings[i + 1] {\n",
    "            // If the kids already have more candies, do nothing\n",
    "            candies[i] = candies[i].max(candies[i + 1] + 1);\n",
    "        }\n",
    "    }\n",
    "    candies.iter().sum()\n",
    "}\n",
    "\n",
    "fn main() {\n",
    "    // no main() if this code runs in a Jupyter cell\n",
    "    let ratings = vec![4, 3, 2, 4, 5, 1];\n",
    "    println!(\"{}\", candies(&ratings)); // 12\n",
    "\n",
    "    // i = 1: 3  > 1, so candies[1] > candies[0] → ok with [1, 2, 1]\n",
    "    // i = 2: 3 == 3, no constraint → we can leave 1\n",
    "    let ratings = vec![1, 3, 3];\n",
    "    println!(\"{}\", candies(&ratings)); // 4\n",
    "} // end of local scope OR end of main()\n"
   ]
  },
  {
   "cell_type": "markdown",
   "id": "ac3e2ca4",
   "metadata": {},
   "source": [
    "## V2\n",
    "\n",
    "* I don't like `ratings` as an array of ``i32``. Should be `u32`.\n",
    "* `candies()` should return an `Option<u32>`\n",
    "\n",
    "**About Rust :**\n",
    "* **YES** : tested on the [Rust Playground](https://play.rust-lang.org/)\n"
   ]
  },
  {
   "cell_type": "code",
   "execution_count": null,
   "id": "9f1defb9",
   "metadata": {
    "vscode": {
     "languageId": "rust"
    }
   },
   "outputs": [],
   "source": [
    "fn candies(ratings: &[u32]) -> Option<u32> {\n",
    "    if ratings.is_empty() {\n",
    "        return None;\n",
    "    }\n",
    "    let n = ratings.len();\n",
    "    // Ensure each child has 1 candy\n",
    "    let mut candies = vec![1; n];\n",
    "    // Pass 1 : ensure that any kid with a higher rating than the one on their left receives more candies\n",
    "    for i in 1..n {\n",
    "        if ratings[i] > ratings[i - 1] {\n",
    "            candies[i] = candies[i - 1] + 1;\n",
    "        }\n",
    "    }\n",
    "    //  Pass 2 : ensure that any kid with a higher rating than the one on their right receives more candies\n",
    "    for i in (0..=n-2).rev() {              // ! 0..=n-2 \n",
    "        if ratings[i] > ratings[i + 1] {\n",
    "            // If the kids already have more candies, do nothing\n",
    "            candies[i] = candies[i].max(candies[i + 1] + 1);\n",
    "        }\n",
    "    }\n",
    "    Some(candies.iter().sum())\n",
    "}\n",
    "\n",
    "fn main() {\n",
    "    // no main() if this code runs in a Jupyter cell\n",
    "    let ratings = vec![4, 3, 2, 4, 5, 1];\n",
    "    println!(\"{:?}\", candies(&ratings)); // Some(12)\n",
    "\n",
    "    // i = 1: 3  > 1, so candies[1] > candies[0] → ok with [1, 2, 1]\n",
    "    // i = 2: 3 == 3, no constraint → we can leave 1\n",
    "    let ratings = vec![1, 3, 3];\n",
    "    println!(\"{:?}\", candies(&ratings)); // Some(4)\n",
    "\n",
    "    let ratings = vec![];\n",
    "    println!(\"{:?}\", candies(&ratings)); // None\n",
    "} // end of local scope OR end of main()\n"
   ]
  },
  {
   "cell_type": "markdown",
   "id": "f70b352a",
   "metadata": {},
   "source": [
    "## V3\n",
    "\n",
    "* `let n = ratings.len();` can be removed\n",
    "* I don't like the ``n-2`` in the second pass\n",
    "* rewrite of the for loops\n",
    "\n",
    "**About Rust :**\n",
    "* <span style=\"color:lime\"><b>Preferred solution?</b></span> \n",
    "* **YES** : tested on the [Rust Playground](https://play.rust-lang.org/)\n"
   ]
  },
  {
   "cell_type": "code",
   "execution_count": null,
   "id": "4e19b646",
   "metadata": {
    "vscode": {
     "languageId": "rust"
    }
   },
   "outputs": [],
   "source": [
    "fn candies(ratings: &[u32]) -> Option<u32> {\n",
    "    if ratings.is_empty() {\n",
    "        return None;\n",
    "    }\n",
    "    // Ensure each child has 1 candy\n",
    "    let mut candies = vec![1; ratings.len()];\n",
    "    // Pass 1: ensure that any kid with a higher rating than the one on their left receives more candies\n",
    "    for i in 1..ratings.len() {\n",
    "        if ratings[i] > ratings[i - 1] {\n",
    "            candies[i] = candies[i - 1] + 1;\n",
    "        }\n",
    "    }\n",
    "    // Pass 2: ensure that any kid with a higher rating than the one on their right receives more candies\n",
    "    for i in (0..ratings.len()-1).rev() {\n",
    "        if ratings[i] > ratings[i + 1] {\n",
    "            // If the kid already has more candies, do nothing\n",
    "            candies[i] = candies[i].max(candies[i + 1] + 1);\n",
    "        }\n",
    "    }\n",
    "    Some(candies.into_iter().sum()) // into_iter swalow candies\n",
    "}\n",
    "\n",
    "fn main() {\n",
    "    // no main() if this code runs in a Jupyter cell\n",
    "    let ratings = vec![4, 3, 2, 4, 5, 1];\n",
    "    println!(\"{:?}\", candies(&ratings)); // Some(12)\n",
    "\n",
    "    // i = 1: 3  > 1, so candies[1] > candies[0] → ok with [1, 2, 1]\n",
    "    // i = 2: 3 == 3, no constraint → we can leave 1\n",
    "    let ratings = vec![1, 3, 3];\n",
    "    println!(\"{:?}\", candies(&ratings)); // Some(4)\n",
    "\n",
    "    let ratings = vec![];\n",
    "    println!(\"{:?}\", candies(&ratings)); // None\n",
    "} // end of local scope OR end of main()\n"
   ]
  },
  {
   "cell_type": "markdown",
   "id": "59aabc8d",
   "metadata": {},
   "source": [
    "## V4 (like Aprilia, Ducati...)\n",
    "\n",
    "* A more functional way?\n",
    "\n",
    "**About Rust :**\n",
    "* **YES** : tested on the [Rust Playground](https://play.rust-lang.org/)\n",
    "\n"
   ]
  },
  {
   "cell_type": "code",
   "execution_count": null,
   "id": "f4c2772b",
   "metadata": {
    "vscode": {
     "languageId": "rust"
    }
   },
   "outputs": [],
   "source": [
    "fn candies(ratings: &[u32]) -> Option<u32> {\n",
    "    if ratings.is_empty() {\n",
    "        return None;\n",
    "    }\n",
    "    let mut candies = vec![1; ratings.len()];\n",
    "    \n",
    "    // Pass 1: left to right\n",
    "    ratings.windows(2)          // provides consecutive &[u32] slice of size 2\n",
    "        .enumerate()            // .enumerate() provide pairs (usize, &[u32]) where the first element is the index of the pair\n",
    "        .for_each(|(i, w)| {    // for_each() receives a tuple (i, w)\n",
    "            if w[1] > w[0] {\n",
    "                candies[i + 1] = candies[i] + 1;\n",
    "            }\n",
    "        });\n",
    "\n",
    "    // Pass 2: right to left\n",
    "    ratings.windows(2)\n",
    "        .enumerate()\n",
    "        .rev()                  // .rev() reverses iteration to pass from right to left.\n",
    "        .for_each(|(i, w)| {\n",
    "            if w[0] > w[1] {\n",
    "                candies[i] = candies[i].max(candies[i + 1] + 1);\n",
    "            }\n",
    "        });\n",
    "\n",
    "    Some(candies.into_iter().sum())\n",
    "}\n",
    "\n",
    "fn main() { // no main() if this code runs in a Jupyter cell\n",
    "    \n",
    "    let ratings = vec![4, 3, 2, 4, 5, 1];\n",
    "    println!(\"{:?}\", candies(&ratings)); // Some(12)\n",
    "\n",
    "    let ratings = vec![1, 3, 3];\n",
    "    println!(\"{:?}\", candies(&ratings)); // Some(4)\n",
    "\n",
    "    let ratings = vec![];\n",
    "    println!(\"{:?}\", candies(&ratings)); // None\n",
    "} // end of local scope OR end of main()\n"
   ]
  }
 ],
 "metadata": {
  "kernelspec": {
   "display_name": "Rust",
   "language": "rust",
   "name": "rust"
  },
  "language_info": {
   "codemirror_mode": "rust",
   "file_extension": ".rs",
   "mimetype": "text/rust",
   "name": "Rust",
   "pygment_lexer": "rust",
   "version": ""
  }
 },
 "nbformat": 4,
 "nbformat_minor": 5
}
