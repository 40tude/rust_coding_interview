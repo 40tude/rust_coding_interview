{
 "cells": [
  {
   "cell_type": "markdown",
   "id": "94586613-ae90-49c6-939f-0bf144eee5ca",
   "metadata": {},
   "source": [
    "# Gas Stations"
   ]
  },
  {
   "cell_type": "markdown",
   "id": "65cd6265-18c0-45ca-9f3b-024885b652ee",
   "metadata": {},
   "source": [
    "<div align=\"center\">\n",
    "<img src=\"../assets/chap_16.webp\" alt=\"\" width=\"300\" loading=\"lazy\"/>\n",
    "</div>\n",
    "\n",
    "* Circular route with gas stations\n",
    "* Find the index of the gas station to start at\n",
    "* In order to complete the circuit without running out of gas\n",
    "* Empty tank at start\n",
    "* Return -1 if impossible\n",
    "* Assume only one solution when this is possible\n",
    "\n",
    "<span style=\"color:orange\"><b>The point:</b></span>\n",
    "\n",
    "* check ``sum(gas) >= sum(cost)``\n",
    "* if enough gas, find the start point that allow to complete the circuit\n",
    "* at sation `i`, we collect ``gas[i]`` and consume `cost[i]` to move to next station => take into account ``net_gas`` (the difference)\n",
    "* if we cannot reach station `b` from station `a` we can't reach station `b` from any station in between either \n",
    "    * because we cannot reach any point between ``a`` and ``b`` without running out of gas\n",
    "\n",
    "\n",
    "**Complexity :**\n",
    "\n",
    "| Time        | Space |\n",
    "|-------------|-------|\n",
    "| O(n)        | O(1)  |\n",
    "\n",
    "* O(n) in time because we iterate over element in gas and cost arrays\n",
    "* O(1) in space because in place\n",
    "\n",
    "\n",
    "\n",
    "\n",
    "\n",
    "\n",
    "\n",
    "\n",
    "\n",
    "<!-- <span style=\"color:red\"><b>TODO : </b></span> \n",
    "* Add comments in code -->\n",
    "\n",
    "\n",
    "<!-- * <span style=\"color:lime\"><b>Preferred solution?</b></span>      -->\n",
    "\n"
   ]
  },
  {
   "cell_type": "markdown",
   "id": "dbcd051a",
   "metadata": {
    "vscode": {
     "languageId": "rust"
    }
   },
   "source": [
    "## V1\n",
    "\n",
    "* First implementation\n",
    "\n",
    "**About Rust :**\n",
    "* `gas.iter().sum::<i32>()`\n",
    "* **YES** : tested on the [Rust Playground](https://play.rust-lang.org/)\n"
   ]
  },
  {
   "cell_type": "code",
   "execution_count": null,
   "id": "cd43545b",
   "metadata": {
    "vscode": {
     "languageId": "rust"
    }
   },
   "outputs": [],
   "source": [
    "fn gas_stations(gas: &[i32], cost: &[i32]) -> i32 {\n",
    "    if gas.is_empty() || cost.is_empty() || gas.len() != cost.len() {\n",
    "        return -1;\n",
    "    }\n",
    "    // If total gas is less than total cost => impossible\n",
    "    if gas.iter().sum::<i32>() < cost.iter().sum::<i32>() { // the compiler needs help => sum::<i32>()\n",
    "        -1\n",
    "    } else {\n",
    "        let (mut start, mut tank) = (0, 0);\n",
    "        for i in 0..gas.len() {\n",
    "            tank += gas[i] - cost[i];\n",
    "            // If tank is negative we cannot continue from the current start point, nor from any station before or including current station i\n",
    "            if tank < 0 {\n",
    "                start = i + 1;\n",
    "                tank = 0;\n",
    "            }\n",
    "        }\n",
    "        start as i32\n",
    "    }\n",
    "}\n",
    "\n",
    "fn main() { // no main() if this code runs in a Jupyter cell\n",
    "    let gas = vec![2, 5, 1, 3];\n",
    "    let cost = vec![3, 2, 1, 4];\n",
    "    println!(\"{}\", gas_stations(&gas, &cost)); // 1\n",
    "\n",
    "    let gas = vec![3, 2, 1, 3, 3, 2, 3, 4];\n",
    "    let cost = vec![2, 1, 4, 1, 2, 6, 0, 3];\n",
    "    println!(\"{}\", gas_stations(&gas, &cost)); // 6\n",
    "\n",
    "    let gas = vec! [3, 2, 1, 3, 3, 2, 3, 4];\n",
    "    let cost = vec![2, 1, 4, 1, 2, 6, 0];\n",
    "    println!(\"{}\", gas_stations(&gas, &cost)); // -1\n",
    "} // end of local scope OR end of main()\n"
   ]
  },
  {
   "cell_type": "markdown",
   "id": "ac3e2ca4",
   "metadata": {},
   "source": [
    "## V2\n",
    "* I don't like the idea of ``gas`` and `cost` containing `i32` while in fact they contain `u32`\n",
    "* In addition `gas_station()` \n",
    "    * Should return an error when arrays sizes are invalid or does'nt match\n",
    "    * Otherwise, it should return\n",
    "        * None if no index exist\n",
    "        * The index (u32) if it exists\n",
    "\n",
    "\n",
    "**About Rust :**\n",
    "* `fn my_function() -> Result<Option<usize>, &'static str>`\n",
    "    * We need the ``'static`` lifetime because we are returning a ``&str``, which is a reference (a view) to a string literal that is embedded in the binary at compile time.\n",
    "    * ``&str`` has no allocation — it's just a pointer and a length (fixed view into memory).\n",
    "    * Literals like \"some text\" have a ``'static`` lifetime automatically because they live for the entire duration of the program.\n",
    "    * If we had returned a ``String``, no lifetime annotation would be necessary, because ``String`` is **owned** — it manages its own heap allocation and deallocation.    \n",
    "* <span style=\"color:lime\"><b>Preferred solution?</b></span> \n",
    "* **YES** : tested on the [Rust Playground](https://play.rust-lang.org/)\n",
    "\n"
   ]
  },
  {
   "cell_type": "code",
   "execution_count": null,
   "id": "9f1defb9",
   "metadata": {
    "vscode": {
     "languageId": "rust"
    }
   },
   "outputs": [],
   "source": [
    "fn gas_stations(gas: &[u32], cost: &[u32]) -> Result<Option<usize>, &'static str> {\n",
    "    // Check if gas and cost arrays are empty or have different lengths\n",
    "    if gas.is_empty() || cost.is_empty() || gas.len() != cost.len() {\n",
    "        return Err(\"Invalid input: arrays are empty or have different lengths\");\n",
    "    }\n",
    "    // If total gas is less than total cost => impossible\n",
    "    if gas.iter().sum::<u32>() < cost.iter().sum::<u32>() {\n",
    "        Ok(None)\n",
    "    } else {\n",
    "        let (mut start, mut tank) = (0usize, 0isize); // use isize for possible negative tank values\n",
    "        for i in 0..gas.len() {\n",
    "            tank += gas[i] as isize - cost[i] as isize;\n",
    "            // If tank is negative, reset starting point\n",
    "            if tank < 0 {\n",
    "                start = i + 1;\n",
    "                tank = 0;\n",
    "            }\n",
    "        }\n",
    "        Ok(Some(start))\n",
    "    }\n",
    "}\n",
    "\n",
    "fn main() { // no main() if this code runs in a Jupyter cell\n",
    "    let gas = vec![2, 5, 1, 3];\n",
    "    let cost = vec![3, 2, 1, 4];\n",
    "    println!(\"{:?}\", gas_stations(&gas, &cost)); // Ok(Some(1))\n",
    "\n",
    "    let gas = vec![3, 2, 1, 3, 3, 2, 3, 4];\n",
    "    let cost = vec![2, 1, 4, 1, 2, 6, 0, 3];\n",
    "    println!(\"{:?}\", gas_stations(&gas, &cost)); // Ok(Some(6))\n",
    "\n",
    "    let gas = vec![1, 2, 3];\n",
    "    let cost = vec![3, 2, 1];\n",
    "    if let Ok(Some(index)) = gas_stations(&gas, &cost) {\n",
    "        println!(\"A solution exists when starting from index {}\", index); // show how to extract the index if it exists\n",
    "    }\n",
    "\n",
    "    let gas = vec![2, 2, 2];\n",
    "    let cost = vec![3, 3, 3];\n",
    "    println!(\"{:?}\", gas_stations(&gas, &cost)); // Ok(None)\n",
    "\n",
    "    let gas = vec![3, 2, 1, 3, 3, 2, 3, 4];\n",
    "    let cost = vec![2, 1, 4, 1, 2, 6, 0];\n",
    "    println!(\"{:?}\", gas_stations(&gas, &cost)); // Err(\"Invalid input: arrays are empty or have different lengths\")\n",
    "\n",
    "    let gas = vec![];\n",
    "    let cost = vec![];\n",
    "    println!(\"{:?}\", gas_stations(&gas, &cost)); // Err(\"Invalid input: arrays are empty or have different lengths\")\n",
    "\n",
    "} // end of local scope OR end of main()\n"
   ]
  }
 ],
 "metadata": {
  "kernelspec": {
   "display_name": "Rust",
   "language": "rust",
   "name": "rust"
  },
  "language_info": {
   "codemirror_mode": "rust",
   "file_extension": ".rs",
   "mimetype": "text/rust",
   "name": "Rust",
   "pygment_lexer": "rust",
   "version": ""
  }
 },
 "nbformat": 4,
 "nbformat_minor": 5
}
