{
 "cells": [
  {
   "cell_type": "markdown",
   "id": "4b159124-58e9-4365-9432-48ce3482013e",
   "metadata": {},
   "source": [
    "# Happy Number"
   ]
  },
  {
   "cell_type": "markdown",
   "id": "dca6593e",
   "metadata": {},
   "source": [
    "* Given an integer determine if it is a happy number\n",
    "    * happy : when repeatedly summing the squares of its digits and summing eventually lead to 1\n",
    "    * unhappy : never reach 1 (the process gets stuck in a loop)\n",
    "* Examples: 23 is happy, 116 is unhappy\n",
    "\n",
    "<span style=\"color:orange\"><b>The point:</b></span>\n",
    "*  Similar to detecting a loop **BUT** we don't have the linked list (see 04_fast_slow_pointers\\73_linked_list_loop.ipynb)\n",
    "* Use 2 ptrs : One fast and one slow\n",
    "* Fast move 2 numbers at a time while slow move one number at a time \n",
    "    *``fast = get_next(get_next(fast))``\n",
    "    *``slow = get_next(slow)``\n",
    "* If they meet => cycle = unhappy\n",
    "* If we reach 1 => happy\n",
    "\n",
    "\n",
    "**Complexity :**\n",
    "\n",
    "| Time | Space |\n",
    "|------|-------|\n",
    "| O(n) | O(1)  |\n",
    "\n",
    "* O(n) because we traverse the list\n",
    "* O(1) in space because no growing datastructure are created\n",
    "\n",
    "\n",
    "**About Rust :**\n",
    "* See ``black_box`` in the for loop\n",
    "* Yes I know, I should use some sort of cache in the for loop but I just wanted to make a quick test\n",
    "* **YES** : tested on the [Rust Playground](https://play.rust-lang.org/)\n",
    "\n",
    "\n",
    "\n",
    "<!-- <span style=\"color:red\"><b>TODO : </b></span> \n",
    "* Add comments in the source code        \n",
    " -->\n",
    "\n",
    "\n",
    "<!-- * <span style=\"color:lime\"><b>Preferred solution?</b></span>      -->\n",
    "\n"
   ]
  },
  {
   "cell_type": "code",
   "execution_count": 2,
   "id": "cba7a7f9-c97a-4bba-97be-82cdac1951a5",
   "metadata": {
    "vscode": {
     "languageId": "rust"
    }
   },
   "outputs": [
    {
     "name": "stdout",
     "output_type": "stream",
     "text": [
      "false\n",
      "true\n",
      "Execution time: 79 ms\n"
     ]
    }
   ],
   "source": [
    "use std::time::Instant;\n",
    "use std::hint::black_box;\n",
    "\n",
    "fn get_next_number(mut x:u32)->u32{\n",
    "    let mut next_num : u32 = 0;\n",
    "    while x > 0{\n",
    "        let digit = x % 10;\n",
    "        x /= 10;\n",
    "        next_num += digit.pow(2); // add the square of the digit to the next number\n",
    "    }\n",
    "    next_num\n",
    "}\n",
    "\n",
    "fn happy_number(n:u32)->bool{\n",
    "    let mut slow = n;\n",
    "    let mut fast = n;\n",
    "    loop {\n",
    "        slow = get_next_number(slow);\n",
    "        fast = get_next_number(get_next_number(fast));\n",
    "\n",
    "        if fast == 1 {\n",
    "            return true;\n",
    "        }\n",
    "\n",
    "        if slow == fast {\n",
    "            return false;\n",
    "        }\n",
    "    }\n",
    "}\n",
    "\n",
    "// fn main(){     // no main() if this code runs in a Jupyter cell \n",
    "    \n",
    "    println!(\"{}\", happy_number(116)); // false\n",
    "    println!(\"{}\", happy_number(23));  // true\n",
    "    \n",
    "    const K_MAX: u32 = 1_000_000;\n",
    "    let start = Instant::now();\n",
    "    for i in 1..K_MAX+1{ // from 1 to k_Max included. Avoid 0\n",
    "        // happy_number(i);\n",
    "        black_box(happy_number(i)); // Prevents the optimized compiler from simply not calling the function if its result is not used\n",
    "    }\n",
    "    let duration = start.elapsed();\n",
    "    println!(\"Execution time: {} ms\", duration.as_millis());\n",
    "    \n",
    "// } // end of local scope OR end of main()       \n"
   ]
  }
 ],
 "metadata": {
  "kernelspec": {
   "display_name": "Rust",
   "language": "rust",
   "name": "rust"
  },
  "language_info": {
   "codemirror_mode": "rust",
   "file_extension": ".rs",
   "mimetype": "text/rust",
   "name": "Rust",
   "pygment_lexer": "rust",
   "version": ""
  }
 },
 "nbformat": 4,
 "nbformat_minor": 5
}
