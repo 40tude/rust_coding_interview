{
 "cells": [
  {
   "cell_type": "markdown",
   "id": "dca6593e",
   "metadata": {},
   "source": [
    "Given a singly linked list, find ans return its middle node. If there are 2 middle nodes, returns the second one\n",
    "\n",
    "* p 77\n",
    "\n",
    "<span style=\"color:orange\"><b>The point:</b></span>\n",
    "* Use 2 ptrs : One fast and one slow\n",
    "* Fast move 2 steps at a time (``fast = fast.next.next``)\n",
    "* When fast ptr reaches the end of list, slow pointer is in the middle\n",
    "    * If len of list is odd => slow in the middle when fast.ext is None\n",
    "    * If len of list is evan => slow on the second middle when fast is None (p 78)\n",
    "\n",
    "\n",
    "**Complexity :**\n",
    "\n",
    "| Time | Space |\n",
    "|------|-------|\n",
    "| O(n) | O(1)  |\n",
    "\n",
    "* O(n) because we traverse the list\n",
    "* O(1) in space because no growing datastructure are created\n",
    "\n"
   ]
  },
  {
   "cell_type": "code",
   "execution_count": 6,
   "id": "67a867ab-1146-4c4e-9489-c54ed786382c",
   "metadata": {
    "vscode": {
     "languageId": "rust"
    }
   },
   "outputs": [
    {
     "name": "stdout",
     "output_type": "stream",
     "text": [
      "Midpoint value: 4\n"
     ]
    },
    {
     "data": {
      "text/plain": [
       "()"
      ]
     },
     "execution_count": 6,
     "metadata": {},
     "output_type": "execute_result"
    }
   ],
   "source": [
    "{\n",
    "// Define a struct to represent a singly linked list node\n",
    "#[derive(Debug)]\n",
    "struct ListNode {\n",
    "    val: i32,\n",
    "    next: Option<Box<ListNode>>,\n",
    "}\n",
    "\n",
    "// Implement ListNode\n",
    "impl ListNode {\n",
    "    fn new(val: i32, next: Option<Box<ListNode>>) -> Self {\n",
    "        ListNode { val, next }\n",
    "    }\n",
    "}\n",
    "\n",
    "// Function to find the midpoint of the linked list\n",
    "fn linked_list_midpoint(head: &Option<Box<ListNode>>) -> &ListNode {\n",
    "// fn linked_list_midpoint<'a>(head: &'a Option<Box<ListNode>>) -> &'a ListNode {    \n",
    "    let mut slow = head;\n",
    "    let mut fast = head;\n",
    "\n",
    "    // Traverse the list using two pointers\n",
    "    while let Some(f_node) = fast {\n",
    "        if let Some(f_next) = &f_node.next {\n",
    "            fast = &f_next.next;\n",
    "            if let Some(s_node) = slow {\n",
    "                slow = &s_node.next;\n",
    "            }\n",
    "        } else {\n",
    "            break;\n",
    "        }\n",
    "    }\n",
    "\n",
    "    // At this point, slow points to the midpoint node\n",
    "    slow.as_ref().unwrap()\n",
    "}\n",
    "\n",
    "// fn main() {\n",
    "    // Create linked list: 1 -> 2 -> 4 -> 7 -> 3\n",
    "    let values = vec![1, 2, 4, 7, 3];\n",
    "    let mut head: Option<Box<ListNode>> = None;\n",
    "\n",
    "    // Build the list in reverse order\n",
    "    for &val in values.iter().rev() {\n",
    "        head = Some(Box::new(ListNode::new(val, head)));\n",
    "    }\n",
    "\n",
    "    // Find and print the midpoint\n",
    "    let mid = linked_list_midpoint(&head);\n",
    "    println!(\"Midpoint value: {}\", mid.val);\n",
    "// }\n",
    "}\n"
   ]
  },
  {
   "cell_type": "markdown",
   "id": "7cb9ecf5",
   "metadata": {},
   "source": [
    "### If asked to return the first midpoint when there are 2 middle nodes"
   ]
  },
  {
   "cell_type": "code",
   "execution_count": null,
   "id": "2ec3d8e3",
   "metadata": {
    "vscode": {
     "languageId": "rust"
    }
   },
   "outputs": [],
   "source": [
    "\n",
    "// ! TODO: Make it work\n",
    "\n",
    "// Function to find the midpoint of the linked list\n",
    "fn linked_list_midpoint(head: &Option<Box<ListNode>>) -> &ListNode {\n",
    "// fn linked_list_midpoint<'a>(head: &'a Option<Box<ListNode>>) -> &'a ListNode {    \n",
    "    let mut slow = head;\n",
    "    let mut fast = head;\n",
    "\n",
    "    // Traverse the list using two pointers\n",
    "    while let Some(f_node) = fast {\n",
    "        if let Some(f_next) = &f_node.next { // ! fast.next.next !!!!!!!!!!!!!!!!!\n",
    "            fast = &f_next.next;\n",
    "            if let Some(s_node) = slow {\n",
    "                slow = &s_node.next;\n",
    "            }\n",
    "        } else {\n",
    "            break;\n",
    "        }\n",
    "    }\n",
    "\n",
    "    // At this point, slow points to the midpoint node\n",
    "    slow.as_ref().unwrap()\n",
    "}\n",
    "\n",
    "\n",
    "// fn main() {\n",
    "    // Create linked list: 1 -> 2 -> 4 -> 7 -> 3\n",
    "    let values = vec![1, 2, 4, 7];\n",
    "    let mut head: Option<Box<ListNode>> = None;\n",
    "\n",
    "    // Build the list in reverse order\n",
    "    for &val in values.iter().rev() {\n",
    "        head = Some(Box::new(ListNode::new(val, head)));\n",
    "    }\n",
    "\n",
    "    // Find and print the midpoint\n",
    "    let mid = linked_list_midpoint(&head);\n",
    "    println!(\"Midpoint value: {}\", mid.val);\n",
    "// }\n",
    "\n",
    "    \n",
    "\n"
   ]
  }
 ],
 "metadata": {
  "kernelspec": {
   "display_name": "Rust",
   "language": "rust",
   "name": "rust"
  },
  "language_info": {
   "codemirror_mode": "rust",
   "file_extension": ".rs",
   "mimetype": "text/rust",
   "name": "Rust",
   "pygment_lexer": "rust",
   "version": ""
  }
 },
 "nbformat": 4,
 "nbformat_minor": 5
}
