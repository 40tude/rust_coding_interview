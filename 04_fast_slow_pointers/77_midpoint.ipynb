{
 "cells": [
  {
   "cell_type": "markdown",
   "id": "4b159124-58e9-4365-9432-48ce3482013e",
   "metadata": {},
   "source": [
    "# Linked List Midpoint"
   ]
  },
  {
   "cell_type": "markdown",
   "id": "dca6593e",
   "metadata": {},
   "source": [
    "Given a singly linked list, find ans return its middle node. If there are 2 middle nodes, returns the second one\n",
    "\n",
    "<span style=\"color:orange\"><b>The point:</b></span>\n",
    "* Use 2 ptrs : One fast and one slow\n",
    "* Fast move 2 steps at a time (``fast = fast.next.next``)\n",
    "* When fast ptr reaches the end of list, slow pointer is in the middle\n",
    "    * If len of list is odd => slow in the middle when fast.ext is None\n",
    "    * If len of list is even => slow on the second middle when fast is None (p 78)\n",
    "\n",
    "\n",
    "**Complexity :**\n",
    "\n",
    "| Time | Space |\n",
    "|------|-------|\n",
    "| O(n) | O(1)  |\n",
    "\n",
    "* O(n) because we traverse the list\n",
    "* O(1) in space because no growing datastructure are created\n",
    "\n",
    "\n",
    "\n",
    "**About Rust :**\n",
    "* We only need to read => ``Box<T>``\n",
    "* **YES** : tested on the [Rust Playground](https://play.rust-lang.org/)\n",
    "\n",
    "\n",
    "<!-- <span style=\"color:red\"><b>TODO : </b></span> \n",
    "* Add comments in the source code        \n",
    " -->\n",
    "\n",
    "<!-- * <span style=\"color:lime\"><b>Preferred solution?</b></span>      -->\n",
    "\n"
   ]
  },
  {
   "cell_type": "code",
   "execution_count": 3,
   "id": "cba7a7f9-c97a-4bba-97be-82cdac1951a5",
   "metadata": {
    "vscode": {
     "languageId": "rust"
    }
   },
   "outputs": [
    {
     "name": "stdout",
     "output_type": "stream",
     "text": [
      "1->2->42->7->3->None\n",
      "Value at midpoint: 42\n"
     ]
    },
    {
     "data": {
      "text/plain": [
       "()"
      ]
     },
     "execution_count": 3,
     "metadata": {},
     "output_type": "execute_result"
    }
   ],
   "source": [
    "type Link = Option<Box<Node>>; // type alias. Use Option and Box to allow an optional pointer to the next node \n",
    "\n",
    "struct Node {\n",
    "    val: i32,\n",
    "    next: Link, // use the alias here for clarity\n",
    "}\n",
    "\n",
    "impl Node {\n",
    "    fn new(val: i32, next: Link) -> Self {\n",
    "        Self { val, next }\n",
    "    }\n",
    "}\n",
    "\n",
    "// Function to find the midpoint of the linked list\n",
    "fn linked_list_midpoint(head: &Link) -> &Node {\n",
    "    let mut slow = head;\n",
    "    let mut fast = head;\n",
    "\n",
    "    // Traverse the list using two pointers\n",
    "    while let Some(f_node) = fast {\n",
    "        if let Some(f_next) = &f_node.next {\n",
    "            fast = &f_next.next;\n",
    "            if let Some(s_node) = slow {\n",
    "                slow = &s_node.next;\n",
    "            }\n",
    "        } else {\n",
    "            break;\n",
    "        }\n",
    "    }\n",
    "    // At this point, slow points to the midpoint node\n",
    "    slow.as_ref().unwrap()\n",
    "}\n",
    "\n",
    "// fn main(){     // no main() if this code runs in a Jupyter cell \n",
    "{                 // local scope to avoid issue with the lifetime of head during borrow\n",
    "    \n",
    "    let mut head = None; // Start with an empty list (head is None)\n",
    "    let vals = vec![1, 2, 42, 7, 3];\n",
    "    for v in vals.into_iter().rev() {\n",
    "        head = Some(Box::new(Node::new(v, head)));\n",
    "    }\n",
    "\n",
    "    let mut current = &head; \n",
    "    while let Some(node) = current {\n",
    "        print!(\"{}->\", node.val); // Access the value\n",
    "        current = &node.next; // Move to the next node\n",
    "    }\n",
    "    println!(\"None\");\n",
    "\n",
    "    // Find and print the midpoint\n",
    "    let mid = linked_list_midpoint(&head);\n",
    "    println!(\"Value at midpoint: {}\", mid.val);\n",
    "} // end of local scope OR end of main()       \n"
   ]
  },
  {
   "cell_type": "markdown",
   "id": "7cb9ecf5",
   "metadata": {},
   "source": [
    "### If asked to return the first midpoint when there are 2 middle nodes\n",
    "\n",
    "**About Rust :**\n",
    "* **YES** : tested on the [Rust Playground](https://play.rust-lang.org/)\n"
   ]
  },
  {
   "cell_type": "code",
   "execution_count": 4,
   "id": "ede158f2-c0cf-4e1e-ba8d-6b5770e7e614",
   "metadata": {
    "vscode": {
     "languageId": "rust"
    }
   },
   "outputs": [
    {
     "name": "stdout",
     "output_type": "stream",
     "text": [
      "1->2->4->7->None\n",
      "Value at first midpoint: 2\n"
     ]
    },
    {
     "data": {
      "text/plain": [
       "()"
      ]
     },
     "execution_count": 4,
     "metadata": {},
     "output_type": "execute_result"
    }
   ],
   "source": [
    "type Link = Option<Box<Node>>; // type alias. Use Option and Box to allow an optional pointer to the next node \n",
    "\n",
    "struct Node {\n",
    "    val: i32,\n",
    "    next: Link, // use the alias here for clarity\n",
    "}\n",
    "\n",
    "impl Node {\n",
    "    fn new(val: i32, next: Link) -> Self {\n",
    "        Self { val, next }\n",
    "    }\n",
    "}\n",
    "\n",
    "\n",
    "// Function to find the midpoint of the linked list\n",
    "fn linked_list_midpoint(head: &Link) -> &Node {\n",
    "    let mut slow = head;\n",
    "    let mut fast = head;\n",
    "\n",
    "    while let Some(f_node) = fast {\n",
    "        if let Some(f_next) = &f_node.next {\n",
    "            if let Some(f_next_next) = &f_next.next {\n",
    "                // Move fast forward two steps\n",
    "                fast = &f_next_next.next;\n",
    "\n",
    "                // Move slow forward one step\n",
    "                if let Some(s_node) = slow {\n",
    "                    slow = &s_node.next;\n",
    "                }\n",
    "                continue; // Explicit, but not necessary\n",
    "            }\n",
    "        }\n",
    "        break;\n",
    "    }\n",
    "    // At this point, slow points to the midpoint node\n",
    "    slow.as_ref().unwrap()\n",
    "}\n",
    "\n",
    "\n",
    "// fn main(){     // no main() if this code runs in a Jupyter cell \n",
    "{                 // local scope to avoid issue with the lifetime of head during borrow\n",
    "    \n",
    "    let mut head = None; // Start with an empty list (head is None)\n",
    "    let vals = vec![1, 2, 4, 7];\n",
    "    for v in vals.into_iter().rev() {\n",
    "        head = Some(Box::new(Node::new(v, head)));\n",
    "    }\n",
    "\n",
    "    let mut current = &head; \n",
    "    while let Some(node) = current {\n",
    "        print!(\"{}->\", node.val); // Access the value\n",
    "        current = &node.next; // Move to the next node\n",
    "    }\n",
    "    println!(\"None\");\n",
    "\n",
    "    // Find and print the midpoint\n",
    "    let mid = linked_list_midpoint(&head);\n",
    "    println!(\"Value at first midpoint: {}\", mid.val);\n",
    "} // end of local scope OR end of main()       "
   ]
  }
 ],
 "metadata": {
  "kernelspec": {
   "display_name": "Rust",
   "language": "rust",
   "name": "rust"
  },
  "language_info": {
   "codemirror_mode": "rust",
   "file_extension": ".rs",
   "mimetype": "text/rust",
   "name": "Rust",
   "pygment_lexer": "rust",
   "version": ""
  }
 },
 "nbformat": 4,
 "nbformat_minor": 5
}
