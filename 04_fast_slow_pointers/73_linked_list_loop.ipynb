{
    "cells": [
        {
            "cell_type": "markdown",
            "id": "452ae403-4b9c-4f63-a22b-2551aee2c77d",
            "metadata": {},
            "source": [
                "# Linked List Loop"
            ]
        },
        {
            "cell_type": "markdown",
            "id": "bec9e79a-fb7c-4582-b14f-fd8891537f4e",
            "metadata": {},
            "source": [
                "\n",
                "Given a singly linked list, determine if it contains a cycle\n",
                "* A cycle occurs if a node's next pointer reference an earlier node in the list (causing a loop)\n",
                "\n",
                "<span style=\"color:orange\"><b>The point:</b></span>\n",
                "* Use 2 ptrs \n",
                "* One fast and one slow\n",
                "* fast move 2 steps at a time (``fast = fast.next.next``)\n",
                "* fast ptr will always catch up slow ptr. worst case : k, length of the cycle\n",
                "\n",
                "If no cycle, fast leave the linked list\n",
                "\n",
                "**Complexity :**\n",
                "\n",
                "| Time | Space |\n",
                "|------|-------|\n",
                "| O(n) | O(1)  |\n",
                "\n",
                "\n",
                "\n",
                "\n",
                "**About Rust :**\n",
                "* Naïve and not naïve implementations are demonstrated \n",
                "* If there is a loop in the list => 2 pointers pointing to the same cell => Rc\n",
                "* RefCell supports interior mutability. This is a way of bypassing Rust's borrowing rules at runtime rather than at compile-time.\n",
                "* Without RefCell, an Rc<Node> cannot be modified. Rust forbids to modify a structure contained in an Rc. An Rc only gives (immutable) read access to the underlying data. See :\n",
                "\n",
                "```rust\n",
                "tail.borrow_mut().next = Some(Rc::clone(target)); \n",
                "```\n",
                "* **YES** : tested on the [Rust Playground](https://play.rust-lang.org/)\n",
                "\n",
                "\n",
                "<!-- <span style=\"color:red\"><b>TODO : </b></span> \n",
                "* Add comments in the source code        \n",
                " -->\n",
                "\n",
                "<!-- * <span style=\"color:lime\"><b>Preferred solution?</b></span>      -->\n",
                "\n",
                "\n"
            ]
        },
        {
            "cell_type": "code",
            "execution_count": null,
            "id": "f155190f-208a-4a0e-a730-ff05e998df6d",
            "metadata": {
                "vscode": {
                    "languageId": "rust"
                }
            },
            "outputs": [
                {
                    "name": "stdout",
                    "output_type": "stream",
                    "text": [
                        "false\n",
                        "false\n",
                        "true\n",
                        "true\n"
                    ]
                },
                {
                    "data": {
                        "text/plain": [
                            "()"
                        ]
                    },
                    "execution_count": 37,
                    "metadata": {},
                    "output_type": "execute_result"
                }
            ],
            "source": [
                "use std::rc::Rc;\n",
                "use std::cell::RefCell;\n",
                "use std::collections::HashSet;\n",
                "\n",
                "type Link = Option<Rc<RefCell<Node>>>; \n",
                "\n",
                "struct Node {\n",
                "    val: i32,\n",
                "    next: Link, // use the alias here for clarity\n",
                "}\n",
                "\n",
                "impl Node {\n",
                "    fn new(val: i32, next: Link) -> Rc<RefCell<Node>> {\n",
                "        Rc::new(RefCell::new(Self { val, next }))\n",
                "    }\n",
                "}\n",
                "\n",
                "fn linked_list_loop_naive(head : &Link)->bool{\n",
                "    let mut visited = HashSet::new(); // O(n) space\n",
                "    let mut current = head.as_ref().map(Rc::clone);\n",
                "    while let Some(node_rc) = current {\n",
                "        let addr = Rc::as_ptr(&node_rc) as usize;\n",
                "        if visited.contains(&addr){\n",
                "            return true;\n",
                "        }\n",
                "        visited.insert(addr);\n",
                "        current = node_rc.borrow().next.as_ref().map(Rc::clone);\n",
                "    }\n",
                "    return false ;\n",
                "}\n",
                "\n",
                "\n",
                "\n",
                "fn linked_list_loop(head: &Link) -> bool {\n",
                "    let mut slow = head.as_ref().map(Rc::clone);\n",
                "    let mut fast = head.as_ref().map(Rc::clone);\n",
                "\n",
                "    while let (Some(s_node), Some(f_node)) = (&slow, &fast) {\n",
                "        // Advance slow one step\n",
                "        let next_slow = s_node.borrow().next.as_ref().map(Rc::clone);\n",
                "\n",
                "        // Advance fast two steps\n",
                "        let next_fast_1 = f_node.borrow().next.as_ref().map(Rc::clone);\n",
                "        let next_fast_2 = match next_fast_1 {\n",
                "            Some(ref next) => next.borrow().next.as_ref().map(Rc::clone),\n",
                "            None => None,\n",
                "        };\n",
                "\n",
                "        slow = next_slow;\n",
                "        fast = next_fast_2;\n",
                "\n",
                "        // Check for pointer equality (cycle detection)\n",
                "        if let (Some(s_ptr), Some(f_ptr)) = (&slow, &fast) {\n",
                "            if Rc::ptr_eq(s_ptr, f_ptr) {\n",
                "                return true;\n",
                "            }\n",
                "        }\n",
                "    }\n",
                "    false\n",
                "}\n",
                "\n",
                "// fn main(){     // no main() if this code runs in a Jupyter cell \n",
                "{                 // local scope to avoid issue with the lifetime of head during borrow\n",
                "\n",
                "    let mut head = None; // Start with an empty list (head is None)\n",
                "    let vals = vec![0, 1, 2, 3, 4, 5];\n",
                "    let mut nodes = vec![];  // Keep references to all nodes in a vector for later access\n",
                "    for v in vals.into_iter().rev() {\n",
                "        let new_node = Node::new(v, head.take());\n",
                "        head = Some(Rc::clone(&new_node));\n",
                "        nodes.push(new_node);\n",
                "    }\n",
                "    println!(\"{}\", linked_list_loop_naive(&head));\n",
                "    println!(\"{}\", linked_list_loop(&head));\n",
                "\n",
                "    let tail = &nodes[0]; // node 5\n",
                "    let target = &nodes[2]; // node 3\n",
                "    tail.borrow_mut().next = Some(Rc::clone(target)); // cycle: 5 → 3\n",
                "    println!(\"{}\", linked_list_loop_naive(&head));\n",
                "    println!(\"{}\", linked_list_loop(&head));\n",
                "} // end of local scope OR end of main()    \n"
            ]
        }
    ],
    "metadata": {
        "kernelspec": {
            "display_name": "Rust",
            "language": "rust",
            "name": "rust"
        },
        "language_info": {
            "codemirror_mode": "rust",
            "file_extension": ".rs",
            "mimetype": "text/rust",
            "name": "Rust",
            "pygment_lexer": "rust",
            "version": ""
        }
    },
    "nbformat": 4,
    "nbformat_minor": 5
}