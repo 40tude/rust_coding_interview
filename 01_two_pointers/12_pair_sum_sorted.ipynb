{
 "cells": [
  {
   "cell_type": "markdown",
   "id": "1980fe1d-39dd-4cbd-9d2c-5592cf0b8484",
   "metadata": {},
   "source": [
    "Given a sorted array and a target sum, return the indexes of any pair of numbers that add up to the target sum.\n",
    "\n",
    "Avoid brute force with 2 nested loops O(n²) and use the two pointers technique\n",
    "\n",
    "<span style=\"color:orange\"><b>The point:</b></span>    \n",
    "* Leverage the fact that the numbers are sorted\n",
    "* Use 2 ptrs, one on the left the other on the right\n",
    "* Sum them up. If below move the left ptr inward. If above move the right ptr inward\n",
    "\n",
    "\n",
    "**Complexity :**\n",
    "\n",
    "| Time | Space |\n",
    "|------|-------|\n",
    "| O(n) | O(1)  |\n",
    "\n",
    "* O(n) because we traverse the list\n",
    "* O(1) in space because no growing datastructure are created\n",
    "\n",
    "\n"
   ]
  },
  {
   "cell_type": "markdown",
   "id": "553d34f1-fd58-4c3d-b64e-d0c960239d91",
   "metadata": {},
   "source": [
    "Use arrays"
   ]
  },
  {
   "cell_type": "code",
   "execution_count": 3,
   "id": "adcc4657-7e0c-413a-badd-de367d50dfa7",
   "metadata": {},
   "outputs": [
    {
     "name": "stdout",
     "output_type": "stream",
     "text": [
      "[2, 3]\n",
      "[0, 2]\n",
      "[]\n"
     ]
    }
   ],
   "source": [
    "fn pair_sum_sorted(nums: &[i32], target: i32) -> Vec<usize> {\n",
    "    let mut left = 0;\n",
    "    let mut right = nums.len().saturating_sub(1);\n",
    "\n",
    "    while left < right {\n",
    "        let sum = nums[left] + nums[right];\n",
    "        if sum < target {\n",
    "            left += 1;\n",
    "        } else if sum > target {\n",
    "            right -= 1;\n",
    "        } else {\n",
    "            return vec![left, right];\n",
    "        }\n",
    "    }\n",
    "    vec![]\n",
    "}\n",
    "\n",
    "// fn main() {\n",
    "    let res = pair_sum_sorted(&[-5, -2, 3, 4, 6], 7);\n",
    "    println!(\"{:?}\", res); // [2, 3]\n",
    "\n",
    "    let res = pair_sum_sorted(&[1, 1, 1], 2);\n",
    "    println!(\"{:?}\", res); // [0, 2] or any valid pair\n",
    "\n",
    "    let res = pair_sum_sorted(&[1, 1, 1], 42);\n",
    "    println!(\"{:?}\", res); // [] or any valid pair\n",
    "// }\n"
   ]
  },
  {
   "cell_type": "markdown",
   "id": "06e6b7f2-eae5-4d2c-ad5c-9832e49f61c1",
   "metadata": {},
   "source": [
    "Use vectors"
   ]
  },
  {
   "cell_type": "code",
   "execution_count": 4,
   "id": "c8d1c7ce-6edc-43d9-a4a6-a2ef63f82bb0",
   "metadata": {},
   "outputs": [
    {
     "name": "stdout",
     "output_type": "stream",
     "text": [
      "[2, 3]\n",
      "[0, 2]\n",
      "[]\n"
     ]
    }
   ],
   "source": [
    "fn pair_sum_sorted(nums: &[i32], target: i32) -> Vec<usize> {\n",
    "    let mut left = 0;\n",
    "    let mut right = nums.len().saturating_sub(1);\n",
    "\n",
    "    while left < right {\n",
    "        let sum = nums[left] + nums[right];\n",
    "        if sum < target {\n",
    "            left += 1;\n",
    "        } else if sum > target {\n",
    "            right -= 1;\n",
    "        } else {\n",
    "            return vec![left, right];\n",
    "        }\n",
    "    }\n",
    "    vec![]\n",
    "}\n",
    "\n",
    "// fn main() {\n",
    "    let v1 = vec![-5, -2, 3, 4, 6];\n",
    "    let res = pair_sum_sorted(&v1, 7);\n",
    "    println!(\"{:?}\", res); // [2, 3]\n",
    "\n",
    "    let v2 = vec![1, 1, 1];\n",
    "    let res = pair_sum_sorted(&v2, 2);\n",
    "    println!(\"{:?}\", res); // [0, 2] or any valid pair\n",
    "\n",
    "    let res = pair_sum_sorted(&v2, 42);\n",
    "    println!(\"{:?}\", res); // [] or any valid pair\n",
    "// }\n"
   ]
  },
  {
   "cell_type": "code",
   "execution_count": null,
   "id": "7392dbbf-9440-4dec-8c54-a0cd9a24beb8",
   "metadata": {},
   "outputs": [],
   "source": []
  }
 ],
 "metadata": {
  "kernelspec": {
   "display_name": "Rust",
   "language": "rust",
   "name": "rust"
  },
  "language_info": {
   "codemirror_mode": "rust",
   "file_extension": ".rs",
   "mimetype": "text/rust",
   "name": "Rust",
   "pygment_lexer": "rust",
   "version": ""
  }
 },
 "nbformat": 4,
 "nbformat_minor": 5
}
