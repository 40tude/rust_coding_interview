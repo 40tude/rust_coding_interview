{
 "cells": [
  {
   "cell_type": "markdown",
   "id": "f8d4e99c-81b5-4dc2-91b0-b6523724be84",
   "metadata": {},
   "source": [
    "# Largest Container"
   ]
  },
  {
   "cell_type": "markdown",
   "id": "1980fe1d-39dd-4cbd-9d2c-5592cf0b8484",
   "metadata": {},
   "source": [
    "* You are given an array of numbers\n",
    "* Each representing the height of a vertical line\n",
    "* Return the amount of water which the largest container can hold\n",
    "\n",
    "<span style=\"color:orange\"><b>The point:</b></span>    \n",
    "* Use two pointers (start, end).\n",
    "* We move inward, calculating the area\n",
    "* We advance the smaller of the two pointers\n",
    "* Continue until the pointers meet\n",
    "\n",
    "\n",
    "**Complexity :**\n",
    "\n",
    "| Time | Space |\n",
    "|------|-------|\n",
    "| O(n) | O(1)  |\n",
    "\n",
    "* Because we traverse the n-character string once and allocate a constant number of variables.\n",
    "\n",
    "\n",
    "\n",
    "\n",
    "\n",
    "**About Rust :**\n",
    "* Comments on Rust implementation\n",
    "\n",
    "\n",
    "\n"
   ]
  },
  {
   "cell_type": "code",
   "execution_count": 3,
   "id": "bd29d844-a41d-467b-b638-8fe38971b970",
   "metadata": {},
   "outputs": [
    {
     "name": "stdout",
     "output_type": "stream",
     "text": [
      "24\n",
      "49\n"
     ]
    }
   ],
   "source": [
    "use std::cmp::{min, max};\n",
    "\n",
    "fn largest_container(heights:&[i32]) -> i32 {\n",
    "    let mut max_water = 0;\n",
    "    let mut left = 0;\n",
    "    let mut right = heights.len().saturating_sub(1); // right = len - 1 or 0 if len-1 is negative\n",
    "\n",
    "    while left < right {\n",
    "        // calculate the water contained between the 2 lines\n",
    "        let water = min(heights[left], heights[right]) * (right - left) as i32;\n",
    "        max_water = max(max_water, water);\n",
    "        // move the pointer with the shorter line inward\n",
    "        // move both inward in case of equality\n",
    "        if heights[left] < heights[right] {\n",
    "            left += 1;\n",
    "        }\n",
    "        else if heights[left] > heights[right] {\n",
    "            right -= 1;\n",
    "        }\n",
    "        else{\n",
    "            left += 1;\n",
    "            right -= 1;\n",
    "        }\n",
    "    }\n",
    "    max_water\n",
    "}\n",
    "\n",
    "// fn main(){     // no main() if this code runs in a jupyter cell \n",
    "    println!(\"{}\", largest_container(&vec![2, 7, 8, 3, 7, 6]));  // 24\n",
    "    println!(\"{}\", largest_container(&vec![1, 8, 6, 2, 5, 4, 8, 3, 7]));  // 49\n",
    "// }"
   ]
  }
 ],
 "metadata": {
  "kernelspec": {
   "display_name": "Rust",
   "language": "rust",
   "name": "rust"
  },
  "language_info": {
   "codemirror_mode": "rust",
   "file_extension": ".rs",
   "mimetype": "text/rust",
   "name": "Rust",
   "pygment_lexer": "rust",
   "version": ""
  }
 },
 "nbformat": 4,
 "nbformat_minor": 5
}
