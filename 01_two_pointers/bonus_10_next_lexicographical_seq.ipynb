{
 "cells": [
  {
   "cell_type": "markdown",
   "id": "b4c662a3-1bba-4602-bb3d-e42e373daaff",
   "metadata": {},
   "source": [
    "# Next lexicographical sequence"
   ]
  },
  {
   "cell_type": "markdown",
   "id": "1980fe1d-39dd-4cbd-9d2c-5592cf0b8484",
   "metadata": {},
   "source": [
    "* Given a string of lowercase English letters\n",
    "* **Rearrange** the characters to form a new string representing the next immediate sequence in lexicographical (alphabetical) order.\n",
    "* If the given string is already the last lexicographical arrangement possible, return the first lexicographical arrangement.\n",
    "\n",
    "The keyword here is **rearrange**\n",
    "* Input  : s = \"abcd\" => Output :     \"abdc\"\n",
    "* Input  : s = \"dcba\" => Output :     \"abcd\"\n",
    "\n",
    " It can help to assign numbers to letters (a=1, b=2, c=3, etc.)\n",
    "  \n",
    " \n",
    "| ltr  | nbr |\n",
    "|------|-----|\n",
    "| abc  | 123 |\n",
    "| cba  | 321 |\n",
    "\n",
    "<span style=\"color:orange\"><b>The point:</b></span>    \n",
    "- We look for the smallest suffix (right hand side) that we can rearrange to get a greater permutation\n",
    "- We focus on changing the smallest possible suffix that can produce a greater permutation\n",
    "- We search for the first character that is smaller than the next one (pivot)\n",
    "- If no pivot is found, the string is already at its maximum \"value\".\n",
    "- Then, we return the reversed string (this will become the first lexicographical permutation).\n",
    "- If a pivot is found, swap it with the next larger character to its right.\n",
    "\n",
    "**Example:**\n",
    "- Input: s = \"a b c e d d a\"\n",
    "- Pivot is 'c', as it's the first character smaller than its successor 'e':\n",
    "- Swap pivot 'c' with the right most next larger character ('d'):\n",
    "- Result: \"a b d e d c a\"\n",
    "\n",
    "Notice the suffix after the pivot is \"non-increasing\".\n",
    "- To minimize the suffix, reverse it:\n",
    "- Result: \"a b d a c d e\"\n",
    "\n",
    "**Complexity :**\n",
    "\n",
    "| Time | Space |\n",
    "|------|-------|\n",
    "| O(n) | O(n)  |\n",
    "\n",
    "* Time is O(n) as we traverse the string a few times:\n",
    "    * Searching for pivot\n",
    "    * Finding rightmost successor\n",
    "    * Reversing the suffix\n",
    "* Space complexity is O(n) due to the letters[] array allocation\n",
    "\n",
    "\n",
    "\n",
    "\n",
    "\n",
    "\n",
    "**About Rust :**\n",
    "* Comments on Rust implementation\n",
    "\n",
    "\n",
    "\n"
   ]
  },
  {
   "cell_type": "code",
   "execution_count": 8,
   "id": "df4c75e2-0091-4b23-80ae-d7d076459264",
   "metadata": {
    "vscode": {
     "languageId": "rust"
    }
   },
   "outputs": [
    {
     "name": "stdout",
     "output_type": "stream",
     "text": [
      "abdacde\n",
      "ynsdeit\n",
      "xyz\n"
     ]
    }
   ],
   "source": [
    "fn next_lexicographical_seq(s:&str) -> String {\n",
    "    // transform the view into a vector of chars (not a String) we can iterate on. \n",
    "    // s.chars() is an iterator, .collect() transforms the iterator in a collection. \n",
    "    let mut letters: Vec<char> = s.chars().collect(); \n",
    "\n",
    "    \n",
    "    // Look for the pivot\n",
    "    let mut pivot: Option<usize> = None;\n",
    "    for i in (0..letters.len().saturating_sub(1)).rev() {\n",
    "        if letters[i] < letters[i + 1] {\n",
    "            pivot = Some(i);\n",
    "            break;\n",
    "        }\n",
    "    }\n",
    "\n",
    "    // if pivot NOT found the string \"value\" is already max\n",
    "    // return the reversed string\n",
    "    // .collect::<String>() : gather the elements from the iterator into a String\n",
    "    // Here, Rust use the return type in the function to infer the type of .collect()\n",
    "    if pivot.is_none() {\n",
    "        // return letters.iter().rev().collect(); \n",
    "        // OK return letters.iter().rev().collect::<String>(); \n",
    "        // OK {\n",
    "        //     reverse() act in-place\n",
    "        //     letters.reverse();\n",
    "        //     letters.iter().collect::<String>()\n",
    "        // }\n",
    "        // Better, give ownership of the elements to the iterator. \n",
    "        // Therefore : no copying, no additional allocations, no unnecessary clones\n",
    "        return letters.into_iter().rev().collect(); \n",
    "    }\n",
    "\n",
    "    // Get the value from the Option\n",
    "    let pivot = pivot.unwrap(); //let pivot = pivot.expect(\"Pivot should exist at this point\");\n",
    "    \n",
    "    // starting from the right hand side, find the first char \"larger\" than pivot\n",
    "    let mut rightmost_successor = letters.len().saturating_sub(1);\n",
    "    while letters[rightmost_successor] <= letters[pivot]{\n",
    "        rightmost_successor -= 1;\n",
    "    }\n",
    "    \n",
    "    // swap pivot and rightmost successor\n",
    "    letters.swap(pivot, rightmost_successor);\n",
    "\n",
    "     // Reverse the suffix\n",
    "    letters[pivot + 1..].reverse();\n",
    "\n",
    "    // Create an Iterator<Item = &char>.\n",
    "    // Rust must copy each char (via *c or clone()) to build the String\n",
    "    // Returns the string. Rust use the return type in the fucntion signature to infer the type of .collect()\n",
    "    // letters[..].iter().collect::<String>()\n",
    "    // letters.iter().collect()\n",
    "    \n",
    "    // Better, give ownership of the elements to the iterator\n",
    "    // Therefore : no copying, no additional allocations, no unnecessary clones\n",
    "    letters.into_iter().collect()\n",
    "}\n",
    "\n",
    "// fn main(){     // no main() if this code runs in a jupyter cell \n",
    "    println!(\"{}\", next_lexicographical_seq(\"abcedda\"));  // abdacde\n",
    "    println!(\"{}\", next_lexicographical_seq(\"ynitsed\"));  // ynsdeit\n",
    "    println!(\"{}\", next_lexicographical_seq(\"zyx\"));      // xyz\n",
    "\n",
    "// }"
   ]
  },
  {
   "cell_type": "code",
   "execution_count": 9,
   "id": "2ca45d32-0452-47d0-927e-3342cf885941",
   "metadata": {
    "vscode": {
     "languageId": "rust"
    }
   },
   "outputs": [
    {
     "name": "stdout",
     "output_type": "stream",
     "text": [
      "abdacde\n",
      "ynsdeit\n",
      "xyz\n"
     ]
    }
   ],
   "source": [
    "// Same as above but with less comments \n",
    "fn next_lexicographical_seq(s:&str) -> String {\n",
    "    \n",
    "    let mut letters: Vec<char> = s.chars().collect(); \n",
    "\n",
    "    // Look for the pivot\n",
    "    let mut pivot: Option<usize> = None;\n",
    "    for i in (0..letters.len().saturating_sub(1)).rev() {\n",
    "        if letters[i] < letters[i + 1] {\n",
    "            pivot = Some(i);\n",
    "            break;\n",
    "        }\n",
    "    }\n",
    "\n",
    "    // if pivot NOT found the string \"value\" is already max\n",
    "    // return the reversed string\n",
    "    if pivot.is_none() {\n",
    "        return letters.into_iter().rev().collect(); \n",
    "    }\n",
    "\n",
    "    // Get the value from the Option\n",
    "    let pivot = pivot.unwrap(); \n",
    "    \n",
    "    // starting from the right hand side, find the first char \"larger\" than pivot\n",
    "    let mut rightmost_successor = letters.len().saturating_sub(1);\n",
    "    while letters[rightmost_successor] <= letters[pivot]{\n",
    "        rightmost_successor -= 1;\n",
    "    }\n",
    "    \n",
    "    // swap pivot and rightmost successor\n",
    "    letters.swap(pivot, rightmost_successor);\n",
    "\n",
    "     // Reverse the suffix\n",
    "    letters[pivot + 1..].reverse();\n",
    "\n",
    "    // Returns the string. \n",
    "    letters.into_iter().collect()\n",
    "}\n",
    "\n",
    "// main(){\n",
    "    println!(\"{}\", next_lexicographical_seq(\"abcedda\"));  // abdacde\n",
    "    println!(\"{}\", next_lexicographical_seq(\"ynitsed\"));  // ynsdeit\n",
    "    println!(\"{}\", next_lexicographical_seq(\"zyx\"));  // xyz\n",
    "\n",
    "// }"
   ]
  },
  {
   "cell_type": "code",
   "execution_count": null,
   "id": "e2343e17-8ebc-4fcd-b1a7-cd983b96ae88",
   "metadata": {
    "vscode": {
     "languageId": "rust"
    }
   },
   "outputs": [
    {
     "name": "stdout",
     "output_type": "stream",
     "text": [
      "abdacde\n",
      "ynsdeit\n",
      "xyz\n"
     ]
    }
   ],
   "source": [
    "fn next_lexicographical_seq(s: &str) -> String {\n",
    "    // transform the view into a vector of chars we can iterate on. \n",
    "    // s.chars() is an iterator, .collect() transforms the iterator in a collection. \n",
    "    let mut letters: Vec<char> = s.chars().collect(); \n",
    "\n",
    "    // Find the pivot => last i such that letters[i] < letters[i + 1]\n",
    "    // pivot is of type Option<usize> because .find() may NOT succeed (None) \n",
    "    // (0..letters.len() - 1) is a Range (std::ops::Range<usize>) which implement the Iterator Trait\n",
    "    // At the end of the .find() pivot = None or Some(i)\n",
    "    let maybe_index = (0..letters.len() - 1)\n",
    "        .rev()\n",
    "        .find(|&i| letters[i] < letters[i + 1]);\n",
    "\n",
    "    // If \"maybe_index\" matches the pattern Some(Zoubida), then create a local variable named \"Zoubida\" containing the value inside the Option \"maybe_index\"\n",
    "    if let Some(Zoubida) = maybe_index {\n",
    "        // pivot found\n",
    "        // find the smallest char on the right of pivot but larger than letters[pivot]\n",
    "        let successor = (Zoubida + 1..letters.len())\n",
    "            .rev()\n",
    "            .find(|&i| letters[i] > letters[Zoubida])\n",
    "            .unwrap();\n",
    "\n",
    "        // Swap\n",
    "        letters.swap(Zoubida, successor);\n",
    "\n",
    "        // Reverse the suffix\n",
    "        letters[Zoubida + 1..].reverse();\n",
    "    } else {\n",
    "        // pivot NOT found the string \"value\" is already max\n",
    "        // Reverse the string\n",
    "        letters.reverse();\n",
    "    }\n",
    "\n",
    "    letters.into_iter().collect()\n",
    "}\n",
    "\n",
    "// fn main(){\n",
    "    println!(\"{}\", next_lexicographical_seq(\"abcedda\"));  // abdacde\n",
    "    println!(\"{}\", next_lexicographical_seq(\"ynitsed\"));  // ynsdeit\n",
    "    println!(\"{}\", next_lexicographical_seq(\"zyx\"));  // xyz\n",
    "\n",
    "// }    "
   ]
  },
  {
   "cell_type": "code",
   "execution_count": 11,
   "id": "4befdd3d-0b69-4c4e-aa56-ecadd540924b",
   "metadata": {
    "vscode": {
     "languageId": "rust"
    }
   },
   "outputs": [
    {
     "name": "stdout",
     "output_type": "stream",
     "text": [
      "abdacde\n",
      "ynsdeit\n",
      "xyz\n"
     ]
    }
   ],
   "source": [
    "// same as before with less comments\n",
    "fn next_lexicographical_seq(s: &str) -> String {\n",
    "    let mut letters: Vec<char> = s.chars().collect();\n",
    "\n",
    "    // Find pivot \n",
    "    let maybe_pivot = (0..letters.len() - 1)\n",
    "        .rev()\n",
    "        .find(|&i| letters[i] < letters[i + 1]);\n",
    "\n",
    "    // If pivot exists\n",
    "    if let Some(pivot) = maybe_pivot {\n",
    "        // find the smallest char on the right of pivot but larger than letters[pivot]\n",
    "        let successor = (pivot + 1..letters.len())\n",
    "            .rev()\n",
    "            .find(|&i| letters[i] > letters[pivot])\n",
    "            .unwrap();\n",
    "        letters.swap(pivot, successor);\n",
    "        letters[pivot + 1..].reverse(); // Reverse the suffix\n",
    "    } else {\n",
    "        letters.reverse(); // Reverse the string\n",
    "    }\n",
    "    letters.into_iter().collect()\n",
    "}\n",
    "\n",
    "// fn main(){\n",
    "    println!(\"{}\", next_lexicographical_seq(\"abcedda\"));  // abdacde\n",
    "    println!(\"{}\", next_lexicographical_seq(\"ynitsed\"));  // ynsdeit\n",
    "    println!(\"{}\", next_lexicographical_seq(\"zyx\"));  // xyz\n",
    "\n",
    "// }    "
   ]
  }
 ],
 "metadata": {
  "kernelspec": {
   "display_name": "Rust",
   "language": "rust",
   "name": "rust"
  },
  "language_info": {
   "codemirror_mode": "rust",
   "file_extension": ".rs",
   "mimetype": "text/rust",
   "name": "Rust",
   "pygment_lexer": "rust",
   "version": ""
  }
 },
 "nbformat": 4,
 "nbformat_minor": 5
}
