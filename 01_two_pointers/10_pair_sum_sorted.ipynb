{
 "cells": [
  {
   "cell_type": "markdown",
   "id": "073f7c6f-d308-4b40-96a2-f501d7bb7eb2",
   "metadata": {},
   "source": [
    "# Pair Sum - Sorted"
   ]
  },
  {
   "cell_type": "markdown",
   "id": "1980fe1d-39dd-4cbd-9d2c-5592cf0b8484",
   "metadata": {},
   "source": [
    "Given a sorted array and a target sum, return the indexes of any pair of numbers that add up to the target sum.\n",
    "\n",
    "Avoid brute force with 2 nested loops O(n²) and use the two pointers technique\n",
    "\n",
    "<span style=\"color:orange\"><b>The point:</b></span>    \n",
    "* Leverage the fact that the numbers are sorted\n",
    "* Use 2 ptrs, one on the left the other on the right\n",
    "* Sum them up. If below move the left ptr inward. If above move the right ptr inward\n",
    "\n",
    "\n",
    "**Complexity :**\n",
    "\n",
    "| Time | Space |\n",
    "|------|-------|\n",
    "| O(n) | O(1)  |\n",
    "\n",
    "* O(n) because we traverse the list\n",
    "* O(1) in space because no growing datastructure are created\n",
    "\n",
    "\n",
    "\n",
    "**About Rust :**\n",
    "* For this exercice only\n",
    "* I show different ways to check results in Rust\n",
    "    * ``Result<T, E>``, `Option<T>`, ``assert_eq!``, the `?` operator \n",
    "\n",
    "\n",
    "\n"
   ]
  },
  {
   "cell_type": "markdown",
   "id": "553d34f1-fd58-4c3d-b64e-d0c960239d91",
   "metadata": {},
   "source": [
    "## Base implementation"
   ]
  },
  {
   "cell_type": "code",
   "execution_count": 2,
   "id": "adcc4657-7e0c-413a-badd-de367d50dfa7",
   "metadata": {
    "vscode": {
     "languageId": "rust"
    }
   },
   "outputs": [
    {
     "name": "stdout",
     "output_type": "stream",
     "text": [
      "[2, 3]\n",
      "[0, 2]\n",
      "[]\n"
     ]
    }
   ],
   "source": [
    "// the 1st parameter is a slice (=> it can be called with a reference to an array OR a vector \n",
    "fn pair_sum_sorted(nums: &[i32], target: i32) -> Vec<usize> {\n",
    "    let mut left = 0;\n",
    "    let mut right = nums.len().saturating_sub(1); // right = len - 1 or 0 if len-1 is negative\n",
    "\n",
    "    while left < right {\n",
    "        let sum = nums[left] + nums[right];\n",
    "        if sum < target {\n",
    "            left += 1;\n",
    "        } else if sum > target {\n",
    "            right -= 1;\n",
    "        } else {\n",
    "            return vec![left, right];\n",
    "        }\n",
    "    }\n",
    "    vec![]\n",
    "}\n",
    "\n",
    "// fn main() {\n",
    "    // Does not print, just assert. May be enough most of the time\n",
    "    assert_eq!(pair_sum_sorted(&[-5, -2, 3, 4, 6], 7), [2, 3]);\n",
    "\n",
    "    let res = pair_sum_sorted(&[-5, -2, 3, 4, 6], 7); // an array\n",
    "    println!(\"{:?}\", res); // [2, 3]        :? => use the debug format\n",
    "\n",
    "    let res = pair_sum_sorted(&vec![1, 1, 1], 2); // a vector\n",
    "    println!(\"{:?}\", res); // [0, 2] or any valid pair\n",
    "\n",
    "    let res = pair_sum_sorted(&[1, 1, 1], 42);\n",
    "    println!(\"{:?}\", res); // [] \n",
    "// }\n"
   ]
  },
  {
   "cell_type": "markdown",
   "id": "3c30bc8f-39b2-488b-b690-fe82b5c27569",
   "metadata": {},
   "source": [
    "## Returns a `Result<T, E>` \n",
    "* Continue to accept reference to array or vector \n",
    "* When found, the 2 indices are returned in a tuple.\n",
    "* Return an error otherwise"
   ]
  },
  {
   "cell_type": "code",
   "execution_count": 10,
   "id": "e2b69709-21cb-41e6-bb72-9358e2011073",
   "metadata": {
    "vscode": {
     "languageId": "rust"
    }
   },
   "outputs": [
    {
     "name": "stdout",
     "output_type": "stream",
     "text": [
      "Found pair at indices: (2, 3)\n",
      "Found pair at indices: (0, 2)\n",
      "Result : \"(0, 2)\"\n"
     ]
    }
   ],
   "source": [
    "\n",
    "// Define a custom error type\n",
    "#[derive(Debug)]\n",
    "struct PairNotFoundError;\n",
    "\n",
    "// Function that returns a Result\n",
    "// 1st parameter is a slice (can be called with a reference to an array or a vector) \n",
    "fn pair_sum_sorted(nums: &[i32], target: i32) -> Result<(usize, usize), PairNotFoundError> {\n",
    "    let mut left = 0;\n",
    "    let mut right = nums.len().saturating_sub(1); // right = len - 1 or 0 if len-1 is negative\n",
    "\n",
    "    while left < right {\n",
    "        let sum = nums[left] + nums[right];\n",
    "        if sum < target {\n",
    "            left += 1;\n",
    "        } else if sum > target {\n",
    "            right -= 1;\n",
    "        } else {\n",
    "            // Success: return indices wrapped in Ok (a tuple)\n",
    "            return Ok((left, right));\n",
    "        }\n",
    "    }\n",
    "    // Error: no valid pair found\n",
    "    Err(PairNotFoundError)\n",
    "}\n",
    "\n",
    "// fn main() {\n",
    "    let nums = [-5, -2, 3, 4, 6];\n",
    "    let target = 7; \n",
    "    match pair_sum_sorted(&nums, target) {\n",
    "        Ok(indices) => println!(\"Found pair at indices: {:?}\", indices),\n",
    "        Err(_) => println!(\"No pair found that sums to the target.\"),\n",
    "    }\n",
    "    \n",
    "    let nums = vec![1, 1, 1];\n",
    "    let target = 2;\n",
    "    match pair_sum_sorted(&nums, target) {\n",
    "        Ok(indices) => println!(\"Found pair at indices: {:?}\", indices),\n",
    "        Err(_) => println!(\"No pair found that sums to the target.\"),\n",
    "    }\n",
    "    \n",
    "    let res = pair_sum_sorted(&[1, 1, 1], 2);\n",
    "    // use a map_or to provide a default value\n",
    "    println!(\"Result : {:?}\", res.map_or(\"No solution\".to_string(), |v| format!(\"{:?}\", v)));\n",
    "// }"
   ]
  },
  {
   "cell_type": "markdown",
   "id": "48c9c746-c857-4054-92bd-3bfdb92379bf",
   "metadata": {},
   "source": [
    "## Returns an `Option<T>` \n",
    "* Because not finding a pair may not be considered as an error\n",
    "* Continue to accept reference to array or vector \n",
    "* When found, the 2 indices are returned in a tuple.\n",
    "* Return None otherwise"
   ]
  },
  {
   "cell_type": "code",
   "execution_count": 4,
   "id": "7c948d1e-1ff7-458b-bd27-cc217970f805",
   "metadata": {
    "vscode": {
     "languageId": "rust"
    }
   },
   "outputs": [
    {
     "name": "stdout",
     "output_type": "stream",
     "text": [
      "Found pair at indices: (2, 3)\n",
      "Found pair at indices: (0, 2)\n",
      "Result : \"No solution\"\n"
     ]
    }
   ],
   "source": [
    "// Function that returns an Option instead of a Result\n",
    "// 1st parameter is a slice (can be called with a reference to an array or a vector) \n",
    "fn pair_sum_sorted(nums: &[i32], target: i32) -> Option<(usize, usize)> {\n",
    "    let mut left = 0;\n",
    "    let mut right = nums.len().saturating_sub(1); // right = len - 1 or 0 if len-1 is negative\n",
    "\n",
    "    while left < right {\n",
    "        let sum = nums[left] + nums[right];\n",
    "        if sum < target {\n",
    "            left += 1;\n",
    "        } else if sum > target {\n",
    "            right -= 1;\n",
    "        } else {\n",
    "            // Success: return indices wrapped in Some (a tuple)\n",
    "            return Some((left, right));\n",
    "        }\n",
    "    }\n",
    "    // No valid pair found, return None\n",
    "    None\n",
    "}\n",
    "\n",
    "// fn main() {\n",
    "    let nums = [-5, -2, 3, 4, 6];\n",
    "    let target = 7; \n",
    "    match pair_sum_sorted(&nums, target) {\n",
    "        Some(indices) => println!(\"Found pair at indices: {:?}\", indices),\n",
    "        None => println!(\"No pair found that sums to the target.\"),\n",
    "    }\n",
    "\n",
    "    let nums = vec![1, 1, 1];\n",
    "    let target = 2;\n",
    "    match pair_sum_sorted(&nums, target) {\n",
    "        Some(indices) => println!(\"Found pair at indices: {:?}\", indices),\n",
    "        None => println!(\"No pair found that sums to the target.\"),\n",
    "    }\n",
    "\n",
    "    let res = pair_sum_sorted(&[1, 1, 1], 42);\n",
    "    // Use map_or to provide a default string if no solution\n",
    "    println!(\"Result : {:?}\", res.map_or(\"No solution\".to_string(), |v| format!(\"{:?}\", v)));\n",
    "// }\n"
   ]
  },
  {
   "cell_type": "markdown",
   "id": "a9fb6d91",
   "metadata": {},
   "source": [
    "## Use the ? operator \n",
    "* Returns an Option because not finding a pair may not be considered as an error\n",
    "* Continue to accept reference to array or vector \n",
    "* When found, the 2 indices are returned in a tuple.\n",
    "* Return None otherwise\n",
    "* We need an intermediate function to demonstrate the propagation of the Option with the `?` operator"
   ]
  },
  {
   "cell_type": "code",
   "execution_count": 8,
   "id": "99646b83",
   "metadata": {
    "vscode": {
     "languageId": "rust"
    }
   },
   "outputs": [
    {
     "name": "stdout",
     "output_type": "stream",
     "text": [
      "No pair found.\n"
     ]
    },
    {
     "data": {
      "text/plain": [
       "()"
      ]
     },
     "execution_count": 8,
     "metadata": {},
     "output_type": "execute_result"
    }
   ],
   "source": [
    "// 1st parameter is a slice (can be called with a reference to an array or a vector) \n",
    "fn pair_sum_sorted(nums: &[i32], target: i32) -> Option<(usize, usize)> {\n",
    "    let mut left = 0;\n",
    "    let mut right = nums.len().saturating_sub(1); // right = len - 1 or 0 if len-1 is negative\n",
    "\n",
    "    while left < right {\n",
    "        let sum = nums[left] + nums[right];\n",
    "        if sum < target {\n",
    "            left += 1;\n",
    "        } else if sum > target {\n",
    "            right -= 1;\n",
    "        } else {\n",
    "            // Success: return indices wrapped in Some (a tuple)\n",
    "            return Some((left, right));\n",
    "        }\n",
    "    }\n",
    "    // No valid pair found, return None\n",
    "    None\n",
    "}\n",
    "\n",
    "// Function that uses ? to propagate the Option\n",
    "fn intermediate_fn (nums: &[i32], target: i32) -> Option<(usize, usize)> {\n",
    "    let indices = pair_sum_sorted(nums, target)?; // If None, early return\n",
    "    Some(indices) // If Some, wrap and return\n",
    "}\n",
    "\n",
    "\n",
    "// fn main(){     // no main() if this code runs in a jupyter cell \n",
    "    let nums = [0, 1, 2, 4, 5, 6];\n",
    "    let target = 42;\n",
    "    match intermediate_fn(&nums, target) {\n",
    "        Some(indices) => println!(\"Found a pair : {:?}\", indices),\n",
    "        None => println!(\"No pair found.\"),\n",
    "    }\n",
    "// } "
   ]
  }
 ],
 "metadata": {
  "kernelspec": {
   "display_name": "Rust",
   "language": "rust",
   "name": "rust"
  },
  "language_info": {
   "codemirror_mode": "rust",
   "file_extension": ".rs",
   "mimetype": "text/rust",
   "name": "Rust",
   "pygment_lexer": "rust",
   "version": ""
  }
 },
 "nbformat": 4,
 "nbformat_minor": 5
}
