{
 "cells": [
  {
   "cell_type": "markdown",
   "id": "6aa308cf-d433-4aab-a40b-114125f39e33",
   "metadata": {},
   "source": [
    "# Is Palindrom Valid"
   ]
  },
  {
   "cell_type": "markdown",
   "id": "1980fe1d-39dd-4cbd-9d2c-5592cf0b8484",
   "metadata": {},
   "source": [
    "Given a string determine if it's a palindrome after removing all non-alphanumeric characters\n",
    "\n",
    "<span style=\"color:orange\"><b>The point:</b></span>    \n",
    "* Use two pointers (start, end).\n",
    "* They must match. We skip non-alphanumeric characters.\n",
    "* We must land on the same character or two identical characters before left > right.\n",
    "\n",
    "\n",
    "**Complexity :**\n",
    "\n",
    "| Time | Space |\n",
    "|------|-------|\n",
    "| O(n) | O(1)  |\n",
    "\n",
    "* Because we traverse the n-character string once and allocate a constant number of variables.\n",
    "\n",
    "\n",
    "\n",
    "\n",
    "\n",
    "**About Rust :**\n",
    "* **YES** : tested on the [Rust Playground](https://play.rust-lang.org/)\n",
    "\n",
    "<!-- <span style=\"color:red\"><b>TODO : </b></span> \n",
    "* Add comments in the source code        \n",
    " -->\n",
    "\n",
    "\n",
    "\n"
   ]
  },
  {
   "cell_type": "code",
   "execution_count": null,
   "id": "5c2ce638-2482-435d-b05e-d67717984b5c",
   "metadata": {
    "vscode": {
     "languageId": "rust"
    }
   },
   "outputs": [
    {
     "name": "stdout",
     "output_type": "stream",
     "text": [
      "true\n",
      "false\n",
      "true\n",
      "true\n",
      "true\n"
     ]
    }
   ],
   "source": [
    "fn is_palindrome_valid(s: &str) -> bool{\n",
    "    let s = s.to_lowercase();                   // s.to_ascii_lowercase();\n",
    "    let chars: Vec<char> = s.chars().collect(); // transforms the view into a vector of chars we can iterate on. \n",
    "                                                // s.chars() is an iterator\n",
    "                                                // .collect() transforms the iterator in a collection (otherwise nothing happens)\n",
    "    let mut left = 0;\n",
    "    let mut right = chars.len().saturating_sub(1); // right = len - 1 or 0 if len-1 is negative\n",
    "    \n",
    "    while left < right{\n",
    "        //skip non alphanumeric characters\n",
    "        while left < right && !chars[left].is_alphanumeric(){\n",
    "            left += 1;\n",
    "        }\n",
    "        //skip non alphanumeric characters\n",
    "        while left < right && !chars[right].is_alphanumeric(){\n",
    "            right -= 1;\n",
    "        }\n",
    "        //if does'nt match return false otherwise go forward\n",
    "        if chars[left] != chars[right]{\n",
    "            return false;\n",
    "        }\n",
    "        left += 1;\n",
    "        right -= 1;\n",
    "    }\n",
    "    true\n",
    "}\n",
    "\n",
    "// fn main(){     // no main() if this code runs in a jupyter cell \n",
    "    println!(\"{:?}\", is_palindrome_valid(\"abbabba\")); // true\n",
    "    println!(\"{:?}\", is_palindrome_valid(\"abbabbu\")); // false\n",
    "    println!(\"{:?}\", is_palindrome_valid(\"a man, a plan, a canal: panama\")); // true\n",
    "    println!(\"{:?}\", is_palindrome_valid(\"Madam, in Eden, I'm Adam\")); // true\n",
    "    println!(\"{:?}\", is_palindrome_valid(\"\")); // true\n",
    "// }"
   ]
  },
  {
   "cell_type": "markdown",
   "id": "8670d54b-8b76-4253-8871-856e2d064054",
   "metadata": {},
   "source": [
    "## An idea\n",
    "* No need to create a vector of chars locally\n",
    "* However, with huge strings, `Vec<char>` might be faster because of O(1) access "
   ]
  },
  {
   "cell_type": "code",
   "execution_count": 8,
   "id": "a562d7c3-c6f0-4697-b6ee-16adcf2f4213",
   "metadata": {
    "vscode": {
     "languageId": "rust"
    }
   },
   "outputs": [
    {
     "name": "stdout",
     "output_type": "stream",
     "text": [
      "true\n",
      "false\n",
      "true\n",
      "true\n",
      "true\n"
     ]
    }
   ],
   "source": [
    "fn is_palindrome_valid(s: &str) -> bool {\n",
    "    let s = s.to_lowercase();\n",
    "    let mut chars = s.chars().filter(|c| c.is_alphanumeric());\n",
    "    \n",
    "    while let (Some(left_char), Some(right_char)) = (chars.next(), chars.next_back()) {\n",
    "        if left_char != right_char {\n",
    "            return false;\n",
    "        }\n",
    "    }\n",
    "    true\n",
    "}\n",
    "// fn main(){\n",
    "    println!(\"{:?}\", is_palindrome_valid(\"abbabba\"));\n",
    "    println!(\"{:?}\", is_palindrome_valid(\"abbabbu\"));\n",
    "    println!(\"{:?}\", is_palindrome_valid(\"a man, a plan, a canal: panama\")); // true\n",
    "    println!(\"{:?}\", is_palindrome_valid(\"Madam, in Eden, I'm Adam\"));\n",
    "    println!(\"{:?}\", is_palindrome_valid(\"\"));\n",
    "// }"
   ]
  }
 ],
 "metadata": {
  "kernelspec": {
   "display_name": "Rust",
   "language": "rust",
   "name": "rust"
  },
  "language_info": {
   "codemirror_mode": "rust",
   "file_extension": ".rs",
   "mimetype": "text/rust",
   "name": "Rust",
   "pygment_lexer": "rust",
   "version": ""
  }
 },
 "nbformat": 4,
 "nbformat_minor": 5
}
