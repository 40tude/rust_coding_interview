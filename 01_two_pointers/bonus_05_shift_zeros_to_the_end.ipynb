{
 "cells": [
  {
   "cell_type": "markdown",
   "id": "682b18df-9b97-40b0-acb3-0fcdfa43cad0",
   "metadata": {},
   "source": [
    "# Shift zeros to the end"
   ]
  },
  {
   "cell_type": "markdown",
   "id": "1980fe1d-39dd-4cbd-9d2c-5592cf0b8484",
   "metadata": {},
   "source": [
    "Given an array of integers, modify the array in place to move all zeros to the end while maintaining the relative order of non-zero elements.\n",
    "\n",
    "<span style=\"color:orange\"><b>The point:</b></span>    \n",
    "* Use two staged pointers:\n",
    "    * 'left' points to the position where non-zero values should be placed\n",
    "    * 'right' points to non-zero values\n",
    "* Both pointers start at the left\n",
    "* Move 'right' to the first non-zero value\n",
    "* Swap values\n",
    "* Increment both pointers by +1\n",
    "* Move 'right' forward to the next non-zero value and repeat\n",
    "\n",
    "**Complexity :**\n",
    "\n",
    "| Time | Space |\n",
    "|------|-------|\n",
    "| O(n) | O(1)  |\n",
    "\n",
    "* Because we traverse the array once and shift values in place\n",
    "\n",
    "\n",
    "\n",
    "\n",
    "\n",
    "\n",
    "**About Rust :**\n",
    "* Pay attention to the mutability of the reference vs mutability of the binding. [Read this page](https://www.40tude.fr/docs/06_programmation/rust/004_mutability/mutability_us.html) if unsure.\n",
    "* **YES** : tested on the [Rust Playground](https://play.rust-lang.org/)\n",
    "\n",
    "\n",
    "\n"
   ]
  },
  {
   "cell_type": "markdown",
   "id": "c5b0fd47",
   "metadata": {},
   "source": [
    "## Works with arrays and vectors "
   ]
  },
  {
   "cell_type": "code",
   "execution_count": null,
   "id": "44e311df-7b15-4f22-8919-d77d6953b09b",
   "metadata": {
    "vscode": {
     "languageId": "rust"
    }
   },
   "outputs": [
    {
     "name": "stdout",
     "output_type": "stream",
     "text": [
      "[1, 5, 3, 12, 0, 0]\n",
      "[1, 3, 12, 0, 0]\n"
     ]
    }
   ],
   "source": [
    "// Here this is NOT the binding \"nums\" which is mutable, but the reference which allow us to modify the memory it points to\n",
    "fn shift_zeros_to_the_end(nums: &mut[i32]){\n",
    "    let mut left = 0;\n",
    "    for right in 0..nums.len(){\n",
    "        if nums[right] != 0 {\n",
    "            nums.swap(left, right);\n",
    "            left += 1;\n",
    "        }\n",
    "    }\n",
    "}\n",
    "\n",
    "// fn main(){     // no main() if this code runs in a jupyter cell \n",
    "    let mut bob = [1, 0, 5, 0, 3, 12];\n",
    "    shift_zeros_to_the_end(&mut bob);\n",
    "    println!(\"{:?}\", &bob);  // [1, 3, 12, 0, 0]\n",
    "    \n",
    "    let mut bob = vec![0, 1, 0, 3, 12];\n",
    "    shift_zeros_to_the_end(&mut bob);\n",
    "    println!(\"{:?}\", &bob);  // [1, 3, 12, 0, 0]\n",
    "// }"
   ]
  },
  {
   "cell_type": "markdown",
   "id": "1ffe83ad",
   "metadata": {},
   "source": [
    "## While loop rather than for loop"
   ]
  },
  {
   "cell_type": "code",
   "execution_count": 2,
   "id": "fa2daaa1-245f-459d-9851-f13e386d59a2",
   "metadata": {
    "vscode": {
     "languageId": "rust"
    }
   },
   "outputs": [
    {
     "name": "stdout",
     "output_type": "stream",
     "text": [
      "[1, 5, 3, 12, 0, 0]\n",
      "[1, 3, 12, 0, 0]\n"
     ]
    }
   ],
   "source": [
    "fn shift_zeros_to_the_end(nums: &mut Vec<i32>){\n",
    "    let mut left = 0;\n",
    "    let mut right = 0;\n",
    "    while right < nums.len(){\n",
    "        if nums[right] != 0{\n",
    "            nums.swap(left, right);\n",
    "            left += 1;\n",
    "        }\n",
    "        right += 1;\n",
    "    }\n",
    "}\n",
    "\n",
    "// fn main(){     // no main() if this code runs in a jupyter cell \n",
    "    let mut bob = vec![1, 0, 5, 0, 3, 12];\n",
    "    shift_zeros_to_the_end(&mut bob);\n",
    "    println!(\"{:?}\", &bob);  // [1, 5, 3, 12, 0, 0]\n",
    "\n",
    "    let mut bob = vec![0, 1, 0, 3, 12];\n",
    "    shift_zeros_to_the_end(&mut bob);\n",
    "    println!(\"{:?}\", &bob);  // [1, 3, 12, 0, 0]\n",
    "// }"
   ]
  }
 ],
 "metadata": {
  "kernelspec": {
   "display_name": "Rust",
   "language": "rust",
   "name": "rust"
  },
  "language_info": {
   "codemirror_mode": "rust",
   "file_extension": ".rs",
   "mimetype": "text/rust",
   "name": "Rust",
   "pygment_lexer": "rust",
   "version": ""
  }
 },
 "nbformat": 4,
 "nbformat_minor": 5
}
