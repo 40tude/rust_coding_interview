{
 "cells": [
  {
   "cell_type": "markdown",
   "id": "1980fe1d-39dd-4cbd-9d2c-5592cf0b8484",
   "metadata": {},
   "source": [
    "Given an array of integers, modify the array in place to move all zeros to the end while maintaining the relative order of non-zero elements.\n",
    "\n",
    "<span style=\"color:orange\"><b>The point:</b></span>    \n",
    "* Use two staged pointers:\n",
    "    * 'left' points to the position where non-zero values should be placed\n",
    "    * 'right' points to non-zero values\n",
    "* Both pointers start at the left\n",
    "* Move 'right' to the first non-zero value\n",
    "* Swap values\n",
    "* Increment both pointers by +1\n",
    "* Move 'right' forward to the next non-zero value and repeat\n",
    "\n",
    "**Complexity :**\n",
    "\n",
    "| Time | Space |\n",
    "|------|-------|\n",
    "| O(n) | O(1)  |\n",
    "\n",
    "* Because we traverse the array once and shift values in place\n"
   ]
  },
  {
   "cell_type": "code",
   "execution_count": 24,
   "id": "5355a11d-d317-4cf3-a5ff-2385872292d4",
   "metadata": {},
   "outputs": [
    {
     "name": "stdout",
     "output_type": "stream",
     "text": [
      "[1, 3, 12, 0, 0]\n"
     ]
    }
   ],
   "source": [
    "fn shift_zeros_to_the_end(nums: &mut[i32]){\n",
    "    let mut left = 0;\n",
    "    for right in 0..nums.len(){\n",
    "        if nums[right] != 0 {\n",
    "            nums.swap(left, right);\n",
    "            left += 1;\n",
    "        }\n",
    "    }\n",
    "}\n",
    "\n",
    "// main(){\n",
    "    let mut Bob = vec![0, 1, 0, 3, 12];\n",
    "    shift_zeros_to_the_end(&mut Bob);\n",
    "    println!(\"{:?}\", &Bob);  // [1, 3, 12, 0, 0]\n",
    "// }"
   ]
  }
 ],
 "metadata": {
  "kernelspec": {
   "display_name": "Rust",
   "language": "rust",
   "name": "rust"
  },
  "language_info": {
   "codemirror_mode": "rust",
   "file_extension": ".rs",
   "mimetype": "text/rust",
   "name": "Rust",
   "pygment_lexer": "rust",
   "version": ""
  }
 },
 "nbformat": 4,
 "nbformat_minor": 5
}
