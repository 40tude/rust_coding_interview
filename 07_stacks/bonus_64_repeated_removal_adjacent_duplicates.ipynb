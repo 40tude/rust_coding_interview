{
    "cells": [
        {
            "cell_type": "markdown",
            "id": "94586613-ae90-49c6-939f-0bf144eee5ca",
            "metadata": {},
            "source": [
                "# Repeated Removal of Adjacent Duplicates"
            ]
        },
        {
            "cell_type": "markdown",
            "id": "65cd6265-18c0-45ca-9f3b-024885b652ee",
            "metadata": {},
            "source": [
                "* Given a string, continually perform the following operation: \n",
                "* Remove pairs of adjacent duplicates from the string. \n",
                "* Continue performing this operation until the string no longer contains pairs of adjacent duplicates.\n",
                "* Return the final string.\n",
                "\n",
                "<span style=\"color:orange\"><b>The point:</b></span>\n",
                "* understand that both chars of the pair vanish (we don't even keep one char)\n",
                "* build the string character by character\n",
                "* immediately remove each pair that get formed as we build the string\n",
                "\n",
                "\n",
                "**Complexity :**\n",
                "\n",
                "| Time | Space |\n",
                "|------|-------|\n",
                "| O(n) | O(n)  |\n",
                "\n",
                "* O(n) because we travers the string and join up to n chars at the end. push/pop contributes 0(1) time\n",
                "* O(n) because the stack can store up to ``n`` chars \n",
                "\n",
                "**About Rust :**\n",
                "* **YES** : tested on the [Rust Playground](https://play.rust-lang.org/)\n",
                "\n",
                "<!-- \n",
                "<span style=\"color:red\"><b>TODO : </b></span> \n",
                "* Add comments in the source code        \n",
                " -->\n",
                "\n",
                "<!-- * <span style=\"color:lime\"><b>Preferred solution?</b></span>      -->\n"
            ]
        },
        {
            "cell_type": "code",
            "execution_count": null,
            "id": "0e4210b4",
            "metadata": {
                "vscode": {
                    "languageId": "rust"
                }
            },
            "outputs": [],
            "source": [
                "fn repeated_removal_of_adjacent_duplicates(s: &str) -> String{\n",
                "    let mut stack = Vec::new();\n",
                "    for c in s.chars(){\n",
                "        if !stack.is_empty() && c == *stack.last().unwrap(){\n",
                "            // Current character is the same as the one on top of the stack,\n",
                "            // This is a pair => pop the top character to make both disappear\n",
                "            stack.pop();\n",
                "        } else{\n",
                "            // Otherwise, push the current character onto the stack.\n",
                "            stack.push(c);\n",
                "        }\n",
                "    }\n",
                "    // Return the remaining characters as a string.\n",
                "    stack.into_iter().collect()\n",
                "}\n",
                "\n",
                "fn main(){     // no main() if this code runs in a Jupyter cell \n",
                "    println!(\"{:?}\", repeated_removal_of_adjacent_duplicates(\"aacabba\")); // \"c\"\n",
                "    println!(\"{:?}\", repeated_removal_of_adjacent_duplicates(\"aaa\")); // \"a\"\n",
                "    println!(\"{:?}\", repeated_removal_of_adjacent_duplicates(\"\")); // \"\"\n",
                "} // end of local scope OR end of main()       "
            ]
        }
    ],
    "metadata": {
        "kernelspec": {
            "display_name": "Rust",
            "language": "rust",
            "name": "rust"
        },
        "language_info": {
            "codemirror_mode": "rust",
            "file_extension": ".rs",
            "mimetype": "text/rust",
            "name": "Rust",
            "pygment_lexer": "rust",
            "version": ""
        }
    },
    "nbformat": 4,
    "nbformat_minor": 5
}
