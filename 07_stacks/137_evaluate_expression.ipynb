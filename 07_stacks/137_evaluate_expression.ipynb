{
 "cells": [
  {
   "cell_type": "markdown",
   "id": "94586613-ae90-49c6-939f-0bf144eee5ca",
   "metadata": {},
   "source": [
    "# Evaluate Expression"
   ]
  },
  {
   "cell_type": "markdown",
   "id": "65cd6265-18c0-45ca-9f3b-024885b652ee",
   "metadata": {},
   "source": [
    "Given a string representing expression\n",
    "* evaluate & return the value\n",
    "* may contain int, parentheses, addition and substraction\n",
    "\n",
    "<span style=\"color:orange\"><b>The point:</b></span>\n",
    "\n",
    "* Treat all expressions as ones of pure addition\n",
    "\n",
    "\n",
    "**Complexity :**\n",
    "\n",
    "| Time | Space |\n",
    "|------|-------|\n",
    "| O(n) | O(n)  |\n",
    "\n",
    "* O(n) because read each char once, process nested expressiond with stack and push/pop are 0(1)\n",
    "* O(n) because the stack can store up to ``n`` chars of the expression \n",
    "\n",
    "**About Rust :**\n",
    "* ``stack.pop()`` returns an ``Option<i32>``\n",
    "* **YES** : tested on the [Rust Playground](https://play.rust-lang.org/)\n",
    "\n",
    "<!-- \n",
    "<span style=\"color:red\"><b>TODO : </b></span> \n",
    "* Add comments in the source code        \n",
    " -->\n",
    "\n",
    "<!-- * <span style=\"color:lime\"><b>Preferred solution?</b></span>      -->\n"
   ]
  },
  {
   "cell_type": "code",
   "execution_count": null,
   "id": "0e4210b4",
   "metadata": {
    "vscode": {
     "languageId": "rust"
    }
   },
   "outputs": [],
   "source": [
    "fn evaluate_expression(s: &str) -> i32 {\n",
    "    let mut stack = Vec::new();\n",
    "    let (mut curr_num, mut sign, mut res) = (0, 1, 0);\n",
    "    for c in s.chars(){\n",
    "        if c.is_digit(10){\n",
    "            curr_num = curr_num * 10 + c.to_digit(10).unwrap() as i32;\n",
    "        }else if c == '+' || c == '-'{ // Current char is an op\n",
    "            // Update current value of res \n",
    "            res += curr_num * sign;\n",
    "            // reset 'curr_num' & update the sign\n",
    "            curr_num = 0;\n",
    "            sign = match c{\n",
    "                '-' => -1,\n",
    "                 _ => 1\n",
    "            };\n",
    "        } else if c == '('{ // Current character is an opening parenthesis\n",
    "            // Save current 'res' and 'sign' on stack \n",
    "            // reset their values to calculate the nested expression.\n",
    "            stack.push(res);\n",
    "            stack.push(sign);\n",
    "            res = 0;\n",
    "            sign = 1;\n",
    "        }else if c == ')'{ // Current character is a closing parenthesis\n",
    "            // Update current value of res\n",
    "            res += sign * curr_num;\n",
    "            // Multiply with sign before parenthesis\n",
    "            res *= stack.pop().expect(\"Missing sign\"); // pop returns Option<i32>\n",
    "            // Add result before parenthesis\n",
    "            res += stack.pop().expect(\"Missing previous result\");\n",
    "            curr_num = 0;\n",
    "        }\n",
    "    }\n",
    "    // Update value of the expression\n",
    "    res + curr_num * sign\n",
    "}\n",
    "\n",
    "fn main(){     // no main() if this code runs in a jupyter cell \n",
    "    println!(\"{:?}\", evaluate_expression(\"18-(7+(2-4))\")); // 13\n",
    "    println!(\"{:?}\", evaluate_expression(\"\"));\n",
    "} // end of local scope OR end of main()       \n"
   ]
  }
 ],
 "metadata": {
  "kernelspec": {
   "display_name": "Rust",
   "language": "rust",
   "name": "rust"
  },
  "language_info": {
   "codemirror_mode": "rust",
   "file_extension": ".rs",
   "mimetype": "text/rust",
   "name": "Rust",
   "pygment_lexer": "rust",
   "version": ""
  }
 },
 "nbformat": 4,
 "nbformat_minor": 5
}
