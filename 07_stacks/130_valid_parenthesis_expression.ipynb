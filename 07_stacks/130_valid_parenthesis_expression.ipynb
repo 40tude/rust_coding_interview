{
    "cells": [
        {
            "cell_type": "markdown",
            "id": "94586613-ae90-49c6-939f-0bf144eee5ca",
            "metadata": {},
            "source": [
                "# Valid Parenthesis Expression"
            ]
        },
        {
            "cell_type": "markdown",
            "id": "65cd6265-18c0-45ca-9f3b-024885b652ee",
            "metadata": {},
            "source": [
                "Given a string made of the following symbols : `(`, `)`, `[`, `]`, `{`, `}` \n",
                "* Determine if it is well formed\n",
                "* A sequence is valid when every open symbol is paired with a close symbol\n",
                "\n",
                "<span style=\"color:orange\"><b>The point:</b></span>\n",
                "\n",
                "* The most recent opening symbol should be the first that gets closed\n",
                "* LIFO\n",
                "\n",
                "\n",
                "**Complexity :**\n",
                "\n",
                "| Time | Space |\n",
                "|------|-------|\n",
                "| O(n) | O(1)  |\n",
                "\n",
                "* O(n) because we traverse the string once\n",
                "* O(1) because in place \n",
                "\n",
                "**About Rust :**\n",
                "* `stack.push()`, `stack.pop()`, `stack.is_empty()`\n",
                "* **YES** : tested on the [Rust Playground](https://play.rust-lang.org/)\n",
                "\n",
                "<!-- \n",
                "<span style=\"color:red\"><b>TODO : </b></span> \n",
                "* Add comments in the source code        \n",
                " -->\n",
                "\n",
                "\n",
                "<!-- * <span style=\"color:lime\"><b>Preferred solution?</b></span>      -->\n"
            ]
        },
        {
            "cell_type": "code",
            "execution_count": null,
            "id": "827322a3-66be-4684-bba5-3dcf31aaca4a",
            "metadata": {
                "vscode": {
                    "languageId": "rust"
                }
            },
            "outputs": [
                {
                    "name": "stdout",
                    "output_type": "stream",
                    "text": [
                        "2\n",
                        "4\n",
                        "0\n",
                        "7\n"
                    ]
                }
            ],
            "source": [
                "use std::collections::HashMap;\n",
                "\n",
                "fn valid_parenthesis_expression(s: &str) -> bool {\n",
                "    let parenthesis_map = HashMap::from([\n",
                "        ('(', ')'),\n",
                "        ('{', '}'),\n",
                "        ('[', ']'),\n",
                "    ]);\n",
                "    let mut stack = Vec::new();\n",
                "\n",
                "    for c in s.chars() {\n",
                "        // If current char is an opening symbol, push it\n",
                "        if parenthesis_map.contains_key(&c) {\n",
                "            stack.push(c);\n",
                "        }\n",
                "        // If current char is a closing symbol check that it closes the current opening\n",
                "        else {\n",
                "            match stack.pop() {\n",
                "                Some(open) => {\n",
                "                    if parenthesis_map[&open] != c {\n",
                "                        return false;\n",
                "                    }\n",
                "                }\n",
                "                None => return false,\n",
                "            }\n",
                "        }\n",
                "    }\n",
                "\n",
                "    // If the stack is empty the expression is valid\n",
                "    stack.is_empty()\n",
                "}\n",
                "\n",
                "// fn main(){     // no main() if this code runs in a Jupyter cell \n",
                "    println!(\"{}\", valid_parenthesis_expression(\"([]{})\"));  // true\n",
                "    println!(\"{}\", valid_parenthesis_expression(\"([]{)}\"));  // false\n",
                "// } // end of local scope OR end of main()       \n",
                "            "
            ]
        }
    ],
    "metadata": {
        "kernelspec": {
            "display_name": "Rust",
            "language": "rust",
            "name": "rust"
        },
        "language_info": {
            "codemirror_mode": "rust",
            "file_extension": ".rs",
            "mimetype": "text/rust",
            "name": "Rust",
            "pygment_lexer": "rust",
            "version": ""
        }
    },
    "nbformat": 4,
    "nbformat_minor": 5
}