{
 "cells": [
  {
   "cell_type": "markdown",
   "id": "94586613-ae90-49c6-939f-0bf144eee5ca",
   "metadata": {},
   "source": [
    "# Next Largest Number to the Right"
   ]
  },
  {
   "cell_type": "markdown",
   "id": "65cd6265-18c0-45ca-9f3b-024885b652ee",
   "metadata": {},
   "source": [
    "Given an array of int `nums`\n",
    "* return an output array `res` where ``res[i]`` is the first number larger than ``nums[i]`` that can be found to the right in ``nums``\n",
    "* if no larger number exists to the right => -1\n",
    "\n",
    "<span style=\"color:orange\"><b>The point:</b></span>\n",
    "\n",
    "* Start on the right\n",
    "* Check if the value is the next largest number for any value(s) to its left\n",
    "\n",
    "\n",
    "**Complexity :**\n",
    "\n",
    "| Time | Space |\n",
    "|------|-------|\n",
    "| O(n) | O(n)  |\n",
    "\n",
    "* O(n) because each values from ``nums`` is push/pop once\n",
    "* O(n) because the stack can store up to ``n`` values \n",
    "\n",
    "**About Rust :**\n",
    "* `for i in (0..nums.len()).rev()`\n",
    "* **YES** : tested on the [Rust Playground](https://play.rust-lang.org/)\n",
    "\n",
    "<!-- \n",
    "<span style=\"color:red\"><b>TODO : </b></span> \n",
    "* Add comments in the source code        \n",
    " -->"
   ]
  },
  {
   "cell_type": "code",
   "execution_count": null,
   "id": "0e4210b4",
   "metadata": {
    "vscode": {
     "languageId": "rust"
    }
   },
   "outputs": [],
   "source": [
    "fn next_largest_number_to_the_right(nums: &[i32]) -> Vec<i32> {\n",
    "    let mut res = vec![0; nums.len()];\n",
    "    let mut stack = Vec::new();\n",
    "    \n",
    "    // start from the right\n",
    "    for i in (0..nums.len()).rev() {\n",
    "        // remove values smaller (equal) to current value\n",
    "        while !stack.is_empty() && *stack.last().unwrap() <= nums[i] {\n",
    "            stack.pop();\n",
    "        }\n",
    "        \n",
    "        // record current value's next largest number or -1 if the stack is empty\n",
    "        res[i] = if !stack.is_empty() {\n",
    "            *stack.last().unwrap()\n",
    "        } else {\n",
    "            -1\n",
    "        };\n",
    "        \n",
    "        stack.push(nums[i]);\n",
    "    }\n",
    "    \n",
    "    res\n",
    "}\n",
    "\n",
    "fn main(){     // no main() if this code runs in a jupyter cell \n",
    "    println!(\"{:?}\", next_largest_number_to_the_right(&[5, 2, 4, 6, 1]));\n",
    "    println!(\"{:?}\", next_largest_number_to_the_right(&vec![5, 2, 4, 6, 1]));\n",
    "    println!(\"{:?}\", next_largest_number_to_the_right(&[]));\n",
    "} // end of local scope OR end of main()       \n"
   ]
  }
 ],
 "metadata": {
  "kernelspec": {
   "display_name": "Rust",
   "language": "rust",
   "name": "rust"
  },
  "language_info": {
   "codemirror_mode": "rust",
   "file_extension": ".rs",
   "mimetype": "text/rust",
   "name": "Rust",
   "pygment_lexer": "rust",
   "version": ""
  }
 },
 "nbformat": 4,
 "nbformat_minor": 5
}
