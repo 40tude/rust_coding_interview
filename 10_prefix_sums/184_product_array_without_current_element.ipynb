{
    "cells": [
        {
            "cell_type": "markdown",
            "id": "94586613-ae90-49c6-939f-0bf144eee5ca",
            "metadata": {},
            "source": [
                "# Product Array Without Current Element"
            ]
        },
        {
            "cell_type": "markdown",
            "id": "65cd6265-18c0-45ca-9f3b-024885b652ee",
            "metadata": {},
            "source": [
                "<div align=\"center\">\n",
                "<img src=\"../assets/chap_10.webp\" alt=\"\" width=\"300\" loading=\"lazy\"/>\n",
                "</div>\n",
                "\n",
                "* Given an array of i32 return an array so that result[i] is equal to the product of all the elements except nums[i] itself\n",
                "\n",
                "**Example :**\n",
                "- In = [2, 3, 1, 4, 5]\n",
                "- Out = [60, 40, 120, 30, 24]\n",
                "\n",
                "<span style=\"color:orange\"><b>The point:</b></span>\n",
                "\n",
                "* ...\n",
                "\n",
                "**Complexity :**\n",
                "\n",
                "| Time        | Space |\n",
                "|-------------|-------|\n",
                "| O(n)        | O(1)  |\n",
                "\n",
                "* O(n) because we iterate over the input array twice \n",
                "* O(1) because the output array is NOT included in space complexity analysis\n",
                "\n",
                "\n",
                "**About Rust :**\n",
                "* `for i in (0..n).rev(){`\n",
                "* **YES** : tested on the [Rust Playground](https://play.rust-lang.org/)\n",
                "\n",
                "<!-- \n",
                "<span style=\"color:red\"><b>TODO : </b></span> \n",
                "* Add comments in the source code        \n",
                " -->\n",
                "\n",
                "<!-- * <span style=\"color:lime\"><b>Preferred solution?</b></span>      -->\n"
            ]
        },
        {
            "cell_type": "code",
            "execution_count": null,
            "id": "59e624e1",
            "metadata": {
                "vscode": {
                    "languageId": "rust"
                }
            },
            "outputs": [],
            "source": [
                "fn product_array_without_current_element(nums : &[i32]) -> Vec<i32>{\n",
                "    let n = nums.len();\n",
                "    let mut res = vec![1; n];\n",
                "    // populate the output with the running left product\n",
                "    for i in 1..n {\n",
                "        res[i] = res[i-1] * nums[i-1];\n",
                "    }\n",
                "\n",
                "    // multiply the output with running right product\n",
                "    let mut right_product = 1;\n",
                "    for i in (0..n).rev(){\n",
                "        res[i] *= right_product;\n",
                "        right_product *=nums[i];\n",
                "    }\n",
                "    res\n",
                "}\n",
                "\n",
                "fn main(){   // no main() if this code runs in a Jupyter cell \n",
                "    println!(\"{:?}\", product_array_without_current_element(&[2, 3, 1, 4, 5])); // [60, 40, 120, 30, 24]\n",
                "    println!(\"{:?}\", product_array_without_current_element(&[42])); // [1]\n",
                "    println!(\"{:?}\", product_array_without_current_element(&[])); // []\n",
                "    // println!(\"{:?}\", product_array_without_current_element(&[i32::MAX, 2])); // panic\n",
                "} // end of local scope OR end of main()       "
            ]
        },
        {
            "cell_type": "markdown",
            "id": "6dbb92ad",
            "metadata": {},
            "source": [
                "## V2\n",
                "\n",
                "* Manage overflow during multiplications\n",
                "    * Returns ``None`` if overflow\n",
                "* => Now `product_array_without_current_element` returns ``Option<T>``\n",
                "\n",
                "\n",
                "**About Rust :**\n",
                "* `result = my_value.checked_mul(your_value)?;`\n",
                "    * watch the `?`\n",
                "    * the function returns ``Option<T>``\n",
                "* `.checked_mul()` force us to specify type of `res` and `right_product`\n",
                "* <span style=\"color:lime\"><b>Preferred solution?</b></span> \n",
                "* **YES** : tested on the [Rust Playground](https://play.rust-lang.org/)"
            ]
        },
        {
            "cell_type": "code",
            "execution_count": null,
            "id": "620afeb5",
            "metadata": {
                "vscode": {
                    "languageId": "rust"
                }
            },
            "outputs": [],
            "source": [
                "fn product_array_without_current_element(nums: &[i32]) -> Option<Vec<i32>> {\n",
                "    let n = nums.len();\n",
                "    let mut res : Vec<i32> = vec![1; n];\n",
                "    \n",
                "    // Left pass\n",
                "    for i in 1..n {\n",
                "        res[i] = res[i - 1].checked_mul(nums[i - 1])?;\n",
                "    }\n",
                "\n",
                "    // Right pass\n",
                "    let mut right_product:i32 = 1;\n",
                "    for i in (0..n).rev() {\n",
                "        res[i] = res[i].checked_mul(right_product)?;\n",
                "        right_product = right_product.checked_mul(nums[i])?;\n",
                "    }\n",
                "    Some(res)\n",
                "}\n",
                "\n",
                "fn main(){   // no main() if this code runs in a Jupyter cell \n",
                "    println!(\"{:?}\", product_array_without_current_element(&[2, 3, 1, 4, 5])); // [60, 40, 120, 30, 24]\n",
                "    println!(\"{:?}\", product_array_without_current_element(&[42])); // [1]\n",
                "    println!(\"{:?}\", product_array_without_current_element(&[])); // []\n",
                "    println!(\"{:?}\", product_array_without_current_element(&[i32::MAX, 2])); // None (overflow)\n",
                "} // end of local scope OR end of main()       "
            ]
        }
    ],
    "metadata": {
        "kernelspec": {
            "display_name": "Rust",
            "language": "rust",
            "name": "rust"
        },
        "language_info": {
            "codemirror_mode": "rust",
            "file_extension": ".rs",
            "mimetype": "text/rust",
            "name": "Rust",
            "pygment_lexer": "rust",
            "version": ""
        }
    },
    "nbformat": 4,
    "nbformat_minor": 5
}
