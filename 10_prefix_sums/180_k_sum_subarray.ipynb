{
    "cells": [
        {
            "cell_type": "markdown",
            "id": "94586613-ae90-49c6-939f-0bf144eee5ca",
            "metadata": {},
            "source": [
                "# K-Sum Subarray"
            ]
        },
        {
            "cell_type": "markdown",
            "id": "65cd6265-18c0-45ca-9f3b-024885b652ee",
            "metadata": {},
            "source": [
                "<div align=\"center\">\n",
                "<img src=\"../assets/chap_10.webp\" alt=\"\" width=\"300\" loading=\"lazy\"/>\n",
                "</div>\n",
                "\n",
                "* Find the number of subarrays in an array of i32 that sum to `k`\n",
                "\n",
                "\n",
                "\n",
                "<span style=\"color:orange\"><b>The point:</b></span>\n",
                "\n",
                "* prepend the prefix-sum array with 0\n",
                "* iterate from 1 because 0 was added\n",
                "\n",
                "**Complexity :**\n",
                "\n",
                "| Time        | Space |\n",
                "|-------------|-------|\n",
                "| O(n²)        | O(n)  |\n",
                "\n",
                "* O(n²) because we iterate through each value in 2 nested loops. Brute force would be O(n3)\n",
                "* O(n) because of space taken by the hash map\n",
                "\n",
                "\n",
                "\n",
                "**About Rust :**\n",
                "* **YES** : tested on the [Rust Playground](https://play.rust-lang.org/)\n",
                "\n",
                "<!-- \n",
                "<span style=\"color:red\"><b>TODO : </b></span> \n",
                "* Add comments in the source code        \n",
                " -->\n",
                "\n",
                "<!-- * <span style=\"color:lime\"><b>Preferred solution?</b></span>      -->\n"
            ]
        },
        {
            "cell_type": "code",
            "execution_count": null,
            "id": "59e624e1",
            "metadata": {
                "vscode": {
                    "languageId": "rust"
                }
            },
            "outputs": [],
            "source": [
                "fn k_sum_subarrays(nums : &[i32], k:i32) -> usize {\n",
                "    let n = nums.len();\n",
                "\n",
                "    // Populate prefix sum array, setting its first element to 0\n",
                "    let mut prefix_sums = Vec::with_capacity(n+1);\n",
                "    prefix_sums.push(0);\n",
                "    let mut current = 0;\n",
                "    for &num in nums {\n",
                "        current += num;\n",
                "        prefix_sums.push(current);\n",
                "    }\n",
                "    \n",
                "    // loop trough valid pairs of prefix_sum values to find all subarray summing to `k`  \n",
                "    let mut count = 0;\n",
                "    for j in 1..n+1{\n",
                "        for i in 1..j+1{\n",
                "            if prefix_sums[j] - prefix_sums[i-1] == k {\n",
                "                count += 1 ;\n",
                "            }\n",
                "        }\n",
                "    }\n",
                "    count\n",
                "}\n",
                "\n",
                "fn main(){   // no main() if this code runs in a Jupyter cell \n",
                "    println!(\"{:?}\", k_sum_subarrays(&vec![1, 2, -1, 1, 2], 3));    // 3\n",
                "    println!(\"{:?}\", k_sum_subarrays(&[1, 2, -1, 1, 2], 3));        // 3\n",
                "} // end of local scope OR end of main()       "
            ]
        },
        {
            "cell_type": "markdown",
            "id": "928417cc",
            "metadata": {},
            "source": [
                "## Optimization\n",
                "\n",
                "<span style=\"color:orange\"><b>The point:</b></span>\n",
                "\n",
                "* store encountered prefix sum in a hash map\n",
                "* we can then in constant time check if ``curr_prefix_sum - 1`` was encountered\n",
                "\n",
                "**Complexity :**\n",
                "\n",
                "| Time        | Space |\n",
                "|-------------|-------|\n",
                "| O(n)        | O(n)  |\n",
                "\n",
                "* O(n) because we iterate through each value \n",
                "* O(n) because of space taken by the hash map\n",
                "\n",
                "**About Rust :**\n",
                "* `count += *prefix_sum_map.get(&(my_key)).unwrap_or(&0);` \n",
                "* **YES** : tested on the [Rust Playground](https://play.rust-lang.org/)\n"
            ]
        },
        {
            "cell_type": "code",
            "execution_count": null,
            "id": "249e1081",
            "metadata": {
                "vscode": {
                    "languageId": "rust"
                }
            },
            "outputs": [],
            "source": [
                "use std::collections::HashMap;\n",
                "\n",
                "fn k_sum_subarrays_optimized(nums : &[i32], k:i32) -> usize {\n",
                "    // Initialize the hash map with 0 to handle subarrays\n",
                "    // that sum to `k` from the start of the array\n",
                "    let mut prefix_sum_map = HashMap::new();\n",
                "    prefix_sum_map.insert(0, 1);\n",
                "\n",
                "    // Populate prefix sum array, setting its first element to 0\n",
                "    // let mut prefix_sums = Vec::with_capacity(nums.len()+1);\n",
                "    // prefix_sums.push[0];\n",
                "    let mut curr_prefix_sum = 0;\n",
                "    let mut count = 0;\n",
                "    for &num in nums {\n",
                "        // update running prefix by adding current number\n",
                "        curr_prefix_sum += num;\n",
                "\n",
                "        // If a subarray with sum `k` exists, \n",
                "        // increment `count` by the number of times it has been found\n",
                "        count += *prefix_sum_map.get(&(curr_prefix_sum - k)).unwrap_or(&0);\n",
                "\n",
                "        // Udate the frequency of `curr_prefix_sum` in the hash map\n",
                "        let freq = *prefix_sum_map.get(&curr_prefix_sum).unwrap_or(&0);\n",
                "        prefix_sum_map.insert(curr_prefix_sum, freq+1);\n",
                "    }\n",
                "    count\n",
                "}\n",
                "\n",
                "fn main(){   // no main() if this code runs in a Jupyter cell \n",
                "    println!(\"{:?}\", k_sum_subarrays_optimized(&vec![1, 2, -1, 1, 2], 3));  // 3\n",
                "    println!(\"{:?}\", k_sum_subarrays_optimized(&[1, 2, -1, 1, 2], 3));      // 3\n",
                "} // end of local scope OR end of main()       "
            ]
        }
    ],
    "metadata": {
        "kernelspec": {
            "display_name": "Rust",
            "language": "rust",
            "name": "rust"
        },
        "language_info": {
            "codemirror_mode": "rust",
            "file_extension": ".rs",
            "mimetype": "text/rust",
            "name": "Rust",
            "pygment_lexer": "rust",
            "version": ""
        }
    },
    "nbformat": 4,
    "nbformat_minor": 5
}
