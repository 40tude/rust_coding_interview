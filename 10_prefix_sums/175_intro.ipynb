{
 "cells": [
  {
   "cell_type": "markdown",
   "id": "def30702-8ae5-4ec4-b248-010c10fae022",
   "metadata": {},
   "source": [
    "# Introduction"
   ]
  },
  {
   "cell_type": "markdown",
   "id": "f494d9ab",
   "metadata": {},
   "source": [
    "**Complexity :**\n",
    "\n",
    "| Time     | Space |\n",
    "|----------|-------|\n",
    "| O(n)     | O(n)  |\n",
    "\n",
    "* O(n) because we sum over n values\n",
    "* O(n) because of space used to holds the n sums\n",
    "\n",
    "\n",
    "**About Rust :**\n",
    "* **YES** : tested on the [Rust Playground](https://play.rust-lang.org/)\n"
   ]
  },
  {
   "cell_type": "markdown",
   "id": "799d7cf9",
   "metadata": {},
   "source": [
    "## V1"
   ]
  },
  {
   "cell_type": "code",
   "execution_count": null,
   "id": "06cedf45-cced-4f37-bcf1-1c0e3663dd2c",
   "metadata": {
    "vscode": {
     "languageId": "rust"
    }
   },
   "outputs": [],
   "source": [
    "fn compute_prefix_sum(nums:&[i32])->Vec<i32>{\n",
    "    let mut prefix_sums = Vec::with_capacity(nums.len());\n",
    "    if !nums.is_empty() {\n",
    "        prefix_sums.push(nums[0]);\n",
    "        for i in 1..nums.len(){\n",
    "            prefix_sums.push(prefix_sums[i-1] + nums[i] )  \n",
    "        }\n",
    "    }\n",
    "    prefix_sums\n",
    "}\n",
    "\n",
    "fn main(){   \n",
    "    println!(\"{:?}\", compute_prefix_sum(&[10, 15, 20, 10, 5])); //[10, 25, 45, 55, 60]\n",
    "    println!(\"{:?}\", compute_prefix_sum(&[])); //[]\n",
    "}   "
   ]
  },
  {
   "cell_type": "markdown",
   "id": "31ea06a3",
   "metadata": {},
   "source": [
    "## V2\n",
    "* Better"
   ]
  },
  {
   "cell_type": "code",
   "execution_count": null,
   "id": "24b198e3",
   "metadata": {
    "vscode": {
     "languageId": "rust"
    }
   },
   "outputs": [],
   "source": [
    "fn compute_prefix_sum(nums: &[i32]) -> Vec<i32> {\n",
    "    let mut prefix_sums = Vec::with_capacity(nums.len());\n",
    "    let mut current = 0;\n",
    "    \n",
    "    for &num in nums {\n",
    "        current += num;\n",
    "        prefix_sums.push(current);\n",
    "    }\n",
    "    prefix_sums\n",
    "}\n",
    "\n",
    "fn main(){   \n",
    "    println!(\"{:?}\", compute_prefix_sum(&[10, 15, 20, 10, 5])); //[10, 25, 45, 55, 60]\n",
    "    println!(\"{:?}\", compute_prefix_sum(&[])); //[]\n",
    "}   "
   ]
  }
 ],
 "metadata": {
  "kernelspec": {
   "display_name": "Rust",
   "language": "rust",
   "name": "rust"
  },
  "language_info": {
   "codemirror_mode": "rust",
   "file_extension": ".rs",
   "mimetype": "text/rust",
   "name": "Rust",
   "pygment_lexer": "rust",
   "version": ""
  }
 },
 "nbformat": 4,
 "nbformat_minor": 5
}
