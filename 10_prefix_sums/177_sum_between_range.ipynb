{
    "cells": [
        {
            "cell_type": "markdown",
            "id": "94586613-ae90-49c6-939f-0bf144eee5ca",
            "metadata": {},
            "source": [
                "# Sum Between Range"
            ]
        },
        {
            "cell_type": "markdown",
            "id": "65cd6265-18c0-45ca-9f3b-024885b652ee",
            "metadata": {},
            "source": [
                "* Given an array of i32 return the sum of vals between 2 indexes\n",
                "* You can assume\n",
                "    * Array is not empty\n",
                "    * Ranges are valid\n",
                "\n",
                "\n",
                "<span style=\"color:orange\"><b>The point:</b></span>\n",
                "\n",
                "* Pre processing in constructor\n",
                "* ``sum[i, j] = prefix_sums[j] - prefix_sums[i-1]`` .NOT ``i`` but ``i-1``\n",
                "\n",
                "\n",
                "**Complexity :**\n",
                "\n",
                "| Time        | Space |\n",
                "|-------------|-------|\n",
                "| O(n) & O(1) | O(n)  |\n",
                "\n",
                "* O(n) because constructor in 0(n) \n",
                "* O(1) because ``.sum_range()`` is in O(1)\n",
                "* O(n) because of space needed to holds up to n sums\n",
                "\n",
                "\n",
                "**About Rust :**\n",
                "* No need for `assert!(nums.len()>0, \"Invalid length\");`\n",
                "* No need for `assert!(i <= j && j < self.prefix_sums.len(), \"Invalid indexes\");`\n",
                "* **YES** : tested on the [Rust Playground](https://play.rust-lang.org/)\n",
                "\n",
                "<!-- \n",
                "<span style=\"color:red\"><b>TODO : </b></span> \n",
                "* Add comments in the source code        \n",
                " -->\n",
                "\n",
                "<!-- * <span style=\"color:lime\"><b>Preferred solution?</b></span>      -->\n"
            ]
        },
        {
            "cell_type": "code",
            "execution_count": null,
            "id": "59e624e1",
            "metadata": {
                "vscode": {
                    "languageId": "rust"
                }
            },
            "outputs": [],
            "source": [
                "struct SumBetweenRange {\n",
                "    prefix_sums : Vec<i32>,\n",
                "}\n",
                "\n",
                "impl SumBetweenRange {\n",
                "    fn new(nums : &[i32]) -> Self {\n",
                "\n",
                "        let mut prefix_sums = Vec::with_capacity(nums.len());\n",
                "        let mut current = 0;\n",
                "    \n",
                "        for &num in nums {\n",
                "            current += num;\n",
                "            prefix_sums.push(current);\n",
                "        }\n",
                "        Self { prefix_sums }\n",
                "    }\n",
                "\n",
                "    fn sum_range(&self, i : usize, j : usize) -> i32{\n",
                "        if i == 0 {\n",
                "            self.prefix_sums[j]\n",
                "        }else{\n",
                "            self.prefix_sums[j] - self.prefix_sums[i-1] // NOT i but i-1\n",
                "        }\n",
                "    }\n",
                "\n",
                "}\n",
                "\n",
                "\n",
                "fn main(){   // no main() if this code runs in a Jupyter cell \n",
                "    let input = SumBetweenRange::new(&[3, -7, 6, 0, -2, 5]);\n",
                "\n",
                "    println!(\"{:?}\", input.sum_range(0, 3)); // 2\n",
                "    println!(\"{:?}\", input.sum_range(2, 4)); // 4\n",
                "    println!(\"{:?}\", input.sum_range(2, 2)); // 6\n",
                "} // end of local scope OR end of main()       "
            ]
        }
    ],
    "metadata": {
        "kernelspec": {
            "display_name": "Rust",
            "language": "rust",
            "name": "rust"
        },
        "language_info": {
            "codemirror_mode": "rust",
            "file_extension": ".rs",
            "mimetype": "text/rust",
            "name": "Rust",
            "pygment_lexer": "rust",
            "version": ""
        }
    },
    "nbformat": 4,
    "nbformat_minor": 5
}
