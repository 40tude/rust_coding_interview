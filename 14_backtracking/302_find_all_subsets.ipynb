{
 "cells": [
  {
   "cell_type": "markdown",
   "id": "94586613-ae90-49c6-939f-0bf144eee5ca",
   "metadata": {},
   "source": [
    "# Find All Subsets"
   ]
  },
  {
   "cell_type": "markdown",
   "id": "65cd6265-18c0-45ca-9f3b-024885b652ee",
   "metadata": {},
   "source": [
    "<div align=\"center\">\n",
    "<img src=\"../assets/chap_14.webp\" alt=\"\" width=\"300\" loading=\"lazy\"/>\n",
    "</div>\n",
    "\n",
    "* Return all possible subset of a given set of i32\n",
    "* Each subset can be ordered\n",
    "* Subset can be returns in any order\n",
    "\n",
    "<span style=\"color:orange\"><b>The point:</b></span>\n",
    "\n",
    "* Starting with [], each subset is created by including/excluding each number of the input\n",
    "* backtracking\n",
    "\n",
    "**Complexity :**\n",
    "\n",
    "| Time        | Space |\n",
    "|-------------|-------|\n",
    "| O(n x 2^n)  | O(n)  |\n",
    "\n",
    "* O(n x 2^n) in time because the state space has a depth of n (and 2 branches each time). For each of the 2^n subsets we add a copy of each in O(n) => O(n x 2^n) \n",
    "* O(n) in space because n is the max depth of the recursion tree. We keep track of curr_subset data structure in O(n). The result array is not taken into account.\n",
    "\n",
    "\n",
    "\n",
    "**About Rust :**\n",
    "* **YES** : tested on the [Rust Playground](https://play.rust-lang.org/)\n",
    "\n",
    "\n",
    "\n",
    "\n",
    "\n",
    "\n",
    "<!-- <span style=\"color:red\"><b>TODO : </b></span> \n",
    "* Add comments in code -->\n",
    "\n",
    "\n",
    "<!-- * <span style=\"color:lime\"><b>Preferred solution?</b></span>      -->\n",
    "\n"
   ]
  },
  {
   "cell_type": "code",
   "execution_count": null,
   "id": "cd43545b",
   "metadata": {
    "vscode": {
     "languageId": "rust"
    }
   },
   "outputs": [],
   "source": [
    "fn backtrack(i: usize, curr_subset: &mut Vec<i32>, nums: &[i32], res: &mut Vec<Vec<i32>>) {\n",
    "    // base case : if all elements have been considered, add the current subset to res\n",
    "    if i == nums.len() {\n",
    "        res.push(curr_subset.clone()); // cannot push curr_subset (it is used afterward) so we push a clone of it\n",
    "        return;\n",
    "    }\n",
    "    // include the current element and recursively explore all paths that branch from this subset\n",
    "    curr_subset.push(nums[i]);\n",
    "    backtrack(i + 1, curr_subset, nums, res);\n",
    "    // exclude the current element and recursively  explore all paths that branch from this subset\n",
    "    curr_subset.pop();\n",
    "    backtrack(i + 1, curr_subset, nums, res);\n",
    "}\n",
    "\n",
    "fn find_all_subsets(nums: &[i32]) -> Vec<Vec<i32>> {\n",
    "    let mut res = Vec::new();\n",
    "    backtrack(0, &mut vec![], nums, &mut res);\n",
    "    res\n",
    "}\n",
    "\n",
    "// no main() if this code runs in a Jupyter cell\n",
    "fn main() {\n",
    "    let nums = vec![4, 5, 6];\n",
    "    let subsets = find_all_subsets(&nums);\n",
    "    for subset in subsets {\n",
    "        print!(\"{:?} - \", subset); // [4, 5, 6] - [4, 5] - [4, 6] - [4] - [5, 6] - [5] - [6] - [] - \n",
    "    }\n",
    "} // end of local scope OR end of main()\n"
   ]
  }
 ],
 "metadata": {
  "kernelspec": {
   "display_name": "Rust",
   "language": "rust",
   "name": "rust"
  },
  "language_info": {
   "codemirror_mode": "rust",
   "file_extension": ".rs",
   "mimetype": "text/rust",
   "name": "Rust",
   "pygment_lexer": "rust",
   "version": ""
  }
 },
 "nbformat": 4,
 "nbformat_minor": 5
}
