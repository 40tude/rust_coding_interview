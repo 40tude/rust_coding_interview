{
 "cells": [
  {
   "cell_type": "markdown",
   "id": "94586613-ae90-49c6-939f-0bf144eee5ca",
   "metadata": {},
   "source": [
    "# Find All Permutations"
   ]
  },
  {
   "cell_type": "markdown",
   "id": "65cd6265-18c0-45ca-9f3b-024885b652ee",
   "metadata": {},
   "source": [
    "<div align=\"center\">\n",
    "<img src=\"../assets/chap_14.webp\" alt=\"\" width=\"300\" loading=\"lazy\"/>\n",
    "</div>\n",
    "\n",
    "* Return all permutations of a given array of unique i32. \n",
    "* They can be returned in any order\n",
    "\n",
    "<span style=\"color:orange\"><b>The point:</b></span>\n",
    "\n",
    "* All \n",
    "* Backtracking\n",
    "\n",
    "**Complexity :**\n",
    "\n",
    "| Time        | Space |\n",
    "|-------------|-------|\n",
    "| O(n x n!)   | O(n)  |\n",
    "\n",
    "* O(n x n!) in time because from root explore n options. Then for each option we explore n-1 then n-2... options => n!. We then make a copy in O(n) => O(n x n!)\n",
    "* O(n) in space because the max depth of the recursion tree. We keep track of used data structures and candidates in O(n). The result array is not taken into account.\n",
    "\n",
    "\n",
    "\n",
    "\n",
    "\n",
    "\n",
    "\n",
    "\n",
    "\n",
    "<!-- <span style=\"color:red\"><b>TODO : </b></span> \n",
    "* Add comments in code -->\n",
    "\n",
    "\n",
    "<!-- * <span style=\"color:lime\"><b>Preferred solution?</b></span>      -->\n",
    "\n"
   ]
  },
  {
   "cell_type": "markdown",
   "id": "dbcd051a",
   "metadata": {
    "vscode": {
     "languageId": "rust"
    }
   },
   "source": [
    "## V1\n",
    "\n",
    "* First implementation\n",
    "\n",
    "**About Rust :**\n",
    "* `use std::collections::HashSet;`\n",
    "    * `let my_set = HashSet::new();`\n",
    "    * ``my_set.contains(&my_value)``\n",
    "    * ``my_set.insert(my_value)``\n",
    "    * ``my_set.remove(&my_value)``\n",
    "* **YES** : tested on the [Rust Playground](https://play.rust-lang.org/)\n"
   ]
  },
  {
   "cell_type": "code",
   "execution_count": null,
   "id": "cd43545b",
   "metadata": {
    "vscode": {
     "languageId": "rust"
    }
   },
   "outputs": [],
   "source": [
    "use std::collections::HashSet;\n",
    "\n",
    "fn backtrack(nums: &[i32], candidate: &mut Vec<i32>, used: &mut HashSet<i32>, res: &mut Vec<Vec<i32>>) {\n",
    "    // if current candidate is a complete permutation add it to the result\n",
    "    if candidate.len() == nums.len() {\n",
    "        res.push(candidate.clone()); // cannot push candidate (it is used afterward) so we push a clone of it\n",
    "        return;\n",
    "    }\n",
    "    for &num in nums {\n",
    "        if !used.contains(&num) {\n",
    "            // Add num to the permutation and mark it as used\n",
    "            candidate.push(num);\n",
    "            used.insert(num);\n",
    "            // Recursively  explore all branches using updated permutation candidate\n",
    "            backtrack(nums, candidate, used, res);\n",
    "            // Backtrack by reversing the changes made\n",
    "            candidate.pop();\n",
    "            used.remove(&num);\n",
    "        }\n",
    "    }\n",
    "}\n",
    "\n",
    "fn find_all_permutations(nums: &[i32]) -> Vec<Vec<i32>> {\n",
    "    let mut res = Vec::new();\n",
    "    backtrack(nums, &mut vec![], &mut HashSet::new(), &mut res);\n",
    "    res\n",
    "}\n",
    "\n",
    "// no main() if this code runs in a Jupyter cell\n",
    "fn main() {\n",
    "    let nums = vec![4, 5, 6];\n",
    "    let permutations = find_all_permutations(&nums);\n",
    "    for permutation in &permutations {\n",
    "        print!(\"{:?} - \", permutation); // [4, 5, 6] - [4, 6, 5] - [5, 4, 6] - [5, 6, 4] - [6, 4, 5] - [6, 5, 4] - \n",
    "    }\n",
    "} // end of local scope OR end of main()\n"
   ]
  },
  {
   "cell_type": "markdown",
   "id": "7c79ee4f",
   "metadata": {},
   "source": [
    "## V2\n",
    "\n",
    "* No hashset\n",
    "* Work in place\n",
    "* Swap in 0(1)\n",
    "* Still cloning but nums, not candidate "
   ]
  },
  {
   "cell_type": "code",
   "execution_count": null,
   "id": "91d5db59",
   "metadata": {
    "vscode": {
     "languageId": "rust"
    }
   },
   "outputs": [],
   "source": [
    "fn backtrack(nums: &mut Vec<i32>, start: usize, res: &mut Vec<Vec<i32>>) {\n",
    "    // if current candidate is a complete permutation add it to the result\n",
    "    if start == nums.len() {\n",
    "        res.push(nums.clone()); // unavoidable here unless we return Vec<&[i32]>\n",
    "        return;\n",
    "    }\n",
    "    for i in start..nums.len() {\n",
    "        nums.swap(start, i);\n",
    "        backtrack(nums, start + 1, res);\n",
    "        nums.swap(start, i); // backtrack\n",
    "    }\n",
    "}\n",
    "\n",
    "fn find_all_permutations(nums: &[i32]) -> Vec<Vec<i32>> {\n",
    "    let mut res = Vec::new();\n",
    "    let mut nums = nums.to_vec();\n",
    "    backtrack(&mut nums, 0, &mut res);\n",
    "    res\n",
    "}\n",
    "\n",
    "// no main() if this code runs in a Jupyter cell\n",
    "fn main() {\n",
    "    let nums = vec![4, 5, 6];\n",
    "    let permutations = find_all_permutations(&nums);\n",
    "    for permutation in &permutations {\n",
    "        print!(\"{:?} - \", permutation); // [4, 5, 6] - [4, 6, 5] - [5, 4, 6] - [5, 6, 4] - [6, 4, 5] - [6, 5, 4] - \n",
    "    }\n",
    "} // end of local scope OR end of main()\n"
   ]
  }
 ],
 "metadata": {
  "kernelspec": {
   "display_name": "Rust",
   "language": "rust",
   "name": "rust"
  },
  "language_info": {
   "codemirror_mode": "rust",
   "file_extension": ".rs",
   "mimetype": "text/rust",
   "name": "Rust",
   "pygment_lexer": "rust",
   "version": ""
  }
 },
 "nbformat": 4,
 "nbformat_minor": 5
}
