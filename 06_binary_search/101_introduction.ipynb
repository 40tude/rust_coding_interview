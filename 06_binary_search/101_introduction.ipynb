{
 "cells": [
  {
   "cell_type": "markdown",
   "id": "0a2a5fa7-4857-48df-a0c1-bd9adc839351",
   "metadata": {},
   "source": [
    "# Introduction\n",
    "If sorted data set => binary tree\n",
    "1. Define search space\n",
    "    * sorted\n",
    "    * set left and right ptr\n",
    "1. Narrowing the search space\n",
    "    * move ptr inward until only one element remains\n",
    "    * moves are based on the **value @ mid point** (1/2 of search space)\n",
    "    * if the searched value is on the right of mid, move left ptr to the right (resp right ptr to the left)\n",
    "        1. left = mid+1 if value @ mid **cannot** be the searched value (resp. right = mid-1)\n",
    "        1. left = mid   if value @ mid **could** be the searched value (resp. right = mid)\n",
    "    * mid = left + (right-left)//2 (avoid overflow)\n",
    "1. Choose an exit condition for the **while loop**\n",
    "    * ``while left <  right`` ends when ``left = right`` (right=left=searched value)\n",
    "    * ``while left <= right`` ends when ``left > right`` (left surpassed right) \n",
    "1. Return the correct value\n",
    "    * return either value @ left or right\n",
    "\n",
    "## Checklist \n",
    "* 1 - **Sorted search space**\n",
    "* 2 - **Narrowing search space**\n",
    "* 3 - **Choose an exit condition for the while loop**\n",
    "* 4 - **Return the correct value**\n"
   ]
  }
 ],
 "metadata": {
  "kernelspec": {
   "display_name": "Rust",
   "language": "rust",
   "name": "rust"
  },
  "language_info": {
   "codemirror_mode": "rust",
   "file_extension": ".rs",
   "mimetype": "text/rust",
   "name": "Rust",
   "pygment_lexer": "rust",
   "version": ""
  }
 },
 "nbformat": 4,
 "nbformat_minor": 5
}
