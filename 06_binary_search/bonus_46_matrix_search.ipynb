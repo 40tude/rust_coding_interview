{
    "cells": [
        {
            "cell_type": "markdown",
            "id": "5bc00bd1-feba-4bb2-add6-682179446400",
            "metadata": {},
            "source": [
                "# Matrix Search"
            ]
        },
        {
            "cell_type": "markdown",
            "id": "d7517791-98e0-4738-95d9-aea9481c5abd",
            "metadata": {},
            "source": [
                "* Determine if a target value exists in a matrix. \n",
                "* Each row of the matrix is sorted in non-decreasing order\n",
                "* The first value of each row is greater than or equal to the last value of the previous row\n",
                "\n",
                "\n",
                "<span style=\"color:orange\"><b>The point:</b></span>\n",
                "* all values in a given row are greater than or equal to all values in the previous row. \n",
                "* think about flatten C array in memory where cell(r, c) map to r*n + c\n",
                "* i in flatten array => r = i//n c = I%n\n",
                "\n",
                "\n",
                "\n",
                "Brute force does not take advantage of the sorted rows\n",
                "Building a flatten ordered array take O(m x n) in time and O(m x n) in space \n",
                "\n",
                "\n",
                "\n",
                "**Checklist**\n",
                "* **1 - Sorted Search space**\n",
                "    * [0, m x n-1]\n",
                "* **2 - Narrow search space**\n",
                "    * p 48\n",
                "    * mid = (left + right) // 2\n",
                "    * r = mid//n c = mid%n\n",
                "    * matrxi[r][c] < target => left  = mid + 1\n",
                "    * matrxi[r][c] > target => right = mid - 1\n",
                "* **3 - Choose an exit condition for the while loop**\n",
                "    * while left <= right\n",
                "* **4 - Return the correct value** \n",
                "    * true or false\n",
                "\n",
                "\n",
                "**Complexity :**\n",
                "\n",
                "| Time | Space |\n",
                "|------|-------|\n",
                "| O(log(m x n)) | O(1)  |\n",
                "\n",
                "* O(log(m x n)) because the binary search space is of size mxn\n",
                "* O(1) because in place \n",
                "\n",
                "\n",
                "**About Rust :**\n",
                "* `fn matrix_search(matrix: &[Vec<i32>], target: i32)` rather than `fn matrix_search(matrix: &Vec<Vec<i32>>, target: i32)`\n",
                "* `match matrix[r][c].cmp(&target)`\n",
                "* <span style=\"color:lime\"><b>Preferred solution?</b></span> \n",
                "* **YES** : tested on the [Rust Playground](https://play.rust-lang.org/)\n",
                "\n",
                "<!-- <span style=\"color:red\"><b>TODO : </b></span> \n",
                "* Add comments in the source code        \n",
                " -->\n",
                "\n",
                "\n",
                "<!-- * <span style=\"color:lime\"><b>Preferred solution?</b></span>      -->\n"
            ]
        },
        {
            "cell_type": "code",
            "execution_count": 22,
            "id": "42b89ef3-b57c-4d87-8623-82bc02c603fa",
            "metadata": {
                "vscode": {
                    "languageId": "rust"
                }
            },
            "outputs": [
                {
                    "name": "stdout",
                    "output_type": "stream",
                    "text": [
                        "true\n",
                        "false\n",
                        "false\n",
                        "false\n"
                    ]
                }
            ],
            "source": [
                "fn matrix_search(matrix: &[Vec<i32>], target: i32) -> bool {\n",
                "    if matrix.is_empty() || matrix[0].is_empty() {\n",
                "        return false;\n",
                "    }\n",
                "    \n",
                "    let(m, n) = (matrix.len(), matrix[0].len());\n",
                "    let (mut left, mut right) = (0, m * n - 1);\n",
                "    \n",
                "    while left <= right {\n",
                "        let mid = left + (right - left) / 2;\n",
                "        let (r, c) = (mid / n, mid % n);\n",
                "        match matrix[r][c].cmp(&target) {\n",
                "            std::cmp::Ordering::Equal => return true,\n",
                "            std::cmp::Ordering::Greater => right = mid - 1,\n",
                "            std::cmp::Ordering::Less => left = mid + 1,\n",
                "        }\n",
                "    }\n",
                "    false\n",
                "}\n",
                "\n",
                "// fn main(){     // no main() if this code runs in a Jupyter cell \n",
                "    println!(\"{:?}\", matrix_search(&[vec![2, 3, 4, 6], vec![7, 10, 11, 17], vec![20, 21, 24, 33]], 21)); // true \n",
                "    println!(\"{:?}\", matrix_search(&[vec![2, 3, 4, 6], vec![7, 10, 11, 17], vec![20, 21, 24, 33]], 22)); // false\n",
                "    println!(\"{:?}\", matrix_search(&[vec![]], 1)); // false\n",
                "    println!(\"{:?}\", matrix_search(&[], 1)); // false\n",
                "// }"
            ]
        },
        {
            "cell_type": "markdown",
            "id": "ebd6c7c4-99c0-494b-8ef5-ee6f9bc244af",
            "metadata": {},
            "source": [
                "## First implementation\n",
                "\n",
                "**About Rust :**\n",
                "* This code panic with empty matrix\n",
                "* No need for `&vec![...`, ``&[`` is enough\n",
                "* **YES** : tested on the [Rust Playground](https://play.rust-lang.org/)"
            ]
        },
        {
            "cell_type": "code",
            "execution_count": 21,
            "id": "04cf5b7f-dbbf-413e-ae6f-afe4605feb65",
            "metadata": {
                "vscode": {
                    "languageId": "rust"
                }
            },
            "outputs": [
                {
                    "name": "stderr",
                    "output_type": "stream",
                    "text": [
                        "\n",
                        "thread '<unnamed>' panicked at src/lib.rs:4:37:\n",
                        "attempt to subtract with overflow\n",
                        "stack backtrace:\n",
                        "   0: rust_begin_unwind\n",
                        "             at /rustc/4eb161250e340c8f48f66e2b929ef4a5bed7c181/library/std/src/panicking.rs:692:5\n",
                        "   1: core::panicking::panic_fmt\n",
                        "             at /rustc/4eb161250e340c8f48f66e2b929ef4a5bed7c181/library/core/src/panicking.rs:75:14\n",
                        "   2: core::panicking::panic_const::panic_const_sub_overflow\n",
                        "             at /rustc/4eb161250e340c8f48f66e2b929ef4a5bed7c181/library/core/src/panicking.rs:178:21\n",
                        "   3: <unknown>\n",
                        "   4: <unknown>\n",
                        "   5: <unknown>\n",
                        "   6: evcxr::runtime::Runtime::run_loop\n",
                        "   7: evcxr::runtime::runtime_hook\n",
                        "   8: evcxr_jupyter::main\n",
                        "note: Some details are omitted, run with `RUST_BACKTRACE=full` for a verbose backtrace.\n"
                    ]
                },
                {
                    "name": "stdout",
                    "output_type": "stream",
                    "text": [
                        "true\n",
                        "false\n"
                    ]
                }
            ],
            "source": [
                "fn matrix_search(matrix: &[Vec<i32>], target: i32) -> bool{\n",
                "    let(m, n) = (matrix.len(), matrix[0].len());\n",
                "    let (mut left, mut right) = (0, m * n - 1);\n",
                "    while left <= right{\n",
                "        let mid = left + (right - left) / 2;\n",
                "        let (r, c) = (mid/n, mid%n);\n",
                "        if matrix[r][c] == target{\n",
                "            return true;\n",
                "        }else if matrix[r][c] > target{\n",
                "            right = mid - 1;\n",
                "        }else{\n",
                "            left = mid + 1;\n",
                "        }\n",
                "    }\n",
                "    false\n",
                "}\n",
                "// fn main() {\n",
                "    println!(\"{:?}\", matrix_search(&vec![vec![2, 3, 4, 6], vec![7, 10, 11, 17], vec![20, 21, 24, 33]], 21)); // true \n",
                "    println!(\"{:?}\", matrix_search(&vec![vec![2, 3, 4, 6], vec![7, 10, 11, 17], vec![20, 21, 24, 33]], 22)); // false  \n",
                "    println!(\"{:?}\", matrix_search(&[vec![]], 1)); // false\n",
                "    println!(\"{:?}\", matrix_search(&[], 1)); // false\n",
                "// }"
            ]
        }
    ],
    "metadata": {
        "kernelspec": {
            "display_name": "Rust",
            "language": "rust",
            "name": "rust"
        },
        "language_info": {
            "codemirror_mode": "rust",
            "file_extension": ".rs",
            "mimetype": "text/rust",
            "name": "Rust",
            "pygment_lexer": "rust",
            "version": ""
        }
    },
    "nbformat": 4,
    "nbformat_minor": 5
}