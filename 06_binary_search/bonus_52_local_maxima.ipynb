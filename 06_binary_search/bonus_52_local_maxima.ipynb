{
    "cells": [
        {
            "cell_type": "markdown",
            "id": "5bc00bd1-feba-4bb2-add6-682179446400",
            "metadata": {},
            "source": [
                "# Local Maxima"
            ]
        },
        {
            "cell_type": "markdown",
            "id": "d7517791-98e0-4738-95d9-aea9481c5abd",
            "metadata": {},
            "source": [
                "<div align=\"center\">\n",
                "<img src=\"../assets/chap_06.webp\" alt=\"\" width=\"300\" loading=\"lazy\"/>\n",
                "</div>\n",
                "\n",
                "* A local maxima is a value greater than both its immediate neighbors. \n",
                "* Return any local maxima in an array. \n",
                "* You may assume that an element is always considered to be strictly greater than a neighbor that is outside the array.\n",
                "\n",
                "<span style=\"color:orange\"><b>The point:</b></span>\n",
                "\n",
                "* if the number (at index i + 1) is greater than the current, there’s definitely a local maxima somewhere to the right of i.\n",
                "* if the number (at index i + 1) is lower   than the current, i can be a local maxima or the local maxime is on the left of i\n",
                "* we can then narrow the search toward the direction of the maxima\n",
                "\n",
                "Brute force linearly search for a local maxima by iteratively comparing each value to its neighbors and returning the first local maxima we find. \n",
                "Since we can return any maxima, there’s likely a more efficient approach.\n",
                "There is no adjacent duplicate => always contains at least one local max\n",
                "\n",
                "**Checklist**\n",
                "* **1 - Sorted Search space**\n",
                "    * [0, n-1]\n",
                "* **2 - Narrow search space**\n",
                "    * p 54\n",
                "    * evaluate val @ mid compare with val @ mid+1\n",
                "    * update right (or left)\n",
                "* **3 - Choose an exit condition for the while loop**\n",
                "    * left < right\n",
                "* **4 - Return the correct value** \n",
                "    * return left (or right)\n",
                "\n",
                "\n",
                "**Complexity :**\n",
                "\n",
                "| Time | Space |\n",
                "|------|-------|\n",
                "| O(log(n)) | O(1)  |\n",
                "\n",
                "* O(log(n)) because the search space is of size n\n",
                "* O(1) because in place \n",
                "\n",
                "**About Rust :**\n",
                "* returns `Option<usize>` because array argument may have no lenght\n",
                "* **YES** : tested on the [Rust Playground](https://play.rust-lang.org/)\n",
                "\n",
                "<!-- <span style=\"color:red\"><b>TODO : </b></span> \n",
                "* Add comments in the source code        \n",
                " -->\n",
                "\n",
                "\n",
                "<!-- * <span style=\"color:lime\"><b>Preferred solution?</b></span>      -->\n"
            ]
        },
        {
            "cell_type": "code",
            "execution_count": null,
            "id": "04cf5b7f-dbbf-413e-ae6f-afe4605feb65",
            "metadata": {
                "vscode": {
                    "languageId": "rust"
                }
            },
            "outputs": [
                {
                    "name": "stdout",
                    "output_type": "stream",
                    "text": [
                        "Some(1)\n",
                        "None\n",
                        "Some(2)\n"
                    ]
                }
            ],
            "source": [
                "fn local_maxima_in_array(nums: &[i32]) -> Option<usize> {\n",
                "    if nums.is_empty() {\n",
                "        return None;\n",
                "    }\n",
                "    let (mut left, mut right) = (0, nums.len() - 1);\n",
                "    while left < right {\n",
                "        let mid = (left + right)/2;\n",
                "        if nums[mid] > nums[mid + 1] {\n",
                "            right = mid;\n",
                "        }else{\n",
                "            left = mid + 1;\n",
                "        }\n",
                "    }\n",
                "    Some(left)\n",
                "}\n",
                "\n",
                "// fn main(){     // no main() if this code runs in a Jupyter cell \n",
                "    println!(\"{:?}\", local_maxima_in_array(&[1, 4, 3, 2, 3])); // 1, 4 is also acceptable\n",
                "    println!(\"{:?}\", local_maxima_in_array(&[])); // None\n",
                "    println!(\"{:?}\", local_maxima_in_array(&[1, 1, 1])); // any index is acceptable\n",
                "// }"
            ]
        }
    ],
    "metadata": {
        "kernelspec": {
            "display_name": "Rust",
            "language": "rust",
            "name": "rust"
        },
        "language_info": {
            "codemirror_mode": "rust",
            "file_extension": ".rs",
            "mimetype": "text/rust",
            "name": "Rust",
            "pygment_lexer": "rust",
            "version": ""
        }
    },
    "nbformat": 4,
    "nbformat_minor": 5
}
