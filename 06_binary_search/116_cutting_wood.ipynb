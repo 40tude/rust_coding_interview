{
 "cells": [
  {
   "cell_type": "markdown",
   "id": "94586613-ae90-49c6-939f-0bf144eee5ca",
   "metadata": {},
   "source": [
    "# Cutting Wood"
   ]
  },
  {
   "cell_type": "markdown",
   "id": "65cd6265-18c0-45ca-9f3b-024885b652ee",
   "metadata": {},
   "source": [
    "* Given an array representing the heights of trees and ``k`` an integer representing the lenght of wood to be cut\n",
    "* H the height of the cutting machine which cut top part of the trees  \n",
    "* Determine the highest H value to cut at least k m of wood\n",
    "\n",
    "\n",
    "<span style=\"color:orange\"><b>The point:</b></span>\n",
    "\n",
    "* binary search problem where the search space **does not** encompass the input array\n",
    "* p 118  \n",
    "    1. we move form the space of trees heights to the space of heights of cutting tool (H) \n",
    "    1. this space is effectively sorted (True, False) so that we can use binary search\n",
    "    1. we search for the upper bound where the condition is True\n",
    "* search for upper bound => biased mid = 1 + (left+right)//2\n",
    "\n",
    "\n",
    "\n",
    "**Checklist**\n",
    "\n",
    "* **1 - Sorted search space**\n",
    "    * H [0, height of tallest tree]\n",
    "\n",
    "* **2 - Narrow search space**\n",
    "    * if val @ mid < target => right = mid - 1\n",
    "    * if val @ mid >= target => left = mid \n",
    "* **3 - Choose an exit condition for the while loop**\n",
    "    * when left == right\n",
    "* **4 - Return the correct value**\n",
    "    * left or right\n",
    "\n",
    "\n",
    "**Complexity :**\n",
    "\n",
    "| Time | Space |\n",
    "|------|-------|\n",
    "| O(log(n)) | O(1)  |\n",
    "\n",
    "* O(log(n)) because the search space is of size n\n",
    "* O(1) because in place \n",
    "\n",
    "\n",
    "<!-- <span style=\"color:red\"><b>TODO : </b></span> \n",
    "* Add comments in the source code        \n",
    " -->\n",
    "\n",
    "\n",
    "\n",
    "**About Rust :**\n",
    "* `let max_height = heights.iter().max().copied().unwrap_or(0); `\n",
    "* `heights.iter().max()` provide an `Option<&i32>` then `.copied()` converts `Option<&i32>` in `Option<i32>`\n",
    "\n"
   ]
  },
  {
   "cell_type": "code",
   "execution_count": 9,
   "id": "45350cf6",
   "metadata": {
    "vscode": {
     "languageId": "rust"
    }
   },
   "outputs": [
    {
     "name": "stdout",
     "output_type": "stream",
     "text": [
      "3\n"
     ]
    }
   ],
   "source": [
    "fn cuts_enough_wood(heights:&[i32], k:i32, H : i32) -> bool{\n",
    "    let mut wood_collected = 0;\n",
    "    for height in heights{\n",
    "        if *height > H {\n",
    "            wood_collected += height - H;\n",
    "        }\n",
    "    }\n",
    "    wood_collected >= k\n",
    "}\n",
    "\n",
    "fn upper_bound_binary_search(heights:&[i32], k:i32) -> i32{\n",
    "    let max_height = heights.iter().max().copied().unwrap_or(0); \n",
    "    let (mut left, mut right) = (0, max_height);\n",
    "    while left < right{\n",
    "        let mid = 1 + left + (right - left) / 2 ;\n",
    "        if cuts_enough_wood(heights, k, mid){\n",
    "            left = mid;\n",
    "        }else{\n",
    "            right = mid - 1;\n",
    "        }    \n",
    "    }    \n",
    "    right \n",
    "}\n",
    "\n",
    "// fn main(){     // no main() if this code runs in a jupyter cell \n",
    "    println!(\"{:?}\", upper_bound_binary_search(&[2, 6, 3, 8], 7)); // 3\n",
    "// } // end of local scope OR end of main()       \n"
   ]
  }
 ],
 "metadata": {
  "kernelspec": {
   "display_name": "Rust",
   "language": "rust",
   "name": "rust"
  },
  "language_info": {
   "codemirror_mode": "rust",
   "file_extension": ".rs",
   "mimetype": "text/rust",
   "name": "Rust",
   "pygment_lexer": "rust",
   "version": ""
  }
 },
 "nbformat": 4,
 "nbformat_minor": 5
}
