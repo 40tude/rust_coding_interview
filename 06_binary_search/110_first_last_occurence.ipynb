{
 "cells": [
  {
   "cell_type": "markdown",
   "id": "94586613-ae90-49c6-939f-0bf144eee5ca",
   "metadata": {},
   "source": [
    "# First and Last Occurence of a Number"
   ]
  },
  {
   "cell_type": "markdown",
   "id": "65cd6265-18c0-45ca-9f3b-024885b652ee",
   "metadata": {},
   "source": [
    "Given an array sorted in non-decreasing order return the first and last indexes of a target number, `[-1, -1]` otherwise\n",
    "\n",
    "<span style=\"color:orange\"><b>The point:</b></span>\n",
    "* Sorted array => think about binary search\n",
    "* We must find 2 occurrences\n",
    "    * find lower bound\n",
    "    * find upper bound\n",
    "* In upper-bound binary search => bias the midpoint to the right. `mid = 1 + (left+right)//2`\n",
    "\n",
    "### Checklist : Find lower bound\n",
    "* **1 - Sorted search space**\n",
    "    * [0, n-1]\n",
    "* **2 - Narrow search space**\n",
    "    * we are seeking for the leftmost occurrence\n",
    "    * if value @ mid > target => target is on the left of mid => move right ptr inward => right = mid - 1\n",
    "    * if value @ mid < target => target in on the right of mid => move left ptr inward => left = mid + 1\n",
    "    * if value @ mid == target => 2 options : mid = lowerbound or mid is not yet the lowerbound (lowerbound is still on the left)\n",
    "        * right = mid\n",
    "* **3 - Choose an exit condition for the while loop**\n",
    "    * exit when left==right  => while left < right\n",
    "* **4 - Return the correct value**\n",
    "    * return left (or right)\n",
    "\n",
    "### Checklist : Find upper bound \n",
    "* **1 - Sorted search space**\n",
    "    * [0, n-1]\n",
    "* **2 - Narrow search space**\n",
    "    * we are seeking for the rightmost occurrence\n",
    "    * if value @ mid > target => target is on the left of mid => move right ptr inward => right = mid - 1\n",
    "    * if value @ mid < target => target in on the right of mid => move left ptr inward => left = mid + 1\n",
    "    * if value @ mid == target => 2 options : mid = upperbound or mid is not yet the upperbound (upperbound is still on the right)\n",
    "        * left = mid\n",
    "        * Infinite loop see p 113\n",
    "        * bias the midpoint to the right. `mid = 1 + (left+right)//2`\n",
    "* **3 - Choose an exit condition for the while loop**\n",
    "    * exit when left==right => while left < right\n",
    "* **4 - Return the correct value**\n",
    "    * return right (or left)\n",
    "\n",
    "\n",
    "\n",
    "**Complexity :**\n",
    "\n",
    "| Time | Space |\n",
    "|------|-------|\n",
    "| O(log(n)) | O(1)  |\n",
    "\n",
    "* O(log(n)) because the search space is of size n\n",
    "* O(1) because in place \n",
    "\n",
    "**About Rust :**\n",
    "* I assume the array is NOT empty (one can check `nums.is_empty()` otherwise) \n",
    "* I spent way too much time on a issue I did'nt realize when I was using Python\n",
    "    * Indeed with `right = mid - 1;` the index `right` may become negative.\n",
    "    * And in Python it is OK to look at ``nums[-1]`` and if this happen, `if nums[right] == target` \"works\" in Python and panic in Rust\n",
    "    * This explain the `right = mid.checked_sub(1).unwrap_or(0);` \n",
    "* **YES** : tested on the [Rust Playground](https://play.rust-lang.org/)\n",
    "\n",
    "<!-- <span style=\"color:red\"><b>TODO : </b></span> \n",
    "* Add comments in the source code        \n",
    " -->"
   ]
  },
  {
   "cell_type": "code",
   "execution_count": 83,
   "id": "a6632eda-b9bd-4582-909c-6cc127efbf35",
   "metadata": {
    "vscode": {
     "languageId": "rust"
    }
   },
   "outputs": [
    {
     "name": "stdout",
     "output_type": "stream",
     "text": [
      "(Some(3), Some(5))\n",
      "(None, None)\n",
      "(Some(12), Some(12))\n",
      "(None, None)\n",
      "(None, None)\n"
     ]
    }
   ],
   "source": [
    "fn lower_bound_binary_search(nums: &[i32], target: i32) -> Option<usize> {\n",
    "    let (mut left, mut right) = (0, nums.len() - 1);\n",
    "    while left < right {\n",
    "        let mid = left + (right - left) / 2;\n",
    "        if nums[mid] > target{\n",
    "            // right = mid - 1; // right can be negative in Python, not in Rust\n",
    "            right = mid.checked_sub(1).unwrap_or(0); // avoid underflow and exclude midpoint from the search space\n",
    "        }else if nums[mid] < target{\n",
    "            left = mid + 1;  // exclude midpoint from the search space\n",
    "        }else{\n",
    "            right = mid; // narrow the search space toward the left\n",
    "        }\n",
    "    }\n",
    "    if nums[left] == target { Some(left) } else { None }\n",
    "}\n",
    "\n",
    "fn upper_bound_binary_search(nums:&[i32], target:i32) -> Option<usize>{\n",
    "    let(mut left, mut right) = (0, nums.len() - 1);   \n",
    "    while left < right{\n",
    "        let mid = 1 + left + (right - left) / 2; // biasing midpoint to the right\n",
    "        if nums[mid] > target{\n",
    "            // right = mid - 1; // right can be negative in Python, not in Rust\n",
    "            right = mid.checked_sub(1).unwrap_or(0); // avoid underflow and exclude midpoint from the search space\n",
    "        }else if nums[mid] < target{\n",
    "            left = mid + 1; // exclude midpoint from the search space\n",
    "        }else{\n",
    "            left = mid; // narrow the search space toward the left\n",
    "        }\n",
    "    }\n",
    "    if nums[right] == target { Some(right) } else { None }\n",
    "}\n",
    "\n",
    "fn first_last_occurrences(nums:&[i32], target:i32) -> (Option<usize>, Option<usize>){\n",
    "    (lower_bound_binary_search(nums, target), upper_bound_binary_search(nums, target))\n",
    "}\n",
    "\n",
    "// fn main(){     // no main() if this code runs in a jupyter cell \n",
    "    println!(\"{:?}\", first_last_occurrences(&[1, 2, 3, 4, 4, 4, 5, 6, 6, 8, 9, 10, 11], 4)); // (Some(3), Some(5))\n",
    "    println!(\"{:?}\", first_last_occurrences(&[1, 2, 3, 4, 4, 4, 5, 6, 6, 8, 9, 10, 11], 7)); // (None, None)\n",
    "    println!(\"{:?}\", first_last_occurrences(&[1, 2, 3, 4, 4, 4, 5, 6, 6, 8, 9, 10, 11], 11)); // (Some(12), Some(12))\n",
    "    println!(\"{:?}\", first_last_occurrences(&[1, 2, 3, 4, 4, 4, 5, 6, 6, 8, 9, 10, 11], 42)); // (None, None)\n",
    "    println!(\"{:?}\", first_last_occurrences(&[1, 2, 3, 4, 4, 4, 5, 6, 6, 8, 9, 10, 11], 0)); // (None, None)\n",
    "// } // end of local scope OR end of main()       \n"
   ]
  },
  {
   "cell_type": "code",
   "execution_count": null,
   "id": "dc162544-fb19-4308-b179-5a6e8f72f88f",
   "metadata": {
    "vscode": {
     "languageId": "rust"
    }
   },
   "outputs": [],
   "source": [
    "    // prettier printing ?\n",
    "    let (lower, upper) = first_last_occurrences(&[1, 2, 3, 4, 4, 4, 5, 6, 7, 8, 9, 10, 11], 4); // (3, 5)\n",
    "    match (lower, upper) {\n",
    "        (Some(l), Some(u)) => println!(\"({}, {})\", l, u),\n",
    "        _ => println!(\"(None, None)\"),\n",
    "    }"
   ]
  },
  {
   "cell_type": "code",
   "execution_count": null,
   "id": "7aef9c2e-b9d5-4e76-90de-cf263055d79f",
   "metadata": {
    "vscode": {
     "languageId": "rust"
    }
   },
   "outputs": [],
   "source": [
    "    // To check if the array is empty\n",
    "    if nums.is_empty() {\n",
    "        return None;\n",
    "    }\n"
   ]
  }
 ],
 "metadata": {
  "kernelspec": {
   "display_name": "Rust",
   "language": "rust",
   "name": "rust"
  },
  "language_info": {
   "codemirror_mode": "rust",
   "file_extension": ".rs",
   "mimetype": "text/rust",
   "name": "Rust",
   "pygment_lexer": "rust",
   "version": ""
  }
 },
 "nbformat": 4,
 "nbformat_minor": 5
}
