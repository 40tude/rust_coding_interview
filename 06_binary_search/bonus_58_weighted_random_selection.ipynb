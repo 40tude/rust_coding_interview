{
    "cells": [
        {
            "cell_type": "markdown",
            "id": "5bc00bd1-feba-4bb2-add6-682179446400",
            "metadata": {},
            "source": [
                "# Weighted Random Selection"
            ]
        },
        {
            "cell_type": "markdown",
            "id": "d7517791-98e0-4738-95d9-aea9481c5abd",
            "metadata": {},
            "source": [
                "* Given an array of items, each with a corresponding weight\n",
                "* Implement a function that randomly selects an item from the array, where the probability of selecting any item is proportional to its weight.\n",
                "    * => the probability of picking the item at index i is weights[i] / sum(weights)\n",
                "* Return the index of the selected item\n",
                "\n",
                "\n",
                "\n",
                "<span style=\"color:orange\"><b>The point:</b></span>\n",
                "\n",
                "* Store only the end points (n values) of each segment p60\n",
                "* the endpoint of a segment is equal to the length of all previous segments, plus the length of the current segment\n",
                "* see prefix_sums[]\n",
                "\n",
                "**Checklist**\n",
                "\n",
                "* **1 - Sorted Search space**\n",
                "    * [0, n-1]\n",
                "* **2 - Narrow search space**\n",
                "    * p 62\n",
                "    * we’re looking for the lower-bound prefix sum which satisfies the condition prefix_sums[mid] ≥ target\n",
                "* **3 - Choose an exit condition for the while loop**\n",
                "    * while left < right\n",
                "* **4 - Return the correct value**\n",
                "    * left\n",
                "\n",
                "\n",
                "**Complexity :**\n",
                "\n",
                "| Time             | Space |\n",
                "|------------------|-------|\n",
                "| O(n) constructor |       |\n",
                "| O(log(n)) select | O(1)  |\n",
                "\n",
                "* 0(n) because iteration over each weight\n",
                "* O(log(n)) because the search space is of size n\n",
                "* O(1) because in place\n",
                "\n",
                "\n",
                "**About Rust :**\n",
                "* **YES** : tested on the [Rust Playground](https://play.rust-lang.org/)\n",
                "\n",
                "<!-- <span style=\"color:red\"><b>TODO : </b></span> \n",
                "* Add comments in the source code        \n",
                " -->\n",
                "\n",
                "\n",
                "<!-- * <span style=\"color:lime\"><b>Preferred solution?</b></span>      -->\n"
            ]
        },
        {
            "cell_type": "code",
            "execution_count": null,
            "id": "04cf5b7f-dbbf-413e-ae6f-afe4605feb65",
            "metadata": {
                "vscode": {
                    "languageId": "rust"
                }
            },
            "outputs": [
                {
                    "name": "stdout",
                    "output_type": "stream",
                    "text": [
                        "261\n"
                    ]
                }
            ],
            "source": [
                "// # Cargo.toml\n",
                "// [dependencies]\n",
                "// rand = \"0.9.1\"\n",
                "\n",
                "// If in a Jupyter cell\n",
                "// :dep rand = \"0.9.1\"\n",
                "\n",
                "// No reference to rand needed in Rust playground\n",
                "\n",
                "use rand::Rng;\n",
                "\n",
                "struct WeightedRandomSelection {\n",
                "    prefix_sums: Vec<i32>,\n",
                "}\n",
                "\n",
                "impl WeightedRandomSelection {\n",
                "    fn new(weights: Vec<i32>) -> Self {\n",
                "        let mut prefix_sums = Vec::with_capacity(weights.len());\n",
                "        prefix_sums.push(weights[0]);\n",
                "        for i in 1..weights.len() {\n",
                "            prefix_sums.push(prefix_sums[i - 1] + weights[i]);\n",
                "        }\n",
                "        Self { prefix_sums }\n",
                "    }\n",
                "\n",
                "    fn select(&self) -> usize {\n",
                "        let mut rng = rand::rng();\n",
                "        // Pick a random target between 1 and the largest possible endpoint.\n",
                "        let target = rng.random_range(1..=self.prefix_sums.last().unwrap().clone());\n",
                "        \n",
                "        let (mut left, mut right) = (0, self.prefix_sums.len() - 1);\n",
                "        // Perform lower-bound binary search to find which endpoint corresponds to the target.\n",
                "        while left < right {\n",
                "            let mid = (left + right) / 2;\n",
                "            if self.prefix_sums[mid] < target {\n",
                "                left = mid + 1;\n",
                "            } else {\n",
                "                right = mid;\n",
                "            }\n",
                "        }\n",
                "        left\n",
                "    }\n",
                "}\n",
                "\n",
                "// fn main(){     // no main() if this code runs in a Jupyter cell \n",
                "    let wrs = WeightedRandomSelection::new(vec![3, 1, 2, 4]);\n",
                "    let mut count = 0;\n",
                "    for _ in 0..1_000 {\n",
                "        if wrs.select() == 0 {\n",
                "            count += 1;\n",
                "        }\n",
                "    }\n",
                "    println!(\"{}\", count); // Around 300 expected 300 (30% of 1_000)\n",
                "// }"
            ]
        }
    ],
    "metadata": {
        "kernelspec": {
            "display_name": "Rust",
            "language": "rust",
            "name": "rust"
        },
        "language_info": {
            "codemirror_mode": "rust",
            "file_extension": ".rs",
            "mimetype": "text/rust",
            "name": "Rust",
            "pygment_lexer": "rust",
            "version": ""
        }
    },
    "nbformat": 4,
    "nbformat_minor": 5
}