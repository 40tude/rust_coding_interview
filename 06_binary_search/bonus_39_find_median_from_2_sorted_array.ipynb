{
 "cells": [
  {
   "cell_type": "markdown",
   "id": "5bc00bd1-feba-4bb2-add6-682179446400",
   "metadata": {},
   "source": [
    "# Find the Median From Two Sorted Arrays"
   ]
  },
  {
   "cell_type": "markdown",
   "id": "d7517791-98e0-4738-95d9-aea9481c5abd",
   "metadata": {},
   "source": [
    "* Given two sorted integer arrays, find their median value as if they were merged into a single sorted sequence \n",
    "    * once merge they would be sorted\n",
    "\n",
    "<span style=\"color:orange\"><b>The point:</b></span>\n",
    "\n",
    "* Use the sorted subarray [left, mid] or [mid, right] to determine where to target is\n",
    "\n",
    "\n",
    "Brute force\n",
    "* merge arrays then find the median => O((m+n)*log(m+n))\n",
    "* O(m+n) is the merge is sorted\n",
    "\n",
    "\n",
    "\n",
    "<!-- **Checklist**\n",
    "\n",
    "* **1 - Sorted Search space**\n",
    "    * [0, n-1]\n",
    "* **2 - Narrow search space**\n",
    "    * p 124\n",
    "    * [left:mid] is sorted\n",
    "        1. if the target is in [left, mid[ then right = mid - 1\n",
    "        1. otherwise (if target is not in [left, mid[) then left = mid + 1\n",
    "    * [mid:right] is sorted\n",
    "        1. if the target is in ]mid, right] then left = mid + 1\n",
    "        1. otherwise (if target is not in ]mid, left]) then right = mid -1\n",
    "* **3 - Choose an exit condition for the while loop**\n",
    "* **4 - Return the correct value**\n",
    " -->\n",
    "\n",
    "\n",
    "\n",
    "**Complexity :**\n",
    "\n",
    "| Time | Space |\n",
    "|------|-------|\n",
    "| O(log(min(m,n))) | O(1)  |\n",
    "\n",
    "* O(log(min(m,n))) because the binary search on the smaller array\n",
    "* O(1) because in place\n",
    "\n",
    "\n",
    "\n",
    "**About Rust :**\n",
    "* `let (mut left, mut right) = (0, m);`\n",
    "* `let l2_index = half_total_len.saturating_sub(l1_index + 1).saturating_sub(1); `\n",
    "* `let l1 = nums1.get(l1_index).map_or(f64::NEG_INFINITY, |&x| x as f64);`\n",
    "* **YES** : tested on the [Rust Playground](https://play.rust-lang.org/)\n",
    "\n",
    "<!-- <span style=\"color:red\"><b>TODO : </b></span> \n",
    "* Add comments in the source code        \n",
    " -->\n"
   ]
  },
  {
   "cell_type": "code",
   "execution_count": 44,
   "id": "6b141ca2-7b2c-430a-8896-fbdd3cce29ce",
   "metadata": {},
   "outputs": [
    {
     "name": "stdout",
     "output_type": "stream",
     "text": [
      "3.0\n",
      "4.0\n",
      "4.0\n",
      "5.0\n"
     ]
    }
   ],
   "source": [
    "fn find_the_median_from_two_sorted_arrays(nums1: &[i32], nums2: &[i32]) -> f64 {\n",
    "    // Optimization: ensure 'nums1' is the smaller array.\n",
    "    let (nums1, nums2) = if nums2.len() < nums1.len() {\n",
    "        (nums2, nums1)\n",
    "    } else {\n",
    "        (nums1, nums2)\n",
    "    };\n",
    "\n",
    "    let (m, n) = (nums1.len(), nums2.len());\n",
    "    let half_total_len = (m + n) / 2;\n",
    "    // m and NOT m-1 mostly because right is usize and cannot be negative if m==0\n",
    "    let (mut left, mut right) = (0, m); \n",
    "\n",
    "    loop {\n",
    "        let l1_index = (left + right) / 2;\n",
    "        // usize cannot be negative. Without saturating_sub, an underflow would cause a panic.\n",
    "        // saturating_sub returns 0 if the result is negative, thus avoiding crashes.\n",
    "        // let l2_index = half_total_len - (l1_index + 1) - 1;\n",
    "        let l2_index = half_total_len.saturating_sub(l1_index + 1).saturating_sub(1); \n",
    "        \n",
    "        // Get values with bounds checking\n",
    "        // .get() return an Option (Some(&value))\n",
    "        // .map_or(default, closure) => return f64::NEG_INFINITY if None or apply closure if Some(x) \n",
    "        let l1 = nums1.get(l1_index).map_or(f64::NEG_INFINITY, |&x| x as f64);\n",
    "        let r1 = nums1.get(l1_index + 1).map_or(f64::INFINITY, |&x| x as f64);\n",
    "        \n",
    "        let l2 = nums2.get(l2_index).map_or(f64::NEG_INFINITY, |&x| x as f64);\n",
    "        let r2 = nums2.get(l2_index + 1).map_or(f64::INFINITY, |&x| x as f64);\n",
    "        \n",
    "        if l1 > r2 {\n",
    "            right = l1_index;\n",
    "        } else if l2 > r1 {\n",
    "            left = l1_index + 1;\n",
    "        } else {\n",
    "            return if (m + n) % 2 == 0 {\n",
    "                (l1.max(l2) + r1.min(r2)) / 2.0\n",
    "            } else {\n",
    "                r1.min(r2)\n",
    "            };\n",
    "        }\n",
    "    }    \n",
    "}\n",
    "\n",
    "// fn main() {\n",
    "    println!(\"{:?}\", find_the_median_from_two_sorted_arrays(&[1, 3, 7], &[]));  \n",
    "    println!(\"{:?}\", find_the_median_from_two_sorted_arrays(&[1, 3, 7], &[0, 2, 5, 6, 8]));  // 4.0\n",
    "    println!(\"{:?}\", find_the_median_from_two_sorted_arrays(&[0, 2, 5, 6, 8], &[1, 3, 7]));  // 4.0\n",
    "    println!(\"{:?}\", find_the_median_from_two_sorted_arrays(&[0, 2, 5, 6, 8], &[1, 3, 7, 9]));  // 5.0\n",
    "// }"
   ]
  },
  {
   "cell_type": "markdown",
   "id": "51fdb8f1-07c8-49a9-8b92-df3d526b1874",
   "metadata": {},
   "source": [
    "## First translation\n",
    "\n",
    "**About Rust :**\n",
    "* The code panic if one of the slice is empty\n",
    "* The code generate a warning under Rust Playground because of the `l1_index < 0` make no sense since `l1_index` `is usize` \n",
    "* **YES** : tested on the [Rust Playground](https://play.rust-lang.org/)\n"
   ]
  },
  {
   "cell_type": "code",
   "execution_count": 45,
   "id": "78e2ce1d-c55e-4bac-a27b-92045525bae1",
   "metadata": {},
   "outputs": [
    {
     "name": "stdout",
     "output_type": "stream",
     "text": [
      "4.0\n",
      "4.0\n",
      "5.0\n"
     ]
    },
    {
     "data": {
      "text/plain": [
       "()"
      ]
     },
     "execution_count": 45,
     "metadata": {},
     "output_type": "execute_result"
    }
   ],
   "source": [
    "fn find_the_median_from_two_sorted_arrays(nums1: &[i32], nums2: &[i32]) -> f64{\n",
    "\n",
    "    // Optimization: ensure 'nums1' is the smaller array.\n",
    "    let (nums1, nums2) = if nums2.len() < nums1.len() {\n",
    "        (nums2, nums1)\n",
    "    } else {\n",
    "        (nums1, nums2)\n",
    "    };\n",
    "\n",
    "    let (m, n) = (nums1.len(), nums2.len());\n",
    "    let half_total_len = (m + n) / 2;\n",
    "    let (mut left, mut right) = (0, m - 1);\n",
    "\n",
    "    // A median always exists in a non-empty array, so continue binary search until it’s found.\n",
    "    loop{\n",
    "        let l1_index = (left + right) / 2;\n",
    "        let l2_index = half_total_len - (l1_index + 1) - 1;\n",
    "        \n",
    "        // Set to -infinity or +infinity if out of bounds.\n",
    "        let l1 = if l1_index < 0 { f64::NEG_INFINITY } else { nums1[l1_index] as f64};\n",
    "        let r1 = if l1_index >= m - 1 { f64::INFINITY } else { nums1[l1_index + 1] as f64};\n",
    "        \n",
    "        let l2 = if l2_index < 0 { f64::NEG_INFINITY } else { nums2[l2_index] as f64};\n",
    "        let r2 = if l1_index >= n - 1 { f64::INFINITY } else { nums2[l2_index + 1] as f64};\n",
    "        \n",
    "        \n",
    "        if l1 > r2{ // If 'l1 > r2', then 'l1' is too far to the right. Narrow the search space toward the left.\n",
    "            right = l1_index - 1;\n",
    "        } else if l2 > r1{ // If 'l2 > r1', then 'r1' is too far to the left. Narrow the search space toward the right.\n",
    "            left = l1_index + 1;\n",
    "        } else{ // If both 'l1' and 'l2' are less than or equal to both 'r1' and 'r2', we found the correct slice.\n",
    "            if (m + n) % 2 == 0 {\n",
    "                return (l1.max(l2) + r1.min(r2)) / 2.0;\n",
    "            } else {\n",
    "                return r1.min(r2);\n",
    "            }\n",
    "        }\n",
    "    }    \n",
    "}\n",
    "\n",
    "\n",
    "// fn main(){     // no main() if this code runs in a jupyter cell \n",
    "    // println!(\"{:?}\", find_the_median_from_two_sorted_arrays(&[1, 3, 7], &[]));  \n",
    "    println!(\"{:?}\", find_the_median_from_two_sorted_arrays(&[1, 3, 7], &[0, 2, 5, 6, 8]));  // 4.0\n",
    "    println!(\"{:?}\", find_the_median_from_two_sorted_arrays(&[0, 2, 5, 6, 8], &[1, 3, 7]));  // 4.0\n",
    "    println!(\"{:?}\", find_the_median_from_two_sorted_arrays(&[0, 2, 5, 6, 8], &[1, 3, 7, 9]));  // 5.0\n",
    "} // end of local scope OR end of main()       \n",
    "            "
   ]
  }
 ],
 "metadata": {
  "kernelspec": {
   "display_name": "Rust",
   "language": "rust",
   "name": "rust"
  },
  "language_info": {
   "codemirror_mode": "rust",
   "file_extension": ".rs",
   "mimetype": "text/rust",
   "name": "Rust",
   "pygment_lexer": "rust",
   "version": ""
  }
 },
 "nbformat": 4,
 "nbformat_minor": 5
}
