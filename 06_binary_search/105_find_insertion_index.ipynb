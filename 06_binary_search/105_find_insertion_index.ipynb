{
 "cells": [
  {
   "cell_type": "markdown",
   "id": "94586613-ae90-49c6-939f-0bf144eee5ca",
   "metadata": {},
   "source": [
    "# Find insertion index"
   ]
  },
  {
   "cell_type": "markdown",
   "id": "65cd6265-18c0-45ca-9f3b-024885b652ee",
   "metadata": {},
   "source": [
    "Given a sorted array with unique values.\n",
    "* If the array contains the target retrun its index\n",
    "* otherwise return the insrtion index(index where the target would be if it were inserted)\n",
    "\n",
    "<span style=\"color:orange\"><b>The point:</b></span>\n",
    "\n",
    "* Combine both cases finding the first value >= the target\n",
    "* Search the first value that match a condition. The condition is  ``the number is >= the target`` (see top p 106)\n",
    "\n",
    "Checklist :\n",
    "* **1 - Search space**\n",
    "    * Z! [0, n] and NOT [0, n-1] because if the target is NOT in the array its insertion index is n\n",
    "* **2 - Narrow search space**\n",
    "    * p 108 \n",
    "    * ``if num[mid] <  target => left = mid+1``\n",
    "    * ``if num[mid] >= target => right = mid``\n",
    "* **3 - Choose an exit condition for the while loop**\n",
    "    * we exit when left = right => the condition is ``while left < right``\n",
    "* **4 - Return the correct value**\n",
    "    * left\n",
    "\n",
    "**Complexity :**\n",
    "\n",
    "| Time | Space |\n",
    "|------|-------|\n",
    "| O(log(n)) | O(1)  |\n",
    "\n",
    "* O(log(n)) because the search space is of size n+1\n",
    "* O(1) because in place \n",
    "\n",
    "**About Rust :**\n",
    "* ...\n",
    "\n",
    "<!-- \n",
    "<span style=\"color:red\"><b>TODO : </b></span> \n",
    "* Add comments in the source code        \n",
    " -->"
   ]
  },
  {
   "cell_type": "code",
   "execution_count": 13,
   "id": "827322a3-66be-4684-bba5-3dcf31aaca4a",
   "metadata": {},
   "outputs": [
    {
     "name": "stdout",
     "output_type": "stream",
     "text": [
      "2\n",
      "4\n",
      "0\n",
      "7\n"
     ]
    }
   ],
   "source": [
    "fn find_insertion_index(nums:&[i32], target:i32) -> usize{\n",
    "    let(mut left, mut right) = (0, nums.len());\n",
    "    while left < right{\n",
    "        let mid = left + (right - left)/2;\n",
    "        if nums[mid] >= target {\n",
    "            right = mid;\n",
    "        } else{\n",
    "            left = mid + 1;\n",
    "        }\n",
    "    }\n",
    "    left\n",
    "}\n",
    "\n",
    "// fn main(){     // no main() if this code runs in a jupyter cell \n",
    "    println!(\"{}\", find_insertion_index(&[1, 2, 4, 5, 7, 8, 9], 4));  // 2\n",
    "    println!(\"{}\", find_insertion_index(&[1, 2, 4, 5, 7, 8, 9], 6));  // 4\n",
    "    println!(\"{}\", find_insertion_index(&[1, 2, 4, 5, 7, 8, 9], 0));  // 0\n",
    "    println!(\"{}\", find_insertion_index(&[1, 2, 4, 5, 7, 8, 9], 42)); // 7\n",
    "// } // end of local scope OR end of main()       \n",
    "            "
   ]
  }
 ],
 "metadata": {
  "kernelspec": {
   "display_name": "Rust",
   "language": "rust",
   "name": "rust"
  },
  "language_info": {
   "codemirror_mode": "rust",
   "file_extension": ".rs",
   "mimetype": "text/rust",
   "name": "Rust",
   "pygment_lexer": "rust",
   "version": ""
  }
 },
 "nbformat": 4,
 "nbformat_minor": 5
}
