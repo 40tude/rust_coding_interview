{
    "cells": [
        {
            "cell_type": "markdown",
            "id": "94586613-ae90-49c6-939f-0bf144eee5ca",
            "metadata": {},
            "source": [
                "# Find the Target in a Rotated Sorted Array"
            ]
        },
        {
            "cell_type": "markdown",
            "id": "65cd6265-18c0-45ca-9f3b-024885b652ee",
            "metadata": {},
            "source": [
                "<div align=\"center\">\n",
                "<img src=\"../assets/chap_06.webp\" alt=\"\" width=\"300\" loading=\"lazy\"/>\n",
                "</div>\n",
                "\n",
                "* Given a rotated sorted array of unique numbers, return the index of a target value (-1 otherwise)\n",
                "* A rotated sorted array is an ascending sorted array where a portion slide from the front to the back\n",
                "* [1, 2, 3, 4, 5] => [3, 4, 5, 1, 2]\n",
                "\n",
                "<span style=\"color:orange\"><b>The point:</b></span>\n",
                "\n",
                "* Use the sorted subarray [left, mid] or [mid, right] to determine where to target is\n",
                "\n",
                "\n",
                "Brute force takes linear time\n",
                "We know the array is sorted and rotated\n",
                "\n",
                "**Checklist**\n",
                "\n",
                "* **1 - Sorted Search space**\n",
                "    * [0, n-1]\n",
                "* **2 - Narrow search space**\n",
                "    * p 124\n",
                "    * [left:mid] is sorted\n",
                "        1. if the target is in [left, mid[ then right = mid - 1\n",
                "        1. otherwise (if target is not in [left, mid[) then left = mid + 1\n",
                "    * [mid:right] is sorted\n",
                "        1. if the target is in ]mid, right] then left = mid + 1\n",
                "        1. otherwise (if target is not in ]mid, left]) then right = mid -1\n",
                "* **3 - Choose an exit condition for the while loop**\n",
                "* **4 - Return the correct value**\n",
                "\n",
                "\n",
                "**Complexity :**\n",
                "\n",
                "| Time | Space |\n",
                "|------|-------|\n",
                "| O(log(n)) | O(1)  |\n",
                "\n",
                "* O(log(n)) because the search space is of size n\n",
                "* O(1) because in place \n",
                "\n",
                "\n",
                "\n",
                "\n",
                "\n",
                "**About Rust :**\n",
                "* `find_the_target_in_rotated_sorted_array` returns an ``Option<usize>``\n",
                "* **YES** : tested on the [Rust Playground](https://play.rust-lang.org/)\n",
                "\n",
                "\n",
                "\n",
                "\n",
                "<!-- <span style=\"color:red\"><b>TODO : </b></span> \n",
                "* Add comments in the source code        \n",
                " -->\n",
                "\n",
                "<!-- * <span style=\"color:lime\"><b>Preferred solution?</b></span>      -->\n"
            ]
        },
        {
            "cell_type": "code",
            "execution_count": null,
            "id": "afceac33",
            "metadata": {
                "vscode": {
                    "languageId": "rust"
                }
            },
            "outputs": [
                {
                    "name": "stdout",
                    "output_type": "stream",
                    "text": [
                        "Some(2)\n",
                        "None\n",
                        "None\n"
                    ]
                }
            ],
            "source": [
                "fn find_the_target_in_rotated_sorted_array(nums:&[i32], target:i32) -> Option<usize> {\n",
                "    \n",
                "    let (mut left, mut right) = (0, nums.len() - 1);\n",
                "    \n",
                "    while left < right {\n",
                "        let mid = left + (right - left) / 2 ;\n",
                "        if nums[mid] == target{\n",
                "            return Some(mid);\n",
                "        }\n",
                "        // if the left subarray is sorted check if the target falls in this range\n",
                "        // yes => search in the left subarray\n",
                "        // no => search in the right subarray\n",
                "        else if nums[left]<=nums[mid]{\n",
                "            if nums[left] <= target && target < nums[mid]{\n",
                "                right = mid -1; \n",
                "            }else{\n",
                "                left = mid + 1;\n",
                "            }\n",
                "        // if the right subarray is sorted check if the target falls in this range\n",
                "        // yes => search in the right subarray   \n",
                "        // no => search in the left subarray\n",
                "        }else if nums[mid] < target && target <= nums[right]{\n",
                "            left = mid + 1;\n",
                "        }else{\n",
                "            right = mid - 1;\n",
                "        }\n",
                "    }\n",
                "    if nums[left] == target{Some(left)}else{None}\n",
                "}\n",
                "\n",
                "fn main(){     // no main() if this code runs in a Jupyter cell \n",
                "    println!(\"{:?}\", find_the_target_in_rotated_sorted_array(&[8, 9, 1, 2, 3, 4, 5, 6, 7], 1));  // Some(2)\n",
                "    println!(\"{:?}\", find_the_target_in_rotated_sorted_array(&[8, 9, 1, 2, 3, 4, 5, 6, 7], 0));  // None\n",
                "    println!(\"{:?}\", find_the_target_in_rotated_sorted_array(&[8, 9, 1, 2, 3, 4, 5, 6, 7], 42)); // None\n",
                "} // end of local scope OR end of main()       \n"
            ]
        }
    ],
    "metadata": {
        "kernelspec": {
            "display_name": "Rust",
            "language": "rust",
            "name": "rust"
        },
        "language_info": {
            "codemirror_mode": "rust",
            "file_extension": ".rs",
            "mimetype": "text/rust",
            "name": "Rust",
            "pygment_lexer": "rust",
            "version": ""
        }
    },
    "nbformat": 4,
    "nbformat_minor": 5
}
