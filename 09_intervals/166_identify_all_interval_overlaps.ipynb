{
 "cells": [
  {
   "cell_type": "markdown",
   "id": "94586613-ae90-49c6-939f-0bf144eee5ca",
   "metadata": {},
   "source": [
    "# Identify All Interval Overlaps"
   ]
  },
  {
   "cell_type": "markdown",
   "id": "65cd6265-18c0-45ca-9f3b-024885b652ee",
   "metadata": {},
   "source": [
    "Return an vector of all overlaps between 2 arrays of intervals\n",
    "\n",
    "\n",
    "<span style=\"color:orange\"><b>The point:</b></span>\n",
    "\n",
    "* ``a`` starts before `b`\n",
    "* from b.start to min (a.end, b.end)\n",
    "* Pay attention to the ``if a.end >= b.start{`` otherwise [9, 9] is not listed\n",
    "\n",
    "**Complexity :**\n",
    "\n",
    "| Time               | Space |\n",
    "|--------------------|-------|\n",
    "| O(n+m)        | O(n)  |\n",
    "\n",
    "* O(n+m) because we traverse each intervals once\n",
    "* O(1) because in place \n",
    "\n",
    "**About Rust :**\n",
    "* `identify_all_interval_overlaps` has references as parameters\n",
    "* **YES** : tested on the [Rust Playground](https://play.rust-lang.org/)\n",
    "\n",
    "<!-- \n",
    "<span style=\"color:red\"><b>TODO : </b></span> \n",
    "* Add comments in the source code        \n",
    " -->\n",
    "\n",
    "\n",
    "<!-- * <span style=\"color:lime\"><b>Preferred solution?</b></span>      -->\n"
   ]
  },
  {
   "cell_type": "code",
   "execution_count": null,
   "id": "f575c39c",
   "metadata": {
    "vscode": {
     "languageId": "rust"
    }
   },
   "outputs": [],
   "source": [
    "#[derive(Debug)]  \n",
    "struct Interval {\n",
    "    start : usize,\n",
    "    end : usize\n",
    "}\n",
    "\n",
    "impl Interval {\n",
    "    fn new(start:usize, end:usize) -> Self {\n",
    "        Self {start, end}\n",
    "    }\n",
    "}\n",
    "\n",
    "fn identify_all_interval_overlaps(intervals1:&[Interval], intervals2:&[Interval]) -> Vec<Interval>{\n",
    "    let mut overlaps = Vec::new();\n",
    "    let (mut i, mut j) = (0, 0);\n",
    "\n",
    "    while i < intervals1.len() && j < intervals2.len(){\n",
    "        let mut a = &intervals1[i];\n",
    "        let mut b = &intervals2[j];\n",
    "        \n",
    "        // set a to the interval that starts first\n",
    "        if a.start > b.start{\n",
    "            a = &intervals2[j];\n",
    "            b = &intervals1[i];\n",
    "        }\n",
    "        // If there is an overlap add them\n",
    "        if a.end >= b.start{\n",
    "            overlaps.push(Interval::new(b.start, a.end.min(b.end)));\n",
    "        }\n",
    "        // advance pointers to the interval that ends first\n",
    "        if a.end < b.end{\n",
    "            i+=1;\n",
    "        }else{\n",
    "            j+=1;\n",
    "        }\n",
    "    } \n",
    "    overlaps\n",
    "}\n",
    "\n",
    "fn main(){   // no main() if this code runs in a jupyter cell \n",
    "    let intervals1 = vec![\n",
    "        Interval::new(1, 4),\n",
    "        Interval::new(5, 6),\n",
    "        Interval::new(9, 10),\n",
    "    ];\n",
    "\n",
    "    let intervals2 = vec![\n",
    "        Interval::new(2, 7),\n",
    "        Interval::new(8, 9),\n",
    "    ];\n",
    "\n",
    "    println!(\"{:?}\", identify_all_interval_overlaps(&intervals1, &intervals2)); // [2, 4], [5, 6] [9, 9]\n",
    "} // end of local scope OR end of main()       "
   ]
  }
 ],
 "metadata": {
  "kernelspec": {
   "display_name": "Rust",
   "language": "rust",
   "name": "rust"
  },
  "language_info": {
   "codemirror_mode": "rust",
   "file_extension": ".rs",
   "mimetype": "text/rust",
   "name": "Rust",
   "pygment_lexer": "rust",
   "version": ""
  }
 },
 "nbformat": 4,
 "nbformat_minor": 5
}
