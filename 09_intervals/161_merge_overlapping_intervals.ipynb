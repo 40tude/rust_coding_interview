{
    "cells": [
        {
            "cell_type": "markdown",
            "id": "94586613-ae90-49c6-939f-0bf144eee5ca",
            "metadata": {},
            "source": [
                "# Merge Overlapping Intervals"
            ]
        },
        {
            "cell_type": "markdown",
            "id": "65cd6265-18c0-45ca-9f3b-024885b652ee",
            "metadata": {},
            "source": [
                "* Merge an array of intervals so there are no overlapping intervals\n",
                "\n",
                "\n",
                "<span style=\"color:orange\"><b>The point:</b></span>\n",
                "\n",
                "\n",
                "**Complexity :**\n",
                "\n",
                "| Time               | Space |\n",
                "|--------------------|-------|\n",
                "| O(n log(n))        | O(n)  |\n",
                "\n",
                "* O(n log(n)) because of the sorting alogrithm. Merging is in O(n) because we iterate over n intervals\n",
                "* O(n) because of space used by sort algorithm. Merged interval is NOT taken into account. Only extra space matters. \n",
                "\n",
                "**About Rust :**\n",
                "* `intervals.sort_by(|a, b| a.start.cmp(&b.start));`\n",
                "* **YES** : tested on the [Rust Playground](https://play.rust-lang.org/)\n",
                "\n",
                "<!-- \n",
                "<span style=\"color:red\"><b>TODO : </b></span> \n",
                "* Add comments in the source code        \n",
                " -->\n",
                "\n",
                "<!-- * <span style=\"color:lime\"><b>Preferred solution?</b></span>      -->\n"
            ]
        },
        {
            "cell_type": "markdown",
            "id": "2007145a",
            "metadata": {},
            "source": [
                "## First version\n",
                "* `input` is moved and no longer available after the call to `merge_overlapping_intervals()`\n",
                "* This might be OK in some cases"
            ]
        },
        {
            "cell_type": "code",
            "execution_count": null,
            "id": "59e624e1",
            "metadata": {
                "vscode": {
                    "languageId": "rust"
                }
            },
            "outputs": [],
            "source": [
                "#[derive(Debug, Clone)]  // Clone needed to copy intervals\n",
                "struct Interval {\n",
                "    start : usize,\n",
                "    end : usize\n",
                "}\n",
                "\n",
                "impl Interval {\n",
                "    fn new(start:usize, end:usize) -> Self {\n",
                "        Self { start, end }\n",
                "    }\n",
                "}\n",
                "\n",
                "fn merge_overlapping_intervals(mut intervals:Vec<Interval>) -> Vec<Interval>{\n",
                "\n",
                "    if intervals.is_empty() {\n",
                "        return vec![];\n",
                "    }\n",
                "\n",
                "    intervals.sort_by(|a, b| a.start.cmp(&b.start)); // .sort() => intervals parameter must be mut\n",
                "    \n",
                "    let mut merged = vec![intervals[0].clone()]; // create a vector and fill it with first element of sorted_intervals\n",
                "        \n",
                "    for b in &intervals[1..] {\n",
                "        let a = merged.last_mut().unwrap();\n",
                "        if a.end < b.start {\n",
                "            merged.push(b.clone()); // No overlap, add b to merged vector\n",
                "        } else {\n",
                "            a.end = a.end.max(b.end); // Overlap, merge a and b\n",
                "        }\n",
                "    }\n",
                "    merged\n",
                "}\n",
                "\n",
                "fn main(){   // no main() if this code runs in a Jupyter cell \n",
                "    let input = vec![\n",
                "        Interval::new(3, 4),\n",
                "        Interval::new(7, 8),\n",
                "        Interval::new(2, 5),\n",
                "        Interval::new(6, 7),\n",
                "        Interval::new(1, 4),\n",
                "    ];\n",
                "    println!(\"{:?}\", merge_overlapping_intervals(input)); // [Interval { start: 1, end: 5 }, Interval { start: 6, end: 8 }]\n",
                "} // end of local scope OR end of main()       "
            ]
        },
        {
            "cell_type": "markdown",
            "id": "f5abab14",
            "metadata": {},
            "source": [
                "## If I want to use a reference to a vector of Interval as parameter\n",
                "* A copy, which must be mutable, must be done in `merge_overlapping_intervals()` order to ``.sort()``"
            ]
        },
        {
            "cell_type": "code",
            "execution_count": null,
            "id": "93b0ce9c",
            "metadata": {
                "vscode": {
                    "languageId": "rust"
                }
            },
            "outputs": [],
            "source": [
                "#[derive(Debug, Clone)]  // Clone needed to copy intervals\n",
                "struct Interval {\n",
                "    start: usize,\n",
                "    end: usize,\n",
                "}\n",
                "\n",
                "impl Interval {\n",
                "    fn new(start: usize, end: usize) -> Self {\n",
                "        Self { start, end }\n",
                "    }\n",
                "}\n",
                "\n",
                "fn merge_overlapping_intervals(intervals: &Vec<Interval>) -> Vec<Interval> {\n",
                "    \n",
                "    if intervals.is_empty() {\n",
                "        return vec![];\n",
                "    }\n",
                "\n",
                "    // Clone the input to sort it locally\n",
                "    let mut sorted_intervals = intervals.clone();\n",
                "    sorted_intervals.sort_by(|a, b| a.start.cmp(&b.start));\n",
                "\n",
                "    let mut merged = vec![sorted_intervals[0].clone()]; // create a vector and fill it with first element of sorted_intervals\n",
                "\n",
                "    for b in &sorted_intervals[1..] {\n",
                "        let a = merged.last_mut().unwrap();\n",
                "        if a.end < b.start {\n",
                "            merged.push(b.clone());\n",
                "        } else {\n",
                "            a.end = a.end.max(b.end);\n",
                "        }\n",
                "    }\n",
                "    merged\n",
                "}\n",
                "\n",
                "fn main() {\n",
                "    let input = vec![\n",
                "        Interval::new(3, 4),\n",
                "        Interval::new(7, 8),\n",
                "        Interval::new(2, 5),\n",
                "        Interval::new(6, 7),\n",
                "        Interval::new(1, 4),\n",
                "    ];\n",
                "    println!(\"{:?}\", merge_overlapping_intervals(&input)); // [Interval { start: 1, end: 5 }, Interval { start: 6, end: 8 }]\n",
                "\n",
                "}\n"
            ]
        },
        {
            "cell_type": "markdown",
            "id": "92b08cd8",
            "metadata": {},
            "source": [
                "## If I want to use a slice as parameter\n",
                "\n",
                "* <span style=\"color:lime\"><b>Preferred solution?</b></span> \n",
                "* This type accepts any slice: a ``&Vec<Interval>``, an array ``[Interval; N]``, a slice ``&intervals[..]``, and so on.\n",
                "* It's more generic and idiomatic than previous version\n",
                "* `sorted_intervals` is a vector (`let mut sorted_intervals: Vec<_> = intervals.to_vec();`)\n",
                "    * This simplify the for loop : `for b in &sorted_intervals[1..] {`"
            ]
        },
        {
            "cell_type": "code",
            "execution_count": null,
            "id": "2db974cc",
            "metadata": {
                "vscode": {
                    "languageId": "rust"
                }
            },
            "outputs": [],
            "source": [
                "#[derive(Debug, Clone)]\n",
                "struct Interval {\n",
                "    start: usize,\n",
                "    end: usize,\n",
                "}\n",
                "\n",
                "impl Interval {\n",
                "    fn new(start: usize, end: usize) -> Self {\n",
                "        Self { start, end }\n",
                "    }\n",
                "}\n",
                "\n",
                "fn merge_overlapping_intervals(intervals: &[Interval]) -> Vec<Interval> {\n",
                "    \n",
                "    if intervals.is_empty() {\n",
                "        return vec![];\n",
                "    }\n",
                "\n",
                "    // Create a sorted copy of the input slice\n",
                "    let mut sorted_intervals: Vec<_> = intervals.to_vec(); // We make a single copy of the entire vector at this point. No need to reclone intervals elsewhere.\"\n",
                "    sorted_intervals.sort_by(|a, b| a.start.cmp(&b.start));\n",
                "\n",
                "    let mut merged = vec![sorted_intervals[0].clone()]; // create a vector and fill it with first element of sorted_intervals\n",
                "\n",
                "    for b in &sorted_intervals[1..] {\n",
                "        let a = merged.last_mut().unwrap();\n",
                "        if a.end < b.start {\n",
                "            merged.push(b.clone());\n",
                "        } else {\n",
                "            a.end = a.end.max(b.end);\n",
                "        }\n",
                "    }\n",
                "    merged\n",
                "}\n",
                "\n",
                "fn main() {\n",
                "    let input = vec![\n",
                "        Interval::new(3, 4),\n",
                "        Interval::new(7, 8),\n",
                "        Interval::new(2, 5),\n",
                "        Interval::new(6, 7),\n",
                "        Interval::new(1, 4),\n",
                "    ];\n",
                "\n",
                "    println!(\"{:?}\", merge_overlapping_intervals(&input)); // [Interval { start: 1, end: 5 }, Interval { start: 6, end: 8 }]\n",
                "}\n"
            ]
        }
    ],
    "metadata": {
        "kernelspec": {
            "display_name": "Rust",
            "language": "rust",
            "name": "rust"
        },
        "language_info": {
            "codemirror_mode": "rust",
            "file_extension": ".rs",
            "mimetype": "text/rust",
            "name": "Rust",
            "pygment_lexer": "rust",
            "version": ""
        }
    },
    "nbformat": 4,
    "nbformat_minor": 5
}
