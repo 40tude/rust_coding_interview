{
 "cells": [
  {
   "cell_type": "markdown",
   "id": "94586613-ae90-49c6-939f-0bf144eee5ca",
   "metadata": {},
   "source": [
    "# Merge Overlapping Intervals"
   ]
  },
  {
   "cell_type": "markdown",
   "id": "65cd6265-18c0-45ca-9f3b-024885b652ee",
   "metadata": {},
   "source": [
    "Merge an array of intervals so there are no overlapping intervals\n",
    "\n",
    "\n",
    "<span style=\"color:orange\"><b>The point:</b></span>\n",
    "\n",
    "\n",
    "**Complexity :**\n",
    "\n",
    "| Time               | Space |\n",
    "|--------------------|-------|\n",
    "| O(n log(n))        | O(n)  |\n",
    "\n",
    "* O(n log(n)) because of the sorting alogrithm. Merging is in O(n) because we iterate over n intervals\n",
    "* O(n) because of space used by sort algorithm. Merged interval is NOT taken into account. Only extra space matters. \n",
    "\n",
    "**About Rust :**\n",
    "* ...\n",
    "* **NOT YET** : tested on the [Rust Playground](https://play.rust-lang.org/)\n",
    "\n",
    "<!-- \n",
    "<span style=\"color:red\"><b>TODO : </b></span> \n",
    "* Add comments in the source code        \n",
    " -->"
   ]
  },
  {
   "cell_type": "code",
   "execution_count": null,
   "id": "2f35f2e7",
   "metadata": {
    "vscode": {
     "languageId": "rust"
    }
   },
   "outputs": [],
   "source": [
    "#[derive(Debug, Clone)]  // Clone needed to copy intervals\n",
    "struct Interval {\n",
    "    start : usize,\n",
    "    end : usize\n",
    "}\n",
    "\n",
    "impl Interval {\n",
    "    fn new(start:usize, end:usize) -> Interval {\n",
    "        Self {\n",
    "            start,\n",
    "            end,\n",
    "        }\n",
    "    }\n",
    "}\n",
    "\n",
    "fn merge_overlapping_intervals(mut intervals:Vec<Interval>) -> Vec<Interval>{\n",
    "\n",
    "    intervals.sort_by(|a, b| a.start.cmp(&b.start));\n",
    "    \n",
    "    let mut merged = vec![intervals[0].clone()];\n",
    "    for b in intervals.into_iter().skip(1){\n",
    "        let a = merged.last_mut().unwrap();\n",
    "            if a.end < b.start {\n",
    "                // No overlap, add b to merged vector\n",
    "                merged.push(b);\n",
    "            } else {\n",
    "                // Overlap, merge a and b\n",
    "                a.end = a.end.max(b.end);\n",
    "            }\n",
    "    }\n",
    "    merged\n",
    "}\n",
    "\n",
    "fn main(){   // no main() if this code runs in a jupyter cell \n",
    "\n",
    "    println!(\"{:?}\", merge_overlapping_intervals(vec![\n",
    "        Interval::new(3, 4), \n",
    "        Interval::new(7,8), \n",
    "        Interval::new(2, 5), \n",
    "        Interval::new(6, 7), \n",
    "        Interval::new(1, 4),\n",
    "    ])); // [1, 5], [6, 8]\n",
    "    \n",
    "} // end of local scope OR end of main()       "
   ]
  }
 ],
 "metadata": {
  "kernelspec": {
   "display_name": "Rust",
   "language": "rust",
   "name": "rust"
  },
  "language_info": {
   "codemirror_mode": "rust",
   "file_extension": ".rs",
   "mimetype": "text/rust",
   "name": "Rust",
   "pygment_lexer": "rust",
   "version": ""
  }
 },
 "nbformat": 4,
 "nbformat_minor": 5
}
