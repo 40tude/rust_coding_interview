{
 "cells": [
  {
   "cell_type": "markdown",
   "id": "94586613-ae90-49c6-939f-0bf144eee5ca",
   "metadata": {},
   "source": [
    "# Prerequisites"
   ]
  },
  {
   "cell_type": "markdown",
   "id": "53ea923f",
   "metadata": {},
   "source": [
    "<div align=\"center\">\n",
    "<img src=\"../assets/chap_13.webp\" alt=\"\" width=\"300\" loading=\"lazy\"/>\n",
    "</div>\n",
    "\n",
    "* `n` the number of courses from 0 to `n-1`\n",
    "* An array of prerequisites pairs (directed)\n",
    "* Determine if it is possible to enroll all courses\n",
    "\n",
    "<span style=\"color:orange\"><b>The point:</b></span>\n",
    "\n",
    "* Impossible if there is a cycle in the graphical representation\n",
    "* No arrow pointing to courses without prerequisites (in_degree = # of directed edges incoming to the node)\n",
    "* When there are not any courses with an in_degree = 0 there is no solution\n",
    "* Topological sorting\n",
    "* Kahn's algorithm performs topological sort\n",
    "\n",
    "\n",
    "\n",
    "**Complexity :**\n",
    "\n",
    "| Time        | Space        |\n",
    "|-------------|--------------|\n",
    "| O(n+e)      | O(n+e)       |\n",
    "\n",
    "* O(n+e) in time because \n",
    "    * creating adjacency list and recording `in_degrees` take O(e) because we iterate through each prerequisite once. \n",
    "    * Because adding all course with in_degree==0 takes O(n)\n",
    "* O(n+e) in space because adjacency list is in O(n+e), `in_degrees` array and the queue take up O(n) in space\n",
    "\n",
    "<!-- <span style=\"color:red\"><b>TODO : </b></span> \n",
    "* Add comments in code -->\n",
    "\n",
    "\n",
    "<!-- * <span style=\"color:lime\"><b>Preferred solution?</b></span>      -->\n",
    "\n"
   ]
  },
  {
   "cell_type": "markdown",
   "id": "60701141",
   "metadata": {},
   "source": [
    "## First implementation\n",
    "\n",
    "**About Rust :**\n",
    "* See au the Python's `defaultdict` is simulated here\n",
    "    * `graph.entry(prerequesite).or_default().push(course);`\n",
    "* **YES** : tested on the [Rust Playground](https://play.rust-lang.org/)"
   ]
  },
  {
   "cell_type": "code",
   "execution_count": null,
   "id": "827cdaf3",
   "metadata": {
    "vscode": {
     "languageId": "rust"
    }
   },
   "outputs": [],
   "source": [
    "use std::collections::{HashMap, VecDeque};\n",
    "\n",
    "fn prerequisites(n: usize, prerequesites: Vec<(usize, usize)>) -> bool {\n",
    "    let mut graph : HashMap<usize, Vec<usize>> = HashMap::new();\n",
    "    let mut in_degrees = vec![0; n];\n",
    "\n",
    "    // Represent the graph as and adjacency list and record the in_degree of each course\n",
    "    for (prerequesite, course) in prerequesites{\n",
    "        // Ensure the key exists and push the course (see defaultdict in Python)\n",
    "        graph.entry(prerequesite).or_default().push(course);\n",
    "        in_degrees[course] +=1;\n",
    "    }\n",
    "\n",
    "    let mut queue: VecDeque<usize> = VecDeque::new();\n",
    "\n",
    "    // Add all courses with an in-degree of 0 to the queue\n",
    "    for (i, &deg) in in_degrees.iter().enumerate() {\n",
    "        if deg == 0 {\n",
    "            queue.push_back(i);\n",
    "        }\n",
    "    }\n",
    "    \n",
    "    let mut enrolled_courses = 0;\n",
    "\n",
    "    // Perform topological sort\n",
    "    while !queue.is_empty(){\n",
    "        let node = queue.pop_front().unwrap(); // safe because queue is not empty\n",
    "        enrolled_courses +=1;\n",
    "        // Avoid panic in the loop on graph[&node] by using get() and iterating over an empty slice if the key is absent\n",
    "        for &neighbor in graph.get(&node).unwrap_or(&vec![]) {\n",
    "            in_degrees[neighbor] -=1;\n",
    "            // if in_degree of a neighboring course becomes 0, add it to the queue\n",
    "            if in_degrees[neighbor]==0{\n",
    "                queue.push_back(neighbor);\n",
    "            }\n",
    "        }\n",
    "    }\n",
    "    // return true if all courses enrolled\n",
    "    enrolled_courses == n\n",
    "}\n",
    "\n",
    "fn main() {\n",
    "    let n = 3;\n",
    "    let prereq_list = vec![(0,1), (1, 2), (2, 1)];\n",
    "    println!(\"{}\", prerequisites(n, prereq_list)); // false\n",
    "}"
   ]
  },
  {
   "cell_type": "markdown",
   "id": "499827a9",
   "metadata": {},
   "source": [
    "## V2\n",
    "\n",
    "\n",
    "**About Rust :**\n",
    "* `prerequisites` argument is passed by reference \n",
    "    * allow to reveive content of a vector or content of an array by reference\n",
    "* whatchout : `for &(prerequesite, course) in prerequisites  {...`\n",
    "* `while let Some(node) = queue.pop_front() {` to simplify the while loop\n",
    "* <span style=\"color:lime\"><b>Preferred solution?</b></span>     \n",
    "* **YES** : tested on the [Rust Playground](https://play.rust-lang.org/)"
   ]
  },
  {
   "cell_type": "code",
   "execution_count": null,
   "id": "40e4ee48",
   "metadata": {
    "vscode": {
     "languageId": "rust"
    }
   },
   "outputs": [],
   "source": [
    "use std::collections::{HashMap, VecDeque};\n",
    "\n",
    "fn prerequisites(n: usize, prerequisites: &[(usize, usize)]) -> bool {\n",
    "    let mut graph: HashMap<usize, Vec<usize>> = HashMap::new(); \n",
    "    let mut in_degrees = vec![0; n];\n",
    "\n",
    "    // Represent the graph as and adjacency list and record the in_degree of each course\n",
    "    for &(prerequesite, course) in prerequisites  {\n",
    "        // Ensure the key exists and push the course (see defaultdict in Python)\n",
    "        graph.entry(prerequesite).or_default().push(course);\n",
    "        in_degrees[course] += 1;\n",
    "    }\n",
    "\n",
    "    let mut queue = VecDeque::new();\n",
    "\n",
    "    // Add all courses with an in_degree of 0 to the queue\n",
    "    for (i, &deg) in in_degrees.iter().enumerate() {\n",
    "        if deg == 0 {\n",
    "            queue.push_back(i);\n",
    "        }\n",
    "    }\n",
    "\n",
    "    let mut enrolled_courses = 0;\n",
    "\n",
    "    // Perform topological sort\n",
    "    while let Some(node) = queue.pop_front() {\n",
    "        enrolled_courses += 1;\n",
    "        // Avoid panic\n",
    "        for &neighbor in graph.get(&node).map_or(&[][..], Vec::as_slice) {\n",
    "            in_degrees[neighbor] -= 1;\n",
    "            // if in_degree of a neighboring course becomes 0, add it to the queue\n",
    "            if in_degrees[neighbor] == 0 {\n",
    "                queue.push_back(neighbor);\n",
    "            }\n",
    "        }\n",
    "    }\n",
    "    // return true if all courses enrolled\n",
    "    enrolled_courses == n\n",
    "}\n",
    "\n",
    "fn main() {\n",
    "    let n = 3;\n",
    "    let prereq_list = vec![(0, 1), (1, 2), (2, 1)]; \n",
    "    println!(\"{}\", prerequisites(n, &prereq_list)); // false\n",
    "}\n"
   ]
  }
 ],
 "metadata": {
  "kernelspec": {
   "display_name": "Rust",
   "language": "rust",
   "name": "rust"
  },
  "language_info": {
   "codemirror_mode": "rust",
   "file_extension": ".rs",
   "mimetype": "text/rust",
   "name": "Rust",
   "pygment_lexer": "rust",
   "version": ""
  }
 },
 "nbformat": 4,
 "nbformat_minor": 5
}
