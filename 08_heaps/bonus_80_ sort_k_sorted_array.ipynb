{
 "cells": [
  {
   "cell_type": "markdown",
   "id": "94586613-ae90-49c6-939f-0bf144eee5ca",
   "metadata": {},
   "source": [
    "# Sort K-Sorted Array"
   ]
  },
  {
   "cell_type": "markdown",
   "id": "65cd6265-18c0-45ca-9f3b-024885b652ee",
   "metadata": {},
   "source": [
    "Given an i32 array where each element is at most ``k`` positions away from its sorted position, sort the array in a non-decreasing order.\n",
    "\n",
    "<span style=\"color:orange\"><b>The point:</b></span>\n",
    "\n",
    "* The input is partially sorted (k-sorted)\n",
    "* Think backward\n",
    "* For any index i, the element that belongs at index i in the sorted array is located within the range [i-k, i+k]\n",
    "* It is the smallest value available in [i, i+k]\n",
    "\n",
    "**Complexity :**\n",
    "\n",
    "| Time               | Space |\n",
    "|--------------------|-------|\n",
    "| O(n log(k))               | O(k)  |\n",
    "\n",
    "* O(log(n)) because \n",
    "    * We perform heapify on a min_heap of size k+1 in O(k)\n",
    "    * push and pop operations on approximately n-k values using the heap. Since the heap can grow up to k+1 each push and pop operation takes O(log(k)). Therefore, this loop takes O(nlog(k)) in the worst case.\n",
    "    * The final while-loop where we pop k+1 values runs in O(k log(k))\n",
    "    * Overall time complexity = O(k) + O(n log(k)) + O ( k log(k)) = O (n log(k))\n",
    "        * Since k is upper-bounded by n in each operation above. This is because the heap can only ever contain at most n values. we push object to the heap in O(log(n)). \n",
    "* O(k) because the heap can grow up to k+1\n",
    "\n",
    "**About Rust :**\n",
    "* min-heap => Reverse\n",
    "* **YES** : tested on the [Rust Playground](https://play.rust-lang.org/)\n",
    "\n",
    "<!-- \n",
    "<span style=\"color:red\"><b>TODO : </b></span> \n",
    "* Add comments in the source code        \n",
    " -->\n",
    "\n",
    "\n",
    "\n"
   ]
  },
  {
   "cell_type": "markdown",
   "id": "564f1a21",
   "metadata": {},
   "source": [
    "## V1\n",
    "* Basic translation"
   ]
  },
  {
   "cell_type": "code",
   "execution_count": null,
   "id": "2f35f2e7",
   "metadata": {
    "vscode": {
     "languageId": "rust"
    }
   },
   "outputs": [],
   "source": [
    "use std::collections::BinaryHeap;\n",
    "use std::cmp::Reverse;\n",
    "\n",
    "fn sort_a_k_sorted_array(nums:&mut[i32], k:usize) -> Vec<i32> {\n",
    "    // Populate a min-heap with the first k + 1 values in 'nums'.\n",
    "    let mut min_heap = BinaryHeap::from(\n",
    "        nums.iter().take(k + 1).map(|&x| Reverse(x)).collect::<Vec<_>>() // min_heap (must be \"reversed\" element by element)\n",
    "    );\n",
    "    \n",
    "    // Replace elements in the array with the minimum from the heap at each iteration.\n",
    "    let mut insert_index = 0;\n",
    "    for i in k+1 ..nums.len() {\n",
    "        if let Some(Reverse(top)) = min_heap.pop(){ \n",
    "            nums[insert_index] = top;\n",
    "            insert_index += 1;\n",
    "            min_heap.push(Reverse(nums[i]));\n",
    "        }\n",
    "    }\n",
    "    \n",
    "    while !min_heap.is_empty(){\n",
    "        // Pop the remaining elements from the heap to finish sorting the array.\n",
    "        if let Some(Reverse(top)) = min_heap.pop(){ \n",
    "            nums[insert_index] = top;\n",
    "            insert_index +=1;\n",
    "        }\n",
    "    }\n",
    "    nums.to_vec()\n",
    "}\n",
    "\n",
    "fn main(){   // no main() if this code runs in a jupyter cell \n",
    "\n",
    "    println!(\"{:?}\", sort_a_k_sorted_array(&mut[5, 1, 9, 4, 7, 10], 2)); //[1, 4, 5, 7, 9, 10]\n",
    "    \n",
    "} // end of local scope OR end of main()       "
   ]
  },
  {
   "cell_type": "markdown",
   "id": "b6bfe0e1",
   "metadata": {},
   "source": [
    "## V2\n",
    "* No longer work in place\n",
    "* Create a `result` vector to be returned\n",
    "    * No `mut` when calling the function\n",
    "* Use a slice in the ``for`` loop\n",
    "    * `for &num in &nums[k + 1..] {`"
   ]
  },
  {
   "cell_type": "code",
   "execution_count": null,
   "id": "27d7f3b4",
   "metadata": {
    "vscode": {
     "languageId": "rust"
    }
   },
   "outputs": [],
   "source": [
    "use std::collections::BinaryHeap;\n",
    "use std::cmp::Reverse;\n",
    "\n",
    "fn sort_a_k_sorted_array(nums: &[i32], k: usize) -> Vec<i32> {\n",
    "    // Populate a min-heap with the first k + 1 values in 'nums'.\n",
    "    let mut min_heap = BinaryHeap::from(\n",
    "        // min_heap (must be \"reversed\" element by element)\n",
    "        nums.iter().take(k + 1).map(|&x| Reverse(x)).collect::<Vec<_>>() \n",
    "    );\n",
    "\n",
    "    // Replace elements in the array with the minimum from the heap at each iteration.\n",
    "    let mut result = Vec::with_capacity(nums.len());\n",
    "    for &num in &nums[k + 1..] {\n",
    "        if let Some(Reverse(top)) = min_heap.pop() {\n",
    "            result.push(top);\n",
    "        }\n",
    "        min_heap.push(Reverse(num));\n",
    "    }\n",
    "\n",
    "    while let Some(Reverse(top)) = min_heap.pop() {\n",
    "        // Pop the remaining elements from the heap to finish sorting the array.\n",
    "        result.push(top);\n",
    "    }\n",
    "    result\n",
    "}\n",
    "\n",
    "fn main(){   // no main() if this code runs in a jupyter cell \n",
    "    println!(\"{:?}\", sort_a_k_sorted_array(&[5, 1, 9, 4, 7, 10], 2)); //[1, 4, 5, 7, 9, 10]\n",
    "} // end of local scope OR end of main()       "
   ]
  },
  {
   "cell_type": "markdown",
   "id": "1180acc7",
   "metadata": {},
   "source": [
    "## V3\n",
    "* In the `for` loop\n",
    "    * Replace `if let` with `result.push(min_heap.pop().unwrap().0);`"
   ]
  },
  {
   "cell_type": "code",
   "execution_count": null,
   "id": "7add8aa0",
   "metadata": {
    "vscode": {
     "languageId": "rust"
    }
   },
   "outputs": [],
   "source": [
    "use std::collections::BinaryHeap;\n",
    "use std::cmp::Reverse;\n",
    "\n",
    "fn sort_a_k_sorted_array(nums: &[i32], k: usize) -> Vec<i32> {\n",
    "    \n",
    "    // Populate a min-heap with the first k + 1 values from nums\n",
    "    let mut min_heap = BinaryHeap::from(\n",
    "        // min_heap (must be \"reversed\" element by element)\n",
    "        nums.iter().take(k + 1).map(|&x| Reverse(x)).collect::<Vec<_>>()\n",
    "    );\n",
    "    \n",
    "    // Replace elements in the array with the minimum from the heap at each iteration.\n",
    "    let mut result = Vec::with_capacity(nums.len());\n",
    "    for &num in nums.iter().skip(k + 1) {\n",
    "        result.push(min_heap.pop().unwrap().0);\n",
    "        min_heap.push(Reverse(num));\n",
    "    }\n",
    "\n",
    "    while let Some(Reverse(top)) = min_heap.pop() {\n",
    "        // Pop the remaining elements from the heap to finish sorting the array.\n",
    "        result.push(top);\n",
    "    }\n",
    "\n",
    "    result\n",
    "}\n",
    "\n",
    "fn main(){   // no main() if this code runs in a jupyter cell \n",
    "    println!(\"{:?}\", sort_a_k_sorted_array(&[5, 1, 9, 4, 7, 10], 2)); //[1, 4, 5, 7, 9, 10]\n",
    "} // end of local scope OR end of main()       "
   ]
  }
 ],
 "metadata": {
  "kernelspec": {
   "display_name": "Rust",
   "language": "rust",
   "name": "rust"
  },
  "language_info": {
   "codemirror_mode": "rust",
   "file_extension": ".rs",
   "mimetype": "text/rust",
   "name": "Rust",
   "pygment_lexer": "rust",
   "version": ""
  }
 },
 "nbformat": 4,
 "nbformat_minor": 5
}
