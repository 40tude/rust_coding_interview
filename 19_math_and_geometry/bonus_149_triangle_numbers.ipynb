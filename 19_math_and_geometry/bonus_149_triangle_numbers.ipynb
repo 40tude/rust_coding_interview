{
    "cells": [
        {
            "cell_type": "markdown",
            "id": "94586613-ae90-49c6-939f-0bf144eee5ca",
            "metadata": {},
            "source": [
                "# Triangle Numbers"
            ]
        },
        {
            "cell_type": "markdown",
            "id": "65cd6265-18c0-45ca-9f3b-024885b652ee",
            "metadata": {},
            "source": [
                "<div align=\"center\">\n",
                "<img src=\"../assets/chap_19.webp\" alt=\"\" width=\"300\" loading=\"lazy\"/>\n",
                "</div>\n",
                "\n",
                "* Consider a triangle composed of numbers where the top of the triangle is 1. \n",
                "* Each subsequent number in the triangle is equal to the sum of three numbers above it\n",
                "    1. its top-left number, \n",
                "    1. its top number\n",
                "    1. its top-right number. \n",
                "* If any of these three numbers don’t exist, assume they are equal to 0.\n",
                "* Given a value representing a row of this triangle, return the position of the first even number in this row. \n",
                "* Assume the first number in each row is at position 1.\n",
                "\n",
                "\n",
                "<span style=\"color:orange\"><b>The point:</b></span>\n",
                "\n",
                "* The triangle is symmetric (can exclude right half)\n",
                "* Pascal's triangle\n",
                "* We only care about the parity of each number (NOT the values)\n",
                "* Even numbers only begin appearing from row 3 onward\n",
                "\n",
                "\n",
                "\n",
                "\n",
                "**Complexity :**\n",
                "\n",
                "| Time         | Space      |\n",
                "|--------------|------------|\n",
                "| O(1)         | O(1)       |\n",
                "\n",
                "\n",
                "\n",
                "\n",
                "<!-- <span style=\"color:red\"><b>TODO : </b></span> \n",
                "* Add comments in code -->\n",
                "\n",
                "\n",
                "<!-- * <span style=\"color:lime\"><b>Preferred solution?</b></span>      -->\n",
                "\n"
            ]
        },
        {
            "cell_type": "markdown",
            "id": "31e0087e",
            "metadata": {},
            "source": [
                "## V1\n",
                "\n",
                "**About Rust :**\n",
                "* Basic implementation\n",
                "* **YES** : tested on the [Rust Playground](https://play.rust-lang.org/)\n"
            ]
        },
        {
            "cell_type": "code",
            "execution_count": null,
            "id": "cd43545b",
            "metadata": {
                "vscode": {
                    "languageId": "rust"
                }
            },
            "outputs": [],
            "source": [
                "fn triangle_numbers(n: usize) -> usize{\n",
                "\n",
                "    // If n is an odd-numbered row, the first even number always starts at position 2\n",
                "    if n % 2 != 0{\n",
                "        return 2;\n",
                "    // If n is a multiple of 4, the first even number always starts at position 3.\n",
                "    }else if n % 4 == 0{\n",
                "        return 3;\n",
                "    }\n",
                "    // For all other rows, the first even number always starts at position 4.\n",
                "    return 4\n",
                "}\n",
                "\n",
                "fn main() { // no main() if this code runs in a Jupyter cell \n",
                "    println!(\"{}\", triangle_numbers(4)); // 3\n",
                "} // end of local scope OR end of main()"
            ]
        },
        {
            "cell_type": "markdown",
            "id": "455ff798",
            "metadata": {},
            "source": [
                "## V2\n",
                "\n",
                "**About Rust :**\n",
                "* No ``return``\n",
                "* **YES** : tested on the [Rust Playground](https://play.rust-lang.org/)\n"
            ]
        },
        {
            "cell_type": "code",
            "execution_count": null,
            "id": "ce69efc8",
            "metadata": {
                "vscode": {
                    "languageId": "rust"
                }
            },
            "outputs": [],
            "source": [
                "fn triangle_numbers(n: usize) -> usize {\n",
                "    if n % 2 == 1 {\n",
                "        2\n",
                "    } else if n % 4 == 0 {\n",
                "        3\n",
                "    } else {\n",
                "        4\n",
                "    }\n",
                "}\n",
                "\n",
                "fn main() { // no main() if this code runs in a Jupyter cell \n",
                "    println!(\"{}\", triangle_numbers(4)); // 3\n",
                "} // end of local scope OR end of main()"
            ]
        },
        {
            "cell_type": "markdown",
            "id": "72a426a0",
            "metadata": {},
            "source": [
                "## V3\n",
                "\n",
                "**About Rust :**\n",
                "* Using ``match`` with tuples and `_`\n",
                "* No ``return``\n",
                "* **YES** : tested on the [Rust Playground](https://play.rust-lang.org/)\n"
            ]
        },
        {
            "cell_type": "code",
            "execution_count": null,
            "id": "72567122",
            "metadata": {
                "vscode": {
                    "languageId": "rust"
                }
            },
            "outputs": [],
            "source": [
                "fn triangle_numbers(n: usize) -> usize {\n",
                "    match (n % 2, n % 4) {\n",
                "        (1, _) => 2,    // n is odd\n",
                "        (0, 0) => 3,    // n divisible by 4\n",
                "        (0, _) => 4,    // n even but not divisible by 4\n",
                "        _ => unreachable!(), // impossible case\n",
                "    }\n",
                "}\n",
                "\n",
                "fn main() { // no main() if this code runs in a Jupyter cell \n",
                "    println!(\"{}\", triangle_numbers(4)); // 3\n",
                "} // end of local scope OR end of main()"
            ]
        },
        {
            "cell_type": "markdown",
            "id": "2e9902a9",
            "metadata": {},
            "source": [
                "# V4\n",
                "\n",
                "**About Rust :**\n",
                "* Compile-time evaluation\n",
                "    * See ``constexpr`` in C++\n",
                "* <span style=\"color:lime\"><b>Preferred solution?</b></span>\n",
                "* **YES** : tested on the [Rust Playground](https://play.rust-lang.org/)"
            ]
        },
        {
            "cell_type": "code",
            "execution_count": null,
            "id": "ff45e3c3",
            "metadata": {
                "vscode": {
                    "languageId": "rust"
                }
            },
            "outputs": [],
            "source": [
                "const fn triangle_numbers(n: usize) -> usize {\n",
                "    if n % 2 == 1 {\n",
                "        2\n",
                "    } else if n % 4 == 0 {\n",
                "        3\n",
                "    } else {\n",
                "        4\n",
                "    }\n",
                "}\n",
                "\n",
                "fn main() {\n",
                "    const N: usize = triangle_numbers(4); // compile-time evaluation\n",
                "    println!(\"{}\", N); // 3\n",
                "}"
            ]
        }
    ],
    "metadata": {
        "kernelspec": {
            "display_name": "Rust",
            "language": "rust",
            "name": "rust"
        },
        "language_info": {
            "codemirror_mode": "rust",
            "file_extension": ".rs",
            "mimetype": "text/rust",
            "name": "Rust",
            "pygment_lexer": "rust",
            "version": ""
        }
    },
    "nbformat": 4,
    "nbformat_minor": 5
}
