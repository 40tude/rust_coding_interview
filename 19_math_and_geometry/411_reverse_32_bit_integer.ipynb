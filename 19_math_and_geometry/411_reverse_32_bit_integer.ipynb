{
 "cells": [
  {
   "cell_type": "markdown",
   "id": "94586613-ae90-49c6-939f-0bf144eee5ca",
   "metadata": {},
   "source": [
    "# Reverse 32-Bit integer"
   ]
  },
  {
   "cell_type": "markdown",
   "id": "65cd6265-18c0-45ca-9f3b-024885b652ee",
   "metadata": {},
   "source": [
    "Reverse the digits of a i32\n",
    "* If overflow (out of [-2^31, 2^31-1]) return 0\n",
    "* You can only store int in the 32 bit range\n",
    "\n",
    "\n",
    "<span style=\"color:orange\"><b>The point:</b></span>\n",
    "\n",
    "* Reminder and i32 div\n",
    "* Edge cases : `reversed>INT_MAX//10` (`reversed<INT_MAX//10` if neg) \n",
    "\n",
    "\n",
    "**Complexity :**\n",
    "\n",
    "| Time         | Space      |\n",
    "|--------------|------------|\n",
    "| O(1)         | O(1)       |\n",
    "\n",
    "* O(log(n)) in time because we traverse each digit and the number of digits is around log(n) (log10(n)). We can consider O(1) since i32\n",
    "* O(1) in space  \n",
    "\n",
    "\n",
    "\n",
    "\n",
    "\n",
    "**About Rust :**\n",
    "* <span style=\"color:lime\"><b>Preferred solution?</b></span>\n",
    "* **YES** : tested on the [Rust Playground](https://play.rust-lang.org/)\n",
    "\n",
    "\n",
    "\n",
    "\n",
    "<!-- <span style=\"color:red\"><b>TODO : </b></span> \n",
    "* Add comments in code -->\n",
    "\n",
    "\n",
    "<!-- * <span style=\"color:lime\"><b>Preferred solution?</b></span>      -->\n",
    "\n"
   ]
  },
  {
   "cell_type": "code",
   "execution_count": null,
   "id": "cd43545b",
   "metadata": {
    "vscode": {
     "languageId": "rust"
    }
   },
   "outputs": [],
   "source": [
    "fn reverse_32_bit_integer(mut n : i32) -> i32{\n",
    "    let mut reversed_n = 0;\n",
    "\n",
    "    // keep looping until we've added all digits\n",
    "    while n != 0 {\n",
    "        let digit = n % 10;\n",
    "        n /= 10;\n",
    "        // if reversed_n > i32::MAX/10 || reversed_n < i32::MIN/10 {\n",
    "        if !(i32::MIN/10..=i32::MAX/10).contains(&reversed_n) {\n",
    "            return 0\n",
    "        }\n",
    "        reversed_n = reversed_n * 10 + digit;\n",
    "    }\n",
    "    reversed_n\n",
    "}\n",
    "\n",
    "fn main() { // no main() if this code runs in a Jupyter cell \n",
    "    println!(\"{}\", reverse_32_bit_integer(420)); // 24\n",
    "    println!(\"{}\", reverse_32_bit_integer(-15)); // -51\n",
    "    println!(\"{}\", reverse_32_bit_integer( 1534236469)); // 0\n",
    "    println!(\"{}\", reverse_32_bit_integer(-1563847412)); // 0\n",
    "} // end of local scope OR end of main()"
   ]
  },
  {
   "cell_type": "markdown",
   "id": "8e040b52",
   "metadata": {},
   "source": [
    "## V2\n",
    "\n",
    "\n",
    "**About Rust :**\n",
    "* Hide the compare to i32::MAX and i32::MIN\n",
    "    * Not sure it's such a good idea\n",
    "* **YES** : tested on the [Rust Playground](https://play.rust-lang.org/)\n"
   ]
  },
  {
   "cell_type": "code",
   "execution_count": null,
   "id": "23a4973d",
   "metadata": {
    "vscode": {
     "languageId": "rust"
    }
   },
   "outputs": [],
   "source": [
    "fn reverse_32_bit_integer(mut n: i32) -> i32 {\n",
    "    let mut reversed_n : i32 = 0;\n",
    "\n",
    "    while n != 0 {\n",
    "        let digit = n % 10;  // Extract the last digit\n",
    "        n /= 10;             // Remove the last digit from n\n",
    "        reversed_n = match reversed_n.checked_mul(10).and_then(|v| v.checked_add(digit)) {\n",
    "            Some(val) => val, // Safe to proceed\n",
    "            None => return 0, // Overflow detected, return 0 immediately\n",
    "        };\n",
    "    }\n",
    "    reversed_n\n",
    "}\n",
    "\n",
    "fn main() { // no main() if this code runs in a Jupyter cell \n",
    "    println!(\"{}\", reverse_32_bit_integer(420)); // 24\n",
    "    println!(\"{}\", reverse_32_bit_integer(-15)); // -51\n",
    "    println!(\"{}\", reverse_32_bit_integer( 1534236469)); // 0\n",
    "    println!(\"{}\", reverse_32_bit_integer(-1563847412)); // 0\n",
    "} // end of local scope OR end of main()\n"
   ]
  }
 ],
 "metadata": {
  "kernelspec": {
   "display_name": "Rust",
   "language": "rust",
   "name": "rust"
  },
  "language_info": {
   "codemirror_mode": "rust",
   "file_extension": ".rs",
   "mimetype": "text/rust",
   "name": "Rust",
   "pygment_lexer": "rust",
   "version": ""
  }
 },
 "nbformat": 4,
 "nbformat_minor": 5
}
