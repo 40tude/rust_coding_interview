{
 "cells": [
  {
   "cell_type": "markdown",
   "id": "94586613-ae90-49c6-939f-0bf144eee5ca",
   "metadata": {},
   "source": [
    "# The Josephus Problem"
   ]
  },
  {
   "cell_type": "markdown",
   "id": "65cd6265-18c0-45ca-9f3b-024885b652ee",
   "metadata": {},
   "source": [
    "There are n people standing in a circle, numbered from 0 to `n - 1`. \n",
    "* Starting from person 0, count `k` people clockwise and remove the kth person. \n",
    "* After the removal, begin counting again from the next person still in the circle. \n",
    "* Repeat this process until only one person remains, and return that person’s position.\n",
    "\n",
    "<span style=\"color:orange\"><b>The point:</b></span>\n",
    "\n",
    "* Naïve approach in O(n x k)\n",
    "* subproblem\n",
    "* recursive : `josephus(n, k) = (josephus(n - 1, k) + k) % n`\n",
    "\n",
    "**Complexity :**\n",
    "\n",
    "| Time         | Space      |\n",
    "|--------------|------------|\n",
    "| O(n)         | O(1)       |\n",
    "\n",
    "* O(n) in time because we iterate n sub-problems\n",
    "* O(1) in space because in place  \n",
    "\n",
    "\n",
    "\n",
    "\n",
    "\n",
    "\n",
    "\n",
    "\n",
    "\n",
    "<!-- <span style=\"color:red\"><b>TODO : </b></span> \n",
    "* Add comments in code -->\n",
    "\n",
    "\n",
    "<!-- * <span style=\"color:lime\"><b>Preferred solution?</b></span>      -->\n",
    "\n"
   ]
  },
  {
   "cell_type": "markdown",
   "id": "00289aaa",
   "metadata": {},
   "source": [
    "## V1\n",
    "\n",
    "**About Rust :**\n",
    "* **YES** : tested on the [Rust Playground](https://play.rust-lang.org/)\n"
   ]
  },
  {
   "cell_type": "code",
   "execution_count": null,
   "id": "cd43545b",
   "metadata": {
    "vscode": {
     "languageId": "rust"
    }
   },
   "outputs": [],
   "source": [
    "fn josephus(n: i32, k: i32) -> i32{\n",
    "    // If there's only one person, the last person is person 0\n",
    "    if n == 1{\n",
    "        return 0;\n",
    "    }\n",
    "    // Calculate the position of the last person remaining in the reduced problem with 'n - 1' people\n",
    "    // We use modulo 'n' to ensure the answer doesn't exceed 'n - 1'\n",
    "    (josephus(n - 1, k) + k) % n\n",
    "}\n",
    "\n",
    "fn main() { // no main() if this code runs in a Jupyter cell \n",
    "    println!(\"{}\", josephus(5, 2)); // 2\n",
    "    println!(\"{}\", josephus(6, 2)); // 4\n",
    "} // end of local scope OR end of main()"
   ]
  },
  {
   "cell_type": "code",
   "execution_count": null,
   "id": "9e7e2b99",
   "metadata": {
    "vscode": {
     "languageId": "rust"
    }
   },
   "outputs": [],
   "source": [
    "fn josephus(n: usize, k: usize) -> usize{\n",
    "    \n",
    "    match n {\n",
    "        1 => 0, \n",
    "        _ => (josephus(n - 1, k) + k) % n\n",
    "    }\n",
    "}\n",
    "\n",
    "fn main() { // no main() if this code runs in a Jupyter cell \n",
    "    println!(\"{}\", josephus(5, 2)); // 2\n",
    "    println!(\"{}\", josephus(6, 2)); // 4\n",
    "} // end of local scope OR end of main()"
   ]
  },
  {
   "cell_type": "markdown",
   "id": "7f35c862",
   "metadata": {},
   "source": [
    "## Optimization\n",
    "\n",
    "* No recursion\n",
    "* bottom-up iterative approach\n",
    "* we only ever need access to the previous value ``res``\n",
    "\n",
    "\n",
    "**About Rust :**\n",
    "\n",
    "* **YES** : tested on the [Rust Playground](https://play.rust-lang.org/)\n"
   ]
  },
  {
   "cell_type": "code",
   "execution_count": null,
   "id": "f70d3b2b",
   "metadata": {
    "vscode": {
     "languageId": "rust"
    }
   },
   "outputs": [],
   "source": [
    "fn josephus_optimized(n: usize, k: usize) -> usize{\n",
    "    let mut res = 0;\n",
    "    for i in 2..n + 1{\n",
    "        res = (res + k) % i;\n",
    "    }\n",
    "    res\n",
    "}\n",
    "\n",
    "fn main() { // no main() if this code runs in a Jupyter cell \n",
    "    println!(\"{}\", josephus_optimized(5, 2)); // 2\n",
    "    println!(\"{}\", josephus_optimized(6, 2)); // 4\n",
    "} // end of local scope OR end of main()"
   ]
  },
  {
   "cell_type": "markdown",
   "id": "a6c2445d",
   "metadata": {},
   "source": [
    "## V2\n",
    "\n",
    "**About Rust :**\n",
    "* Avoid raw loop\n",
    "* `(2..=n).fold(0, |res, i| (res + k) % i)`\n",
    "* <span style=\"color:lime\"><b>Preferred solution?</b></span>\n",
    "* **YES** : tested on the [Rust Playground](https://play.rust-lang.org/)"
   ]
  },
  {
   "cell_type": "code",
   "execution_count": null,
   "id": "7641f4b1",
   "metadata": {
    "vscode": {
     "languageId": "rust"
    }
   },
   "outputs": [],
   "source": [
    "fn josephus_optimized(n: usize, k: usize) -> usize {\n",
    "    (2..=n).fold(0, |res, i| (res + k) % i)\n",
    "}\n",
    "\n",
    "fn main() { // no main() if this code runs in a Jupyter cell \n",
    "    println!(\"{}\", josephus_optimized(5, 2)); // 2\n",
    "    println!(\"{}\", josephus_optimized(6, 2)); // 4\n",
    "} // end of local scope OR end of main()"
   ]
  }
 ],
 "metadata": {
  "kernelspec": {
   "display_name": "Rust",
   "language": "rust",
   "name": "rust"
  },
  "language_info": {
   "codemirror_mode": "rust",
   "file_extension": ".rs",
   "mimetype": "text/rust",
   "name": "Rust",
   "pygment_lexer": "rust",
   "version": ""
  }
 },
 "nbformat": 4,
 "nbformat_minor": 5
}
