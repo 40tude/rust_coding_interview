{
 "cells": [
  {
   "cell_type": "markdown",
   "id": "94586613-ae90-49c6-939f-0bf144eee5ca",
   "metadata": {},
   "source": [
    "# Spiral Traversal"
   ]
  },
  {
   "cell_type": "markdown",
   "id": "65cd6265-18c0-45ca-9f3b-024885b652ee",
   "metadata": {},
   "source": [
    "Return the elements of a matrix in clockwise spiral order\n",
    "\n",
    "\n",
    "<span style=\"color:orange\"><b>The point:</b></span>\n",
    "\n",
    "* Double check that top boundary does not pass bottom boundary\n",
    "* Obviously the other invariant is left <= right\n",
    "\n",
    "\n",
    "\n",
    "**Complexity :**\n",
    "\n",
    "| Time         | Space      |\n",
    "|--------------|------------|\n",
    "| O(m x n)     | O(1)   |\n",
    "\n",
    "* O(m x n) in time because we traverse each cell once\n",
    "* O(1) in space because the `res` array is not counted \n",
    "\n",
    "\n",
    "\n",
    "\n",
    "\n",
    "\n",
    "\n",
    "\n",
    "\n",
    "<!-- <span style=\"color:red\"><b>TODO : </b></span> \n",
    "* Add comments in code -->\n"
   ]
  },
  {
   "cell_type": "markdown",
   "id": "3c624737",
   "metadata": {},
   "source": [
    "## V1\n",
    "\n",
    "**About Rust :**\n",
    "\n",
    "* **YES** : tested on the [Rust Playground](https://play.rust-lang.org/)\n"
   ]
  },
  {
   "cell_type": "code",
   "execution_count": null,
   "id": "cd43545b",
   "metadata": {
    "vscode": {
     "languageId": "rust"
    }
   },
   "outputs": [],
   "source": [
    "fn spiral_matrix(matrix : Vec<Vec<i32>>) -> Vec<i32>{\n",
    "    if matrix.is_empty(){\n",
    "        return vec![];\n",
    "    }\n",
    "\n",
    "    let mut result = Vec::new();\n",
    "    \n",
    "    // Initialize matrix boundaries\n",
    "    let (mut top, mut bottom) = (0, matrix.len()-1);\n",
    "    let (mut left, mut right) = (0, matrix[0].len()-1);\n",
    "\n",
    "    // Traverse the matrix in spiral order\n",
    "    while top <= bottom && left <= right {\n",
    "        // Move from left to right along top boundary\n",
    "        for i in left..right+1{\n",
    "            result.push(matrix[top][i]);\n",
    "        }\n",
    "        top +=1;\n",
    "        // Move from top to bottom along right boundary\n",
    "        for i in top..bottom+1{\n",
    "            result.push(matrix[i][right]);\n",
    "        }\n",
    "        right -=1;\n",
    "        // Check the bottom boundary and move to the left along bottom\n",
    "        if top <= bottom{\n",
    "            for i in (left..=right).rev() {\n",
    "                result.push(matrix[bottom][i]);\n",
    "            }\n",
    "            bottom -=1;\n",
    "        }\n",
    "        // Check the left boundary and move to the top along left\n",
    "        if left <= right {\n",
    "            for i in (top..=bottom).rev() {\n",
    "                result.push(matrix[i][left]);\n",
    "            }\n",
    "            left +=1;\n",
    "        }\n",
    "    }\n",
    "    result\n",
    "}\n",
    "\n",
    "fn main() { // no main() if this code runs in a Jupyter cell \n",
    "    let my_matrix = vec![\n",
    "        vec![ 0,  1,  2,  3,  4],\n",
    "        vec![ 5,  6,  7 , 8,  9],\n",
    "        vec![10, 11, 12 ,13, 14],\n",
    "        vec![15, 16, 17, 18, 19],\n",
    "    ];\n",
    "    println!(\"{:?}\", spiral_matrix(my_matrix)); // [0, 1, 2, 3, 4, 9, 14, 19, 18, 17, 16, 15, 10, 5, 6, 7, 8, 13, 12, 11]\n",
    "} // end of local scope OR end of main()"
   ]
  },
  {
   "cell_type": "markdown",
   "id": "099bf6bd",
   "metadata": {},
   "source": [
    "## V2\n",
    "\n",
    "**About Rust :**\n",
    "* `let mut result = Vec::with_capacity(rows * cols);`\n",
    "* **No raw loops**\n",
    "    * ``result.extend((left..=right).map(|i| matrix[top][i]));``\n",
    "* **YES** : tested on the [Rust Playground](https://play.rust-lang.org/)\n",
    "\n"
   ]
  },
  {
   "cell_type": "code",
   "execution_count": null,
   "id": "b1971089",
   "metadata": {
    "vscode": {
     "languageId": "rust"
    }
   },
   "outputs": [],
   "source": [
    "fn spiral_matrix(matrix: &[Vec<i32>]) -> Vec<i32> {\n",
    "    if matrix.is_empty() || matrix[0].is_empty() {\n",
    "        return vec![];\n",
    "    }\n",
    "\n",
    "    let rows = matrix.len();\n",
    "    let cols = matrix[0].len();\n",
    "    let mut result = Vec::with_capacity(rows * cols);\n",
    "\n",
    "    // Initialize matrix boundaries\n",
    "    let (mut top, mut bottom) = (0, rows - 1);\n",
    "    let (mut left, mut right) = (0, cols - 1);\n",
    "\n",
    "    // Traverse the matrix in spiral order\n",
    "    while top <= bottom && left <= right {\n",
    "        // Move from left to right\n",
    "        result.extend((left..=right).map(|i| matrix[top][i]));\n",
    "        top += 1;\n",
    "\n",
    "        // Move from top to bottom\n",
    "        result.extend((top..=bottom).map(|i| matrix[i][right]));\n",
    "        if right == 0 { break; }\n",
    "        right -= 1;\n",
    "\n",
    "        // Move from right to left\n",
    "        if top <= bottom {\n",
    "            result.extend((left..=right).rev().map(|i| matrix[bottom][i]));\n",
    "            if bottom == 0 { break; }\n",
    "            bottom -= 1;\n",
    "        }\n",
    "\n",
    "        // Move from bottom to top\n",
    "        if left <= right {\n",
    "            result.extend((top..=bottom).rev().map(|i| matrix[i][left]));\n",
    "            left += 1;\n",
    "        }\n",
    "    }\n",
    "    result\n",
    "}\n",
    "\n",
    "fn main() { // no main() if this code runs in a Jupyter cell \n",
    "    let my_matrix = vec![\n",
    "        vec![ 0,  1,  2,  3,  4],\n",
    "        vec![ 5,  6,  7,  8,  9],\n",
    "        vec![10, 11, 12, 13, 14],\n",
    "        vec![15, 16, 17, 18, 19],\n",
    "    ];\n",
    "    println!(\"{:?}\", spiral_matrix(&my_matrix)); // [0, 1, 2, 3, 4, 9, 14, 19, 18, 17, 16, 15, 10, 5, 6, 7, 8, 13, 12, 11]\n",
    "} // end of local scope OR end of main()\n",
    "\n"
   ]
  }
 ],
 "metadata": {
  "kernelspec": {
   "display_name": "Rust",
   "language": "rust",
   "name": "rust"
  },
  "language_info": {
   "codemirror_mode": "rust",
   "file_extension": ".rs",
   "mimetype": "text/rust",
   "name": "Rust",
   "pygment_lexer": "rust",
   "version": ""
  }
 },
 "nbformat": 4,
 "nbformat_minor": 5
}
