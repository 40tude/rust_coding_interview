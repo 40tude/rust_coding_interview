{
 "cells": [
  {
   "cell_type": "markdown",
   "id": "94586613-ae90-49c6-939f-0bf144eee5ca",
   "metadata": {},
   "source": [
    "# Swap Odd and Even Bits"
   ]
  },
  {
   "cell_type": "markdown",
   "id": "65cd6265-18c0-45ca-9f3b-024885b652ee",
   "metadata": {},
   "source": [
    "Given an u32 return an integer where all the  bits in even position are swapped with their adjacent odd bits\n",
    "\n",
    "<span style=\"color:orange\"><b>The point:</b></span>\n",
    "\n",
    "* bit in even position swapped with the bit in the next odd position (adjacent)\n",
    "* all bits in even position need to shift by 1 on the left\n",
    "* all bits in odd position need to shift by 1 on the right\n",
    "* use a mask (*smoking!*) + bitwise-and\n",
    "\n",
    "\n",
    "\n",
    "\n",
    "**Complexity :**\n",
    "\n",
    "| Time         | Space      |\n",
    "|--------------|------------|\n",
    "| O(1)         | O(1)       |\n",
    "\n",
    "\n",
    "\n",
    "\n",
    "**About Rust :**\n",
    "* Basic translation\n",
    "* **YES** : tested on the [Rust Playground](https://play.rust-lang.org/)\n",
    "\n",
    "\n",
    "<!-- <span style=\"color:red\"><b>TODO : </b></span> \n",
    "* Add comments in code -->\n"
   ]
  },
  {
   "cell_type": "code",
   "execution_count": null,
   "id": "cd43545b",
   "metadata": {
    "vscode": {
     "languageId": "rust"
    }
   },
   "outputs": [],
   "source": [
    "fn swap_odd_and_even_bits(n : u32) -> u32{\n",
    "    let even_mask = 0x5555_5555;\n",
    "    let odd_mask = 0xAAAA_AAAA;\n",
    "    let even_bits = n & even_mask;\n",
    "    let odd_bits = n & odd_mask;\n",
    "    // shift the even bit to the lef, the odd bit to the right\n",
    "    // merge\n",
    "    (even_bits<<1) | (odd_bits>>1)\n",
    "}\n",
    "\n",
    "fn main() { // no main() if this code runs in a Jupyter cell \n",
    "    println!(\"{}\", swap_odd_and_even_bits(41)); // 22\n",
    "    println!(\"{}\", swap_odd_and_even_bits(23)); // 43\n",
    "} // end of local scope OR end of main()"
   ]
  }
 ],
 "metadata": {
  "kernelspec": {
   "display_name": "Rust",
   "language": "rust",
   "name": "rust"
  },
  "language_info": {
   "codemirror_mode": "rust",
   "file_extension": ".rs",
   "mimetype": "text/rust",
   "name": "Rust",
   "pygment_lexer": "rust",
   "version": ""
  }
 },
 "nbformat": 4,
 "nbformat_minor": 5
}
