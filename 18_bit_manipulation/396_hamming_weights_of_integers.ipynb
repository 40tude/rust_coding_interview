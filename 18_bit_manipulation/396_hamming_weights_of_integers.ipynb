{
 "cells": [
  {
   "cell_type": "markdown",
   "id": "94586613-ae90-49c6-939f-0bf144eee5ca",
   "metadata": {},
   "source": [
    "# Hamming Weights of Integer"
   ]
  },
  {
   "cell_type": "markdown",
   "id": "65cd6265-18c0-45ca-9f3b-024885b652ee",
   "metadata": {},
   "source": [
    "* The Hamming weight of an integer is the number of bits set to 1\n",
    "* Given a positive integer `n` return an array where the ith element is the Hamming weight of integer `i` for all integers from `0` to `n`\n",
    "\n",
    "<span style=\"color:orange\"><b>The point:</b></span>\n",
    "\n",
    "* Check if LSB and shift right\n",
    "\n",
    "\n",
    "\n",
    "\n",
    "**Complexity :**\n",
    "\n",
    "| Time         | Space      |\n",
    "|--------------|------------|\n",
    "| O(nlog(n))   | O(1)       |\n",
    "\n",
    "* O(nlog(n)) in time because for each integer from 0 to n, counting the number of bits set is in log(n) => n log(n)\n",
    "* O(1) in space because in place  \n",
    "\n",
    "\n",
    "\n",
    "\n",
    "\n",
    "\n",
    "\n",
    "\n",
    "\n",
    "<!-- <span style=\"color:red\"><b>TODO : </b></span> \n",
    "* Add comments in code -->\n",
    "\n",
    "\n",
    "<!-- * <span style=\"color:lime\"><b>Preferred solution?</b></span>      -->\n",
    "\n"
   ]
  },
  {
   "cell_type": "markdown",
   "id": "31e0087e",
   "metadata": {},
   "source": [
    "## V1\n",
    "\n",
    "**About Rust :**\n",
    "* Basic translation\n",
    "* **YES** : tested on the [Rust Playground](https://play.rust-lang.org/)\n"
   ]
  },
  {
   "cell_type": "code",
   "execution_count": null,
   "id": "cd43545b",
   "metadata": {
    "vscode": {
     "languageId": "rust"
    }
   },
   "outputs": [],
   "source": [
    "fn count_set_bits(mut x : u32) -> usize{\n",
    "    let mut count:usize = 0;\n",
    "    // count each bit set to 1 until x equal 0\n",
    "    while x>0{\n",
    "        if x&1 == 1 {\n",
    "            count +=1; // Increment count if LSB is 1\n",
    "        }\n",
    "        x >>= 1; // right shift\n",
    "    }\n",
    "    count\n",
    "}\n",
    "\n",
    "fn hamming_weights_of_integers(n: u32) -> Vec<usize>{\n",
    " let mut out_vect = Vec::new();\n",
    " for x in 0..=n{\n",
    "    out_vect.push(count_set_bits(x));\n",
    " }   \n",
    " out_vect\n",
    "}\n",
    "\n",
    "fn main() { // no main() if this code runs in a Jupyter cell \n",
    "    println!(\"{:?}\", hamming_weights_of_integers(7)); // [0, 1, 1, 2, 1, 2, 2, 3]\n",
    "} // end of local scope OR end of main()"
   ]
  },
  {
   "cell_type": "markdown",
   "id": "85dafde3",
   "metadata": {},
   "source": [
    "## V2\n",
    "\n",
    "**About Rust :**\n",
    "* `(0..=n).map(count_set_bits).collect()`\n",
    "* **YES** : tested on the [Rust Playground](https://play.rust-lang.org/)\n"
   ]
  },
  {
   "cell_type": "code",
   "execution_count": null,
   "id": "187a8f44",
   "metadata": {
    "vscode": {
     "languageId": "rust"
    }
   },
   "outputs": [],
   "source": [
    "fn count_set_bits(mut x: usize) -> usize {\n",
    "    let mut count = 0;\n",
    "    // count each bit set to 1 until x equal 0\n",
    "    while x != 0 {\n",
    "        count += x & 1; // Add LSB to count\n",
    "        x >>= 1;        // Right shift by 1\n",
    "    }\n",
    "    count\n",
    "}\n",
    "\n",
    "fn hamming_weights_of_integers(n: usize) -> Vec<usize> {\n",
    "    // Create a Vec by mapping each number in the range 0..=n to its Hamming weight\n",
    "    (0..=n).map(count_set_bits).collect()\n",
    "}\n",
    "\n",
    "\n",
    "fn main() { // no main() if this code runs in a Jupyter cell \n",
    "    println!(\"{:?}\", hamming_weights_of_integers(7)); // [0, 1, 1, 2, 1, 2, 2, 3]\n",
    "} // end of local scope OR end of main()"
   ]
  },
  {
   "cell_type": "markdown",
   "id": "e3759023",
   "metadata": {
    "vscode": {
     "languageId": "rust"
    }
   },
   "source": [
    "## Dynamic Programming\n",
    "\n",
    "<span style=\"color:orange\"><b>The point:</b></span>\n",
    "\n",
    "* when we reach x we have all result for all integers from 0 to x-1\n",
    "* optimal substructure\n",
    "* the number  of bits in `x` is the number of bits in `(x>>1)` plus the LSB from `x`\n",
    "\n",
    "\n",
    "**Complexity :**\n",
    "\n",
    "| Time         | Space      |\n",
    "|--------------|------------|\n",
    "| O(n)         | O(1)       |\n",
    "\n",
    "* O(n) in time because we populate each element of DP once\n",
    "* O(1) in space because no extra space required  \n",
    "\n",
    "\n",
    "**About Rust :**\n",
    "* `let mut dp = vec![0; n + 1];`\n",
    "* <span style=\"color:lime\"><b>Preferred solution?</b></span>\n",
    "* **YES** : tested on the [Rust Playground](https://play.rust-lang.org/)\n"
   ]
  },
  {
   "cell_type": "code",
   "execution_count": null,
   "id": "3f06fe0c",
   "metadata": {
    "vscode": {
     "languageId": "rust"
    }
   },
   "outputs": [],
   "source": [
    "fn hamming_weights_of_integers(n: usize) -> Vec<usize> {\n",
    "    // Base case : the number of bits set in 0 is 0\n",
    "    // Set dp[0] to 0 while setting all dp content to 0\n",
    "    let mut dp = vec![0; n + 1];\n",
    "\n",
    "    for x in 1..=n{\n",
    "        dp[x] = dp[x>>1] + (x&1);\n",
    "    }\n",
    "    dp\n",
    "}\n",
    "\n",
    "fn main() { // no main() if this code runs in a Jupyter cell \n",
    "    println!(\"{:?}\", hamming_weights_of_integers(7)); // [0, 1, 1, 2, 1, 2, 2, 3]\n",
    "} // end of local scope OR end of main()"
   ]
  }
 ],
 "metadata": {
  "kernelspec": {
   "display_name": "Rust",
   "language": "rust",
   "name": "rust"
  },
  "language_info": {
   "codemirror_mode": "rust",
   "file_extension": ".rs",
   "mimetype": "text/rust",
   "name": "Rust",
   "pygment_lexer": "rust",
   "version": ""
  }
 },
 "nbformat": 4,
 "nbformat_minor": 5
}
