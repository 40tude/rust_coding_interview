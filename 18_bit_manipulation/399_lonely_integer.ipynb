{
 "cells": [
  {
   "cell_type": "markdown",
   "id": "94586613-ae90-49c6-939f-0bf144eee5ca",
   "metadata": {},
   "source": [
    "# Lonely Integer"
   ]
  },
  {
   "cell_type": "markdown",
   "id": "65cd6265-18c0-45ca-9f3b-024885b652ee",
   "metadata": {},
   "source": [
    "Given an integer array where each number occurs twice except for one, find the unique (*to rule them all?*)\n",
    "\n",
    "<span style=\"color:orange\"><b>The point:</b></span>\n",
    "\n",
    "* xor all elements together\n",
    "\n",
    "\n",
    "\n",
    "\n",
    "**Complexity :**\n",
    "\n",
    "| Time         | Space      |\n",
    "|--------------|------------|\n",
    "| O(nlog(n))   | O(1)       |\n",
    "\n",
    "* O(nlog(n)) in time because for each integer from 0 to n, counting the number of bits set is in log(n) => n log(n)\n",
    "* O(1) in space because in place  \n",
    "\n",
    "\n",
    "\n",
    "\n",
    "**About Rust :**\n",
    "* Basic translation\n",
    "* **YES** : tested on the [Rust Playground](https://play.rust-lang.org/)\n",
    "\n",
    "\n",
    "<!-- <span style=\"color:red\"><b>TODO : </b></span> \n",
    "* Add comments in code -->\n"
   ]
  },
  {
   "cell_type": "code",
   "execution_count": null,
   "id": "cd43545b",
   "metadata": {
    "vscode": {
     "languageId": "rust"
    }
   },
   "outputs": [],
   "source": [
    "fn lonely_integer(nums : &[i32]) -> i32{\n",
    "    let mut res = 0;\n",
    "    // xor each element of the array\n",
    "    // duplicate values cancel each other out (x^x=0)\n",
    "    for num in nums{\n",
    "        res ^=num;\n",
    "    }\n",
    "    // res store the lonely i32 because it is not canceled by any duplicate\n",
    "    res\n",
    "}\n",
    "\n",
    "fn main() { // no main() if this code runs in a Jupyter cell \n",
    "    let nums = vec![1,3,3,2,1];\n",
    "    println!(\"{}\", lonely_integer(&nums)); // 2\n",
    "} // end of local scope OR end of main()"
   ]
  }
 ],
 "metadata": {
  "kernelspec": {
   "display_name": "Rust",
   "language": "rust",
   "name": "rust"
  },
  "language_info": {
   "codemirror_mode": "rust",
   "file_extension": ".rs",
   "mimetype": "text/rust",
   "name": "Rust",
   "pygment_lexer": "rust",
   "version": ""
  }
 },
 "nbformat": 4,
 "nbformat_minor": 5
}
