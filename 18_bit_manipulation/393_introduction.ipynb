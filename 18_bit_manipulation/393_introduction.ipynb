{
 "cells": [
  {
   "cell_type": "markdown",
   "id": "94586613-ae90-49c6-939f-0bf144eee5ca",
   "metadata": {},
   "source": [
    "# Introduction\n",
    "\n",
    "<div align=\"center\">\n",
    "<img src=\"../assets/chap_18.webp\" alt=\"\" width=\"300\" loading=\"lazy\"/>\n",
    "</div>\n",
    "\n",
    "**About Rust :**\n",
    "* **YES** : tested on the [Rust Playground](https://play.rust-lang.org/)\n",
    "\n",
    "<!-- <span style=\"color:red\"><b>TODO : </b></span> \n",
    "* Add comments in code -->\n",
    "\n",
    "<!-- * <span style=\"color:lime\"><b>Preferred solution?</b></span>      -->\n",
    "\n"
   ]
  },
  {
   "cell_type": "code",
   "execution_count": null,
   "id": "cd43545b",
   "metadata": {
    "vscode": {
     "languageId": "rust"
    }
   },
   "outputs": [],
   "source": [
    "\n",
    "fn main() { // no main() if this code runs in a Jupyter cell \n",
    "    let mut x : u8 = 0b0000_0000;\n",
    "    println!(\"x                : {:08b} ({})\", x, x); // 00101010\n",
    "    \n",
    "    // set bit 2\n",
    "    x |= 1 << 2; //\n",
    "    println!(\"Bit 2 is set     : {:08b}\", x); // 4 00000100\n",
    "    \n",
    "    // clear bit 2\n",
    "    x &= !(1 << 2);\n",
    "    println!(\"Bit 2 is cleared : {:08b}\", x); // 0 00000000\n",
    "    \n",
    "    // toggling bit 3\n",
    "    x ^= 1 << 3;\n",
    "    println!(\"Toggling bit 3   : {:08b}\", x); // 8\n",
    "    x ^= 1 << 3;\n",
    "    println!(\"Toggling bit 3   : {:08b}\", x); // 0\n",
    "    \n",
    "    // checking if bit 7 is set\n",
    "    x = 1 << 7;\n",
    "    println!(\"\\nx                : {:08b} ({})\", x, x); // \n",
    "    match x & (1<<7){\n",
    "        128 => println!(\"\\tand bit 7 is set\"), // b1000_000\n",
    "        _ => println!(\"\\tand bit 7 is not set\")\n",
    "    }\n",
    "    \n",
    "    // check if a number is even\n",
    "    x = 42;\n",
    "    println!(\"\\nx                : {:08b} ({})\", x, x); // 00101010\n",
    "    match x & 1 {\n",
    "        0 => println!(\"\\tand x is even\"),\n",
    "        _ => println!(\"\\tand x is odd\")\n",
    "    }\n",
    "    \n",
    "    // check if x is a power of 2\n",
    "    x = 16;\n",
    "    println!(\"\\nx                : {:08b} ({})\", x, x); // \n",
    "    match x>0 && (x & (x-1)==0) {\n",
    "        true => println!(\"\\tand x is a power of 2\"),\n",
    "        false => println!(\"\\tand x is not a power of 2\")\n",
    "    }\n",
    "    \n",
    "    // Copy past from the documentation\n",
    "    println!(\"\\n0011 AND 0101 is : {:04b}\", 0b0011u32 & 0b0101);\n",
    "    println!(\"0011 OR 0101 is  : {:04b}\", 0b0011u32 | 0b0101);\n",
    "    println!(\"0011 XOR 0101 is : {:04b}\", 0b0011u32 ^ 0b0101);\n",
    "    println!(\"1 << 5 is        : {}\", 1u32 << 5);\n",
    "    println!(\"0x80 >> 2 is     : 0x{:x}\", 0x80u32 >> 2);\n",
    "    \n",
    "    // A nightmare...\n",
    "    x = 170; // Define an 8-bit unsigned integer\n",
    "    println!(\"\\nx                :   {:08b}  ({})\", x, x); //\n",
    "    \n",
    "    \n",
    "    let formatted = format!(\"{:08b}\", x);\n",
    "    let with_separator = format!(\"{}_{}\", &formatted[..4], &formatted[4..]);\n",
    "    println!(\"Easy reading     : 0b{} ({})\", with_separator, x); // Print the result\n",
    "        \n",
    "    \n",
    "} // end of local scope OR end of main()"
   ]
  }
 ],
 "metadata": {
  "kernelspec": {
   "display_name": "Rust",
   "language": "rust",
   "name": "rust"
  },
  "language_info": {
   "codemirror_mode": "rust",
   "file_extension": ".rs",
   "mimetype": "text/rust",
   "name": "Rust",
   "pygment_lexer": "rust",
   "version": ""
  }
 },
 "nbformat": 4,
 "nbformat_minor": 5
}
