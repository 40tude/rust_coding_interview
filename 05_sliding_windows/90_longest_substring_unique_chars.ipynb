{
 "cells": [
  {
   "cell_type": "markdown",
   "id": "4b159124-58e9-4365-9432-48ce3482013e",
   "metadata": {},
   "source": [
    "# Longest Substring With Unique Characters"
   ]
  },
  {
   "cell_type": "markdown",
   "id": "dca6593e",
   "metadata": {},
   "source": [
    "Given a string determine the lenght of its longest substring of unique char\n",
    "\n",
    "* Brute force in O(n^3)\n",
    "* => dynamic sliding window\n",
    "\n",
    "<span style=\"color:orange\"><b>The point:</b></span>\n",
    "\n",
    "* Expand (right) the window until is has duplicates\n",
    "* Shrink (left) it until the duplicate is removed\n",
    "* Use a hash set to keep track of chars in the window\n",
    "\n",
    "**Complexity :**\n",
    "\n",
    "| Time | Space |\n",
    "|------|-------|\n",
    "| O(n) | O(m)  |\n",
    "\n",
    "* O(n) because we traverse the string (len=n)\n",
    "* O(m) because of the hash set with m unique chars\n",
    "\n",
    "**About Rust :**\n",
    "* ...\n"
   ]
  },
  {
   "cell_type": "code",
   "execution_count": 29,
   "id": "a57059ed-2d04-4ff0-8c13-20881c399cf1",
   "metadata": {},
   "outputs": [
    {
     "name": "stdout",
     "output_type": "stream",
     "text": [
      "3\n"
     ]
    },
    {
     "data": {
      "text/plain": [
       "()"
      ]
     },
     "execution_count": 29,
     "metadata": {},
     "output_type": "execute_result"
    }
   ],
   "source": [
    "use std::collections::HashSet;\n",
    "\n",
    "fn longest_substring_with_unique_chars (s : &str) -> usize{\n",
    "    \n",
    "    let s_bytes = s.as_bytes();\n",
    "    let mut max_len = 0;\n",
    "    let mut hash_set = HashSet::new();\n",
    "    let (mut left, mut right) = (0, 0);\n",
    "    \n",
    "    while right < s.len(){\n",
    "        // if duplicate in the window, shrink it until the duplicate is removed\n",
    "        while hash_set.contains(&s_bytes[right]){\n",
    "            hash_set.remove(&s_bytes[left]);\n",
    "            left +=1;\n",
    "        }\n",
    "        // update the max length when no duplicate in the window\n",
    "        max_len = max_len.max(right - left + 1);\n",
    "        hash_set.insert(s_bytes[right]);\n",
    "        right += 1;\n",
    "    }\n",
    "    max_len\n",
    "}\n",
    "\n",
    "// fn main(){     // no main() if this code runs in a jupyter cell \n",
    "    println!(\"{}\", longest_substring_with_unique_chars(\"abcba\"))\n",
    "// } // end of local scope OR end of main()       \n"
   ]
  },
  {
   "cell_type": "markdown",
   "id": "3c09d202-0230-4eea-a0dc-4ad019f9dc85",
   "metadata": {},
   "source": [
    "## Optimization\n",
    "* p 93\n",
    "\n",
    "<span style=\"color:orange\"><b>The point:</b></span>\n",
    "* Move the left pointer **right after the previous occurence** of the char at the right pointer\n",
    "* Need to keep track of previous indexes\n",
    "\n",
    "**Complexity :**\n",
    "\n",
    "| Time | Space |\n",
    "|------|-------|\n",
    "| O(n) | O(m)  |"
   ]
  },
  {
   "cell_type": "code",
   "execution_count": 28,
   "id": "c2c96fd9-5cd3-4bde-9c64-eed5728e76fc",
   "metadata": {},
   "outputs": [
    {
     "name": "stdout",
     "output_type": "stream",
     "text": [
      "3\n"
     ]
    }
   ],
   "source": [
    "use std::collections::HashMap;\n",
    "\n",
    "fn longest_substring_with_unique_chars_optimized (s : &str) -> usize{\n",
    "    \n",
    "    let s_bytes = s.as_bytes();\n",
    "    let mut max_len = 0;\n",
    "    let mut prev_indexes = HashMap::new();\n",
    "    let (mut left, mut right) = (0, 0);\n",
    "\n",
    "    while right < s.len(){\n",
    "        let current_char = s_bytes[right];\n",
    "        // Check if character exists in hashmap and its index is >= left\n",
    "        // if a previous index of the char at the right pointer => it's a duplicate\n",
    "        if let Some(&prev_index) = prev_indexes.get(&current_char) {\n",
    "            if prev_index >= left {\n",
    "                // move the left pointer to the right of the previous index of the char which is at the right pointer\n",
    "                left = prev_index + 1;\n",
    "            }\n",
    "        }\n",
    "        \n",
    "        // update the max length when no duplicate in the window\n",
    "        max_len = max_len.max(right - left + 1);\n",
    "        prev_indexes.insert(current_char, right);\n",
    "        right += 1;\n",
    "    }\n",
    "    max_len\n",
    "}\n",
    "\n",
    "// fn main(){     // no main() if this code runs in a jupyter cell \n",
    "    println!(\"{}\", longest_substring_with_unique_chars_optimized(\"abcba\"));\n",
    "// } // end of local scope OR end of main()       "
   ]
  }
 ],
 "metadata": {
  "kernelspec": {
   "display_name": "Rust",
   "language": "rust",
   "name": "rust"
  },
  "language_info": {
   "codemirror_mode": "rust",
   "file_extension": ".rs",
   "mimetype": "text/rust",
   "name": "Rust",
   "pygment_lexer": "rust",
   "version": ""
  }
 },
 "nbformat": 4,
 "nbformat_minor": 5
}
