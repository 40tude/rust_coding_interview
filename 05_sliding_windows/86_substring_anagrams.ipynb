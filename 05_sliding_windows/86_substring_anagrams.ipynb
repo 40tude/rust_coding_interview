{
 "cells": [
  {
   "cell_type": "markdown",
   "id": "4b159124-58e9-4365-9432-48ce3482013e",
   "metadata": {},
   "source": [
    "# Substring Anagrams"
   ]
  },
  {
   "cell_type": "markdown",
   "id": "dca6593e",
   "metadata": {},
   "source": [
    "Given 2 strings of lowercase English letters `s` and `t`, return the number of substrings in s that are anagrams of t\n",
    "\n",
    "<span style=\"color:orange\"><b>The point:</b></span>\n",
    "* Working with ASCII only\n",
    "* In anagrams order of char does'nt matter\n",
    "* Only the freq of each letter does\n",
    "\n",
    "**Complexity :**\n",
    "\n",
    "| Time | Space |\n",
    "|------|-------|\n",
    "| O(n) | O(1)  |\n",
    "\n",
    "The comparaison between the 2 freq arrays takes O(1) because they contain 26 elements (?????)\n",
    "\n",
    "**About Rust :**\n",
    "* ...\n"
   ]
  },
  {
   "cell_type": "code",
   "execution_count": null,
   "id": "cba7a7f9-c97a-4bba-97be-82cdac1951a5",
   "metadata": {
    "vscode": {
     "languageId": "rust"
    }
   },
   "outputs": [
    {
     "name": "stdout",
     "output_type": "stream",
     "text": [
      "2\n"
     ]
    }
   ],
   "source": [
    "pub fn substring_anagrams(s: &str, t: &str) -> i32 {\n",
    "    let mut count = 0;\n",
    "    \n",
    "    let(len_s, len_t) = (s.len(), t.len()); // len works as expected if ASCII\n",
    "    if len_t <= len_s {\n",
    "        let (mut expected_freqs, mut window_freqs) = ([0; 26], [0; 26]);\n",
    "        \n",
    "        for c in t.bytes() {\n",
    "            expected_freqs[(c - b'a') as usize] += 1;\n",
    "        }\n",
    "\n",
    "        let s_bytes = s.as_bytes(); // cheap operation, this is just a view of s as u8\n",
    "        let mut left = 0;\n",
    "        for right in 0..len_s {\n",
    "            // add the char at the right pointer to the window_freqs BEFORE sliding the window\n",
    "            let right_char = s_bytes[right];\n",
    "            window_freqs[(right_char - b'a') as usize] += 1;\n",
    "            \n",
    "            // if the window size is equal to the length of t, we can start comparing the window_freqs with expected_freqs\n",
    "            if right - left + 1 == len_t {\n",
    "                if window_freqs == expected_freqs {\n",
    "                    count += 1;\n",
    "                }\n",
    "                // Remove the char at the left pointer from the window_freqs BEFORE sliding the window    \n",
    "                let left_char = s_bytes[left];\n",
    "                window_freqs[(left_char - b'a') as usize] -= 1;\n",
    "                left += 1;\n",
    "            }\n",
    "        }\n",
    "    } \n",
    "    count\n",
    "}\n",
    "\n",
    "\n",
    "// fn main(){     // no main() if this code runs in a jupyter cell \n",
    "    println!(\"{}\", substring_anagrams(\"caabab\", \"aba\"));\n",
    "// } // end of local scope OR end of main()       \n"
   ]
  },
  {
   "cell_type": "markdown",
   "id": "64939d6e-5a17-4a7a-bca1-20556272fba0",
   "metadata": {},
   "source": [
    "Like in the book (p88)\n",
    "* Use a `while` loop \n",
    "* if statement and return 0"
   ]
  },
  {
   "cell_type": "code",
   "execution_count": null,
   "id": "bd5dd665-b565-4b98-8163-f6e74d75ab92",
   "metadata": {
    "vscode": {
     "languageId": "rust"
    }
   },
   "outputs": [
    {
     "name": "stdout",
     "output_type": "stream",
     "text": [
      "2\n"
     ]
    }
   ],
   "source": [
    "pub fn substring_anagrams(s: &str, t: &str) -> i32 {\n",
    "    let(len_s, len_t) = (s.len(), t.len()); // len works as expected if ASCII\n",
    "    if len_t > len_s {\n",
    "        return 0;\n",
    "    }\n",
    "    \n",
    "    let mut count = 0;\n",
    "    let (mut expected_freqs, mut window_freqs) = ([0; 26], [0; 26]);\n",
    "\n",
    "    for c in t.bytes() {\n",
    "        expected_freqs[(c - b'a') as usize] += 1;\n",
    "    }\n",
    "\n",
    "    let s_bytes = s.as_bytes();\n",
    "    let (mut left, mut right) = (0, 0);\n",
    "    while right < len_s {\n",
    "        // add the char at the right pointer to the window_freqs BEFORE sliding the window\n",
    "        let right_char = s_bytes[right];\n",
    "        window_freqs[(right_char - b'a') as usize] += 1;\n",
    "        \n",
    "        // if the window size is equal to the length of t, we can start comparing the window_freqs with expected_freqs\n",
    "        if right - left + 1 == len_t {\n",
    "            if window_freqs == expected_freqs {\n",
    "                count += 1;\n",
    "            }\n",
    "            // Remove the char at the left pointer from the window_freqs BEFORE sliding the window    \n",
    "            let left_char = s_bytes[left];\n",
    "            window_freqs[(left_char - b'a') as usize] -= 1;\n",
    "            left += 1;\n",
    "        }\n",
    "        right+=1;\n",
    "    }\n",
    "    count\n",
    "}\n",
    "\n",
    "\n",
    "\n",
    "// fn main(){     // no main() if this code runs in a jupyter cell \n",
    "    println!(\"{}\", substring_anagrams(\"caabab\", \"aba\"));\n",
    "// } // end of local scope OR end of main()       \n"
   ]
  }
 ],
 "metadata": {
  "kernelspec": {
   "display_name": "Rust",
   "language": "rust",
   "name": "rust"
  },
  "language_info": {
   "codemirror_mode": "rust",
   "file_extension": ".rs",
   "mimetype": "text/rust",
   "name": "Rust",
   "pygment_lexer": "rust",
   "version": ""
  }
 },
 "nbformat": 4,
 "nbformat_minor": 5
}
