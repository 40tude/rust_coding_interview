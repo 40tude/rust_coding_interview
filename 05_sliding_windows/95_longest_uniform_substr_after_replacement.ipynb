{
 "cells": [
  {
   "cell_type": "markdown",
   "id": "bc517786-8bb7-4a9c-8852-1541e2f3a49b",
   "metadata": {},
   "source": [
    "# Longest Uniform Substring After Replacements"
   ]
  },
  {
   "cell_type": "markdown",
   "id": "4e073d8d-28c5-46fa-89e0-d774fd71e487",
   "metadata": {},
   "source": [
    "Given a string determine the length of its longest substring of similar char replacing up to `k` chars\n",
    "\n",
    "**Example**\n",
    "* k = 2\n",
    "* a a ~~b~~ [c] c ~~d~~ [c] c a => a a c c c c c a\n",
    "\n",
    "<span style=\"color:orange\"><b>The point:</b></span>\n",
    "\n",
    "* When we find a valid window with a certain length, no shorter windows can provide a longer uniform substring\n",
    "\n",
    "* **Step 1**\n",
    "    * Uniform string => replace all char except the most frequent one\n",
    "    * num_char_to_replace = len(str) - highest_freq\n",
    "    * A string can be made uniform if num_char_to_replace <= k\n",
    "    * Use a hash map to keep track of freq of each char\n",
    "* **Step 2**\n",
    "    * use dynamic sliding window\n",
    "    * to find the longest substring where num_char_to_replace <= k\n",
    "        * if condition met => expand to the right\n",
    "        * if condition not met shrink by the left until it meet the condition again\n",
    "    * see p 97 the way to update highest_freq when we would like to shrink by the left but where we slide the window of the current size \n",
    "\n",
    "**Complexity :**\n",
    "\n",
    "| Time | Space |\n",
    "|------|-------|\n",
    "| O(n) | O(m)  |\n",
    "\n",
    "* O(n) because we traverse the string (len=n)\n",
    "* O(m) because there are m unique chars in the hash map freqs\n",
    "\n",
    "\n",
    "**About Rust :**\n",
    "* **YES** : tested on the [Rust Playground](https://play.rust-lang.org/)\n",
    "\n",
    "\n",
    "\n",
    "<!-- <span style=\"color:red\"><b>TODO : </b></span> \n",
    "* Add comments in the source code        \n",
    " -->\n",
    "\n"
   ]
  },
  {
   "cell_type": "code",
   "execution_count": null,
   "id": "06425f87-d32c-4319-8f0b-62399585542e",
   "metadata": {
    "vscode": {
     "languageId": "rust"
    }
   },
   "outputs": [
    {
     "name": "stdout",
     "output_type": "stream",
     "text": [
      "5\n"
     ]
    },
    {
     "data": {
      "text/plain": [
       "()"
      ]
     },
     "execution_count": 34,
     "metadata": {},
     "output_type": "execute_result"
    }
   ],
   "source": [
    "use std::collections::HashMap;\n",
    "\n",
    "fn longest_uniform_substring_after_replacement (s : &str, k: usize) -> usize{\n",
    "    \n",
    "    let mut freqs: HashMap<u8, i32> = HashMap::new();\n",
    "    let(mut highest_freq, mut max_len) = (0, 0);\n",
    "    let (mut left, mut right) = (0, 0);\n",
    "    let s_bytes = s.as_bytes(); \n",
    "\n",
    "    while right < s_bytes.len(){\n",
    "        // update the freq of the char under right ptr and highest freq of the current window\n",
    "        *freqs.entry(s_bytes[right]).or_insert(0) += 1;\n",
    "        highest_freq = highest_freq.max(freqs[&s_bytes[right]] as usize);\n",
    "        \n",
    "        // find the # of replacements. the window length = right - left + 1\n",
    "        let num_chars_to_replace = right - left + 1 - highest_freq;\n",
    "        \n",
    "        if num_chars_to_replace > k {\n",
    "            // remove the char under the left ptr then move the left ptr\n",
    "            if let Some(freq) = freqs.get_mut(&s_bytes[left]) {\n",
    "                *freq -= 1; // .get_mut() returns a mutable reference so we dereference it to modify the value\n",
    "            }\n",
    "            left += 1;\n",
    "        }\n",
    "        // assign the window length to max_len\n",
    "        max_len = right - left + 1;\n",
    "        right += 1;\n",
    "    }\n",
    "    max_len\n",
    "}\n",
    "\n",
    "// fn main(){     // no main() if this code runs in a jupyter cell \n",
    "    println!(\"{}\", longest_uniform_substring_after_replacement(\"aabcdcca\", 2)) // 5\n",
    "// } // end of local scope OR end of main()       \n",
    "\n"
   ]
  }
 ],
 "metadata": {
  "kernelspec": {
   "display_name": "Rust",
   "language": "rust",
   "name": "rust"
  },
  "language_info": {
   "codemirror_mode": "rust",
   "file_extension": ".rs",
   "mimetype": "text/rust",
   "name": "Rust",
   "pygment_lexer": "rust",
   "version": ""
  }
 },
 "nbformat": 4,
 "nbformat_minor": 5
}
