{
    "cells": [
        {
            "cell_type": "markdown",
            "id": "6a131166-2d16-429d-a683-9e036dd65605",
            "metadata": {},
            "source": [
                "# Linked List Intersection"
            ]
        },
        {
            "cell_type": "markdown",
            "id": "6a86ce9e-b8bc-4e3d-88df-b60f7ebef21d",
            "metadata": {},
            "source": [
                "* Return the node where 2 singly linked lists intersect (none otherwise)\n",
                "* The intersection has nothing to do with the values of the nodes\n",
                "   \n",
                "**Complexity Analysis :**\n",
                "\n",
                "One pass\n",
                "\n",
                "\n",
                "| Time | Space |\n",
                "|------|-------|\n",
                "| O(n+m) | O(1)|\n",
                "\n",
                "- Time, because we traverse both lists A (of length n) and B (of length m) \n",
                "- Space, because in place\n",
                "\n",
                "\n",
                "\n",
                "\n",
                "\n",
                "**About Rust :**\n",
                "* Intersection means pointers pointing to the same nodes => Rc\n",
                "* No need to modify anything, just find the intersection => No RefCell\n",
                "* **YES** : tested on the [Rust Playground](https://play.rust-lang.org/)\n",
                "\n",
                "\n",
                "\n",
                "<!-- <span style=\"color:red\"><b>TODO : </b></span> \n",
                "* Add comments in the source code        \n",
                " -->\n",
                "\n",
                "\n",
                "<!-- * <span style=\"color:lime\"><b>Preferred solution?</b></span>      -->\n",
                "\n",
                "\n",
                "\n"
            ]
        },
        {
            "cell_type": "markdown",
            "id": "618a1002-5e7a-4639-8133-ae88f9aaa3ba",
            "metadata": {},
            "source": [
                "## Build & print lists\n",
                "* Just to make sure I can \"play\" with such lists\n"
            ]
        },
        {
            "cell_type": "code",
            "execution_count": null,
            "id": "6ca2a0df-62a0-487c-ba41-40339066682e",
            "metadata": {
                "vscode": {
                    "languageId": "rust"
                }
            },
            "outputs": [
                {
                    "name": "stdout",
                    "output_type": "stream",
                    "text": [
                        "1 -> 3 -> 4 -> 8 -> 7 -> 2 -> None\n",
                        "6 -> 4 -> 8 -> 7 -> 2 -> None\n"
                    ]
                },
                {
                    "data": {
                        "text/plain": [
                            "()"
                        ]
                    },
                    "execution_count": 3,
                    "metadata": {},
                    "output_type": "execute_result"
                }
            ],
            "source": [
                "use std::rc::Rc;\n",
                "type Link = Option<Rc<Node>>; // type alias. Use Option and Rc to allow an optional reference count to the next node \n",
                "\n",
                "struct Node {\n",
                "    val: i32,\n",
                "    next: Link, // use the alias here for clarity\n",
                "}\n",
                "\n",
                "impl Node {\n",
                "    fn new(val: i32, next: Link) -> Self {\n",
                "        Self { val, next }\n",
                "    }\n",
                "}\n",
                "\n",
                "\n",
                "// fn main(){     // no main() if this code runs in a Jupyter cell \n",
                "{                 // local scope to avoid issue with the lifetime of head during borrow\n",
                "\n",
                "    let mut head_common = None; // Start with an empty list (head is None)\n",
                "    let vals_common = vec![4, 8, 7, 2];\n",
                "    for v in vals_common.into_iter().rev() {\n",
                "        head_common = Some(Rc::new(Node::new(v, head_common)));\n",
                "    }\n",
                "\n",
                "    // This is NOT a copy. Here .clone() add a new pointer to head_common\n",
                "    let mut head_a = head_common.clone(); \n",
                "    let vals_a = vec![1, 3];\n",
                "    for v in vals_a.into_iter().rev() {\n",
                "        head_a = Some(Rc::new(Node::new(v, head_a)));\n",
                "    }\n",
                "\n",
                "    let mut current = &head_a;\n",
                "    while let Some(node) = current {\n",
                "        print!(\"{}->\", node.val);\n",
                "        current = &node.next;\n",
                "    }\n",
                "    println!(\"EOL\"); // End of List\n",
                "\n",
                "\n",
                "    let mut head_b = head_common.clone(); \n",
                "    let vals_b = vec![6];\n",
                "    for v in vals_b.into_iter().rev() {\n",
                "        head_b = Some(Rc::new(Node::new(v, head_b)));\n",
                "    }\n",
                "\n",
                "    let mut current = &head_b;\n",
                "    while let Some(node) = current {\n",
                "        print!(\"{}->\", node.val);\n",
                "        current = &node.next;\n",
                "    }\n",
                "    println!(\"EOL\"); // End of List\n",
                "\n",
                "} // end of local scope OR end of main()   \n",
                "\n"
            ]
        },
        {
            "cell_type": "markdown",
            "id": "9fc7dd83",
            "metadata": {},
            "source": [
                "## Code \n",
                "\n",
                "**About Rust :**\n",
                "* **YES** : tested on the [Rust Playground](https://play.rust-lang.org/)\n"
            ]
        },
        {
            "cell_type": "code",
            "execution_count": null,
            "id": "e4e5559b-ff43-48c8-bca9-6b28a3bf9f83",
            "metadata": {
                "vscode": {
                    "languageId": "rust"
                }
            },
            "outputs": [
                {
                    "name": "stdout",
                    "output_type": "stream",
                    "text": [
                        "List A : 1 -> 3 -> 4 -> 8 -> 7 -> 2 -> None\n",
                        "List B : 6 -> 5 -> 8 -> 7 -> 2 -> None\n",
                        "Intersection : 8 -> 7 -> 2 -> None\n"
                    ]
                },
                {
                    "data": {
                        "text/plain": [
                            "()"
                        ]
                    },
                    "execution_count": 4,
                    "metadata": {},
                    "output_type": "execute_result"
                }
            ],
            "source": [
                "use std::rc::Rc;\n",
                "type Link = Option<Rc<Node>>;\n",
                "\n",
                "struct Node {\n",
                "    val: i32,\n",
                "    next: Link, // use the alias here for clarity\n",
                "}\n",
                "\n",
                "impl Node {\n",
                "    fn new(val: i32, next: Link) -> Self {\n",
                "        Self { val, next }\n",
                "    }\n",
                "}\n",
                "\n",
                "fn print_linked_list(head: &Link, name: &str) {\n",
                "    print!(\"{} : \", name);\n",
                "    let mut current = head;\n",
                "    while let Some(node) = current {\n",
                "        print!(\"{}->\", node.val);\n",
                "        current = &node.next;\n",
                "    }\n",
                "    println!(\"EOL\") // End of List\n",
                "}\n",
                "\n",
                "fn linked_list_intersection(head_a: &Link, head_b: &Link) -> Link {\n",
                "    let mut ptr_a = head_a;\n",
                "    let mut ptr_b = head_b;\n",
                "\n",
                "    loop {\n",
                "        match (&ptr_a, &ptr_b) {\n",
                "            (Some(a), Some(b)) => {\n",
                "                if Rc::ptr_eq(a, b) {\n",
                "                    // .clone() is mandatory here\n",
                "                    // It is called on the referenced value (Option<Rc<Node>>) NOT on the the reference itself (&Option<Rc<Node>>)\n",
                "                    // None or Some(Rc<Node>) is cloned (cheap operation since the reference counter is incremented)\n",
                "                    return ptr_a.clone();\n",
                "                }\n",
                "            }\n",
                "            (None, None) => return None,\n",
                "            _ => {}\n",
                "        }\n",
                "        // If we reach the end of A, we start traversing B\n",
                "        ptr_a = match ptr_a {\n",
                "            Some(node) => &node.next,\n",
                "            None => head_b,\n",
                "        };\n",
                "        // Traverse B then A\n",
                "        ptr_b = match ptr_b {\n",
                "            Some(node) => &node.next,\n",
                "            None => head_a,\n",
                "        };\n",
                "    }\n",
                "}\n",
                "\n",
                "\n",
                "fn main(){     // no main() if this code runs in a Jupyter cell \n",
                "// {                 // local scope to avoid issue with the lifetime of head during borrow\n",
                "\n",
                "    let mut head_common = None; // Start with an empty list (head is None)\n",
                "    let vals_common = vec![8, 7, 2];\n",
                "    for v in vals_common.into_iter().rev() {\n",
                "        head_common = Some(Rc::new(Node::new(v, head_common)));\n",
                "    }\n",
                "\n",
                "    // This is NOT a copy. Here .clone() add a new pointer to head_common\n",
                "    let mut head_a = head_common.clone(); \n",
                "    let vals_a = vec![1, 3, 4];\n",
                "    for v in vals_a.into_iter().rev() {\n",
                "        head_a = Some(Rc::new(Node::new(v, head_a)));\n",
                "    }                          \n",
                "    print_linked_list(&head_a, \"List       A\");\n",
                "\n",
                "\n",
                "    let mut head_b = head_common.clone(); \n",
                "    let vals_b = vec![6, 5];\n",
                "    for v in vals_b.into_iter().rev() {\n",
                "        head_b = Some(Rc::new(Node::new(v, head_b)));\n",
                "    }                          \n",
                "    print_linked_list(&head_b, \"List       B\");\n",
                "\n",
                "    let intersection = linked_list_intersection(&head_a, &head_b);\n",
                "    print_linked_list(&intersection, \"Intersection\");\n",
                "\n",
                "} // end of local scope OR end of main()       "
            ]
        }
    ],
    "metadata": {
        "kernelspec": {
            "display_name": "Rust",
            "language": "rust",
            "name": "rust"
        },
        "language_info": {
            "codemirror_mode": "rust",
            "file_extension": ".rs",
            "mimetype": "text/rust",
            "name": "Rust",
            "pygment_lexer": "rust",
            "version": ""
        }
    },
    "nbformat": 4,
    "nbformat_minor": 5
}