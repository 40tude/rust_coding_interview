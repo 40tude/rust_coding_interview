{
 "cells": [
  {
   "cell_type": "markdown",
   "id": "6a131166-2d16-429d-a683-9e036dd65605",
   "metadata": {},
   "source": [
    "# Linked List Intersection"
   ]
  },
  {
   "cell_type": "markdown",
   "id": "6a86ce9e-b8bc-4e3d-88df-b60f7ebef21d",
   "metadata": {},
   "source": [
    "* Return the node where 2 singly linked lists intersect (none otherwise)\n",
    "* The intersection has nothing to do with the values of the nodes\n",
    "   \n",
    "**Complexity Analysis :**\n",
    "\n",
    "One pass\n",
    "\n",
    "\n",
    "| Time | Space |\n",
    "|------|-------|\n",
    "| O(n+m) | O(1)|\n",
    "\n",
    "- Time, because we traverse both lists A (of length n) and B (of length m) \n",
    "- Space, because in place\n"
   ]
  },
  {
   "cell_type": "markdown",
   "id": "618a1002-5e7a-4639-8133-ae88f9aaa3ba",
   "metadata": {},
   "source": [
    "## Build'n print lists"
   ]
  },
  {
   "cell_type": "code",
   "execution_count": 3,
   "id": "6ca2a0df-62a0-487c-ba41-40339066682e",
   "metadata": {},
   "outputs": [
    {
     "name": "stdout",
     "output_type": "stream",
     "text": [
      "1 -> 3 -> 4 -> 8 -> 7 -> 2 -> None\n",
      "6 -> 4 -> 8 -> 7 -> 2 -> None\n"
     ]
    },
    {
     "data": {
      "text/plain": [
       "()"
      ]
     },
     "execution_count": 3,
     "metadata": {},
     "output_type": "execute_result"
    }
   ],
   "source": [
    "use std::rc::Rc;\n",
    "type Link = Option<Rc<Node>>; // type alias. Use Option and Rc to allow an optional reference count to the next node \n",
    "\n",
    "struct Node {\n",
    "    val: i32,\n",
    "    next: Link, // use the alias here for clarity\n",
    "}\n",
    "\n",
    "impl Node {\n",
    "    fn new(val: i32, next: Link) -> Node {\n",
    "        Node { val, next }\n",
    "    }\n",
    "}\n",
    "\n",
    "\n",
    "// fn main(){     // no main() if this code runs in a jupyter cell \n",
    "{                 // local scope to avoid issue with the lifetime of head during borrow\n",
    "\n",
    "    let mut head_common = None; // Start with an empty list (head is None)\n",
    "    let vals_common = vec![4, 8, 7, 2];\n",
    "    for v in vals_common.into_iter().rev() {\n",
    "        head_common = Some(Rc::new(Node::new(v, head_common)));\n",
    "    }\n",
    "\n",
    "    // This is NOT a copy. Here .clone() add a new pointer to head_common\n",
    "    let mut head_A = head_common.clone(); \n",
    "    let vals_A = vec![1, 3];\n",
    "    for v in vals_A.into_iter().rev() {\n",
    "        head_A = Some(Rc::new(Node::new(v, head_A)));\n",
    "    }\n",
    "\n",
    "    let mut current = &head_A;\n",
    "    while let Some(node) = current {\n",
    "        print!(\"{} -> \", node.val);\n",
    "        current = &node.next;\n",
    "    }\n",
    "    println!(\"None\");\n",
    "\n",
    "\n",
    "    let mut head_B = head_common.clone(); \n",
    "    let vals_B = vec![6];\n",
    "    for v in vals_B.into_iter().rev() {\n",
    "        head_B = Some(Rc::new(Node::new(v, head_B)));\n",
    "    }\n",
    "\n",
    "    let mut current = &head_B;\n",
    "    while let Some(node) = current {\n",
    "        print!(\"{} -> \", node.val);\n",
    "        current = &node.next;\n",
    "    }\n",
    "    println!(\"None\");\n",
    "\n",
    "} // end of local scope OR end of main()   \n",
    "\n"
   ]
  },
  {
   "cell_type": "code",
   "execution_count": 4,
   "id": "e4e5559b-ff43-48c8-bca9-6b28a3bf9f83",
   "metadata": {},
   "outputs": [
    {
     "name": "stdout",
     "output_type": "stream",
     "text": [
      "List A : 1 -> 3 -> 4 -> 8 -> 7 -> 2 -> None\n",
      "List B : 6 -> 5 -> 8 -> 7 -> 2 -> None\n",
      "Intersection : 8 -> 7 -> 2 -> None\n"
     ]
    },
    {
     "data": {
      "text/plain": [
       "()"
      ]
     },
     "execution_count": 4,
     "metadata": {},
     "output_type": "execute_result"
    }
   ],
   "source": [
    "use std::rc::Rc;\n",
    "type Link = Option<Rc<Node>>;\n",
    "\n",
    "struct Node {\n",
    "    val: i32,\n",
    "    next: Link, // use the alias here for clarity\n",
    "}\n",
    "\n",
    "impl Node {\n",
    "    fn new(val: i32, next: Link) -> Node {\n",
    "        Node { val, next }\n",
    "    }\n",
    "}\n",
    "\n",
    "fn print_linked_list(head: &Link, name: &str) {\n",
    "    print!(\"{} : \", name);\n",
    "    let mut current = head;\n",
    "    while let Some(node) = current {\n",
    "        print!(\"{} -> \", node.val);\n",
    "        current = &node.next;\n",
    "    }\n",
    "    println!(\"None\");\n",
    "}\n",
    "\n",
    "fn linked_list_intersection(head_A: &Link, head_B: &Link) -> Link {\n",
    "    let mut ptr_A = head_A;\n",
    "    let mut ptr_b = head_B;\n",
    "\n",
    "    loop {\n",
    "        match (&ptr_A, &ptr_b) {\n",
    "            (Some(a), Some(b)) => {\n",
    "                if Rc::ptr_eq(a, b) {\n",
    "                    // .clone() is mandatory here\n",
    "                    // It is called on the referenced value (Option<Rc<Node>>) NOT on the the reference itself (&Option<Rc<Node>>)\n",
    "                    // None or Some(Rc<Node>) is cloned (cheap operation since the reference counter is incremented)\n",
    "                    return ptr_A.clone();\n",
    "                }\n",
    "            }\n",
    "            (None, None) => return None,\n",
    "            _ => {}\n",
    "        }\n",
    "        // If we reach the end of A, we start traversing B\n",
    "        ptr_A = match ptr_A {\n",
    "            Some(node) => &node.next,\n",
    "            None => head_B,\n",
    "        };\n",
    "        // Traverse B then A\n",
    "        ptr_b = match ptr_b {\n",
    "            Some(node) => &node.next,\n",
    "            None => head_A,\n",
    "        };\n",
    "    }\n",
    "}\n",
    "\n",
    "\n",
    "// fn main(){     // no main() if this code runs in a jupyter cell \n",
    "{                 // local scope to avoid issue with the lifetime of head during borrow\n",
    "\n",
    "    let mut head_common = None; // Start with an empty list (head is None)\n",
    "    let vals_common = vec![8, 7, 2];\n",
    "    for v in vals_common.into_iter().rev() {\n",
    "        head_common = Some(Rc::new(Node::new(v, head_common)));\n",
    "    }\n",
    "    // print_linked_list(&head_common, \"List Common\");\n",
    "\n",
    "    // This is NOT a copy. Here .clone() add a new pointer to head_common\n",
    "    let mut head_A = head_common.clone(); \n",
    "    let vals_A = vec![1, 3, 4];\n",
    "    for v in vals_A.into_iter().rev() {\n",
    "        head_A = Some(Rc::new(Node::new(v, head_A)));\n",
    "    }\n",
    "    print_linked_list(&head_A, \"List A\");\n",
    "\n",
    "\n",
    "    let mut head_B = head_common.clone(); \n",
    "    let vals_B = vec![6, 5];\n",
    "    for v in vals_B.into_iter().rev() {\n",
    "        head_B = Some(Rc::new(Node::new(v, head_B)));\n",
    "    }\n",
    "    print_linked_list(&head_B, \"List B\");\n",
    "\n",
    "    let intersection = linked_list_intersection(&head_A, &head_B);\n",
    "    print_linked_list(&intersection, \"Intersection\");\n",
    "\n",
    "} // end of local scope OR end of main()       "
   ]
  }
 ],
 "metadata": {
  "kernelspec": {
   "display_name": "Rust",
   "language": "rust",
   "name": "rust"
  },
  "language_info": {
   "codemirror_mode": "rust",
   "file_extension": ".rs",
   "mimetype": "text/rust",
   "name": "Rust",
   "pygment_lexer": "rust",
   "version": ""
  }
 },
 "nbformat": 4,
 "nbformat_minor": 5
}
