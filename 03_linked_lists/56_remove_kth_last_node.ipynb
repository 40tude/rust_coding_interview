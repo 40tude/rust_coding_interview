{
 "cells": [
  {
   "cell_type": "markdown",
   "id": "f5599507-31e6-48bc-8063-50fef792f262",
   "metadata": {},
   "source": [
    "# Remove the kth Last Node From a Linked List"
   ]
  },
  {
   "cell_type": "markdown",
   "id": "6a86ce9e-b8bc-4e3d-88df-b60f7ebef21d",
   "metadata": {},
   "source": [
    "**Complexity Analysis :**\n",
    "\n",
    "| Time | Space |\n",
    "|------|-------|\n",
    "| O(n) | O(1)  |\n",
    "\n",
    "- Time, because the algorithm first traverse at most n nodes then the 2 pointers traverse the linked list at most once each\n",
    "- Space, because in place\n",
    "\n",
    "\n",
    "\n",
    "\n",
    "\n",
    "**About Rust :**\n",
    "* Comments on Rust implementation\n",
    "\n",
    "\n",
    "\n"
   ]
  },
  {
   "cell_type": "markdown",
   "id": "cbca7ab3-c5ca-4798-a964-998437a190be",
   "metadata": {},
   "source": [
    "## 2 pointers with safe code \n",
    "* This code <span style=\"color:red\"><b>does not work</b></span>\n",
    "* We have 2 mutable pointers on the same list\n",
    "* We can read, but none of them can write (modifying the node pointed by next for example)\n",
    "* **YES** : tested on the [Rust Playground](https://play.rust-lang.org/)\n",
    "\n",
    "\n",
    "\n",
    "<!-- <span style=\"color:red\"><b>TODO : </b></span> \n",
    "* Add comments in the source code        \n",
    " -->\n"
   ]
  },
  {
   "cell_type": "code",
   "execution_count": null,
   "id": "5e3f2568-c601-49b5-aad8-6c1a57db067f",
   "metadata": {
    "vscode": {
     "languageId": "rust"
    }
   },
   "outputs": [
    {
     "name": "stdout",
     "output_type": "stream",
     "text": [
      "1\n",
      "2\n",
      "3\n",
      "4\n"
     ]
    },
    {
     "data": {
      "text/plain": [
       "()"
      ]
     },
     "execution_count": 2,
     "metadata": {},
     "output_type": "execute_result"
    }
   ],
   "source": [
    "type Link = Option<Box<Node>>; // type alias. Use Option and Box to allow an optional pointer to the next node \n",
    "\n",
    "struct Node {\n",
    "    val: i32,\n",
    "    next: Link, // use the alias here for clarity\n",
    "}\n",
    "\n",
    "impl Node {\n",
    "    fn new(val: i32, next: Link) -> Self {\n",
    "        Self { val, next }\n",
    "    }\n",
    "}\n",
    "\n",
    "fn remove_kth_last_node(head: Link, k: usize) -> Link {\n",
    "\n",
    "    // Move the leader k times\n",
    "    let mut leader = head.as_ref();\n",
    "    for _ in 0..k {\n",
    "        if let Some(node) = leader {\n",
    "            leader = node.next.as_ref();\n",
    "        } else {\n",
    "            return head; // k trop grand\n",
    "        }\n",
    "    }\n",
    "\n",
    "    // Move leader and trailer forward until leader reaches the end\n",
    "    let mut trailer = head.as_ref();\n",
    "    while let Some(node) = leader {\n",
    "        leader = node.next.as_ref();\n",
    "        trailer = trailer.unwrap().next.as_ref();\n",
    "    }\n",
    "\n",
    "    // Suppress the node\n",
    "    // Ideally I would like to get a pointer to the node and remove it\n",
    "    // if let Some(node) = trailer {\n",
    "    //     node.next = node.next.take();\n",
    "    // }\n",
    "\n",
    "    head // just because I need to return something\n",
    "}\n",
    "\n",
    "\n",
    "// fn main(){     // no main() if this code runs in a jupyter cell \n",
    "{                 // local scope to avoid issue with the lifetime of head during borrow\n",
    "\n",
    "    let mut head = None; // Start with an empty list (head is None)\n",
    "    \n",
    "    let vals = vec![1, 2, 3, 4];\n",
    "    for v in vals.into_iter().rev() {\n",
    "        head = Some(Box::new(Node::new(v, head)));\n",
    "    }\n",
    "    \n",
    "\n",
    "    // head = reverse_list(head);\n",
    "    head = remove_kth_last_node(head, 2);\n",
    "\n",
    "    let mut current = head.as_ref(); \n",
    "    while let Some(node) = current {\n",
    "        print!(\"{}->\", node.val); // Access the value\n",
    "        current = node.next.as_ref(); // Move to the next node\n",
    "    }\n",
    "    println!(\"EOL\") // End of List\n",
    "\n",
    "} // end of local scope OR end of main()  "
   ]
  },
  {
   "cell_type": "markdown",
   "id": "dd4fde1c-1ced-424f-891f-634c8c982cc8",
   "metadata": {},
   "source": [
    "## Safe but...\n",
    "* Safe but the code does not use 2 pointers\n",
    "    * Phase 1 : determine the len of the list (first pass)\n",
    "    * Phase 2 : remove the node (second pass)\n",
    "* This is exactly what we **DON'T** want\n",
    "* **YES** : tested on the [Rust Playground](https://play.rust-lang.org/)\n"
   ]
  },
  {
   "cell_type": "code",
   "execution_count": null,
   "id": "865b4eb1-1fa2-4226-aab3-6475e0678929",
   "metadata": {
    "vscode": {
     "languageId": "rust"
    }
   },
   "outputs": [
    {
     "name": "stdout",
     "output_type": "stream",
     "text": [
      "1\n",
      "2\n",
      "4\n"
     ]
    },
    {
     "data": {
      "text/plain": [
       "()"
      ]
     },
     "execution_count": 11,
     "metadata": {},
     "output_type": "execute_result"
    }
   ],
   "source": [
    "type Link = Option<Box<Node>>; // type alias. Use Option and Box to allow an optional pointer to the next node \n",
    "\n",
    "struct Node {\n",
    "    val: i32,\n",
    "    next: Link, // use the alias here for clarity\n",
    "}\n",
    "\n",
    "impl Node {\n",
    "    fn new(val: i32, next: Link) -> Self {\n",
    "        Self { val, next }\n",
    "    }\n",
    "}\n",
    "\n",
    "fn remove_kth_last_node(head: Link, k: usize) -> Link {\n",
    "    // Phase 1 : measure len\n",
    "    let mut length = 0;\n",
    "    let mut curr = head.as_ref();\n",
    "    while let Some(node) = curr {\n",
    "        length += 1;\n",
    "        curr = node.next.as_ref();\n",
    "    }\n",
    "\n",
    "    if k == 0 || k > length {\n",
    "        return head;\n",
    "    }\n",
    "\n",
    "    // Phase 2 : remove the node at index len-k\n",
    "    let mut dummy = Box::new(Node::new(-1, head));\n",
    "    let mut current = &mut dummy.next;\n",
    "    for _ in 0..(length - k) {\n",
    "        current = &mut current.as_mut().unwrap().next;\n",
    "    }\n",
    "\n",
    "    if let Some(node) = current {\n",
    "        *current = node.next.take();\n",
    "    }\n",
    "\n",
    "    dummy.next // the head may have been removed\n",
    "}\n",
    "\n",
    "\n",
    "// fn main(){     // no main() if this code runs in a jupyter cell \n",
    "{                 // local scope to avoid issue with the lifetime of head during borrow\n",
    "\n",
    "    let mut head = None; // Start with an empty list (head is None)\n",
    "    \n",
    "    let vals = vec![1, 2, 3, 4];\n",
    "    for v in vals.into_iter().rev() {\n",
    "        head = Some(Box::new(Node::new(v, head)));\n",
    "    }\n",
    "    \n",
    "\n",
    "    // head = reverse_list(head);\n",
    "    head = remove_kth_last_node(head, 2);\n",
    "\n",
    "    let mut current = head.as_ref(); \n",
    "    while let Some(node) = current {\n",
    "        print!(\"{}->\", node.val); // Access the value\n",
    "        current = node.next.as_ref(); // Move to the next node\n",
    "    }\n",
    "    println!(\"EOL\") // End of List\n",
    "\n",
    "} // end of local scope OR end of main()    "
   ]
  },
  {
   "cell_type": "markdown",
   "id": "2f293ce3-081c-4b74-9534-c5bd06518ebf",
   "metadata": {},
   "source": [
    "## Use some unsafe code\n",
    "* **YES** : tested on the [Rust Playground](https://play.rust-lang.org/)\n"
   ]
  },
  {
   "cell_type": "code",
   "execution_count": null,
   "id": "17cd913b-5fcd-444a-af74-e791b49daa02",
   "metadata": {
    "vscode": {
     "languageId": "rust"
    }
   },
   "outputs": [
    {
     "name": "stdout",
     "output_type": "stream",
     "text": [
      "1\n",
      "2\n",
      "4\n"
     ]
    },
    {
     "data": {
      "text/plain": [
       "()"
      ]
     },
     "execution_count": 12,
     "metadata": {},
     "output_type": "execute_result"
    }
   ],
   "source": [
    "type Link = Option<Box<Node>>; // type alias. Use Option and Box to allow an optional pointer to the next node \n",
    "\n",
    "struct Node {\n",
    "    val: i32,\n",
    "    next: Link, // use the alias here for clarity\n",
    "}\n",
    "\n",
    "impl Node {\n",
    "    fn new(val: i32, next: Link) -> Self {\n",
    "        Self { val, next }\n",
    "    }\n",
    "}\n",
    "\n",
    "fn remove_kth_last_node(head: Link, k: usize) -> Link {\n",
    "    let mut dummy = Box::new(Node::new(-1, head));\n",
    "\n",
    "    // Create raw pointers to navigate\n",
    "    // Use raw pointers to bypass the borrow checker (safe here because we control the logic)\n",
    "    let mut leader: *mut Link = &mut dummy.next;\n",
    "    let mut trailer: *mut Link = &mut dummy.next;\n",
    "\n",
    "    // Advance leader k times\n",
    "    for _ in 0..k {\n",
    "        unsafe {\n",
    "            match &mut *leader {\n",
    "                Some(node) => {\n",
    "                    leader = &mut node.next;\n",
    "                }\n",
    "                None => return dummy.next,\n",
    "            }\n",
    "        }\n",
    "    }\n",
    "\n",
    "    // Advance both pointers until leader reaches the end of the list\n",
    "    unsafe {\n",
    "        while let Some(node) = &mut *leader {\n",
    "            leader = &mut node.next;\n",
    "\n",
    "            if let Some(t_node) = &mut *trailer {\n",
    "                trailer = &mut t_node.next;\n",
    "            }\n",
    "        }\n",
    "\n",
    "        // Remove the kth-last node\n",
    "        if let Some(node) = &mut *trailer {\n",
    "            *trailer = node.next.take();\n",
    "        }\n",
    "    }\n",
    "\n",
    "    dummy.next // the head may have been removed\n",
    "}\n",
    "\n",
    "// fn main(){     // no main() if this code runs in a jupyter cell \n",
    "{                 // local scope to avoid issue with the lifetime of head during borrow\n",
    "\n",
    "    let mut head = None; // Start with an empty list (head is None)\n",
    "    \n",
    "    let vals = vec![1, 2, 3, 4];\n",
    "    for v in vals.into_iter().rev() {\n",
    "        head = Some(Box::new(Node::new(v, head)));\n",
    "    }\n",
    "\n",
    "    head = remove_kth_last_node(head, 2);\n",
    "\n",
    "    let mut current = head.as_ref(); \n",
    "    while let Some(node) = current {\n",
    "        print!(\"{}->\", node.val); // Access the value\n",
    "        current = node.next.as_ref(); // Move to the next node\n",
    "    }\n",
    "    println!(\"EOL\") // End of List\n",
    "\n",
    "} // end of local scope OR end of main()    \n",
    "\n"
   ]
  },
  {
   "cell_type": "markdown",
   "id": "a4ad2a5f-2b45-4e15-89a9-d000468d6c95",
   "metadata": {},
   "source": [
    "## Safe\n",
    "* Use Rc & RefCell\n",
    "* We need pointers pointing to the same nodes => Rc\n",
    "* RefCell supports interior mutability. This is a way of bypassing Rust's borrowing rules at runtime rather than at compile-time.\n",
    "* Without RefCell, an Rc<Node> cannot be modified. Rust forbids to modify a structure contained in an Rc. An Rc only gives (immutable) read access to the underlying data. See :\n",
    "```rust\n",
    "trailer_borrow.next = to_remove.borrow().next.clone(); \n",
    "```\n",
    "\n",
    "* There is a cost at runtime because there is no free lunch\n",
    "* **YES** : tested on the [Rust Playground](https://play.rust-lang.org/)\n"
   ]
  },
  {
   "cell_type": "code",
   "execution_count": null,
   "id": "c7d36b24-142c-400e-8f03-0409139b7da9",
   "metadata": {
    "vscode": {
     "languageId": "rust"
    }
   },
   "outputs": [
    {
     "name": "stdout",
     "output_type": "stream",
     "text": [
      "1 \n",
      "3 \n",
      "4 \n"
     ]
    },
    {
     "data": {
      "text/plain": [
       "()"
      ]
     },
     "execution_count": 13,
     "metadata": {},
     "output_type": "execute_result"
    }
   ],
   "source": [
    "use std::cell::RefCell;\n",
    "use std::rc::Rc;\n",
    "\n",
    "type Link = Option<Rc<RefCell<Node>>>;\n",
    "\n",
    "#[derive(Debug)]\n",
    "struct Node {\n",
    "    val: i32,\n",
    "    next: Link,\n",
    "}\n",
    "\n",
    "impl Node {\n",
    "    fn new(val: i32) -> Rc<RefCell<Node>> {\n",
    "        Rc::new(RefCell::new(Self {val, next: None }))\n",
    "    }\n",
    "}\n",
    "\n",
    "fn remove_kth_last_node(head: Link, k: usize) -> Link {\n",
    "    let dummy = Rc::new(RefCell::new(Node {\n",
    "        val: 0,\n",
    "        next: head.clone(),\n",
    "    }));\n",
    "\n",
    "    let mut leader = dummy.clone();\n",
    "    let mut trailer = dummy.clone();\n",
    "\n",
    "    // Move leader k+1 steps ahead\n",
    "    for _ in 0..=k {\n",
    "        let next = leader.borrow().next.clone();\n",
    "        match next {\n",
    "            Some(n) => leader = n,\n",
    "            None => return dummy.borrow().next.clone(), // k is too large\n",
    "        }\n",
    "    }\n",
    "\n",
    "    // Move both pointers until leader reaches the end\n",
    "    while let Some(next_rc) = {\n",
    "        let next = leader.borrow().next.clone(); // scoped borrow\n",
    "        next\n",
    "    } {\n",
    "        leader = next_rc; // borrow finished, leader now reassignable\n",
    "        let t_next = trailer.borrow().next.clone().unwrap();\n",
    "        trailer = t_next;\n",
    "    }\n",
    "\n",
    "    // Remove the k-th last node\n",
    "    let mut trailer_borrow = trailer.borrow_mut();\n",
    "    if let Some(to_remove) = trailer_borrow.next.take() {\n",
    "        trailer_borrow.next = to_remove.borrow().next.clone();\n",
    "    }\n",
    "\n",
    "    dummy.borrow().next.clone()\n",
    "}\n",
    "\n",
    "\n",
    "fn main(){     // no main() if this code runs in a jupyter cell \n",
    "// {                 // local scope to avoid issue with the lifetime of head during borrow\n",
    "    let mut head: Link = None;\n",
    "    \n",
    "    let vals = vec![1, 2, 3, 4];\n",
    "    \n",
    "    for v in vals.into_iter().rev() {\n",
    "        let node = Node::new(v);\n",
    "        node.borrow_mut().next = head;\n",
    "        head = Some(node);\n",
    "    }\n",
    "\n",
    "    head = remove_kth_last_node(head, 2);\n",
    "    \n",
    "    let mut current = head.clone(); // clone the smart pointer (this is cheap, Rc++)\n",
    "    while let Some(node) = current {\n",
    "        print!(\"{}->\", node.borrow().val);\n",
    "        current = node.borrow().next.clone();\n",
    "    }\n",
    "    println!(\"EOL\") // End of List\n",
    "} // end of local scope OR end of main()    "
   ]
  }
 ],
 "metadata": {
  "kernelspec": {
   "display_name": "Rust",
   "language": "rust",
   "name": "rust"
  },
  "language_info": {
   "codemirror_mode": "rust",
   "file_extension": ".rs",
   "mimetype": "text/rust",
   "name": "Rust",
   "pygment_lexer": "rust",
   "version": ""
  }
 },
 "nbformat": 4,
 "nbformat_minor": 5
}
