{
 "cells": [
  {
   "cell_type": "markdown",
   "id": "6a131166-2d16-429d-a683-9e036dd65605",
   "metadata": {},
   "source": [
    "# Linked List Reversal"
   ]
  },
  {
   "cell_type": "markdown",
   "id": "6a86ce9e-b8bc-4e3d-88df-b60f7ebef21d",
   "metadata": {},
   "source": [
    "* Reverse a singly linked list\n",
    "   \n",
    "**Complexity Analysis :**\n",
    "\n",
    "One pass\n",
    "\n",
    "\n",
    "| Time | Space |\n",
    "|------|-------|\n",
    "| O(n) | O(1)  |\n",
    "\n",
    "- Time, because we perform constant time pointer manipulation at each node\n",
    "- Space, because in place\n",
    "\n",
    "\n",
    "\n",
    "\n",
    "**About Rust :**\n",
    "* Use type alias\n",
    "* This impact the signature of ``reverse_list()``\n",
    "* **YES** : tested on the [Rust Playground](https://play.rust-lang.org/)\n",
    "\n",
    "<!-- <span style=\"color:red\"><b>TODO : </b></span> \n",
    "* Add comments in the source code        \n",
    " -->\n",
    "\n",
    "\n"
   ]
  },
  {
   "cell_type": "code",
   "execution_count": 7,
   "id": "6ca2a0df-62a0-487c-ba41-40339066682e",
   "metadata": {
    "vscode": {
     "languageId": "rust"
    }
   },
   "outputs": [
    {
     "name": "stdout",
     "output_type": "stream",
     "text": [
      "4\n",
      "3\n",
      "2\n",
      "1\n"
     ]
    },
    {
     "data": {
      "text/plain": [
       "()"
      ]
     },
     "execution_count": 7,
     "metadata": {},
     "output_type": "execute_result"
    }
   ],
   "source": [
    "type Link = Option<Box<Node>>; // type alias. Use Option and Box to allow an optional pointer to the next node \n",
    "\n",
    "struct Node {\n",
    "    val: i32,\n",
    "    next: Link, // use the alias here for clarity\n",
    "}\n",
    "\n",
    "impl Node {\n",
    "    fn new(val: i32, next: Link) -> Node {\n",
    "        Node { val, next }\n",
    "    }\n",
    "}\n",
    "\n",
    "fn reverse_list(mut head: Link) -> Link {\n",
    "    let mut prev_node = None; // Start with no previous node\n",
    "\n",
    "    while let Some(mut current_node) = head {\n",
    "        // Save the next node before changing pointers\n",
    "        let next_node = current_node.next.take(); // take() replaces current_node.next with None and gives its original value\n",
    "\n",
    "        // Reverse the pointer\n",
    "        current_node.next = prev_node;\n",
    "\n",
    "        // Move prev_node and head forward\n",
    "        prev_node = Some(current_node);\n",
    "        head = next_node;\n",
    "    }\n",
    "    prev_node\n",
    "}\n",
    "\n",
    "// fn main(){     // no main() if this code runs in a jupyter cell \n",
    "{                 // local scope to avoid issue with the lifetime of head during borrow\n",
    "\n",
    "    let mut head = None; // Start with an empty list (head is None)\n",
    "    \n",
    "    let vals = vec![1, 2, 3, 4];\n",
    "    for v in vals.into_iter().rev() {\n",
    "        head = Some(Box::new(Node::new(v, head)));\n",
    "    }\n",
    "    \n",
    "    head = reverse_list(head);\n",
    "\n",
    "    let mut current = head.as_ref(); \n",
    "    while let Some(node) = current {\n",
    "        println!(\"{}\", node.val); // Access the value\n",
    "        current = node.next.as_ref(); // Move to the next node\n",
    "    }\n",
    "\n",
    "} // end of local scope OR end of main()       "
   ]
  },
  {
   "cell_type": "markdown",
   "id": "15487fdd-c0db-4f6d-bc22-278df1051b69",
   "metadata": {},
   "source": [
    "## Too much ?\n",
    "* I prefer the code in the previous cell because it is more in the \"spirit\" of the book\n",
    "* Here the implementation of ``main()`` looks good but then the algorithm get lost in the ``impl`` part of the ``List``\n",
    "\n",
    "**About Rust :**\n",
    "* **YES** : tested on the [Rust Playground](https://play.rust-lang.org/)\n"
   ]
  },
  {
   "cell_type": "code",
   "execution_count": null,
   "id": "55102221-bfab-4879-b11d-e5c51ef9bb39",
   "metadata": {
    "vscode": {
     "languageId": "rust"
    }
   },
   "outputs": [
    {
     "name": "stdout",
     "output_type": "stream",
     "text": [
      "4\n",
      "3\n",
      "2\n",
      "1\n",
      "\n",
      "1\n",
      "2\n",
      "3\n",
      "4\n",
      "\n"
     ]
    },
    {
     "data": {
      "text/plain": [
       "()"
      ]
     },
     "execution_count": 6,
     "metadata": {},
     "output_type": "execute_result"
    }
   ],
   "source": [
    "type Link = Option<Box<Node>>; // type alias. Use Option and Box to allow an optional pointer to the next node \n",
    "\n",
    "// #[derive(Debug)]\n",
    "struct Node {\n",
    "    val: i32,\n",
    "    next: Link, // use the alias here for clarity\n",
    "}\n",
    "\n",
    "// #[derive(Debug)]\n",
    "struct List {\n",
    "    head: Link,\n",
    "}\n",
    "\n",
    "impl List {\n",
    "    fn new() -> Self {\n",
    "        List { head: None }\n",
    "    }\n",
    "\n",
    "    fn push(&mut self, val: i32) {\n",
    "        let new_node = Box::new(Node {\n",
    "            val,\n",
    "            next: self.head.take(), // take() replaces self.head.next with None and gives its original value\n",
    "        });\n",
    "        self.head = Some(new_node);\n",
    "    }\n",
    "\n",
    "    fn reverse(&mut self) {\n",
    "        let mut head = self.head.take(); // Take ownership of the head\n",
    "        let mut prev_node = None; // Initialize previous node to None\n",
    "    \n",
    "        while let Some(mut current_node) = head {\n",
    "            let next_node = current_node.next.take(); // Save next node\n",
    "            current_node.next = prev_node; // Reverse the pointer\n",
    "            prev_node = Some(current_node); // Move prev_node forward\n",
    "            head = next_node; // Advance head to next node\n",
    "        }\n",
    "        self.head = prev_node; // Update head to the new front\n",
    "    }\n",
    "\n",
    "    fn print(&self) {\n",
    "        let mut current = self.head.as_deref(); // Shortcut: as_deref() turns Option<Box<T>> into Option<&T>\n",
    "        while let Some(Node { val, next }) = current {\n",
    "            println!(\"{}\", val);\n",
    "            current = next.as_deref();\n",
    "        }\n",
    "        println!();\n",
    "    }   \n",
    "}\n",
    "\n",
    "// fn main(){     // no main() if this code runs in a jupyter cell \n",
    "{                 // local scope to avoid issue with the lifetime of head during borrow\n",
    "\n",
    "    let mut list = List::new();\n",
    "    for v in [1, 2, 3, 4] {\n",
    "        list.push(v);\n",
    "    }\n",
    "    list.print(); //println!(\"{:?}\", list);\n",
    "    list.reverse();\n",
    "    list.print(); //println!(\"{:?}\", list);\n",
    "    \n",
    "} // end of local scope OR end of main()       "
   ]
  },
  {
   "cell_type": "markdown",
   "id": "4ddeccbb",
   "metadata": {},
   "source": [
    "## Test using the Rust collections::LinkedList\n",
    "\n",
    "**About Rust :**\n",
    "* **YES** : tested on the [Rust Playground](https://play.rust-lang.org/)\n"
   ]
  },
  {
   "cell_type": "code",
   "execution_count": null,
   "id": "4c3b75fc",
   "metadata": {
    "vscode": {
     "languageId": "rust"
    }
   },
   "outputs": [],
   "source": [
    "use std::collections::LinkedList;\n",
    "\n",
    "fn reverse_list(mut list: LinkedList<i32>) -> LinkedList<i32> {\n",
    "    let mut reversed = LinkedList::new();\n",
    "\n",
    "    // Pop elements from the front of the original list and push them to the front of the new one\n",
    "    while let Some(val) = list.pop_front() {\n",
    "        reversed.push_front(val);\n",
    "    }\n",
    "\n",
    "    reversed\n",
    "}\n",
    "\n",
    "// fn main(){     // no main() if this code runs in a jupyter cell \n",
    "{                 // local scope to avoid issue with the lifetime of head during borrow\n",
    "    let mut list = LinkedList::new();\n",
    "    let vals = vec![1, 2, 3, 4];\n",
    "    for v in vals {\n",
    "        list.push_back(v); // Insert elements in order\n",
    "    }\n",
    "\n",
    "    list = reverse_list(list);\n",
    "\n",
    "    for val in list.iter() {\n",
    "        println!(\"{}\", val); // Print each value in the reversed list\n",
    "    }\n",
    "} // end of local scope OR end of main()       \n"
   ]
  }
 ],
 "metadata": {
  "kernelspec": {
   "display_name": "Rust",
   "language": "rust",
   "name": "rust"
  },
  "language_info": {
   "codemirror_mode": "rust",
   "file_extension": ".rs",
   "mimetype": "text/rust",
   "name": "Rust",
   "pygment_lexer": "rust",
   "version": ""
  }
 },
 "nbformat": 4,
 "nbformat_minor": 5
}
