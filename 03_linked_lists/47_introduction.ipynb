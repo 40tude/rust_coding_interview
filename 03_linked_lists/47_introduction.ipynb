{
    "cells": [
        {
            "cell_type": "markdown",
            "id": "def30702-8ae5-4ec4-b248-010c10fae022",
            "metadata": {},
            "source": [
                "# Introduction"
            ]
        },
        {
            "cell_type": "markdown",
            "id": "698553c6-43f3-42f0-b970-6a1e704ad686",
            "metadata": {},
            "source": [
                "<div align=\"center\">\n",
                "<img src=\"../assets/chap_03.webp\" alt=\"\" width=\"300\" loading=\"lazy\"/>\n",
                "</div>\n",
                "\n",
                "## First implementation\n",
                "* A node holds a value and a pointer to the next node\n",
                "* Here, a node holds a value and an Option which is either None or Some() pointer to the next node\n",
                "* If the Option is None this means we reach the end of the list\n",
                "* **YES** : tested on the [Rust Playground](https://play.rust-lang.org/)\n",
                "\n",
                "<!-- <span style=\"color:red\"><b>TODO : </b></span> \n",
                "* Add comments in the source code        \n",
                " -->\n",
                "\n",
                "<!-- * <span style=\"color:lime\"><b>Preferred solution?</b></span>  -->\n",
                "\n"
            ]
        },
        {
            "cell_type": "code",
            "execution_count": null,
            "id": "06cedf45-cced-4f37-bcf1-1c0e3663dd2c",
            "metadata": {
                "vscode": {
                    "languageId": "rust"
                }
            },
            "outputs": [],
            "source": [
                "struct Node {\n",
                "    val: i32,\n",
                "    next: Option<Box<Node>>, // Use Option and Box to allow an optional pointer to the next node\n",
                "}\n",
                "\n",
                "impl Node {\n",
                "    fn new(val: i32, next: Option<Box<Node>>) -> Node {\n",
                "        Node { val, next }\n",
                "    }\n",
                "}\n",
                "\n",
                "fn main(){   \n",
                "    let mut head:Option<Box<Node>> = None; // Start with an empty list (head is None)\n",
                "    \n",
                "    let node = Node::new(100, head); // Creates a node linked to the head \n",
                "    head = Some(Box::new(node)); // Boxes the node and updates the head \n",
                "\n",
                "    let node = Node::new(200, head); \n",
                "    head = Some(Box::new(node)); \n",
                "\n",
                "\n",
                "\n",
                "    // Using head directly would move the value and make head unusable\n",
                "    // Using &head gives a reference to the Option itself, NOT to the value inside\n",
                "    // I need a reference to the Box<Node> stored in the Option, without taking ownership\n",
                "    // That's what head.as_ref() does: it gives an Option<&Box<Node>>\n",
                "    // \n",
                "    // The binding `current` is mutable (not the data itself)\n",
                "    // So that it starts at the head and can be updated to point to the next node\n",
                "    let mut current = head.as_ref(); \n",
                "\n",
                "    while let Some(node) = current {\n",
                "        print!(\"{}->\", node.val); // Access the value\n",
                "        current = node.next.as_ref(); // Move to the next node\n",
                "    }\n",
                "    println!(\"EOL\") // End of List\n",
                "}   \n"
            ]
        },
        {
            "cell_type": "markdown",
            "id": "f01e2cfb-7f46-4d14-8463-c059b0190a6c",
            "metadata": {},
            "source": [
                "## Second attempt"
            ]
        },
        {
            "cell_type": "markdown",
            "id": "f05bd968",
            "metadata": {},
            "source": [
                "* `for v in vals.into_iter().rev() {`    \n",
                "    * `into_iter()` gives ownership of the elements to the iterator\n",
                "    * no copying, no additional allocations, no unnecessary clones (`.cloned()`) \n",
                "    * **but** `vals` is lost\n",
                "\n",
                "* **YES** : tested on the [Rust Playground](https://play.rust-lang.org/)"
            ]
        },
        {
            "cell_type": "code",
            "execution_count": null,
            "id": "f0b10033-3eab-4823-aab0-000d4e89eb0b",
            "metadata": {
                "vscode": {
                    "languageId": "rust"
                }
            },
            "outputs": [
                {
                    "name": "stdout",
                    "output_type": "stream",
                    "text": [
                        "1\n",
                        "2\n",
                        "3\n",
                        "4\n"
                    ]
                },
                {
                    "data": {
                        "text/plain": [
                            "()"
                        ]
                    },
                    "execution_count": 8,
                    "metadata": {},
                    "output_type": "execute_result"
                }
            ],
            "source": [
                "struct Node {\n",
                "    val: i32,\n",
                "    next: Option<Box<Node>>, // Use Option and Box to allow an optional pointer to the next node\n",
                "}\n",
                "\n",
                "impl Node {\n",
                "    fn new(val: i32, next: Option<Box<Node>>) -> Node {\n",
                "        Self { val, next } // Now returns Self rather than Node\n",
                "    }\n",
                "}\n",
                "\n",
                "// fn main(){     // no main() if this code runs in a Jupyter cell \n",
                "{                 // local scope to avoid issue with the lifetime of head during borrow\n",
                "    \n",
                "    let mut head:Option<Box<Node>> = None; // Start with an empty list (head is None)\n",
                "    \n",
                "    let vals = vec![1, 2, 3, 4];\n",
                "    // for v in vals.into_iter().rev() {\n",
                "    //     let node = Node::new(v, head); // Creates a node linked to the head \n",
                "    //     head = Some(Box::new(node)); // Boxes the node and updates the head \n",
                "    // }\n",
                "    for v in vals.into_iter().rev() {\n",
                "        head = Some(Box::new(Node::new(v, head)));\n",
                "    }\n",
                "\n",
                "    // Using head directly would move the value and make head unusable\n",
                "    // Using &head gives a reference to the Option itself, not to the value inside\n",
                "    // I need a reference to the Box<Node> stored in the Option, without taking ownership\n",
                "    // That's what head.as_ref() does: it gives an Option<&Box<Node>>\n",
                "    // \n",
                "    // The binding `current` is mutable (not the data itself)\n",
                "    // So that it starts at the head and can be updated to point to the next node\n",
                "\n",
                "    let mut current = head.as_ref(); \n",
                "    while let Some(node) = current {\n",
                "        print!(\"{}->\", node.val); // Access the value\n",
                "        current = node.next.as_ref(); // Move to the next node\n",
                "    }\n",
                "    println!(\"EOL\") // End of List\n",
                "} // end of local scope OR end of main()"
            ]
        },
        {
            "cell_type": "markdown",
            "id": "772dbdf6-9767-4bfa-b2ed-eb704a387fbb",
            "metadata": {},
            "source": [
                "## Third attempt\n",
                "* Use type alias\n",
                "* Double check how the printing is done\n",
                "* **YES** : tested on the [Rust Playground](https://play.rust-lang.org/)\n"
            ]
        },
        {
            "cell_type": "code",
            "execution_count": null,
            "id": "91574f85-7adf-44d7-a0e9-076aa1067ee9",
            "metadata": {
                "vscode": {
                    "languageId": "rust"
                }
            },
            "outputs": [
                {
                    "name": "stdout",
                    "output_type": "stream",
                    "text": [
                        "1\n",
                        "2\n",
                        "3\n",
                        "4\n"
                    ]
                },
                {
                    "data": {
                        "text/plain": [
                            "()"
                        ]
                    },
                    "execution_count": 3,
                    "metadata": {},
                    "output_type": "execute_result"
                }
            ],
            "source": [
                "type Link = Option<Box<Node>>; // type alias. Use Option and Box to allow an optional pointer to the next node \n",
                "\n",
                "struct Node {\n",
                "    val: i32,\n",
                "    next: Link, // use the alias here for clarity\n",
                "}\n",
                "\n",
                "impl Node {\n",
                "    fn new(val: i32, next: Link) -> Self { // now returns Self\n",
                "        Self { val, next }\n",
                "    }\n",
                "}\n",
                "\n",
                "// fn main(){     // no main() if this code runs in a Jupyter cell \n",
                "{                 // local scope to avoid issue with the lifetime of head during borrow\n",
                "\n",
                "    let mut head = None; // Start with an empty list (head is None)\n",
                "    \n",
                "    let vals = vec![1, 2, 3, 4];\n",
                "    for v in vals.into_iter().rev() {\n",
                "        head = Some(Box::new(Node::new(v, head)));\n",
                "    }\n",
                "\n",
                "    // & avoids explicit call to as_ref(), as & on an Option<Box<Node>> obviously gives an &Option<Box<Node>>\n",
                "    // In addition, Rust automatically applies implicit dereferencing when matching with while let.\n",
                "    let mut current = &head; \n",
                "    while let Some(node) = current {\n",
                "        print!(\"{}->\", node.val); // Access the value\n",
                "        current = &node.next; // Move to the next node\n",
                "    }\n",
                "    println!(\"EOL\") // End of List\n",
                "} // end of local scope OR end of main()       "
            ]
        }
    ],
    "metadata": {
        "kernelspec": {
            "display_name": "Rust",
            "language": "rust",
            "name": "rust"
        },
        "language_info": {
            "codemirror_mode": "rust",
            "file_extension": ".rs",
            "mimetype": "text/rust",
            "name": "Rust",
            "pygment_lexer": "rust",
            "version": ""
        }
    },
    "nbformat": 4,
    "nbformat_minor": 5
}
