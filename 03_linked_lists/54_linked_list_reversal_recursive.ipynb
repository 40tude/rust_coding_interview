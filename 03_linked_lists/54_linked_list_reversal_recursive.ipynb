{
 "cells": [
  {
   "cell_type": "markdown",
   "id": "6a131166-2d16-429d-a683-9e036dd65605",
   "metadata": {},
   "source": [
    "# Linked List Reversal Recursive"
   ]
  },
  {
   "cell_type": "markdown",
   "id": "6a86ce9e-b8bc-4e3d-88df-b60f7ebef21d",
   "metadata": {},
   "source": [
    "* Revese a singly linked list\n",
    "   \n",
    "**Complexity Analysis :**\n",
    "\n",
    "One pass\n",
    "\n",
    "\n",
    "| Time | Space |\n",
    "|------|-------|\n",
    "| O(n) | O(1)  |\n",
    "\n",
    "- Time, because we perform constant time pointer manipulation at each node\n",
    "- Space, because in place\n",
    "\n",
    "\n",
    "\n",
    "\n",
    "**About Rust :**\n",
    "* **YES** : tested on the [Rust Playground](https://play.rust-lang.org/)\n",
    "\n",
    "\n",
    "<!-- <span style=\"color:red\"><b>TODO : </b></span> \n",
    "* Add comments in the source code        \n",
    " -->\n",
    "\n",
    "\n",
    "\n"
   ]
  },
  {
   "cell_type": "code",
   "execution_count": 4,
   "id": "c79fc1f3-cd97-4f9a-b32a-31c528349557",
   "metadata": {
    "vscode": {
     "languageId": "rust"
    }
   },
   "outputs": [
    {
     "name": "stdout",
     "output_type": "stream",
     "text": [
      "4\n",
      "3\n",
      "2\n",
      "1\n"
     ]
    },
    {
     "data": {
      "text/plain": [
       "()"
      ]
     },
     "execution_count": 4,
     "metadata": {},
     "output_type": "execute_result"
    }
   ],
   "source": [
    "type Link = Option<Box<Node>>; // type alias. Use Option and Box to allow an optional pointer to the next node \n",
    "\n",
    "struct Node {\n",
    "    val: i32,\n",
    "    next: Link, // use the alias here for clarity\n",
    "}\n",
    "\n",
    "impl Node {\n",
    "    fn new(val: i32, next: Link) -> Node {\n",
    "        Node { val, next }\n",
    "    }\n",
    "}\n",
    "\n",
    "fn reverse_list_recursive(current: Link, prev: Link) -> Link {\n",
    "    match current {\n",
    "        None => prev, // Reached the end: return the new head\n",
    "        Some(mut node) => {\n",
    "            let next = node.next.take(); // Detach next\n",
    "            node.next = prev; // Reverse the pointer\n",
    "            reverse_list_recursive(next, Some(node)) // Recurse with next node\n",
    "        }\n",
    "    }\n",
    "}\n",
    "\n",
    "fn reverse_list(head: Link) -> Link {\n",
    "    reverse_list_recursive(head, None)\n",
    "}\n",
    "\n",
    "\n",
    "// fn main(){     // no main() if this code runs in a jupyter cell \n",
    "{                 // local scope to avoid issue with the lifetime of head during borrow\n",
    "\n",
    "    let mut head = None; // Start with an empty list (head is None)\n",
    "    \n",
    "    let vals = vec![1, 2, 3, 4];\n",
    "    for v in vals.into_iter().rev() {\n",
    "        head = Some(Box::new(Node::new(v, head)));\n",
    "    }\n",
    "\n",
    "    head = reverse_list(head);\n",
    "\n",
    "    let mut current = head.as_ref(); \n",
    "    while let Some(node) = current {\n",
    "        println!(\"{}\", node.val); // Access the value\n",
    "        current = node.next.as_ref(); // Move to the next node\n",
    "    }\n",
    "\n",
    "} // end of local scope OR end of main()       "
   ]
  }
 ],
 "metadata": {
  "kernelspec": {
   "display_name": "Rust",
   "language": "rust",
   "name": "rust"
  },
  "language_info": {
   "codemirror_mode": "rust",
   "file_extension": ".rs",
   "mimetype": "text/rust",
   "name": "Rust",
   "pygment_lexer": "rust",
   "version": ""
  }
 },
 "nbformat": 4,
 "nbformat_minor": 5
}
