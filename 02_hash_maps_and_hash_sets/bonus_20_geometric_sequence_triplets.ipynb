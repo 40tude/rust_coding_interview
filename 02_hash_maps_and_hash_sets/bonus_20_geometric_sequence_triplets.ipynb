{
 "cells": [
  {
   "cell_type": "markdown",
   "id": "46fe9930-1301-4f6e-be21-0acccde437f5",
   "metadata": {},
   "source": [
    "# Geometric Sequence Triplets"
   ]
  },
  {
   "cell_type": "markdown",
   "id": "2016b8f6",
   "metadata": {},
   "source": [
    "A geometric sequence triplet is a sequence of three numbers where each successive number is obtained by multiplying the preceding number by a constant called the common ratio.\n",
    "- 1 2 4\n",
    "- 5 15 45\n",
    "\n",
    "* Given an array of integers and a common ratio r\n",
    "* Find all triplets of indexes (i, j, k) that follow a geometric sequence for i < j < k.\n",
    "* It’s possible to encounter duplicate triplets in the array.\n",
    "\n",
    "If **Input:** nums = [2, 1, 2, 4, 8, 8], r = 2 then **Output:** 5\n",
    "\n",
    "* We are looking for x, x·r, x·r².\n",
    "* If we know one value of a triplet, we can calculate what the other two values should be.\n",
    "* We need to find them in order: x, x·r, x·r² in the array.\n",
    "\n",
    "\n",
    "\n",
    "\n",
    "\n",
    "\n",
    "<span style=\"color:orange\"><b>The point:</b></span>    \n",
    "\n",
    "- Instead, we search for x/r, x, and x·r because this way, we always look for x/r on the left and x·r on the right.\n",
    "- To perform O(1) lookups, we use hash maps (left and right).\n",
    "- x must be divisible by r.\n",
    "- Since the same value can appear multiple times in the array, we may find the same number of x/r and x·r.\n",
    "\n",
    "**Summary:**\n",
    "- Check if x % r == 0.\n",
    "- Count the occurrences of x/r on the left and x·r on the right.\n",
    "- Multiply these two counts to get the number of triplets.\n",
    "\n",
    "**Check the implementation on p23**\n",
    "* Initially, we store all values in the right hash map.\n",
    "* We take the first x from the left side of the array.\n",
    "* Dynamic management of the left and right hash maps.\n",
    "\n",
    "\n",
    "**Complexity Analysis :**\n",
    "\n",
    "| Time | Space |\n",
    "|------|-------|\n",
    "| O(n) | O(n)  |\n",
    "\n",
    "- We traverse the array once and perform O(1) operations on the hash maps at each iteration.\n",
    "- Space complexity is O(n) because the hash map can grow up to n elements.\n",
    "\n",
    "\n",
    "\n",
    "\n",
    "\n",
    "\n",
    "**About Rust :**\n",
    "* **YES** : tested on the [Rust Playground](https://play.rust-lang.org/)\n",
    "\n",
    "\n",
    "\n",
    "<!-- <span style=\"color:red\"><b>TODO : </b></span> \n",
    "* Add comments in the source code        \n",
    " -->\n",
    "\n",
    "\n"
   ]
  },
  {
   "cell_type": "code",
   "execution_count": 14,
   "id": "b70fa16b-3766-4cee-8760-a4dc8e9693f8",
   "metadata": {
    "vscode": {
     "languageId": "rust"
    }
   },
   "outputs": [
    {
     "name": "stdout",
     "output_type": "stream",
     "text": [
      "5\n"
     ]
    }
   ],
   "source": [
    "use std::collections::HashMap;\n",
    "\n",
    "fn geometric_sequence_triplets(nums: &[i32], r: i32) -> i32 {\n",
    "    let mut left_map: HashMap<i32, i32> = HashMap::new();\n",
    "    let mut right_map: HashMap<i32, i32> = HashMap::new();\n",
    "    let mut count = 0;\n",
    "\n",
    "    // populate right_map\n",
    "    // the \"for ... in\" returns references\n",
    "    for &x in nums {\n",
    "        // .or_insert(0) ensures default value is 0 when accessing a key that doesn't exist\n",
    "        // it returns a mutable ref\n",
    "        *right_map.entry(x).or_insert(0) += 1;\n",
    "    }\n",
    "\n",
    "    // search geom triplets\n",
    "    for &x in nums {\n",
    "        // decrement x from right_map\n",
    "        // .get_mut() returns Option<&mut V>\n",
    "        if let Some(value) = right_map.get_mut(&x) {\n",
    "            *value -= 1;\n",
    "        }\n",
    "\n",
    "        if x % r == 0 {\n",
    "            let left_key = x / r;\n",
    "            let right_key = x * r;\n",
    "\n",
    "            // .get returns Option<&V> NOT Option<V>\n",
    "            // .unwrap_or(&0) provides a reference to a static 0\n",
    "            // If .unwrap_or(0) was used, a temporary i32 zero valued variable would be created (lifetime issue) \n",
    "            let left_count = *left_map.get(&left_key).unwrap_or(&0);\n",
    "            let right_count = *right_map.get(&right_key).unwrap_or(&0);\n",
    "\n",
    "            count += left_count * right_count;\n",
    "        }\n",
    "\n",
    "        // increment freq of x in left_map. Now it will be part of the \"left\" side of the array as we move to the right\n",
    "        *left_map.entry(x).or_insert(0) += 1;\n",
    "    }\n",
    "    count\n",
    "}\n",
    "\n",
    "// fn main(){     // no main() if this code runs in a jupyter cell \n",
    "    let nums = vec![2, 1, 2, 4, 8, 8];\n",
    "    let r = 2;\n",
    "    println!(\"{}\", geometric_sequence_triplets(&nums, r)); // 5\n",
    "// }\n"
   ]
  }
 ],
 "metadata": {
  "kernelspec": {
   "display_name": "Rust",
   "language": "rust",
   "name": "rust"
  },
  "language_info": {
   "codemirror_mode": "rust",
   "file_extension": ".rs",
   "mimetype": "text/rust",
   "name": "Rust",
   "pygment_lexer": "rust",
   "version": ""
  }
 },
 "nbformat": 4,
 "nbformat_minor": 5
}
