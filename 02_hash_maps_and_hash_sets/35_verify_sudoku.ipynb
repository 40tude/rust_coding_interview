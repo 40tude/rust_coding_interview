{
 "cells": [
  {
   "cell_type": "markdown",
   "id": "907798e0-af9e-4886-8560-54d3a381e355",
   "metadata": {},
   "source": [
    "# Verify Sudoku Board"
   ]
  },
  {
   "cell_type": "markdown",
   "id": "ba25f3d5-49bb-497c-bdfa-310f6b8ba4e1",
   "metadata": {},
   "source": [
    "Given a partially completed 9x9 Sudoku board, validate it.\n",
    "\n",
    "<span style=\"color:orange\"><b>The point:</b></span>    \n",
    "\n",
    "We use a hash set for each row, column, and square.\n",
    "* The `cell (j, i)` belongs to `row j`, `column i`, and square `[j // 3][i // 3] (i, j ∈ [0, 8])`\n",
    "\n",
    "Create\n",
    "* 9 hash sets for rows\n",
    "* 9 hash sets for columns\n",
    "* and 9 hash sets for squares.\n",
    "\n",
    "Iterate over each cell and add the value to each corresponding hash set.\n",
    "* If a value is already present in any hash set, we return False.\n",
    "\n",
    "We'll iterate over each cell:\n",
    "    - Check if the number already exists in the respective row, column, or square.\n",
    "    - If any duplicate is found, the Sudoku board is invalid.\n",
    "\n",
    "\n",
    "**Complexity Analysis :**\n",
    "\n",
    "| Time | Space |\n",
    "|------|-------|\n",
    "| O(n²) | O(n²)  |\n",
    "\n",
    "- Because we iterate over each cell of the board once and perform operations on hash sets in O(1).\n",
    "- We allocate three arrays (rows, cols, grids) of size n (9 here), each containing n (9 here) elements.\n",
    "\n",
    "\n",
    "\n",
    "\n",
    "\n",
    "**About Rust :**\n",
    "* **YES** : tested on the [Rust Playground](https://play.rust-lang.org/)\n",
    "\n",
    "\n",
    "<!-- <span style=\"color:red\"><b>TODO : </b></span> \n",
    "* Add comments in the source code        \n",
    " -->\n",
    "\n",
    "\n"
   ]
  },
  {
   "cell_type": "code",
   "execution_count": 2,
   "id": "f5130729-1575-4efd-bd64-826779fbde98",
   "metadata": {
    "vscode": {
     "languageId": "rust"
    }
   },
   "outputs": [
    {
     "name": "stdout",
     "output_type": "stream",
     "text": [
      "true\n",
      "false\n"
     ]
    },
    {
     "data": {
      "text/plain": [
       "()"
      ]
     },
     "execution_count": 2,
     "metadata": {},
     "output_type": "execute_result"
    }
   ],
   "source": [
    "use std::collections::HashSet;\n",
    "\n",
    "// IMO, a 9x9 2D array better expresses what a Sudoku board is (rather than a list of lists)\n",
    "fn verify_sudoku_board(board: &[[u8; 9]; 9]) -> bool {\n",
    "    let mut row_sets: Vec<HashSet<u8>> = vec![HashSet::new(); 9];\n",
    "    let mut col_sets: Vec<HashSet<u8>> = vec![HashSet::new(); 9];\n",
    "    let mut grid_sets: Vec<Vec<HashSet<u8>>> = vec![vec![HashSet::new(); 3]; 3];\n",
    "\n",
    "    for r in 0..9 {\n",
    "        for c in 0..9 {\n",
    "            let num = board[r][c];\n",
    "            if num == 0 {\n",
    "                continue;\n",
    "            }\n",
    "\n",
    "            if row_sets[r].contains(&num)\n",
    "                || col_sets[c].contains(&num)\n",
    "                || grid_sets[r / 3][c / 3].contains(&num)\n",
    "            {\n",
    "                return false;\n",
    "            }\n",
    "\n",
    "            row_sets[r].insert(num);\n",
    "            col_sets[c].insert(num);\n",
    "            grid_sets[r / 3][c / 3].insert(num);\n",
    "        }\n",
    "    }\n",
    "    true\n",
    "}\n",
    "                \n",
    "                \n",
    "// fn main(){     // no main() if this code runs in a jupyter cell \n",
    "    let board = [\n",
    "        [5, 3, 0, 0, 7, 0, 0, 0, 0],\n",
    "        [6, 0, 0, 1, 9, 5, 0, 0, 0],\n",
    "        [0, 9, 8, 0, 0, 0, 0, 6, 0],\n",
    "        [8, 0, 0, 0, 6, 0, 0, 0, 3],\n",
    "        [4, 0, 0, 8, 0, 3, 0, 0, 1],\n",
    "        [7, 0, 0, 0, 2, 0, 0, 0, 6],\n",
    "        [0, 6, 0, 0, 0, 0, 2, 8, 0],\n",
    "        [0, 0, 0, 4, 1, 9, 0, 0, 5],\n",
    "        [0, 0, 0, 0, 8, 0, 0, 7, 9],\n",
    "    ];\n",
    "    \n",
    "    println!(\"{:?}\", verify_sudoku_board(&board));  // true\n",
    "    \n",
    "    \n",
    "    let board = [\n",
    "        [3, 0, 6, 0, 5, 8, 4, 0, 0],\n",
    "        [5, 2, 0, 0, 0, 0, 0, 0, 0],\n",
    "        [0, 8, 7, 0, 0, 0, 0, 3, 1],\n",
    "        [1, 0, 2, 5, 0, 0, 3, 2, 0],\n",
    "        [9, 0, 0, 8, 6, 3, 0, 0, 5],\n",
    "        [0, 5, 0, 0, 9, 0, 6, 0, 0],\n",
    "        [0, 3, 0, 0, 0, 8, 2, 5, 0],\n",
    "        [0, 1, 0, 0, 0, 0, 0, 7, 4],\n",
    "        [0, 0, 5, 2, 0, 6, 0, 0, 0],\n",
    "    ];\n",
    "    \n",
    "    println!(\"{:?}\", verify_sudoku_board(&board))  // false\n",
    "// }"
   ]
  }
 ],
 "metadata": {
  "kernelspec": {
   "display_name": "Rust",
   "language": "rust",
   "name": "rust"
  },
  "language_info": {
   "codemirror_mode": "rust",
   "file_extension": ".rs",
   "mimetype": "text/rust",
   "name": "Rust",
   "pygment_lexer": "rust",
   "version": ""
  }
 },
 "nbformat": 4,
 "nbformat_minor": 5
}
