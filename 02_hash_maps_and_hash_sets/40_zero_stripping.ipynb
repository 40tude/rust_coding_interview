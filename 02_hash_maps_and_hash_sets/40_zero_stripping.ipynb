{
 "cells": [
  {
   "cell_type": "markdown",
   "id": "38d5c8a3-00b8-477c-9dbf-39d665a9481d",
   "metadata": {},
   "source": [
    "# Zero stripping"
   ]
  },
  {
   "cell_type": "markdown",
   "id": "2379d492-9c2c-4d05-8a92-dfb9b10d13ae",
   "metadata": {},
   "source": [
    "For each 0 in an m x n matrix, set its entire row and col to 0 in place\n",
    "\n",
    "Brute force => O(mn x (m + n))\n",
    "* Because mn represents the number of zeros if we imagine the matrix consists only of zeros.\n",
    "* m + n represents the number of cells in a row and a column combined.\n",
    "\n",
    "\n",
    "<span style=\"color:orange\"><b>The point:</b></span>    \n",
    "\n",
    "- Note that a cell in a row or column that contains a 0 will becomes a 0\n",
    "- We create two hash sets with the indexes of rows and columns that contain zeros\n",
    "- We check in O(1) if a cell (j, i) belongs to a row or column that contains a 0\n",
    "\n",
    "\n",
    "**Complexity Analysis :**\n",
    "\n",
    "| Time | Space |\n",
    "|------|-------|\n",
    "| O(mn) | O(m+n)  |\n",
    "\n",
    "- O(mn) because we traverse the matrix twice and perform O(1) operations during each pass.\n",
    "- O(m + n) because the hash sets grow with the number of rows and columns that contain zeros.\n",
    "\n",
    "\n",
    "\n",
    "\n",
    "\n",
    "**About Rust :**\n",
    "* `fn zero_striping_hash_sets(matrix: &mut [Vec<i32>])` rather than `fn zero_striping_hash_sets(matrix: &mut Vec<Vec<i32>>)`\n",
    "* **YES** : tested on the [Rust Playground](https://play.rust-lang.org/)\n",
    "\n",
    "\n",
    "\n",
    "<!-- <span style=\"color:red\"><b>TODO : </b></span> \n",
    "* Add comments in the source code        \n",
    " -->\n",
    "\n",
    "<!-- * <span style=\"color:lime\"><b>Preferred solution?</b></span>      -->\n",
    "\n",
    "\n",
    "\n"
   ]
  },
  {
   "cell_type": "code",
   "execution_count": 2,
   "id": "13ce4ae1-eafa-42a1-be46-2a1a9ffbcb88",
   "metadata": {
    "vscode": {
     "languageId": "rust"
    }
   },
   "outputs": [
    {
     "name": "stdout",
     "output_type": "stream",
     "text": [
      "[1, 2, 3, 4, 5]\n",
      "[6, 0, 8, 9, 9]\n",
      "[9, 8, 7, 6, 5]\n",
      "[2, 4, 6, 8, 0]\n",
      "\n",
      "[1, 0, 3, 4, 0]\n",
      "[0, 0, 0, 0, 0]\n",
      "[9, 0, 7, 6, 0]\n",
      "[0, 0, 0, 0, 0]\n"
     ]
    },
    {
     "data": {
      "text/plain": [
       "()"
      ]
     },
     "execution_count": 2,
     "metadata": {},
     "output_type": "execute_result"
    }
   ],
   "source": [
    "use std::collections::HashSet;\n",
    "fn zero_striping_hash_sets(matrix: &mut [Vec<i32>]){\n",
    "    \n",
    "    if matrix.is_empty() || matrix[0].is_empty() {\n",
    "        return;\n",
    "    }\n",
    "    let(m, n) = (matrix.len(), matrix[0].len()); // lines, columns\n",
    "    let mut zero_rows = HashSet::new();\n",
    "    let mut zero_cols = HashSet::new();\n",
    "    \n",
    "    // Pass 1 : identify rows and cols containing 0 storing he respective index\n",
    "    for r in 0..m{\n",
    "        for c in 0..n{\n",
    "            if matrix[r][c] == 0 {\n",
    "                zero_rows.insert(r);\n",
    "                zero_cols.insert(c);\n",
    "            }\n",
    "        }\n",
    "    }\n",
    "    \n",
    "    // Pass 2 : set any cell to 0 if its row (resp. col) is in zero_rows (resp. zero_cols)\n",
    "    for r in 0..m{\n",
    "        for c in 0..n{\n",
    "            if zero_rows.contains(&r) || zero_cols.contains(&c){  \n",
    "                matrix[r][c] = 0;\n",
    "            }\n",
    "        }\n",
    "    }\n",
    "}\n",
    "    \n",
    "// fn main(){     // no main() if this code runs in a jupyter cell \n",
    "    let mut board = vec![\n",
    "        vec![1, 2, 3, 4, 5],\n",
    "        vec![6, 0, 8, 9, 9],\n",
    "        vec![9, 8, 7, 6, 5],\n",
    "        vec![2, 4, 6, 8, 0],\n",
    "    ];\n",
    "\n",
    "    for row in &board {\n",
    "        println!(\"{:?}\", row);\n",
    "    }\n",
    "    \n",
    "    zero_striping_hash_sets(&mut board);\n",
    "    \n",
    "    println!();\n",
    "    for row in &board {\n",
    "        println!(\"{:?}\", row);\n",
    "    }\n",
    "// }"
   ]
  },
  {
   "cell_type": "markdown",
   "id": "d094673e-0acf-4fc1-bcb1-fd46154ae3e3",
   "metadata": {},
   "source": [
    "## In-place Zero Tracking"
   ]
  },
  {
   "cell_type": "markdown",
   "id": "1acec79b-2065-47ce-8a69-a5a261830d47",
   "metadata": {},
   "source": [
    "<span style=\"color:orange\"><b>The point:</b></span>    \n",
    "- If we absolutely want to perform operations in place, we can observe that a row or column containing a 0 will end up containing only zeros.\n",
    "- Its content doesn't matter, so we can sacrifice it.\n",
    "- We decide to set to 0 the cells in the first row whose column contains a 0.\n",
    "- We decide to set to 0 the cells in the first column whose row contains a 0.\n",
    "- We add two flags to track whether the first row and the first column initially contain any zeros.\n",
    "    - If so, we will need to set the entire first row and first column to 0 at the end.\n",
    "\n",
    "\n",
    "**Complexity Analysis :**\n",
    "\n",
    "| Time | Space |\n",
    "|------|-------|\n",
    "| O(mn) | O(1)  |\n",
    "\n",
    "- O(mn) because checking the first row takes O(m) and the first column takes O(n).\n",
    "- Then, we perform two passes over the m x n matrix.\n",
    "- Finally, we iterate over the first row (O(m)) and the first column (O(n)).\n",
    "- Complexity = O(m) + O(n) + O(mn) + O(m) + O(n) = O(mn).\n",
    "- O(1) in space because we use the first row and the first column to store flags and zeros.\n",
    "\n",
    "\n",
    "**About Rust :**\n",
    "* **YES** : tested on the [Rust Playground](https://play.rust-lang.org/)\n"
   ]
  },
  {
   "cell_type": "code",
   "execution_count": 4,
   "id": "6bf77dcc-abfe-4c90-b558-9aa7a70b70e6",
   "metadata": {
    "vscode": {
     "languageId": "rust"
    }
   },
   "outputs": [
    {
     "name": "stdout",
     "output_type": "stream",
     "text": [
      "[1, 2, 0, 4, 5]\n",
      "[6, 0, 8, 9, 9]\n",
      "[9, 8, 7, 6, 5]\n",
      "[2, 4, 6, 8, 0]\n",
      "\n",
      "[0, 0, 0, 0, 0]\n",
      "[0, 0, 0, 0, 0]\n",
      "[9, 0, 0, 6, 0]\n",
      "[0, 0, 0, 0, 0]\n"
     ]
    },
    {
     "data": {
      "text/plain": [
       "()"
      ]
     },
     "execution_count": 4,
     "metadata": {},
     "output_type": "execute_result"
    }
   ],
   "source": [
    "fn zero_stripping(matrix: &mut [Vec<i32>]){\n",
    "    \n",
    "    if matrix.is_empty() || matrix[0].is_empty() {\n",
    "        return;\n",
    "    }\n",
    "    let(m, n) = (matrix.len(), matrix[0].len()); // lines, columns\n",
    "\n",
    "    // Check if the 1st row and 1st col contains 0\n",
    "    // I keep the line in Python for reference\n",
    "    // first_row_has_zero = any(matrix[0][j] == 0 for j in range(n))\n",
    "    let first_row_has_zero = (0..n).any(|j| matrix[0][j] == 0);\n",
    "    // first_col_has_zero = any(matrix[i][0] == 0 for i in range(m))\n",
    "    let first_col_has_zero = (0..m).any(|i| matrix[i][0] == 0);                         \n",
    "\n",
    "    // Use first row and first col as markers\n",
    "    for r in 1..m {\n",
    "        for c in 1..n {\n",
    "            if matrix[r][c] == 0 {\n",
    "                matrix[0][c] = 0;\n",
    "                matrix[r][0] = 0;\n",
    "            }\n",
    "        }\n",
    "    }\n",
    "\n",
    "    // Update the submatrix using the flags in the first row and first col\n",
    "    for r in 1..m {\n",
    "        for c in 1..n {\n",
    "            if matrix[0][c] == 0 || matrix[r][0] == 0{\n",
    "                matrix[r][c] = 0;\n",
    "            }\n",
    "        }\n",
    "    }\n",
    "\n",
    "    // if the first row had 0 initially set all elements in it to 0\n",
    "    if first_row_has_zero {\n",
    "        for c in 0..n{\n",
    "            matrix[0][c] = 0;\n",
    "        }\n",
    "    }\n",
    "    \n",
    "    // if the first col had 0 initially set all elements in it to 0\n",
    "    if first_col_has_zero {\n",
    "        for r in 0..m {\n",
    "            matrix[r][0] = 0;\n",
    "        }\n",
    "    }\n",
    "}\n",
    "\n",
    "        \n",
    "// fn main(){\n",
    "\n",
    "    let mut board = vec![\n",
    "        vec![1, 2, 0, 4, 5],\n",
    "        vec![6, 0, 8, 9, 9],\n",
    "        vec![9, 8, 7, 6, 5],\n",
    "        vec![2, 4, 6, 8, 0],\n",
    "    ];\n",
    "\n",
    "    for row in &board {\n",
    "        println!(\"{:?}\", row);\n",
    "    }\n",
    "    \n",
    "    zero_stripping(&mut board);\n",
    "    \n",
    "    println!();\n",
    "    for row in &board {\n",
    "        println!(\"{:?}\", row);\n",
    "    }\n",
    "// }"
   ]
  }
 ],
 "metadata": {
  "kernelspec": {
   "display_name": "Rust",
   "language": "rust",
   "name": "rust"
  },
  "language_info": {
   "codemirror_mode": "rust",
   "file_extension": ".rs",
   "mimetype": "text/rust",
   "name": "Rust",
   "pygment_lexer": "rust",
   "version": ""
  }
 },
 "nbformat": 4,
 "nbformat_minor": 5
}
