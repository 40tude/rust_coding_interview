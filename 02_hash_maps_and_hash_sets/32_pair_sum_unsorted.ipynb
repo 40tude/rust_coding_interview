{
 "cells": [
  {
   "cell_type": "markdown",
   "id": "403a3da0-146c-4b26-a25d-09ca171f10f3",
   "metadata": {},
   "source": [
    "## Pai Sum - Unsorted"
   ]
  },
  {
   "cell_type": "markdown",
   "id": "1980fe1d-39dd-4cbd-9d2c-5592cf0b8484",
   "metadata": {},
   "source": [
    "- here the list is unsorted\n",
    "    - see 01_two_pointers\\12_pair_sum_**sorted**.ipynb\n",
    "- given an array and a target sum, return the indexes of any pair of numbers that add up to the target sum.\n",
    "- avoid brute force with 2 nested loops O(n²) and use the two pointers technique\n",
    "- avoid sorting the array because O(nlogn)\n",
    "\n",
    "<span style=\"color:orange\"><b>The point:</b></span>    \n",
    "- complement of x is y = target - x\n",
    "- look for indices NOT for the values by themselves\n",
    "    - pass 1 = fill a hash map with for each val its index\n",
    "    - pass 2 = look for each val, if it scomplement is in the hash map\n",
    "\n",
    "\n",
    "**Complexity Analysis :**\n",
    "\n",
    "One pass\n",
    "\n",
    "\n",
    "| Time | Space |\n",
    "|------|-------|\n",
    "| O(n) | O(n)  |\n",
    "\n",
    "- Time, because we go through le list only once\n",
    "- Space, the hash map can grow up to n\n"
   ]
  },
  {
   "cell_type": "markdown",
   "id": "b532549b-7218-4f1d-8590-849f86999690",
   "metadata": {},
   "source": [
    "## Two passes"
   ]
  },
  {
   "cell_type": "code",
   "execution_count": 4,
   "id": "ea035160-fecd-41ac-8053-fbd89761ac77",
   "metadata": {
    "vscode": {
     "languageId": "rust"
    }
   },
   "outputs": [
    {
     "name": "stdout",
     "output_type": "stream",
     "text": [
      "None\n",
      "Some((0, 4))\n",
      "Some((0, 4))\n"
     ]
    }
   ],
   "source": [
    "use std::collections::HashMap;\n",
    "\n",
    "fn pair_sum_unsorted_two_pass(nums: &[i32], target: i32) -> Option<(usize, usize)> {\n",
    "    \n",
    "    let mut num_to_index = HashMap::new();\n",
    "\n",
    "    // First pass: fill the hash map with `num` as the key and its index `i` as the value\n",
    "    for (i, &num) in nums.iter().enumerate() {\n",
    "        num_to_index.insert(num, i);\n",
    "    }\n",
    "\n",
    "    // Second pass: for each number, check if its complement exists in the map and is at a different index\n",
    "    for (i, &num) in nums.iter().enumerate() {\n",
    "        let complement = target - num;\n",
    "\n",
    "        // If the complement is in the hash map and its index is different from `i`, returns the pair\n",
    "        if let Some(&j) = num_to_index.get(&complement) {\n",
    "            if i != j {\n",
    "                return Some((i, j));\n",
    "            }\n",
    "        }\n",
    "    }\n",
    "\n",
    "    // No valid pair found\n",
    "    None\n",
    "}\n",
    "\n",
    "// fn main(){\n",
    "    println!(\"{:?}\", pair_sum_unsorted_two_pass(&[5, 2, 3, 4, 1], 42));  // () \n",
    "    println!(\"{:?}\", pair_sum_unsorted_two_pass(&[5, 2, 3, 4, 1], 6));  // (0,4) \n",
    "    let Bob = vec![5, 2, 3, 4, 1];    \n",
    "    println!(\"{:?}\", pair_sum_unsorted_two_pass(&Bob, 6));  // (0, 4)\n",
    "// }\n",
    "    "
   ]
  },
  {
   "cell_type": "markdown",
   "id": "1e97239b-2879-47c7-b66b-32e5383167f9",
   "metadata": {},
   "source": [
    "## One pass\n",
    "\n",
    "- We can have **one** pass if we fill the hash map and look for the complement at the same time\n"
   ]
  },
  {
   "cell_type": "code",
   "execution_count": null,
   "id": "6960435b-c78d-41e3-a3e9-d5fad15438b2",
   "metadata": {
    "vscode": {
     "languageId": "rust"
    }
   },
   "outputs": [
    {
     "name": "stdout",
     "output_type": "stream",
     "text": [
      "Some((1, 3))\n",
      "None\n",
      "Some((0, 4))\n"
     ]
    }
   ],
   "source": [
    "use std::collections::HashMap;\n",
    "\n",
    "fn pair_sum_unsorted_one_pass(nums: &[i32], target: i32) -> Option<(usize, usize)> {\n",
    "    \n",
    "    let mut complement_to_index = HashMap::new();\n",
    "\n",
    "    for (i, &num) in nums.iter().enumerate() {\n",
    "        let complement = target - num;\n",
    "        if let Some(&j) = complement_to_index.get(&complement) {\n",
    "            return Some((j, i));\n",
    "        }\n",
    "        complement_to_index.insert(num, i);\n",
    "    }\n",
    "    None\n",
    "}\n",
    "\n",
    "// fn main() {\n",
    "    println!(\"{:?}\", pair_sum_unsorted_one_pass(&[1, 2, 3, 4, 5], 6));  // Some((1, 3))\n",
    "    println!(\"{:?}\", pair_sum_unsorted_one_pass(&[1, 2, 3, 4, 5], 42)); // None\n",
    "    let Bob = vec![1, 2, 3, 4, 5];    \n",
    "    println!(\"{:?}\", pair_sum_unsorted_two_pass(&Bob, 6));  // (0, 4)\n",
    "// }"
   ]
  },
  {
   "cell_type": "markdown",
   "id": "74c9d092-e4d8-497d-a349-340d93b81e7e",
   "metadata": {},
   "source": [
    "## A more functional way ?"
   ]
  },
  {
   "cell_type": "code",
   "execution_count": null,
   "id": "21afccfc-b0ed-4430-aeeb-cb18bfb5bf76",
   "metadata": {
    "vscode": {
     "languageId": "rust"
    }
   },
   "outputs": [
    {
     "name": "stdout",
     "output_type": "stream",
     "text": [
      "Some((1, 3))\n",
      "None\n",
      "Some((0, 4))\n"
     ]
    }
   ],
   "source": [
    "use std::collections::HashMap;\n",
    "\n",
    "fn pair_sum_unsorted_one_pass(nums: &[i32], target: i32) -> Option<(usize, usize)> {\n",
    "    \n",
    "    let mut seen = HashMap::new();\n",
    "\n",
    "    nums.iter().enumerate().find_map(|(i, &num)| {\n",
    "        let complement = target - num;\n",
    "        seen.get(&complement).map(|&j| (j, i)).or_else(|| {\n",
    "            seen.insert(num, i);\n",
    "            None\n",
    "        })\n",
    "    })\n",
    "}\n",
    "\n",
    "// fn main() {\n",
    "    println!(\"{:?}\", pair_sum_unsorted_one_pass(&[1, 2, 3, 4, 5], 6));  // Some((1, 3))\n",
    "    println!(\"{:?}\", pair_sum_unsorted_one_pass(&[1, 2, 3, 4, 5], 42)); // None\n",
    "    let Bob = vec![1, 2, 3, 4, 5];    \n",
    "    println!(\"{:?}\", pair_sum_unsorted_two_pass(&Bob, 6));  // (0, 4)\n",
    "// }"
   ]
  }
 ],
 "metadata": {
  "kernelspec": {
   "display_name": "Rust",
   "language": "rust",
   "name": "rust"
  },
  "language_info": {
   "codemirror_mode": "rust",
   "file_extension": ".rs",
   "mimetype": "text/rust",
   "name": "Rust",
   "pygment_lexer": "rust",
   "version": ""
  }
 },
 "nbformat": 4,
 "nbformat_minor": 5
}
