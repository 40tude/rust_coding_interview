{
 "cells": [
  {
   "cell_type": "markdown",
   "id": "39261f1d-d3e9-490f-aa20-1d96779871ba",
   "metadata": {},
   "source": [
    "# Longest Chain of Consecutive Numbers"
   ]
  },
  {
   "cell_type": "markdown",
   "id": "2016b8f6",
   "metadata": {},
   "source": [
    "* Find the longest chain of consecutive numbers in an array.\n",
    "* Two numbers are consecutive if they have a difference of 1.\n",
    "* I didn't realize that sorting was an option.\n",
    "\n",
    "Brute force 1:\n",
    "- We sort the array O(nlog(n)) and iterate through it.\n",
    "\n",
    "Brute force 2:\n",
    "- We can consider each value as the start of a sequence.\n",
    "- This leads to an O(n^3) solution, which is even worse.\n",
    "- O(n^3) because there is a for loop, a while loop, and inside the while loop, we perform \"while (current_num + 1) in nums\" in O(n).\n",
    "\n",
    "\n",
    "\n",
    "\n",
    "<span style=\"color:orange\"><b>The point:</b></span>    \n",
    "\n",
    "- Optimized approach:\n",
    "- Instead of performing a linear search, we use a hash set to achieve O(1) lookups.\n",
    "- We eliminate false starts by skipping values where v-1 exists in the hash set.\n",
    "- This reduces the complexity from O(n^3) to O(n).\n",
    "\n",
    "\n",
    "**Complexity Analysis :**\n",
    "\n",
    "| Time | Space |\n",
    "|------|-------|\n",
    "| O(n) | O(n)  |\n",
    "\n",
    "- Even though there are two loops, the complexity is O(n) because the inner loop runs only on the start of sequences.\n",
    "- Therefore, the combined number of iterations for both loops is O(n).\n",
    "- The for loop runs n times, and the while loop runs n times.\n",
    "- This results in O(n + n) = O(n).\n",
    "- Space complexity is O(n) because we use a hash set to store the values.\n",
    "\n",
    "\n",
    "\n",
    "\n",
    "\n",
    "\n",
    "**About Rust :**\n",
    "* `let num_set: HashSet<i32> = nums.iter().cloned().collect();`\n",
    "    * `.iter()` provides immutable references to the elements ``&T`` \n",
    "    * `nums` remains available afterwards (not consumed)\n",
    "    * we must transform references into i32 => ``.cloned()``\n",
    "* **YES** : tested on the [Rust Playground](https://play.rust-lang.org/)\n",
    "\n",
    "\n",
    "\n",
    "<!-- <span style=\"color:red\"><b>TODO : </b></span> \n",
    "* Add comments in the source code        \n",
    " -->\n"
   ]
  },
  {
   "cell_type": "code",
   "execution_count": 5,
   "id": "b70fa16b-3766-4cee-8760-a4dc8e9693f8",
   "metadata": {
    "vscode": {
     "languageId": "rust"
    }
   },
   "outputs": [
    {
     "name": "stdout",
     "output_type": "stream",
     "text": [
      "4\n",
      "4\n"
     ]
    }
   ],
   "source": [
    "use std::collections::HashSet;\n",
    "\n",
    "fn longest_chain_of_consecutive_numbers(nums: &[i32]) -> i32 {\n",
    "\n",
    "    if nums.is_empty() {\n",
    "        return 0;\n",
    "    }\n",
    "\n",
    "    let num_set: HashSet<i32> = nums.iter().cloned().collect();\n",
    "    let mut longest_chain = 0;\n",
    "    \n",
    "    for &num in &num_set{\n",
    "         // If the current number is the smallest in its chain, search for the length of the chain\n",
    "        if !num_set.contains(&(num - 1)) {\n",
    "            let mut current_num = num;\n",
    "            let mut current_chain = 1;\n",
    "            while num_set.contains(&(current_num + 1)){\n",
    "                current_num += 1;\n",
    "                current_chain += 1;\n",
    "            }\n",
    "            longest_chain = longest_chain.max(current_chain);\n",
    "        }\n",
    "    }\n",
    "    return longest_chain;\n",
    "}\n",
    "\n",
    "// fn main(){     // no main() if this code runs in a jupyter cell \n",
    "    println!(\"{:?}\", longest_chain_of_consecutive_numbers(&vec![1, 6, 2, 5, 8, 7, 10, 3]));  // 4\n",
    "    println!(\"{:?}\", longest_chain_of_consecutive_numbers(&[1, 6, 2, 5, 8, 7, 10, 3]));  // 4\n",
    "// }\n"
   ]
  }
 ],
 "metadata": {
  "kernelspec": {
   "display_name": "Rust",
   "language": "rust",
   "name": "rust"
  },
  "language_info": {
   "codemirror_mode": "rust",
   "file_extension": ".rs",
   "mimetype": "text/rust",
   "name": "Rust",
   "pygment_lexer": "rust",
   "version": ""
  }
 },
 "nbformat": 4,
 "nbformat_minor": 5
}
