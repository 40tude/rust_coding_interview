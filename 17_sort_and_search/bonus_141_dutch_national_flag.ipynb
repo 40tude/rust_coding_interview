{
    "cells": [
        {
            "cell_type": "markdown",
            "id": "94586613-ae90-49c6-939f-0bf144eee5ca",
            "metadata": {},
            "source": [
                "# Dutch National Flag"
            ]
        },
        {
            "cell_type": "markdown",
            "id": "65cd6265-18c0-45ca-9f3b-024885b652ee",
            "metadata": {},
            "source": [
                "* Given an array of 0s, 1s, and 2s representing red, white, and blue, respectively\n",
                "* Sort the array in place so it resembles the Dutch national flag, with all reds (0s) coming first, followed by whites (1s), and finally blues (2s).\n",
                "\n",
                "\n",
                "<span style=\"color:orange\"><b>The point:</b></span>\n",
                "\n",
                "* Using in-built function => O(nlog(n))\n",
                "* position all 0s to the left, all 2s to the right (the 1s comes for free in the middle)\n",
                "* Use 2 pointers (left, right) that go inward, swap value when the encounter a 0 or a 2  \n",
                "\n",
                "**Complexity :**\n",
                "\n",
                "| Time           | Space     |\n",
                "|----------------|-----------|\n",
                "| O(n)           | O(1)      |\n",
                "\n",
                "* O(n) in time because we iterate through each element of `nums` once.\n",
                "* O(1) in space because in place\n",
                "\n",
                "\n",
                "\n",
                "\n",
                "<!-- <span style=\"color:red\"><b>TODO : </b></span> \n",
                "* Add comments in code -->\n",
                "\n",
                "\n",
                "<!-- * <span style=\"color:lime\"><b>Preferred solution?</b></span>      -->\n",
                "\n"
            ]
        },
        {
            "cell_type": "markdown",
            "id": "dbcd051a",
            "metadata": {
                "vscode": {
                    "languageId": "rust"
                }
            },
            "source": [
                "## V1\n",
                "\n",
                "* First translation\n",
                "\n",
                "**About Rust :**\n",
                "* **YES** : tested on the [Rust Playground](https://play.rust-lang.org/)\n",
                "\n"
            ]
        },
        {
            "cell_type": "code",
            "execution_count": null,
            "id": "cd43545b",
            "metadata": {
                "vscode": {
                    "languageId": "rust"
                }
            },
            "outputs": [],
            "source": [
                "fn dutch_national_flag(nums: &mut[i32]) {\n",
                "\n",
                "    let mut i = 0;\n",
                "    let (mut left, mut right) = (0, nums.len() - 1);\n",
                "    \n",
                "    while i <= right {\n",
                "        if nums[i] == 0{\n",
                "            // Swap 0s with the element at the left pointer.\n",
                "            nums.swap(i, left);\n",
                "            left += 1;\n",
                "            i += 1;\n",
                "        } else if nums[i] == 2{\n",
                "            // Swap 2s with the element at the right pointer.\n",
                "            nums.swap(i, right);\n",
                "            right -= 1\n",
                "        } else{\n",
                "            i += 1;\n",
                "        }\n",
                "    }\n",
                "} \n",
                "\n",
                "\n",
                "fn main() { // no main() if this code runs in a Jupyter cell\n",
                "    let mut vals = vec![0, 1, 2, 0, 1, 2, 0]; \n",
                "    dutch_national_flag(&mut vals);\n",
                "    println!(\"{:?}\", vals); // [0, 0, 0, 1, 1, 2, 2]\n",
                "    \n",
                "} // end of local scope OR end of main()"
            ]
        },
        {
            "cell_type": "markdown",
            "id": "a9bf1e27",
            "metadata": {},
            "source": [
                "## V2\n",
                "\n",
                "**About Rust :**\n",
                "* **YES** : tested on the [Rust Playground](https://play.rust-lang.org/)\n"
            ]
        },
        {
            "cell_type": "code",
            "execution_count": null,
            "id": "c38cd17f",
            "metadata": {
                "vscode": {
                    "languageId": "rust"
                }
            },
            "outputs": [],
            "source": [
                "fn dutch_national_flag(nums: &mut [i32]) {\n",
                "    let mut i = 0;\n",
                "    let (mut left , mut right) = (0, nums.len() - 1);\n",
                "    \n",
                "    while i <= right {\n",
                "        match nums[i] {\n",
                "            0 => {\n",
                "                // Swap 0s with the element at the left pointer\n",
                "                nums.swap(i, left);\n",
                "                left += 1;\n",
                "                i += 1;\n",
                "            },\n",
                "            2 => {\n",
                "                // Swap 2s with the element at the right pointer\n",
                "                nums.swap(i, right);\n",
                "                // Do not increment i, as the swapped value needs to be checked\n",
                "                right -= 1;\n",
                "            },\n",
                "            _ => {\n",
                "                // If it's 1, just move forward\n",
                "                i += 1;\n",
                "            },\n",
                "        }\n",
                "    }\n",
                "}\n",
                "\n",
                "fn main() {\n",
                "    let mut vals = vec![0, 1, 2, 0, 1, 2, 0];\n",
                "    dutch_national_flag(&mut vals);\n",
                "    println!(\"{:?}\", vals); // Output: [0, 0, 0, 1, 1, 2, 2]\n",
                "}\n"
            ]
        }
    ],
    "metadata": {
        "kernelspec": {
            "display_name": "Rust",
            "language": "rust",
            "name": "rust"
        },
        "language_info": {
            "codemirror_mode": "rust",
            "file_extension": ".rs",
            "mimetype": "text/rust",
            "name": "Rust",
            "pygment_lexer": "rust",
            "version": ""
        }
    },
    "nbformat": 4,
    "nbformat_minor": 5
}