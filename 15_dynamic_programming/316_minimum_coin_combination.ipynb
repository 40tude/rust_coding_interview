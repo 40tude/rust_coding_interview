{
 "cells": [
  {
   "cell_type": "markdown",
   "id": "94586613-ae90-49c6-939f-0bf144eee5ca",
   "metadata": {},
   "source": [
    "# Minimum Coin Combination"
   ]
  },
  {
   "cell_type": "markdown",
   "id": "53ea923f",
   "metadata": {},
   "source": [
    "* You are given an array of coin values and a target amount\n",
    "* Return the minimum number of coins needed\n",
    "* If not possible return -1\n",
    "* Assume unlimited supply of each coin"
   ]
  },
  {
   "cell_type": "markdown",
   "id": "65cd6265-18c0-45ca-9f3b-024885b652ee",
   "metadata": {},
   "source": [
    "## Top-Down\n",
    "\n",
    "<span style=\"color:orange\"><b>The point:</b></span>\n",
    "\n",
    "* Brute force impossible because infinite number of each coin\n",
    "* If we peek one coin of value v, then the next subproblem to solve is to reach target-v \n",
    "* Recursive\n",
    "* min_coin_combination(target) = 1 + min(min_coin_combination (target - coin_i)) and coin_i is one of the coins value\n",
    "* Base case when target = 0 => return 0\n",
    "* Memoization to solve overlapping subproblems\n",
    "\n",
    "\n",
    "\n",
    "\n",
    "**Phases of a DP solution :**\n",
    "1. Subproblem\n",
    "1. DP Formula\n",
    "1. Base Case\n",
    "1. Populate DP Table\n",
    "\n",
    "\n",
    "\n",
    "\n",
    "**Complexity :**\n",
    "\n",
    "| Time           | Space     |\n",
    "|----------------|-----------|\n",
    "| O(target x n)  | O(target) |\n",
    "\n",
    "* O(target x n) in time thanks to the memoization. Each subproblem is solved once. There are at most target subproblem and we iterate over n coins => O(target x n)\n",
    "* O(target) in space because of size o memoization structure stores up to target key-values pairs (size of recursive call stack is target/m where m is the smallest coin value)\n",
    "\n",
    "\n",
    "**About Rust :**\n",
    "* First translation\n",
    "* **YES** : tested on the [Rust Playground](https://play.rust-lang.org/)\n",
    "\n",
    "\n",
    "\n",
    "\n",
    "\n",
    "\n",
    "\n",
    "<!-- <span style=\"color:red\"><b>TODO : </b></span> \n",
    "* Add comments in code -->\n",
    "\n",
    "\n",
    "<!-- * <span style=\"color:lime\"><b>Preferred solution?</b></span>      -->\n",
    "\n"
   ]
  },
  {
   "cell_type": "code",
   "execution_count": 2,
   "id": "cd43545b",
   "metadata": {
    "vscode": {
     "languageId": "rust"
    }
   },
   "outputs": [
    {
     "name": "stdout",
     "output_type": "stream",
     "text": [
      "Some(2)\n",
      "None\n"
     ]
    }
   ],
   "source": [
    "use std::collections::HashMap;\n",
    "\n",
    "fn top_down_dp(coins: &[usize], target : usize, memo : &mut HashMap<usize, usize>) -> usize{\n",
    "    if target == 0{\n",
    "        0\n",
    "    }else if let Some(&nb_ways) = memo.get(&target) {    \n",
    "        nb_ways\n",
    "    } else {\n",
    "        // Initialize min_coins to a large number\n",
    "        let mut min_coins = usize::MAX;\n",
    "        for coin in coins{\n",
    "            if *coin <= target {\n",
    "                min_coins = min_coins.min(1+top_down_dp(coins, target-coin, memo));\n",
    "            }\n",
    "        }\n",
    "        memo.insert(target, min_coins);\n",
    "        min_coins\n",
    "    }\n",
    "}\n",
    "\n",
    "fn min_coin_combination_top_down(coins : &[usize], target : usize) -> Option<usize> {\n",
    "    let mut memo = HashMap::new();\n",
    "    let res = top_down_dp(coins, target, &mut memo);\n",
    "    match res{\n",
    "        usize::MAX=>None,\n",
    "        _ => Some(res)\n",
    "    }\n",
    "}\n",
    "\n",
    "// fn main() { // no main() if this code runs in a Jupyter cell\n",
    "\n",
    "    let coins = vec![1,2,3];\n",
    "    let target = 5; // Some(2)\n",
    "    println!(\"{:?}\", min_coin_combination_top_down(&coins, target)); // 2\n",
    "\n",
    "    let coins = vec![42, 18];\n",
    "    let target = 5; // None\n",
    "    println!(\"{:?}\", min_coin_combination_top_down(&coins, target)); // 2\n",
    "// } // end of local scope OR end of main()"
   ]
  },
  {
   "cell_type": "markdown",
   "id": "013e5c30",
   "metadata": {},
   "source": [
    "## Bottom-Up\n",
    "\n",
    "<span style=\"color:orange\"><b>The point:</b></span>\n",
    "\n",
    "* Any Top-Down + memoization solution can be implemented as Bottom-Up + a DP array\n",
    "\n",
    "**Complexity :**\n",
    "\n",
    "| Time         | Space     |\n",
    "|--------------|-----------|\n",
    "| O(n)         | O(n)      |\n",
    "\n",
    "* O(n) in time because iterate over n elements of DP array\n",
    "* O(n) in space because space taken by DP array\n",
    "\n",
    "\n",
    "**About Rust :**\n",
    "* First translation\n",
    "* **YES** : tested on the [Rust Playground](https://play.rust-lang.org/)\n",
    "\n",
    "\n"
   ]
  },
  {
   "cell_type": "code",
   "execution_count": 3,
   "id": "04c69f33",
   "metadata": {
    "vscode": {
     "languageId": "rust"
    }
   },
   "outputs": [
    {
     "name": "stdout",
     "output_type": "stream",
     "text": [
      "5\n"
     ]
    }
   ],
   "source": [
    "fn climbing_stairs_bottom_up(n : usize) -> usize{\n",
    "    // base case \n",
    "    // with a 1-step staircase => only 1 way to climb\n",
    "    // with a 2-steps staircase => only 2 ways to climb\n",
    "    if n<=2{\n",
    "        n\n",
    "    }else{\n",
    "        let mut dp:Vec<usize> = vec![0; n+1]; // Allocation\n",
    "        dp[1] = 1; // Initialization\n",
    "        dp[2] = 2;\n",
    "\n",
    "        // Starting from step 3, calculate the number of ways to reach each step until n-th\n",
    "        for i in 3..n+1{\n",
    "            dp[i] = dp[i-1] + dp[i-2];\n",
    "        }\n",
    "        dp[n]\n",
    "    }\n",
    "}\n",
    "\n",
    "// fn main() { // no main() if this code runs in a Jupyter cell\n",
    "\n",
    "    println!(\"{}\", climbing_stairs_bottom_up(4)); // 5\n",
    "    \n",
    "// } // end of local scope OR end of main()"
   ]
  },
  {
   "cell_type": "markdown",
   "id": "af1127d3",
   "metadata": {},
   "source": [
    "## Optimization - Bottom-Up \n",
    "\n",
    "<span style=\"color:orange\"><b>The point:</b></span>\n",
    "\n",
    "* No need to store the entire DP array \n",
    "* Only 2 values `dp[i-1]` (`one_step_before`) and `dp[i-2]` (`two_step_before`)\n",
    "\n",
    "**About Rust :**\n",
    "* First translation\n",
    "* <span style=\"color:lime\"><b>Preferred solution?</b></span>     \n",
    "* **YES** : tested on the [Rust Playground](https://play.rust-lang.org/)\n",
    "\n"
   ]
  },
  {
   "cell_type": "code",
   "execution_count": 4,
   "id": "46be4b15",
   "metadata": {
    "vscode": {
     "languageId": "rust"
    }
   },
   "outputs": [
    {
     "name": "stdout",
     "output_type": "stream",
     "text": [
      "5\n"
     ]
    }
   ],
   "source": [
    "fn climbing_stairs_bottom_up_optimized(n : usize) -> usize{\n",
    "    if n<=2{\n",
    "        n\n",
    "    } else{\n",
    "        let (mut one_step_before, mut two_step_before) = (2, 1);\n",
    "\n",
    "        // Starting from step 3, calculate the number of ways to reach each step until n-th\n",
    "        for _ in 3..n+1{\n",
    "            let current = one_step_before + two_step_before;\n",
    "            two_step_before = one_step_before;\n",
    "            one_step_before = current;\n",
    "        }\n",
    "        one_step_before\n",
    "    }\n",
    "}\n",
    "\n",
    "// fn main() { // no main() if this code runs in a Jupyter cell\n",
    "\n",
    "    println!(\"{}\", climbing_stairs_bottom_up_optimized(4)); // 5\n",
    "    \n",
    "// } // end of local scope OR end of main()"
   ]
  }
 ],
 "metadata": {
  "kernelspec": {
   "display_name": "Rust",
   "language": "rust",
   "name": "rust"
  },
  "language_info": {
   "codemirror_mode": "rust",
   "file_extension": ".rs",
   "mimetype": "text/rust",
   "name": "Rust",
   "pygment_lexer": "rust",
   "version": ""
  }
 },
 "nbformat": 4,
 "nbformat_minor": 5
}
