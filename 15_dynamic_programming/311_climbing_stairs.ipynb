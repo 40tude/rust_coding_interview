{
 "cells": [
  {
   "cell_type": "markdown",
   "id": "94586613-ae90-49c6-939f-0bf144eee5ca",
   "metadata": {},
   "source": [
    "# Climbing Stairs"
   ]
  },
  {
   "cell_type": "markdown",
   "id": "53ea923f",
   "metadata": {},
   "source": [
    "* Determine the number of distinct ways to climb a staircase of n steps by taking either 1 or 2 steps at a time"
   ]
  },
  {
   "cell_type": "markdown",
   "id": "65cd6265-18c0-45ca-9f3b-024885b652ee",
   "metadata": {},
   "source": [
    "## Top-Down\n",
    "\n",
    "<span style=\"color:orange\"><b>The point:</b></span>\n",
    "\n",
    "* To reach stair `i` we come from stair `i-1` or stair ``i-2``\n",
    "* To solve `climbing_stairs(n)` we need to solve 2 subproblems `climbing_stairs(n-1)` and `climbing_stairs(n-2)`\n",
    "* Recursive\n",
    "* Overlapping subproblems is solved with **memoization** (store result of subproblems as they are solve, avoid to recalculate). Hash map (constant time access)\n",
    "\n",
    "**Complexity :**\n",
    "\n",
    "| Time           | Space     |\n",
    "|----------------|-----------|\n",
    "| O(n)         | O(n)      |\n",
    "\n",
    "* O(n) in time because of memoization(O(2^n) otherwise because the depth of recursion tree is n and branching factor is 2). \n",
    "* O(n) in space because of depth of the recursive call stack (can grow up to n)\n",
    "\n",
    "\n",
    "\n",
    "\n",
    "\n",
    "\n",
    "\n",
    "\n",
    "\n",
    "<!-- <span style=\"color:red\"><b>TODO : </b></span> \n",
    "* Add comments in code -->\n",
    "\n",
    "\n",
    "<!-- * <span style=\"color:lime\"><b>Preferred solution?</b></span>      -->\n",
    "\n"
   ]
  },
  {
   "cell_type": "markdown",
   "id": "dbcd051a",
   "metadata": {
    "vscode": {
     "languageId": "rust"
    }
   },
   "source": [
    "## V1\n",
    "\n",
    "* First translation\n",
    "\n",
    "**About Rust :**\n",
    "* **YES** : tested on the [Rust Playground](https://play.rust-lang.org/)\n",
    "\n"
   ]
  },
  {
   "cell_type": "code",
   "execution_count": null,
   "id": "cd43545b",
   "metadata": {
    "vscode": {
     "languageId": "rust"
    }
   },
   "outputs": [],
   "source": [
    "use std::collections::HashMap;\n",
    "\n",
    "fn climbing_stairs_top_down(n :usize) -> usize {\n",
    "    let mut memo = HashMap::new();\n",
    "    climbing_stairs(n, &mut memo)\n",
    "}\n",
    "\n",
    "fn climbing_stairs(n : usize, memo : &mut HashMap<usize, usize>) -> usize{\n",
    "    // base case \n",
    "    // with a 1-step staircase => only 1 way to climb\n",
    "    // with a 2-steps staircase => only 2 ways to climb\n",
    "    if n<=2{\n",
    "        return n;\n",
    "    }\n",
    "    if let Some(&nb_ways) = memo.get(&n) {    \n",
    "        return nb_ways;\n",
    "    }\n",
    "    // The number of ways to climb to the n-th step is the sum of ways to reach n-1 and n-2\n",
    "    let nb_ways = climbing_stairs(n-1, memo) + climbing_stairs(n-2, memo);\n",
    "    memo.insert(n, nb_ways);\n",
    "    return *memo.get(&n).unwrap(); //safe to unwrap here\n",
    "}\n",
    "\n",
    "fn main() { // no main() if this code runs in a jupyter cell\n",
    "\n",
    "    println!(\"{}\", climbing_stairs_top_down(4));\n",
    "    \n",
    "} // end of local scope OR end of main()"
   ]
  }
 ],
 "metadata": {
  "kernelspec": {
   "display_name": "Rust",
   "language": "rust",
   "name": "rust"
  },
  "language_info": {
   "codemirror_mode": "rust",
   "file_extension": ".rs",
   "mimetype": "text/rust",
   "name": "Rust",
   "pygment_lexer": "rust",
   "version": ""
  }
 },
 "nbformat": 4,
 "nbformat_minor": 5
}
