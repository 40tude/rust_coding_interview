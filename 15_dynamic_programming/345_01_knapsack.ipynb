{
    "cells": [
        {
            "cell_type": "markdown",
            "id": "94586613-ae90-49c6-939f-0bf144eee5ca",
            "metadata": {},
            "source": [
                "# 0/1 Knapsack"
            ]
        },
        {
            "cell_type": "markdown",
            "id": "53ea923f",
            "metadata": {},
            "source": [
                "<div align=\"center\">\n",
                "<img src=\"../assets/chap_15.webp\" alt=\"\" width=\"300\" loading=\"lazy\"/>\n",
                "</div>\n",
                "\n",
                "* Robe a store\n",
                "* Carry a knapsack with capacity of `cap` units\n",
                "* Item `i` has a `weight[i]` and `value[i]`\n",
                "* Return the maximum total value you can carry\n",
                "\n",
                "\n",
                "\n",
                "<span style=\"color:orange\"><b>The point:</b></span>\n",
                "\n",
                "* 2 choice per item : include, exclude\n",
                "* Binary decision => the name\n",
                "* Brute force => 2^n combinations\n",
                "* Greedy is not either a good choice (picking the largest first does'nt lead to optimal solution)\n",
                "* Include item `i` => the most value we can get is : `values[i] + knapsack(i+1, capa - weights[i])`\n",
                "* Exclude item `i` => the most value we can get is : `knapsack(i+1, capa)`\n",
                "* First columns and last row set to 0  \n",
                "\n",
                "**Phases of a DP solution :**\n",
                "1. Subproblem\n",
                "1. DP Formula\n",
                "1. Base Case\n",
                "1. Populate DP Table\n",
                "\n",
                "\n",
                "\n",
                "\n",
                "**Complexity :**\n",
                "\n",
                "| Time        | Space        |\n",
                "|-------------|--------------|\n",
                "| O(n x capa) | O(n x capa)  |\n",
                "\n",
                "* O(n x capa) in time because each cell of the DP table is populated once\n",
                "* O(n x capa) in space because the DP table is (n+1) x (capa+1)\n",
                "\n",
                "\n",
                "**About Rust :**\n",
                "* First implementation\n",
                "* **YES** : tested on the [Rust Playground](https://play.rust-lang.org/)\n",
                "\n",
                "\n",
                "\n",
                "\n",
                "\n",
                "\n",
                "\n",
                "<!-- <span style=\"color:red\"><b>TODO : </b></span> \n",
                "* Add comments in code -->\n",
                "\n",
                "\n",
                "<!-- * <span style=\"color:lime\"><b>Preferred solution?</b></span>      -->\n",
                "\n"
            ]
        },
        {
            "cell_type": "code",
            "execution_count": null,
            "id": "cd43545b",
            "metadata": {
                "vscode": {
                    "languageId": "rust"
                }
            },
            "outputs": [],
            "source": [
                "fn knapsack(capacity: usize, weights: &[usize], values: &[i32]) -> i32 {\n",
                "    let n = values.len();\n",
                "    // Base case : set first col and last row to 0 by initializing DP to 0\n",
                "    let mut dp = vec![vec![0; capacity+1]; n+1];\n",
                "    // populate dp\n",
                "    for i in (0..n).rev() {\n",
                "        for c in 1..=capacity {\n",
                "            // Item i is included\n",
                "            if weights[i] <= c {\n",
                "                dp[i][c] = (values[i] + dp[i + 1][c - weights[i]]).max(dp[i + 1][c]);\n",
                "            } else {\n",
                "                // Item i is excluded\n",
                "                dp[i][c] = dp[i + 1][c];\n",
                "            }\n",
                "        }\n",
                "    }\n",
                "    dp[0][capacity]\n",
                "}\n",
                "\n",
                "fn main() { // no main() if this code runs in a Jupyter cell\n",
                "    let weights = vec![5, 3, 4, 1];\n",
                "    let values = vec![70, 50, 40, 10];\n",
                "    let capacity = 7;\n",
                "    println!(\"{}\", knapsack(capacity, &weights, &values)); // 90\n",
                "} // end of local scope OR end of main()\n"
            ]
        },
        {
            "cell_type": "markdown",
            "id": "013e5c30",
            "metadata": {},
            "source": [
                "## Optimization\n",
                "\n",
                "<span style=\"color:orange\"><b>The point:</b></span>\n",
                "\n",
                "* We only need access to the cellsfrom the row below\n",
                "* `curr_row` : the row being populated\n",
                "* `prev_row` : the row below the current row\n",
                "\n",
                "\n",
                "\n",
                "**Complexity :**\n",
                "\n",
                "| Time           | Space     |\n",
                "|----------------|-----------|\n",
                "| O(n x capa)    | O(capa)   |\n",
                "\n",
                "\n",
                "**About Rust :**\n",
                "* <span style=\"color:lime\"><b>Preferred solution?</b></span>\n",
                "* **YES** : tested on the [Rust Playground](https://play.rust-lang.org/)\n",
                "\n",
                "\n"
            ]
        },
        {
            "cell_type": "code",
            "execution_count": null,
            "id": "04c69f33",
            "metadata": {
                "vscode": {
                    "languageId": "rust"
                }
            },
            "outputs": [],
            "source": [
                "fn knapsack_optimized(capacity: usize, weights: &[usize], values: &[i32]) -> i32 {\n",
                "    // Initialize prev_row as the DP values of the row below current row\n",
                "    let mut prev_row = vec![0; capacity + 1];\n",
                "\n",
                "    for i in (0..values.len()).rev() {\n",
                "        let mut curr_row = vec![0; capacity + 1];\n",
                "        for c in 1..=capacity {\n",
                "            if weights[i] <= c {\n",
                "                // Item i is included\n",
                "                curr_row[c] = (values[i] + prev_row[c - weights[i]]).max(prev_row[c]);\n",
                "            } else {\n",
                "                // Item i is excluded\n",
                "                curr_row[c] = prev_row[c];\n",
                "            }\n",
                "        }\n",
                "        prev_row = curr_row;\n",
                "    }\n",
                "    prev_row[capacity]\n",
                "}\n",
                "\n",
                "fn main() {\n",
                "    // no main() if this code runs in a Jupyter cell\n",
                "    let weights = vec![5, 3, 4, 1];\n",
                "    let values = vec![70, 50, 40, 10];\n",
                "    let capacity = 7;\n",
                "    println!(\"{}\", knapsack_optimized(capacity, &weights, &values)); // 90\n",
                "} // end of local scope OR end of main()\n"
            ]
        }
    ],
    "metadata": {
        "kernelspec": {
            "display_name": "Rust",
            "language": "rust",
            "name": "rust"
        },
        "language_info": {
            "codemirror_mode": "rust",
            "file_extension": ".rs",
            "mimetype": "text/rust",
            "name": "Rust",
            "pygment_lexer": "rust",
            "version": ""
        }
    },
    "nbformat": 4,
    "nbformat_minor": 5
}
