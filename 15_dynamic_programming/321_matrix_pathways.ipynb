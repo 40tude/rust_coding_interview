{
 "cells": [
  {
   "cell_type": "markdown",
   "id": "94586613-ae90-49c6-939f-0bf144eee5ca",
   "metadata": {},
   "source": [
    "# Matrix Pathways"
   ]
  },
  {
   "cell_type": "markdown",
   "id": "53ea923f",
   "metadata": {},
   "source": [
    "* You are positioned at top-left corner of m x n matrix (row, col)\n",
    "* Only move downward or to the right\n",
    "* Determine the # of unique pathways to bottom-right corner\n",
    "* Assume `m` and `n` >=1\n",
    "\n",
    "<span style=\"color:orange\"><b>The point:</b></span>\n",
    "\n",
    "* Think backward\n",
    "* `matrix_pathways(r, c) = matrix_pathways(r-1, c) + matrix_pathways(r, c-1)`\n",
    "*  `dp[0][0]` should be 1. row 0 and col 0 should be 1 \n",
    "\n",
    "\n",
    "\n",
    "\n",
    "**Complexity :**\n",
    "\n",
    "| Time           | Space     |\n",
    "|----------------|-----------|\n",
    "| O(m x n)       | O(m x n) |\n",
    "\n",
    "* O(m x n) in time because each cell in DP table is populated once\n",
    "* O(m x n) in space because of size of DP table\n",
    "\n",
    "\n",
    "**About Rust :**\n",
    "* First translation\n",
    "* **YES** : tested on the [Rust Playground](https://play.rust-lang.org/)\n",
    "\n",
    "\n",
    "\n",
    "\n",
    "\n",
    "\n",
    "\n",
    "<!-- <span style=\"color:red\"><b>TODO : </b></span> \n",
    "* Add comments in code -->\n",
    "\n",
    "\n",
    "<!-- * <span style=\"color:lime\"><b>Preferred solution?</b></span>      -->\n",
    "\n"
   ]
  },
  {
   "cell_type": "markdown",
   "id": "65cd6265-18c0-45ca-9f3b-024885b652ee",
   "metadata": {},
   "source": []
  },
  {
   "cell_type": "code",
   "execution_count": null,
   "id": "cd43545b",
   "metadata": {
    "vscode": {
     "languageId": "rust"
    }
   },
   "outputs": [],
   "source": [
    "fn matrix_pathways(m : usize, n : usize) -> usize {\n",
    "    // Base case. Set cells in row 0 and col 0 to 1\n",
    "    // We can set all cells in DP table to 1\n",
    "    let mut dp = vec![vec![1; n]; m];\n",
    "\n",
    "    // File in the rest of the DP table\n",
    "    for r in 1..m{\n",
    "        for c in 1..n{\n",
    "            // Paths to current cell = paths from above + paths from left\n",
    "            dp[r][c] = dp[r-1][c] + dp[r][c-1];\n",
    "        }\n",
    "    }\n",
    "    dp[m-1][n-1]\n",
    "}\n",
    "\n",
    "fn main() { // no main() if this code runs in a Jupyter cell\n",
    "    let (m, n) = (3, 3);\n",
    "    println!(\"{}\", matrix_pathways(m , n)); // 6\n",
    "} // end of local scope OR end of main()"
   ]
  },
  {
   "cell_type": "markdown",
   "id": "013e5c30",
   "metadata": {},
   "source": [
    "## Optimization\n",
    "\n",
    "<span style=\"color:orange\"><b>The point:</b></span>\n",
    "\n",
    "* For each cell in the DP table we only need access to cells above and on the left\n",
    "* Maintain 2 rows : `prev_row` and `curr_row` to access `dp[r-1][c]` and `dp[r][c-1]`\n",
    "\n",
    "\n",
    "\n",
    "**About Rust :**\n",
    "* First translation\n",
    "* **YES** : tested on the [Rust Playground](https://play.rust-lang.org/)\n",
    "\n",
    "\n"
   ]
  },
  {
   "cell_type": "code",
   "execution_count": null,
   "id": "04c69f33",
   "metadata": {
    "vscode": {
     "languageId": "rust"
    }
   },
   "outputs": [],
   "source": [
    "fn matrix_pathways(m : usize, n : usize) -> usize {\n",
    "    // Initialize `prev_row` as the DP values of row 0 (all 1s)\n",
    "    let mut prev_row = vec![1; n];\n",
    "\n",
    "    // Iterate trough the matrix starting from 1\n",
    "    for _ in 1..m{\n",
    "        // Set the first cell of curr_row to 1 (set the entire row to 1)\n",
    "        let mut curr_row = vec![1; n];\n",
    "        for c in 1..n{\n",
    "            // Number of unique paths to current cell is \n",
    "            // the sum of paths to the cell above it (`prev_row[c]`) and the sum of path to the cell on the left (`curr_row[c-1]`)\n",
    "            curr_row[c] = prev_row[c] + curr_row[c-1];\n",
    "        }\n",
    "        prev_row = curr_row;\n",
    "    }\n",
    "    prev_row[n-1]\n",
    "}\n",
    "\n",
    "fn main() { // no main() if this code runs in a Jupyter cell\n",
    "    let (m, n) = (3, 3);\n",
    "    println!(\"{}\", matrix_pathways(m , n)); // 6\n",
    "} // end of local scope OR end of main()"
   ]
  }
 ],
 "metadata": {
  "kernelspec": {
   "display_name": "Rust",
   "language": "rust",
   "name": "rust"
  },
  "language_info": {
   "codemirror_mode": "rust",
   "file_extension": ".rs",
   "mimetype": "text/rust",
   "name": "Rust",
   "pygment_lexer": "rust",
   "version": ""
  }
 },
 "nbformat": 4,
 "nbformat_minor": 5
}
