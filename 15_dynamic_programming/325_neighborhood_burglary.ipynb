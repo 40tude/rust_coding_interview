{
    "cells": [
        {
            "cell_type": "markdown",
            "id": "94586613-ae90-49c6-939f-0bf144eee5ca",
            "metadata": {},
            "source": [
                "# Neighborhood Burglary"
            ]
        },
        {
            "cell_type": "markdown",
            "id": "53ea923f",
            "metadata": {},
            "source": [
                "<div align=\"center\">\n",
                "<img src=\"../assets/chap_15.webp\" alt=\"\" width=\"300\" loading=\"lazy\"/>\n",
                "</div>\n",
                "\n",
                "* You are plan to rob houses in a street\n",
                "* Each house store a certain amount of money\n",
                "* When 2 adjacent houses are robed, the alarm is set\n",
                "* Return the max amount of money without triggering the alarms\n",
                "\n",
                "\n",
                "<span style=\"color:orange\"><b>The point:</b></span>\n",
                "\n",
                "* Greedy algo where we start with largest amount fail because it may miss the long term objective\n",
                "* Start by the end\n",
                "* Start by the last house (i). What is the amount of money stolen so far ?\n",
                "    * If i is skipped the result is the one at home i-1. `profit = total_stolen(i-1)`\n",
                "    * If we rob, we can rob i-1. `profit = house(i) + total_stolen(i-2)`\n",
                "* `dp[i] = dp[i-1].max(house[i] + dp[i-2])` => set val for index 0 and 1\n",
                "* Best case = 1 house. `dp[0] = house[0]`\n",
                "\n",
                "\n",
                "\n",
                "\n",
                "**Phases of a DP solution :**\n",
                "1. Subproblem\n",
                "1. DP Formula\n",
                "1. Base Case\n",
                "1. Populate DP Table\n",
                "\n",
                "\n",
                "\n",
                "\n",
                "**Complexity :**\n",
                "\n",
                "| Time           | Space     |\n",
                "|----------------|-----------|\n",
                "| O(n)           | O(n)      |\n",
                "\n",
                "* O(n) in time because each cell in DP table is populated once\n",
                "* O(n) in space because of size of DP table\n",
                "\n",
                "\n",
                "**About Rust :**\n",
                "* First implementation\n",
                "* **YES** : tested on the [Rust Playground](https://play.rust-lang.org/)\n",
                "\n",
                "\n",
                "\n",
                "\n",
                "\n",
                "\n",
                "\n",
                "<!-- <span style=\"color:red\"><b>TODO : </b></span> \n",
                "* Add comments in code -->\n",
                "\n",
                "\n",
                "<!-- * <span style=\"color:lime\"><b>Preferred solution?</b></span>      -->\n",
                "\n"
            ]
        },
        {
            "cell_type": "code",
            "execution_count": 2,
            "id": "cd43545b",
            "metadata": {
                "vscode": {
                    "languageId": "rust"
                }
            },
            "outputs": [
                {
                    "name": "stdout",
                    "output_type": "stream",
                    "text": [
                        "400\n"
                    ]
                }
            ],
            "source": [
                "fn neighborhood_burglary(houses : &[usize]) -> usize {\n",
                "    // Handle cases where size is less than 2\n",
                "    if houses.is_empty(){\n",
                "        0\n",
                "    }else if houses.len()==1{\n",
                "        houses[0]\n",
                "    }else{\n",
                "        let mut dp = vec![0; houses.len()];\n",
                "        // Base case. Only one house\n",
                "        dp[0] = houses[0];\n",
                "        // Base case. Only 2 houses\n",
                "        dp[1] = houses[0].max(houses[1]);\n",
                "        // Fill the rest of DP array\n",
                "        for i in 2..houses.len(){\n",
                "            dp[i] = dp[i-1].max(houses[i] + dp[i-2]);\n",
                "        }\n",
                "        dp[houses.len()-1]\n",
                "    }\n",
                "}\n",
                "\n",
                "// fn main() { // no main() if this code runs in a Jupyter cell\n",
                "    let houses = vec![200, 300, 200, 50];\n",
                "    println!(\"{}\", neighborhood_burglary(&houses)); // 400\n",
                "// } // end of local scope OR end of main()"
            ]
        },
        {
            "cell_type": "markdown",
            "id": "3b5a0062",
            "metadata": {},
            "source": [
                "## V2\n",
                "\n",
                "**About Rust :**\n",
                "* Prefer `match` to `if`\n",
                "* **YES** : tested on the [Rust Playground](https://play.rust-lang.org/)\n"
            ]
        },
        {
            "cell_type": "code",
            "execution_count": null,
            "id": "1bf7fcd9",
            "metadata": {
                "vscode": {
                    "languageId": "rust"
                }
            },
            "outputs": [],
            "source": [
                "fn neighborhood_burglary(houses: &[usize]) -> usize {\n",
                "    match houses.len() {\n",
                "        0 => 0,\n",
                "        1 => houses[0],\n",
                "        _ => {\n",
                "            let mut dp = vec![0; houses.len()];\n",
                "            dp[0] = houses[0];\n",
                "            dp[1] = houses[0].max(houses[1]);\n",
                "            for i in 2..houses.len() {\n",
                "                dp[i] = dp[i - 1].max(houses[i] + dp[i - 2]);\n",
                "            }\n",
                "            dp[houses.len() - 1]\n",
                "        }\n",
                "    }\n",
                "}\n",
                "\n",
                "fn main() { // no main() if this code runs in a Jupyter cell\n",
                "    let houses = vec![200, 300, 200, 50];\n",
                "    println!(\"{}\", neighborhood_burglary(&houses)); // 400\n",
                "} // end of local scope OR end of main()"
            ]
        },
        {
            "cell_type": "markdown",
            "id": "013e5c30",
            "metadata": {},
            "source": [
                "## Optimization\n",
                "\n",
                "<span style=\"color:orange\"><b>The point:</b></span>\n",
                "\n",
                "* Only need to access `dp[i - 1]` and `dp[i - 2]`\n",
                "* No need  to store the entire DP array\n",
                "* `prev_max_profit` to store `dp[i-1]` and `prev_prev_max_profit` to store `dp[i-2]`\n",
                "\n",
                "**Complexity :**\n",
                "\n",
                "| Time           | Space     |\n",
                "|----------------|-----------|\n",
                "| O(n)           | O(1)      |\n",
                "\n",
                "\n",
                "**About Rust :**\n",
                "* First implementation\n",
                "* **YES** : tested on the [Rust Playground](https://play.rust-lang.org/)\n",
                "\n",
                "\n"
            ]
        },
        {
            "cell_type": "code",
            "execution_count": null,
            "id": "04c69f33",
            "metadata": {
                "vscode": {
                    "languageId": "rust"
                }
            },
            "outputs": [],
            "source": [
                "fn neighborhood_burglary(houses: &[usize]) -> usize {\n",
                "    match houses.len() {\n",
                "        0 => 0,\n",
                "        1 => houses[0],\n",
                "        _ => {\n",
                "            // Initialize the variables with base cases \n",
                "            let mut prev_max_profit = houses[0].max(houses[1]);\n",
                "            let mut prev_prev_max_profit = houses[0];\n",
                "\n",
                "            for house in houses.iter().skip(2){\n",
                "                let curr_max_profit = prev_max_profit.max(house+ prev_prev_max_profit);\n",
                "                // Update the values for next iteration\n",
                "                prev_prev_max_profit = prev_max_profit;\n",
                "                prev_max_profit = curr_max_profit;\n",
                "            }\n",
                "            prev_max_profit\n",
                "        }\n",
                "    }\n",
                "}\n",
                "\n",
                "fn main() { // no main() if this code runs in a Jupyter cell\n",
                "    let houses = vec![200, 300, 200, 50];\n",
                "    println!(\"{}\", neighborhood_burglary(&houses)); // 400\n",
                "} // end of local scope OR end of main()"
            ]
        }
    ],
    "metadata": {
        "kernelspec": {
            "display_name": "Rust",
            "language": "rust",
            "name": "rust"
        },
        "language_info": {
            "codemirror_mode": "rust",
            "file_extension": ".rs",
            "mimetype": "text/rust",
            "name": "Rust",
            "pygment_lexer": "rust",
            "version": ""
        }
    },
    "nbformat": 4,
    "nbformat_minor": 5
}
