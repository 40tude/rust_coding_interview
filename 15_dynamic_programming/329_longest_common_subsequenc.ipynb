{
 "cells": [
  {
   "cell_type": "markdown",
   "id": "94586613-ae90-49c6-939f-0bf144eee5ca",
   "metadata": {},
   "source": [
    "# Longest Common Subsequence"
   ]
  },
  {
   "cell_type": "markdown",
   "id": "53ea923f",
   "metadata": {},
   "source": [
    "* Given 2 strings\n",
    "* Find the length of the longest common subsequence (LCS)\n",
    "* A subsequence is derived by deleting 0 or more elements, without changing the order of the remaining elements\n",
    "\n",
    "<span style=\"color:orange\"><b>The point:</b></span>\n",
    "\n",
    "* Brute force is very inefficient\n",
    "* For every char of either string, we make a choice : include it or not\n",
    "* `if s1[i]==s2[j] then LCS(i, j) = 1 + LCS(i+1, j+1)`\n",
    "* `if s1[i]!=s2[j] then LCS(i, j) = LCS(i+1, j).max(LCS(i, j+1))`\n",
    "* Base case. When one is empty, LCS = 0. See p 331\n",
    "\n",
    "\n",
    "**Complexity :**\n",
    "\n",
    "| Time        | Space        |\n",
    "|-------------|--------------|\n",
    "| O(m x n)    | O(m+1 x n+1) |\n",
    "\n",
    "* O(m x n) in time because each cell in DP table is populated once\n",
    "* O(m+1 x n+1) in space because of size of DP table\n",
    "\n",
    "\n",
    "**About Rust :**\n",
    "* First translation\n",
    "* **YES** : tested on the [Rust Playground](https://play.rust-lang.org/)\n",
    "\n",
    "\n",
    "\n",
    "\n",
    "\n",
    "\n",
    "\n",
    "<!-- <span style=\"color:red\"><b>TODO : </b></span> \n",
    "* Add comments in code -->\n",
    "\n",
    "\n",
    "<!-- * <span style=\"color:lime\"><b>Preferred solution?</b></span>      -->\n",
    "\n"
   ]
  },
  {
   "cell_type": "code",
   "execution_count": 6,
   "id": "cd43545b",
   "metadata": {
    "vscode": {
     "languageId": "rust"
    }
   },
   "outputs": [
    {
     "name": "stdout",
     "output_type": "stream",
     "text": [
      "3\n"
     ]
    }
   ],
   "source": [
    "fn longest_common_substructure(s1: &str, s2: &str) -> usize {\n",
    "    // Convert strings to vectors of chars to allow indexed access\n",
    "    let s1: Vec<char> = s1.chars().collect();\n",
    "    let s2: Vec<char> = s2.chars().collect();\n",
    "\n",
    "    // Create DP table with extra row and column for the base case\n",
    "    // Set the DP table to 0\n",
    "    let mut dp = vec![vec![0; s2.len() + 1]; s1.len() + 1];\n",
    "\n",
    "    // Populate the DP table from bottom-right to top-left\n",
    "    for i in (0..s1.len()).rev() {\n",
    "        for j in (0..s2.len()).rev() {\n",
    "            // If the chars match the length of LCS at dp[i][j] is 1+LCS length of the remaining substring\n",
    "            if s1[i] == s2[j] {\n",
    "                dp[i][j] = 1 + dp[i + 1][j + 1];\n",
    "            } else {\n",
    "                // If the chars don't match LCS length at dp[i][j] can be found either\n",
    "                //  Excluding current char of s1\n",
    "                //  Excluding current char ofs2\n",
    "                dp[i][j] = dp[i + 1][j].max(dp[i][j + 1]);\n",
    "            }\n",
    "        }\n",
    "    }\n",
    "    // The result is at the top-left corner of the DP table\n",
    "    dp[0][0]\n",
    "}\n",
    "\n",
    "// fn main() { // no main() if this code runs in a Jupyter cell\n",
    "    let s1 = \"acabac\";\n",
    "    let s2 = \"aebab\";\n",
    "    println!(\"{}\", longest_common_substructure(s1, s2)); // Should print 3\n",
    "// } // end of local scope OR end of main()"
   ]
  },
  {
   "cell_type": "markdown",
   "id": "013e5c30",
   "metadata": {},
   "source": [
    "## Optimization\n",
    "\n",
    "<span style=\"color:orange\"><b>The point:</b></span>\n",
    "\n",
    "* Only need to access `dp[i+1][j]` and `dp[i][j+1]` and `dp[i+1][j+1]`\n",
    "* No need  to store the entire DP array\n",
    "* `curr_row` `prev_row`\n",
    "\n",
    "**Complexity :**\n",
    "\n",
    "| Time           | Space     |\n",
    "|----------------|-----------|\n",
    "| O(m x n)       | O(n)      |\n",
    "\n",
    "\n",
    "**About Rust :**\n",
    "* First translation\n",
    "* **YES** : tested on the [Rust Playground](https://play.rust-lang.org/)\n",
    "\n",
    "\n"
   ]
  },
  {
   "cell_type": "code",
   "execution_count": 7,
   "id": "04c69f33",
   "metadata": {
    "vscode": {
     "languageId": "rust"
    }
   },
   "outputs": [
    {
     "name": "stdout",
     "output_type": "stream",
     "text": [
      "3\n"
     ]
    }
   ],
   "source": [
    "fn longest_common_substructure(s1: &str, s2: &str) -> usize {\n",
    "    // Convert strings to vectors of chars to allow indexed access\n",
    "    let s1: Vec<char> = s1.chars().collect();\n",
    "    let s2: Vec<char> = s2.chars().collect();\n",
    "\n",
    "    // Initialize prw_row as DP values of last row \n",
    "    let mut prev_row = vec![0; s2.len() + 1];\n",
    "\n",
    "\n",
    "    for i in (0..s1.len()).rev() {\n",
    "        // Set the last cell fo curr_row to 0 to set the base case for this row\n",
    "        // Done by setting entier row to 0\n",
    "        let mut curr_row = vec![0; s2.len() + 1];\n",
    "        \n",
    "        for j in (0..s2.len()).rev() {\n",
    "            // If the chars match the length of LCS at curr_row[j] is 1+LCS length of the remaining substring\n",
    "            if s1[i] == s2[j] {\n",
    "                curr_row[j] = 1 + prev_row[j + 1];\n",
    "            } else {\n",
    "                // If the chars don't match, LCS length at curr_row[j] can be found either\n",
    "                //  Excluding current char of s1 (prev_row[j])\n",
    "                //  Excluding current char of s2 (curr_row[j+1])\n",
    "                curr_row[j] = prev_row[j].max(curr_row[j+1]);\n",
    "            }\n",
    "        }\n",
    "        // Update prev_row with curr_row\n",
    "        prev_row = curr_row;\n",
    "    }\n",
    "    prev_row[0]\n",
    "}\n",
    "\n",
    "// fn main() { // no main() if this code runs in a Jupyter cell\n",
    "    let s1 = \"acabac\";\n",
    "    let s2 = \"aebab\";\n",
    "    println!(\"{}\", longest_common_substructure(s1, s2)); // Should print 3\n",
    "// } // end of local scope OR end of main()"
   ]
  }
 ],
 "metadata": {
  "kernelspec": {
   "display_name": "Rust",
   "language": "rust",
   "name": "rust"
  },
  "language_info": {
   "codemirror_mode": "rust",
   "file_extension": ".rs",
   "mimetype": "text/rust",
   "name": "Rust",
   "pygment_lexer": "rust",
   "version": ""
  }
 },
 "nbformat": 4,
 "nbformat_minor": 5
}
