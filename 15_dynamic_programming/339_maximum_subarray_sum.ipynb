{
    "cells": [
        {
            "cell_type": "markdown",
            "id": "94586613-ae90-49c6-939f-0bf144eee5ca",
            "metadata": {},
            "source": [
                "# Maximum Subarray Sum"
            ]
        },
        {
            "cell_type": "markdown",
            "id": "53ea923f",
            "metadata": {},
            "source": [
                "* Given an array of `i32` return the sum of the subarray (contiguous cells) with the largest sum\n",
                "* Assume array len >= 1\n",
                "\n",
                "<span style=\"color:orange\"><b>The point:</b></span>\n",
                "\n",
                "* Brute force is in O(n²)\n",
                "* There are negative numbers\n",
                "* Contiguous cells\n",
                "* curr_sum = max(curr_sum + num, num)\n",
                "* **Kadane**'s algorithm\n",
                "\n",
                "\n",
                "\n",
                "\n",
                "\n",
                "**Complexity :**\n",
                "\n",
                "| Time        | Space        |\n",
                "|-------------|--------------|\n",
                "| O(n)        | O(1)         |\n",
                "\n",
                "* O(n) in time because we iterate input array once\n",
                "* O(1) in space because the algo acts in place\n",
                "\n",
                "\n",
                "**About Rust :**\n",
                "* <span style=\"color:lime\"><b>Preferred solution?</b></span>\n",
                "* **YES** : tested on the [Rust Playground](https://play.rust-lang.org/)\n",
                "\n",
                "\n",
                "\n",
                "\n",
                "\n",
                "\n",
                "\n",
                "<!-- <span style=\"color:red\"><b>TODO : </b></span> \n",
                "* Add comments in code -->\n",
                "\n",
                "\n",
                "<!-- * <span style=\"color:lime\"><b>Preferred solution?</b></span>      -->\n",
                "\n"
            ]
        },
        {
            "cell_type": "code",
            "execution_count": null,
            "id": "cd43545b",
            "metadata": {
                "vscode": {
                    "languageId": "rust"
                }
            },
            "outputs": [],
            "source": [
                "fn maximum_subarray_sum(nums: &[i32]) -> i32 {\n",
                "    if nums.is_empty() {\n",
                "        0\n",
                "    } else {\n",
                "        // Set sum variables to MIN so that negatives sum can be considered\n",
                "        let (mut max_sum, mut current_sum) = (i32::MIN, i32::MIN);\n",
                "        for &num in nums {\n",
                "            // Either add the current number to the running sum or start a new subarray at the current number\n",
                "            current_sum = (current_sum + num).max(num);\n",
                "            max_sum = max_sum.max(current_sum);\n",
                "        }\n",
                "        max_sum\n",
                "    }\n",
                "}\n",
                "\n",
                "fn main() { // no main() if this code runs in a Jupyter cell\n",
                "    let vals = vec![3, 1, -6, 2, -1, 4, -9];\n",
                "    println!(\"{}\", maximum_subarray_sum(&vals)); // 5\n",
                "} // end of local scope OR end of main()\n"
            ]
        },
        {
            "cell_type": "markdown",
            "id": "013e5c30",
            "metadata": {},
            "source": [
                "## DP\n",
                "\n",
                "**Phases of a DP solution :**\n",
                "1. Subproblem\n",
                "1. DP Formula\n",
                "1. Base Case\n",
                "1. Populate DP Table\n",
                "\n",
                "\n",
                "<span style=\"color:orange\"><b>The point:</b></span>\n",
                "\n",
                "* Start with the end in mind\n",
                "* Every subarray ends at a certain index\n",
                "* So each index is the end of several subarrays\n",
                "* One of which will have the max subarray sum\n",
                "* `max_subarray(i) = max (max_subarray(i-1) + nums[i], nums[i])`\n",
                "* Recursive\n",
                "* Base case : when there is one element there is one subarray\n",
                "\n",
                "**Complexity :**\n",
                "\n",
                "| Time           | Space     |\n",
                "|----------------|-----------|\n",
                "| O(n)           | O(n)      |\n",
                "\n",
                "* O(n) in time because we iterate DP array once\n",
                "* O(1) in space because the DP array size\n",
                "\n",
                "\n",
                "**About Rust :**\n",
                "* First implementation\n",
                "* **YES** : tested on the [Rust Playground](https://play.rust-lang.org/)\n",
                "\n",
                "\n"
            ]
        },
        {
            "cell_type": "code",
            "execution_count": null,
            "id": "04c69f33",
            "metadata": {
                "vscode": {
                    "languageId": "rust"
                }
            },
            "outputs": [],
            "source": [
                "fn maximum_subarray_sum_dp(nums: &[i32]) -> i32 {\n",
                "    if nums.is_empty() {\n",
                "        0\n",
                "    } else {\n",
                "        let mut dp = vec![0; nums.len()];\n",
                "        dp[0] = nums[0];\n",
                "        let mut max_sum = dp[0];\n",
                "        for i in 1..nums.len() {\n",
                "            dp[i] = (dp[i - 1] + nums[i]).max(nums[i]);\n",
                "            max_sum = max_sum.max(dp[i]);\n",
                "        }\n",
                "        max_sum\n",
                "    }\n",
                "}\n",
                "\n",
                "fn main() {    // no main() if this code runs in a Jupyter cell\n",
                "    let vals = vec![3, 1, -6, 2, -1, 4, -9];\n",
                "    println!(\"{}\", maximum_subarray_sum_dp(&vals)); // 5\n",
                "} // end of local scope OR end of main()\n"
            ]
        },
        {
            "cell_type": "markdown",
            "id": "f0cabd4e",
            "metadata": {},
            "source": [
                "## Optimization\n",
                "\n",
                "<span style=\"color:orange\"><b>The point:</b></span>\n",
                "\n",
                "* We only need to access `dp[i-1]` to calculate value at `i`\n",
                "* No need for DP array\n",
                "* One variable is enough\n",
                "\n",
                "**Complexity :**\n",
                "\n",
                "| Time        | Space        |\n",
                "|-------------|--------------|\n",
                "| O(n)        | O(1)         |\n",
                "\n",
                "* O(n) in time because we iterate input array once\n",
                "* O(1) in space because the algo acts in place\n",
                "\n",
                "\n",
                "\n",
                "**About Rust :**\n",
                "* First implementation\n",
                "* **YES** : tested on the [Rust Playground](https://play.rust-lang.org/)\n"
            ]
        },
        {
            "cell_type": "code",
            "execution_count": null,
            "id": "f892f6fc",
            "metadata": {
                "vscode": {
                    "languageId": "rust"
                }
            },
            "outputs": [],
            "source": [
                "fn maximum_subarray_sum_dp_optimized(nums: &[i32]) -> i32 {\n",
                "    if nums.is_empty() {\n",
                "        0\n",
                "    } else {\n",
                "        let (mut current_sum, mut max_sum) = (nums[0], nums[0]);\n",
                "        for i in 1..nums.len() {\n",
                "            current_sum = (current_sum + nums[i]).max(nums[i]);\n",
                "            max_sum = max_sum.max(current_sum);\n",
                "        }\n",
                "        max_sum\n",
                "    }\n",
                "}\n",
                "\n",
                "fn main() {    // no main() if this code runs in a Jupyter cell\n",
                "    let vals = vec![3, 1, -6, 2, -1, 4, -9];\n",
                "    println!(\"{}\", maximum_subarray_sum_dp_optimized(&vals)); // 5\n",
                "} // end of local scope OR end of main()\n"
            ]
        },
        {
            "cell_type": "markdown",
            "id": "b0b4db66",
            "metadata": {},
            "source": [
                "## V2\n",
                "\n",
                "* Clippy does'nt like the `for loop` as it is\n",
                "\n",
                "**About Rust :**\n",
                "* `for &num in nums.iter().skip(1) {...`\n",
                "* **YES** : tested on the [Rust Playground](https://play.rust-lang.org/)\n"
            ]
        },
        {
            "cell_type": "code",
            "execution_count": null,
            "id": "0fcb4e1c",
            "metadata": {
                "vscode": {
                    "languageId": "rust"
                }
            },
            "outputs": [],
            "source": [
                "fn maximum_subarray_sum_dp_optimized(nums: &[i32]) -> i32 {\n",
                "    if nums.is_empty() {\n",
                "        0\n",
                "    } else {\n",
                "        let (mut current_sum, mut max_sum) = (nums[0], nums[0]);\n",
                "        for &num in nums.iter().skip(1) {\n",
                "            current_sum = (current_sum + num).max(num);\n",
                "            max_sum = max_sum.max(current_sum);\n",
                "        }\n",
                "        max_sum\n",
                "    }\n",
                "}\n",
                "\n",
                "fn main() {    // no main() if this code runs in a Jupyter cell\n",
                "    let vals = vec![3, 1, -6, 2, -1, 4, -9];\n",
                "    println!(\"{}\", maximum_subarray_sum_dp_optimized(&vals)); // 5\n",
                "} // end of local scope OR end of main()\n"
            ]
        }
    ],
    "metadata": {
        "kernelspec": {
            "display_name": "Rust",
            "language": "rust",
            "name": "rust"
        },
        "language_info": {
            "codemirror_mode": "rust",
            "file_extension": ".rs",
            "mimetype": "text/rust",
            "name": "Rust",
            "pygment_lexer": "rust",
            "version": ""
        }
    },
    "nbformat": 4,
    "nbformat_minor": 5
}